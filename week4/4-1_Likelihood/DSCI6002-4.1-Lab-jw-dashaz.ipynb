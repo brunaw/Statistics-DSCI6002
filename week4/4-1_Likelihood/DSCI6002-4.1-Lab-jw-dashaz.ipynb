{
 "cells": [
  {
   "cell_type": "markdown",
   "metadata": {},
   "source": [
    "# Lab 4.1: Likelihood"
   ]
  },
  {
   "cell_type": "markdown",
   "metadata": {},
   "source": [
    "One way to estimate parameters for a distribution is to calculate the likelihood of the parameter values given the data that we observe.\n",
    "\n",
    "The likelihood of a parameter $\\theta$ is given by the notion $\\mathcal{L}(\\theta)$ which has the same/similar form as the probability function $p(data \\mid \\theta)$."
   ]
  },
  {
   "cell_type": "markdown",
   "metadata": {},
   "source": [
    "### Question 1\n",
    "\n",
    "The file `outage.csv` contains the number of power outages Kampala (Ugandan city) experiences each month for the past 72 months\n",
    "\n",
    "1. Read in the `https://s3-us-west-2.amazonaws.com/dsci/6002/data/outage.csv` using pandas\n",
    "2. Plot the data on a histogram \n",
    "  - Set `normed=True` to get the probability density histogram\n",
    "  - Set `bins=20` to get smaller bins for the histogram\n",
    "\n",
    "3.  What distribution would you consider fitting the data to given the nature of the data ?\n",
    "  - Think about if the data is discrete or continuous \n",
    "  - Think about what the data describes\n",
    "\n",
    "4. Write down the equation that would model the random variable in question with the distribution you have chosen\n",
    "\n",
    "   For example:\n",
    "   - $\\text{Let X be the number of heads in 5 coin flips}$\n",
    "   - $X \\sim Binomial(n, p)$\n",
    "\n",
    "5. Write down the likelihood function to calculate the likelihood of a given parameter value \n",
    "\n",
    "   **Hint**:\n",
    "   - A **parameter** of the binomial distribution will be `n` or `p` for example\n",
    "   - This will be based on the distribution you have chosen above\n",
    "   - The likelihood function would be the product of the probabilities for each data point \n",
    "  \n",
    "6. Write a python function that will calculate the likelihood of a parameter given the data\n",
    "   - The function will take a parameter and the data\n",
    "   - Use `scipy.stats` and `numpy.product()`\n",
    " \n",
    "7. Define a range of possible values for the parameter from `14` to `21` (using `numpy.linspace`).\n",
    "\n",
    "   Calculate the likelihood for each of the values defined in the range.\n",
    "   \n",
    "   Plot the values ($x$) against the likelihood ($L(\\theta)$)  \n",
    "\n",
    "8. Write a function to calculate the log-likelihood.\n",
    "\n",
    "9. Find the maximum likelihood estimate for the parameter of interest (use `numpy.argmax`)"
   ]
  },
  {
   "cell_type": "code",
   "execution_count": 2,
   "metadata": {
    "collapsed": false,
    "scrolled": true
   },
   "outputs": [
    {
     "name": "stdout",
     "output_type": "stream",
     "text": [
      "Populating the interactive namespace from numpy and matplotlib\n"
     ]
    }
   ],
   "source": [
    "%pylab inline\n",
    "import pandas as pd\n",
    "# import wget\n",
    "\n",
    "# filename = wget.download('https://s3-us-west-2.amazonaws.com/dsci/6002/data/outage.csv')\n",
    "# wget.download('https://s3-us-west-2.amazonaws.com/dsci/6002/data/outage.csv', bar=bar_thermometer)\n",
    "\n",
    "df = pd.read_csv('https://s3-us-west-2.amazonaws.com/dsci/6002/data/outage.csv')"
   ]
  },
  {
   "cell_type": "code",
   "execution_count": 3,
   "metadata": {
    "collapsed": false
   },
   "outputs": [],
   "source": [
    "# for x in df['0']:\n",
    "#     print(x)"
   ]
  },
  {
   "cell_type": "code",
   "execution_count": 4,
   "metadata": {
    "collapsed": false,
    "scrolled": true
   },
   "outputs": [
    {
     "data": {
      "image/png": "[encoded data removed]",
      "text/plain": [
       "<matplotlib.figure.Figure at 0x103ffdd30>"
      ]
     },
     "metadata": {},
     "output_type": "display_data"
    }
   ],
   "source": [
    "df.hist(normed=True, bins = 20);"
   ]
  },
  {
   "cell_type": "markdown",
   "metadata": {},
   "source": [
    "fit the data to a Poisson distribution because it describes the number of times an event happens over a discrete time period.\n",
    "\n",
    "Let X be the number of power outages in a month.\n",
    "\n",
    "Then X ~ Poisson(lambda).  P(X=k) = lambda**k * e**-lambda / k!\n",
    "\n",
    "The likelihood function is L(lambda) = product over k for n observations $[lambda**k * e**-lambda / k!]$.\n",
    "\n"
   ]
  },
  {
   "cell_type": "code",
   "execution_count": 5,
   "metadata": {
    "collapsed": false
   },
   "outputs": [],
   "source": [
    "from scipy.stats import poisson"
   ]
  },
  {
   "cell_type": "code",
   "execution_count": 6,
   "metadata": {
    "collapsed": false
   },
   "outputs": [],
   "source": [
    "#     The function will take a parameter and the data\n",
    "#     Use scipy.stats and numpy.product()\n",
    "\n",
    "# calculate the likelihood of a parameter given the data\n",
    "def calc_likelihood(data, lam):\n",
    "    likelihoods = [poisson(lam).pmf(x) for x in data]\n",
    "    return np.prod(likelihoods)\n",
    "\n",
    "\n",
    "# def find_likelihood_of_lambda(p,data):\n",
    "#     '''function retursn the likelihood of a parameter given the data and a parameter'''\n",
    "#     #return poisson.pmf(p,int(mean(data)))\n",
    "#     data['prob']= data.apply(lambda x: poisson.pmf(p,x))\n",
    "#     return np.prod(data['prob'])\n",
    "\n",
    "# find_likelihood_of_lambda(p= 19,data = outage)\n",
    "\n",
    "# p = linspace(14, 21, 99)\n",
    "# plot(p, [find_likelihood_of_lambda(x,outage)for x in p]);"
   ]
  },
  {
   "cell_type": "code",
   "execution_count": 7,
   "metadata": {
    "collapsed": false
   },
   "outputs": [
    {
     "data": {
      "image/png": "[encoded data removed]",
      "text/plain": [
       "<matplotlib.figure.Figure at 0x11910d2e8>"
      ]
     },
     "metadata": {},
     "output_type": "display_data"
    }
   ],
   "source": [
    "p = linspace(14, 21, 500)\n",
    "v = []\n",
    "for x in p:\n",
    "    v.append(calc_likelihood(df['0'],x))\n",
    "plot(p, v);"
   ]
  },
  {
   "cell_type": "markdown",
   "metadata": {},
   "source": [
    "Write a function to calculate the log-likelihood."
   ]
  },
  {
   "cell_type": "code",
   "execution_count": 10,
   "metadata": {
    "collapsed": false,
    "scrolled": true
   },
   "outputs": [
    {
     "name": "stdout",
     "output_type": "stream",
     "text": [
      "19.2324649299 -201.861227876\n"
     ]
    },
    {
     "data": {
      "image/png": "[encoded data removed]",
      "text/plain": [
       "<matplotlib.figure.Figure at 0x119179390>"
      ]
     },
     "metadata": {},
     "output_type": "display_data"
    }
   ],
   "source": [
    "def find_log_likelihood(p,data):\n",
    "    '''function returns the log_likelihood of the function'''\n",
    "    #return poisson.pmf(p,int(mean(data)))\n",
    "    data['prob']= data.apply(lambda x: log(poisson.pmf(p,x)))\n",
    "    return np.sum(data['prob'])\n",
    "\n",
    "# p = linspace(14, 21, 99)\n",
    "# find_log_likelihood(p[argmax([find_log_likelihood(x,outage) for x in p])],outage) \n",
    "\n",
    "log_likelihoods = log(v)\n",
    "plot(p, log_likelihoods)\n",
    "\n",
    "max_index = argmax(log_likelihoods)\n",
    "axvline(x = p[max_index])\n",
    "\n",
    "print(p[max_index], log_likelihoods[max_index])"
   ]
  },
  {
   "cell_type": "code",
   "execution_count": 11,
   "metadata": {
    "collapsed": false
   },
   "outputs": [
    {
     "name": "stdout",
     "output_type": "stream",
     "text": [
      "19.2324649299 -201.861227876\n"
     ]
    }
   ],
   "source": [
    "# Find the maximum likelihood estimate for the parameter of interest (use numpy.argmax)\n",
    "\n",
    "print(p[max_index], log_likelihoods[max_index])  # The maximum likelihood estimate for lambda is 19.23."
   ]
  },
  {
   "cell_type": "markdown",
   "metadata": {},
   "source": [
    "### Question 2\n",
    "\n",
    "The file `plants.csv` contains heights to 1,000 plants. You are told the data resembles a normal distribution with a standard deviation of 3cm.\n",
    "\n",
    "1. Read in `https://s3-us-west-2.amazonaws.com/dsci/6002/data/plant.csv` using pandas and plot the data on a histogram\n",
    "   \n",
    "2. Define a range of possible values for the mean (from 32 to 42)\n",
    "  \n",
    "3. Calculate the log-liklihood for each of the values in the range \n",
    "  \n",
    "4. Plot the log-likelihood function\n",
    "\n",
    "5. Find the MLE for the mean"
   ]
  },
  {
   "cell_type": "code",
   "execution_count": 36,
   "metadata": {
    "collapsed": false,
    "scrolled": false
   },
   "outputs": [
    {
     "data": {
      "text/html": [
       "<div>\n",
       "<table border=\"1\" class=\"dataframe\">\n",
       "  <thead>\n",
       "    <tr style=\"text-align: right;\">\n",
       "      <th></th>\n",
       "      <th>0</th>\n",
       "    </tr>\n",
       "  </thead>\n",
       "  <tbody>\n",
       "    <tr>\n",
       "      <th>count</th>\n",
       "      <td>1000.000000</td>\n",
       "    </tr>\n",
       "    <tr>\n",
       "      <th>mean</th>\n",
       "      <td>40.017209</td>\n",
       "    </tr>\n",
       "    <tr>\n",
       "      <th>std</th>\n",
       "      <td>2.873319</td>\n",
       "    </tr>\n",
       "    <tr>\n",
       "      <th>min</th>\n",
       "      <td>32.022567</td>\n",
       "    </tr>\n",
       "    <tr>\n",
       "      <th>25%</th>\n",
       "      <td>38.087044</td>\n",
       "    </tr>\n",
       "    <tr>\n",
       "      <th>50%</th>\n",
       "      <td>40.086478</td>\n",
       "    </tr>\n",
       "    <tr>\n",
       "      <th>75%</th>\n",
       "      <td>41.942700</td>\n",
       "    </tr>\n",
       "    <tr>\n",
       "      <th>max</th>\n",
       "      <td>48.214524</td>\n",
       "    </tr>\n",
       "  </tbody>\n",
       "</table>\n",
       "</div>"
      ],
      "text/plain": [
       "                 0\n",
       "count  1000.000000\n",
       "mean     40.017209\n",
       "std       2.873319\n",
       "min      32.022567\n",
       "25%      38.087044\n",
       "50%      40.086478\n",
       "75%      41.942700\n",
       "max      48.214524"
      ]
     },
     "execution_count": 36,
     "metadata": {},
     "output_type": "execute_result"
    },
    {
     "data": {
      "image/png": "[encoded data removed]",
      "text/plain": [
       "<matplotlib.figure.Figure at 0x1191e5240>"
      ]
     },
     "metadata": {},
     "output_type": "display_data"
    }
   ],
   "source": [
    "df = pd.read_csv('https://s3-us-west-2.amazonaws.com/dsci/6002/data/plant.csv')\n",
    "df.hist();\n",
    "\n",
    "mu = linspace(32, 42, 100)\n",
    "\n",
    "df.head()\n",
    "df.describe()"
   ]
  },
  {
   "cell_type": "code",
   "execution_count": 18,
   "metadata": {
    "collapsed": false
   },
   "outputs": [],
   "source": [
    "from scipy.stats import norm\n",
    "\n",
    "\n",
    "# calculate the likelihood of a parameter given the data\n",
    "# def calc_likelihood(data, mu):\n",
    "#     likelihoods = [norm(mu).pdf(x) for x in data]\n",
    "#     return np.prod(likelihoods)\n",
    "def find_norm_log_likelihood(p,data):\n",
    "    '''function returns the log_likelihood of the function'''\n",
    "    #return poisson.pmf(p,int(mean(data)))\n",
    "    data['prob']= data.apply(lambda x: log(norm(p, 3).pdf(x)))\n",
    "    return np.sum(data['prob'])\n",
    "\n",
    "\n",
    "# Plot a likelihood function\n",
    "\n",
    "# v = []\n",
    "# for x in mu:\n",
    "#     v.append(calc_likelihood(df['0'],x))\n",
    "# plot(mu, v);"
   ]
  },
  {
   "cell_type": "code",
   "execution_count": 21,
   "metadata": {
    "collapsed": false
   },
   "outputs": [
    {
     "data": {
      "text/plain": [
       "[-6046.625357685906,\n",
       " -5957.212296066378,\n",
       " -5868.932905614206,\n",
       " -5781.787186329359,\n",
       " -5695.775138211855,\n",
       " -5610.896761261693,\n",
       " -5527.1520554788685,\n",
       " -5444.541020863393,\n",
       " -5363.063657415266,\n",
       " -5282.719965134466,\n",
       " -5203.5099440210015,\n",
       " -5125.433594074894,\n",
       " -5048.49091529612,\n",
       " -4972.681907684689,\n",
       " -4898.006571240603,\n",
       " -4824.464905963849,\n",
       " -4752.056911854446,\n",
       " -4680.782588912378,\n",
       " -4610.641937137654,\n",
       " -4541.634956530271,\n",
       " -4473.761647090224,\n",
       " -4407.022008817515,\n",
       " -4341.416041712162,\n",
       " -4276.943745774141,\n",
       " -4213.605121003465,\n",
       " -4151.400167400127,\n",
       " -4090.328884964132,\n",
       " -4030.391273695476,\n",
       " -3971.5873335941633,\n",
       " -3913.9170646601933,\n",
       " -3857.380466893561,\n",
       " -3801.977540294269,\n",
       " -3747.7082848623213,\n",
       " -3694.5727005977064,\n",
       " -3642.5707875004587,\n",
       " -3591.702545570525,\n",
       " -3541.9679748079375,\n",
       " -3493.367075212696,\n",
       " -3445.899846784795,\n",
       " -3399.566289524235,\n",
       " -3354.3664034310154,\n",
       " -3310.300188505141,\n",
       " -3267.3676447466023,\n",
       " -3225.5687721554086,\n",
       " -3184.903570731552,\n",
       " -3145.3720404750384,\n",
       " -3106.974181385869,\n",
       " -3069.70999346404,\n",
       " -3033.5794767095476,\n",
       " -2998.582631122401,\n",
       " -2964.719456702591,\n",
       " -2931.9899534501214,\n",
       " -2900.3941213650064,\n",
       " -2869.931960447219,\n",
       " -2840.603470696781,\n",
       " -2812.408652113679,\n",
       " -2785.347504697916,\n",
       " -2759.4200284494977,\n",
       " -2734.626223368422,\n",
       " -2710.966089454685,\n",
       " -2688.4396267082834,\n",
       " -2667.046835129242,\n",
       " -2646.7877147175227,\n",
       " -2627.6622654731505,\n",
       " -2609.6704873961203,\n",
       " -2592.8123804864344,\n",
       " -2577.087944744086,\n",
       " -2562.4971801690795,\n",
       " -2549.0400867614126,\n",
       " -2536.7166645210914,\n",
       " -2525.5269134481077,\n",
       " -2515.470833542463,\n",
       " -2506.5484248041607,\n",
       " -2498.7596872332065,\n",
       " -2492.104620829588,\n",
       " -2486.583225593308,\n",
       " -2482.195501524368,\n",
       " -2478.9414486227756,\n",
       " -2476.8210668885217,\n",
       " -2475.83435632161,\n",
       " -2475.9813169220424,\n",
       " -2477.2619486898143,\n",
       " -2479.676251624924,\n",
       " -2483.224225727375,\n",
       " -2487.9058709971696,\n",
       " -2493.721187434306,\n",
       " -2500.6701750387847,\n",
       " -2508.7528338106013,\n",
       " -2517.969163749756,\n",
       " -2528.3191648562606,\n",
       " -2539.8028371301016,\n",
       " -2552.4201805712814,\n",
       " -2566.1711951798047,\n",
       " -2581.0558809556665,\n",
       " -2597.074237898871,\n",
       " -2614.2262660094243,\n",
       " -2632.5119652873127,\n",
       " -2651.931335732544,\n",
       " -2672.4843773451103,\n",
       " -2694.1710901250235]"
      ]
     },
     "execution_count": 21,
     "metadata": {},
     "output_type": "execute_result"
    }
   ],
   "source": [
    "from scipy.stats import norm\n",
    "[find_norm_log_likelihood(x,df) for x in mu]"
   ]
  },
  {
   "cell_type": "code",
   "execution_count": 29,
   "metadata": {
    "collapsed": false
   },
   "outputs": [
    {
     "data": {
      "image/png": "[encoded data removed]",
      "text/plain": [
       "<matplotlib.figure.Figure at 0x119885128>"
      ]
     },
     "metadata": {},
     "output_type": "display_data"
    }
   ],
   "source": [
    "plot(mu, [find_norm_log_likelihood(x,df) for x in mu]);"
   ]
  },
  {
   "cell_type": "code",
   "execution_count": 39,
   "metadata": {
    "collapsed": false
   },
   "outputs": [
    {
     "data": {
      "text/plain": [
       "-2475.83435632161"
      ]
     },
     "execution_count": 39,
     "metadata": {},
     "output_type": "execute_result"
    }
   ],
   "source": [
    "# Find the MLE for the mean\n",
    "find_norm_log_likelihood(mu[argmax([find_norm_log_likelihood(x,df) for x in mu])],df) "
   ]
  }
 ],
 "metadata": {
  "anaconda-cloud": {},
  "kernelspec": {
   "display_name": "Python [Root]",
   "language": "python",
   "name": "Python [Root]"
  },
  "language_info": {
   "codemirror_mode": {
    "name": "ipython",
    "version": 3
   },
   "file_extension": ".py",
   "mimetype": "text/x-python",
   "name": "python",
   "nbconvert_exporter": "python",
   "pygments_lexer": "ipython3",
   "version": "3.5.2"
  }
 },
 "nbformat": 4,
 "nbformat_minor": 0
}
