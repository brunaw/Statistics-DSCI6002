{
 "cells": [
  {
   "cell_type": "markdown",
   "metadata": {},
   "source": [
    "# Lab 4.3: Central Limit Theorem\n",
    "\n",
    "## Outline\n",
    "\n",
    "- Central Limit Theorem Basics\n",
    "- Central Limit Theorem Simulation\n",
    "- Central Limit Theorem Application"
   ]
  },
  {
   "cell_type": "markdown",
   "metadata": {},
   "source": [
    "### Central Limit Theorem Basics\n",
    "\n",
    "**Question 1**  \n",
    "\n",
    "1) What is the Central Limit Theorem? Explain it in your own words.\n",
    "   "
   ]
  },
  {
   "cell_type": "markdown",
   "metadata": {},
   "source": [
    "2) What are the assumptions for the Central Limit Theorem?"
   ]
  },
  {
   "cell_type": "markdown",
   "metadata": {},
   "source": [
    "### Central Limit Theorem Simulation\n",
    "\n",
    "**Question 2**\n",
    "\n",
    "Here we will write a function to show that the Central Limit Theorem applies to different distributions. \n",
    "\n",
    "1) Write a function `make_draws` which will make a number of draws from one of the following distributions, Possion, Binomial and Uniform. The function will take 3 arguments:\n",
    "   - The name of the distribution as a string, e.g. `poisson`, `binomial` and `uniform`\n",
    "   - The parameters associated with the distribution as a dictionary, for example `{'n': 30, 'p': 0.02}` for the binomial distribution \n",
    "   - The number of observations to be drawn in a sample  \n",
    "   \n",
    "   The function should return an array of values drawn from the specified distribution with the correct sample size.\n",
    "   \n",
    "   Below is an example for the binomial distribution\n",
    "   \n",
    "   ```python\n",
    "   # import the stats module from scipy\n",
    "   from scipy import stats\n",
    "\n",
    "   def make_draws(distribution, parameters, size):\n",
    "       if distribution == 'binomial':\n",
    "           n, p = parameters['n'], parameters['p']\n",
    "           dist = stats.binom(n, p).rvs(size)\n",
    "\n",
    "       # Rest of the code\n",
    "    ```\n",
    "   "
   ]
  },
  {
   "cell_type": "code",
   "execution_count": 6,
   "metadata": {
    "collapsed": false
   },
   "outputs": [],
   "source": [
    "from scipy import stats\n",
    "import matplotlib.pyplot as plt"
   ]
  },
  {
   "cell_type": "code",
   "execution_count": 26,
   "metadata": {
    "collapsed": true
   },
   "outputs": [],
   "source": [
    "def make_draws(distribution, parameters, size):\n",
    "    if distribution == 'binomial':\n",
    "        n, p = parameters['n'], parameters['p']\n",
    "        dist = stats.binom(n, p).rvs(size)\n",
    "    \n",
    "    elif distribution == 'poisson':\n",
    "        mu = parameters['l']\n",
    "        dist = stats.poisson(mu).rvs(size)\n",
    "    \n",
    "    elif distribution == 'uniform':\n",
    "        a, b = parameters['a'], parameters['b']\n",
    "        dist = stats.uniform(a,b).rvs(size)\n",
    "    \n",
    "    return dist"
   ]
  },
  {
   "cell_type": "code",
   "execution_count": 32,
   "metadata": {
    "collapsed": false
   },
   "outputs": [
    {
     "data": {
      "text/plain": [
       "array([ 7,  8,  5, 12, 11, 10, 17, 10,  9,  7])"
      ]
     },
     "execution_count": 32,
     "metadata": {},
     "output_type": "execute_result"
    }
   ],
   "source": [
    "make_draws('poisson', {'l': 10}, 10)"
   ]
  },
  {
   "cell_type": "code",
   "execution_count": 27,
   "metadata": {
    "collapsed": false
   },
   "outputs": [
    {
     "data": {
      "text/plain": [
       "array([5, 6, 4, 4, 5, 3, 2, 6, 3, 3])"
      ]
     },
     "execution_count": 27,
     "metadata": {},
     "output_type": "execute_result"
    }
   ],
   "source": [
    "#stats.uniform(0,1).rvs(10)\n",
    "dist = stats.poisson(5).rvs(10)\n",
    "dist"
   ]
  },
  {
   "cell_type": "markdown",
   "metadata": {},
   "source": [
    "   \n",
    "2) Write another function `plot_means` that would take the same arguments as `make_draws` plus an additional argument `repeats`\n",
    "   - `plot_means` would repeatedly draw samples by calling `make_draws`, the number of times `make_draws` is called is speicified by `repeats`\n",
    "   - The number of observations in each sample is specified by `size`\n",
    "   - Then the mean of each sample is computed and plotted on a histogram\n",
    "   \n",
    "   Below is some starter code:\n",
    "   \n",
    "   ```python \n",
    "   def plot_means(distribution, parameters, size, repeats):\n",
    "       # call make_draws for times specified by repeats\n",
    "       # compute mean for each of the sample\n",
    "       # plot histogram\n",
    "   ```\n",
    "   "
   ]
  },
  {
   "cell_type": "code",
   "execution_count": 33,
   "metadata": {
    "collapsed": true
   },
   "outputs": [],
   "source": [
    "def plot_means(distribution, paramters, size, repeats):\n",
    "    mean_of_samples = [ make_draws(distribution, paramters, size).mean() for i in range(repeats)]\n",
    "    plt.hist(mean_of_samples)"
   ]
  },
  {
   "cell_type": "markdown",
   "metadata": {},
   "source": [
    "3) Call `plot_means` with each of the distribution (poisson, binomial, etc) with the following arguments:\n",
    "   - `size`: 500 and `repeats`: 500\n",
    "   - `size`: 10 and `repeats`: 500 \n",
    "   \n",
    "   For example, the histogram should look like the following if you call\n",
    "   ```python\n",
    "   plot_means('uniform', {'a': 1, 'b': 200}, 500, 500)\n",
    "   plot_means('uniform', {'a': 1, 'b': 200}, 10, 500)\n",
    "   ```\n",
    "   \n",
    "   ![image](images/unif_histogram.png)\n",
    "   \n",
    "   What do you observe? Under what condition does the Central Limit Theorem hold?"
   ]
  },
  {
   "cell_type": "code",
   "execution_count": 46,
   "metadata": {
    "collapsed": false,
    "scrolled": true
   },
   "outputs": [
    {
     "data": {
      "image/png": "[encoded data removed]",
      "text/plain": [
       "<matplotlib.figure.Figure at 0x10de72eb8>"
      ]
     },
     "metadata": {},
     "output_type": "display_data"
    }
   ],
   "source": [
    "plot_means('binomial', {'n': 10, 'p': 0.5}, 500, 500)\n",
    "plot_means('binomial', {'n': 10, 'p': 0.5}, 10, 500)"
   ]
  },
  {
   "cell_type": "code",
   "execution_count": 35,
   "metadata": {
    "collapsed": false
   },
   "outputs": [
    {
     "data": {
      "image/png": "[encoded data removed]",
      "text/plain": [
       "<matplotlib.figure.Figure at 0x10b2388d0>"
      ]
     },
     "metadata": {},
     "output_type": "display_data"
    }
   ],
   "source": [
    "plot_means('uniform', {'a': 1, 'b': 200}, 10, 500)"
   ]
  },
  {
   "cell_type": "markdown",
   "metadata": {},
   "source": [
    "### Central Limit Theorem Application\n",
    "\n",
    "**Question 3**\n",
    "\n",
    "1) It is known that the amount that a person spends on a single trip to a grocery store follows a distribution with mean of \\$3.70 and standard deviation of \\$1.52.\n",
    "\n",
    "   A random sample of 50 people's spendings is collected. \n",
    "   \n",
    "   What is the probability that the mean spending of the 50 people exceeds $4?\n"
   ]
  },
  {
   "cell_type": "code",
   "execution_count": 36,
   "metadata": {
    "collapsed": true
   },
   "outputs": [],
   "source": [
    "import math"
   ]
  },
  {
   "cell_type": "code",
   "execution_count": 41,
   "metadata": {
    "collapsed": false
   },
   "outputs": [
    {
     "data": {
      "text/plain": [
       "0.081416664277620843"
      ]
     },
     "execution_count": 41,
     "metadata": {},
     "output_type": "execute_result"
    }
   ],
   "source": [
    "n = 50\n",
    "mu = 3.70\n",
    "sd = 1.52\n",
    "\n",
    "1 - stats.norm(mu, sd/math.sqrt(n)).cdf(4)"
   ]
  },
  {
   "cell_type": "markdown",
   "metadata": {},
   "source": [
    "2) From past experience, it is known that, at the ticket counter for the football match of Stanford against Berkeley,  the number of tickets purchased by each student follows a distribution that has mean $\\mu$ = 2.4 and standard deviation $\\sigma$ = 2.0.\n",
    "\n",
    "   Suppose that a few hours before the start of one of these matches, there are 100 eager students standing in line to purchase tickets. If only 250 tickets remain, what is the probability that all 100 students will be able to purchase the tickets they desire?"
   ]
  },
  {
   "cell_type": "code",
   "execution_count": 44,
   "metadata": {
    "collapsed": false
   },
   "outputs": [
    {
     "data": {
      "text/plain": [
       "0.69146246127401323"
      ]
     },
     "execution_count": 44,
     "metadata": {},
     "output_type": "execute_result"
    }
   ],
   "source": [
    "n = 100\n",
    "mu = 2.4\n",
    "sd = 2.0\n",
    "\n",
    "stats.norm(mu,sd/ math.sqrt(n)).cdf(250/n)"
   ]
  },
  {
   "cell_type": "markdown",
   "metadata": {},
   "source": [
    "### Extra Practice  \n",
    "(Optional)\n",
    "\n",
    "1) Create your own distribution. It can be any distribution as long as it is a valid probability distribution. Refer to the `custom` distribution we created in the lecture."
   ]
  },
  {
   "cell_type": "markdown",
   "metadata": {},
   "source": [
    "2) Draw 10000 samples from the distribution above with the following sample sizes. Calculate and plot the sample means for each sample size. What do you notice from the 3 plots?\n",
    "\n",
    "    * n = 10\n",
    "    * n = 100\n",
    "    * n = 1000"
   ]
  },
  {
   "cell_type": "markdown",
   "metadata": {},
   "source": [
    "3) Fit a Normal distribution to the 3 sets of samples means from part 2). Then plot the Normal distribution on top of the histogram of the means.  "
   ]
  },
  {
   "cell_type": "markdown",
   "metadata": {},
   "source": [
    "4) Estimate the Standard Error of the Mean (SEM calculation in the lecture) for each of the 3 sample means. What do you notice? How does the SEM change as the sample size changes?"
   ]
  }
 ],
 "metadata": {
  "anaconda-cloud": {},
  "kernelspec": {
   "display_name": "Python [default]",
   "language": "python",
   "name": "python3"
  },
  "language_info": {
   "codemirror_mode": {
    "name": "ipython",
    "version": 3
   },
   "file_extension": ".py",
   "mimetype": "text/x-python",
   "name": "python",
   "nbconvert_exporter": "python",
   "pygments_lexer": "ipython3",
   "version": "3.5.2"
  }
 },
 "nbformat": 4,
 "nbformat_minor": 0
}
