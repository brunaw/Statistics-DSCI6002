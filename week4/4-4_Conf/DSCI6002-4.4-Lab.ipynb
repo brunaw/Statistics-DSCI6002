{
 "cells": [
  {
   "cell_type": "markdown",
   "metadata": {},
   "source": [
    "# Lab 4.4: Confidence Intervals\n",
    "\n",
    "## Outline\n",
    "\n",
    "- z-score\n",
    "- t-distribution\n",
    "- Confidence Interval Basics\n",
    "- Confidence Interval for One Sample Mean"
   ]
  },
  {
   "cell_type": "markdown",
   "metadata": {},
   "source": [
    "**Question 1**\n",
    "\n",
    "1) Write down the standard Normal distribution.\n",
    "\n",
    "   <br>"
   ]
  },
  {
   "cell_type": "markdown",
   "metadata": {},
   "source": []
  },
  {
   "cell_type": "markdown",
   "metadata": {},
   "source": [
    "2) z-score measures how many `__________` a value is from the mean.\n",
    "   - units\n",
    "   - variances\n",
    "   - standard deviations\n",
    "   - medians\n",
    "   - modes\n",
    "\n",
    "   <br>"
   ]
  },
  {
   "cell_type": "markdown",
   "metadata": {},
   "source": [
    "3) Given a Normal distribution that has mean of 10.5 and variance of 3.2, compute the\n",
    "   - z-score for observing a value of 8.3\n",
    "   - probability of observing a z-score greater than the calculated value above\n",
    "   \n",
    "   <br>"
   ]
  },
  {
   "cell_type": "markdown",
   "metadata": {},
   "source": [
    "4) Verify that the probability of observing a z-score greater than calculated in `3.` is same that the probability of observing a value greater than 8.3 from the original Normal distribution (with mean 10.5 and variance 3.2).  \n",
    "\n",
    "   <br>"
   ]
  },
  {
   "cell_type": "markdown",
   "metadata": {},
   "source": [
    "   \n",
    "5) For the standard Normal random variable $Z$, compute the following: \n",
    "1. $P(0.2 < Z \\leq 1.4)$\n",
    "2. $P(-1.48 \\leq Z \\leq 0.4)$\n",
    "3. $P(Z > 1.23)$\n",
    "4. $E(3 + 3Z)$\n",
    "5. $Var(3 + 3Z)$  \n",
    "\n",
    "   <br>"
   ]
  },
  {
   "cell_type": "markdown",
   "metadata": {},
   "source": [
    "**Question 2**\n",
    "   \n",
    "1) Visually, what is the difference between a t-distribution and a standard Normal distribution? \n",
    "\n",
    "   <br> "
   ]
  },
  {
   "cell_type": "markdown",
   "metadata": {},
   "source": [
    "   \n",
    "2) Plot the pdf of the following distributions.  \n",
    "\n",
    "* Standard Normal $N(0, 1)$\n",
    "* $t_{5}$\n",
    "* $t_{10}$\n",
    "* $t_{100}$\n",
    "* $t_{10000}$\n",
    "   \n",
    "   <br>"
   ]
  },
  {
   "cell_type": "code",
   "execution_count": 4,
   "metadata": {
    "collapsed": false,
    "scrolled": false
   },
   "outputs": [
    {
     "name": "stdout",
     "output_type": "stream",
     "text": [
      "Populating the interactive namespace from numpy and matplotlib\n"
     ]
    },
    {
     "name": "stderr",
     "output_type": "stream",
     "text": [
      "WARNING: pylab import has clobbered these variables: ['norm']\n",
      "`%matplotlib` prevents importing * from pylab and numpy\n"
     ]
    },
    {
     "data": {
      "text/plain": [
       "[<matplotlib.lines.Line2D at 0x10ecd6748>]"
      ]
     },
     "execution_count": 4,
     "metadata": {},
     "output_type": "execute_result"
    },
    {
     "data": {
      "image/png": "[encoded data removed]",
      "text/plain": [
       "<matplotlib.figure.Figure at 0x10a43f048>"
      ]
     },
     "metadata": {},
     "output_type": "display_data"
    }
   ],
   "source": []
  },
  {
   "cell_type": "markdown",
   "metadata": {},
   "source": [
    "3) Comment on the plots. How does the shape of t-distribution change as the degrees of freedom change?   \n",
    "\n",
    "   <br>"
   ]
  },
  {
   "cell_type": "markdown",
   "metadata": {},
   "source": [
    "**Question 3**\n",
    "\n",
    "1) Explain why confidence interval is more informative than a point estimate.\n",
    "\n",
    "   <br>"
   ]
  },
  {
   "cell_type": "markdown",
   "metadata": {},
   "source": [
    "2) Explain why the following statement is **wrong**:\n",
    "   - The 95% confidence interval means there is a 95% chance that the true value lies in the interval|\n",
    "   \n",
    "   <br>"
   ]
  },
  {
   "cell_type": "markdown",
   "metadata": {},
   "source": [
    "3) Explain in plain words what the following means:\n",
    "   - The 95% confidence interval of the click through rate to website A is 0.10 to 0.15\n",
    "\n",
    "   <br>"
   ]
  },
  {
   "cell_type": "markdown",
   "metadata": {},
   "source": [
    "4) You are presented with 2 measurements below, select the measurement that is more precise and explain why that is.\n",
    "   - **Measurement 1**: 5.00 cm with 95% confidence interval of (4.52 cm, 5.52 cm)\n",
    "   - **Measurement 2**: 5.20 cm with 95% confidence interval of (5.13 cm, 5.22 cm)\n",
    "\n",
    "   <br>"
   ]
  },
  {
   "cell_type": "markdown",
   "metadata": {},
   "source": [
    "5) Is a 99% confidence interval wider or narrower than a 90% confidence interval?  \n",
    "\n",
    "   <br>"
   ]
  },
  {
   "cell_type": "markdown",
   "metadata": {},
   "source": [
    "**Question 4**\n",
    "\n",
    "1) Suppose Google sampled 200 of its employees and measured how long they are gone for lunch. \n",
    "   - Download the data from https://s3-us-west-2.amazonaws.com/dsci/6002/data/lunch_hour.txt (right click -> \"Save Link As...\")\n",
    "   - Load the data by `numpy.loadtxt('lunch_hour_200.txt')`\n",
    "   - Compute the mean lunch hour of the sample\n",
    "   - Compute the 95% confidence interval for how long, on average, Google employees take to have lunch.\n",
    "     (**_There is a python function to calculate this, which you will use later to verify your results; for this part, calculate it by following the formula given in class_**)\n",
    "\n",
    "   <br>"
   ]
  },
  {
   "cell_type": "markdown",
   "metadata": {},
   "source": [
    "   \n",
    "2) Suppose only the first 20 employees are sampled. Re-compute the 95% confidence interval based on this smaller sample.\n",
    "\n",
    "   <br>"
   ]
  },
  {
   "cell_type": "markdown",
   "metadata": {
    "collapsed": true
   },
   "source": [
    "   \n",
    "3) Use the following Python functions to verify your results above (which one should you use?):\n",
    "\n",
    "```python\n",
    "# Function to calculate z-based 95% CI\n",
    "scipy.stats.norm.interval(0.05, mean, std)\n",
    "\n",
    "# Function to calculate t-based 95% with 19 degrees of freedom\n",
    "scipy.stats.t.interval(0.05, 19, mean, std)\n",
    "```\n",
    "\n",
    "   <br>"
   ]
  },
  {
   "cell_type": "markdown",
   "metadata": {},
   "source": [
    "**Question 5**\n",
    "\n",
    "A survey is planned to determine the mean annual family medical expenses of employees of a large company. The management of the company wishes to be 95% confident that the sample mean is\n",
    "correct to within +/- \\$50 of the true population mean of annual family medical expenses. A pilot\n",
    "study indicated the population standard deviation can be estimated to be $400.  \n",
    "\n",
    "1) How large a sample size is needed?  \n",
    "\n",
    "\n",
    "2) If management wants to be correct to within +/- \\$25, what sample size is necessary?  \n"
   ]
  }
 ],
 "metadata": {
  "anaconda-cloud": {},
  "kernelspec": {
   "display_name": "Python [conda root]",
   "language": "python",
   "name": "conda-root-py"
  },
  "language_info": {
   "codemirror_mode": {
    "name": "ipython",
    "version": 3
   },
   "file_extension": ".py",
   "mimetype": "text/x-python",
   "name": "python",
   "nbconvert_exporter": "python",
   "pygments_lexer": "ipython3",
   "version": "3.5.2"
  }
 },
 "nbformat": 4,
 "nbformat_minor": 0
}
