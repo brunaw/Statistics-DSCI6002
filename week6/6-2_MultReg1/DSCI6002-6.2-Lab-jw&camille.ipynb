{
 "cells": [
  {
   "cell_type": "markdown",
   "metadata": {},
   "source": [
    "# Lab 6.2: Linear Regression"
   ]
  },
  {
   "cell_type": "markdown",
   "metadata": {},
   "source": [
    "**Question 1**  \n",
    "\n",
    "Using the cars data,\n",
    "1) Fit a simple linear regression to predict `mpg` using `weight`.  "
   ]
  },
  {
   "cell_type": "code",
   "execution_count": 2,
   "metadata": {
    "collapsed": false
   },
   "outputs": [
    {
     "name": "stdout",
     "output_type": "stream",
     "text": [
      "Populating the interactive namespace from numpy and matplotlib\n"
     ]
    }
   ],
   "source": [
    "%pylab inline\n",
    "\n",
    "import pandas as pd\n",
    "import statsmodels.api as sm\n",
    "import yaml\n",
    "\n",
    "from seaborn import pairplot\n",
    "from sqlalchemy import create_engine\n",
    "\n",
    "pg_creds = yaml.load(open('../../pg_creds.yaml'))['student']\n",
    "\n",
    "engine = create_engine('postgresql://{user}:{password}@{host}:{port}/{dbname}'.format(**pg_creds))\n",
    "\n",
    "cars = pd.read_sql(\"SELECT * FROM cars WHERE mpg IS NOT NULL;\", engine, index_col='index')"
   ]
  },
  {
   "cell_type": "code",
   "execution_count": 3,
   "metadata": {
    "collapsed": false,
    "scrolled": true
   },
   "outputs": [
    {
     "data": {
      "text/html": [
       "<table class=\"simpletable\">\n",
       "<caption>OLS Regression Results</caption>\n",
       "<tr>\n",
       "  <th>Dep. Variable:</th>           <td>mpg</td>       <th>  R-squared:         </th> <td>   0.692</td> \n",
       "</tr>\n",
       "<tr>\n",
       "  <th>Model:</th>                   <td>OLS</td>       <th>  Adj. R-squared:    </th> <td>   0.691</td> \n",
       "</tr>\n",
       "<tr>\n",
       "  <th>Method:</th>             <td>Least Squares</td>  <th>  F-statistic:       </th> <td>   888.9</td> \n",
       "</tr>\n",
       "<tr>\n",
       "  <th>Date:</th>             <td>Thu, 06 Oct 2016</td> <th>  Prob (F-statistic):</th> <td>2.97e-103</td>\n",
       "</tr>\n",
       "<tr>\n",
       "  <th>Time:</th>                 <td>13:51:51</td>     <th>  Log-Likelihood:    </th> <td> -1148.4</td> \n",
       "</tr>\n",
       "<tr>\n",
       "  <th>No. Observations:</th>      <td>   398</td>      <th>  AIC:               </th> <td>   2301.</td> \n",
       "</tr>\n",
       "<tr>\n",
       "  <th>Df Residuals:</th>          <td>   396</td>      <th>  BIC:               </th> <td>   2309.</td> \n",
       "</tr>\n",
       "<tr>\n",
       "  <th>Df Model:</th>              <td>     1</td>      <th>                     </th>     <td> </td>    \n",
       "</tr>\n",
       "<tr>\n",
       "  <th>Covariance Type:</th>      <td>nonrobust</td>    <th>                     </th>     <td> </td>    \n",
       "</tr>\n",
       "</table>\n",
       "<table class=\"simpletable\">\n",
       "<tr>\n",
       "     <td></td>       <th>coef</th>     <th>std err</th>      <th>t</th>      <th>P>|t|</th> <th>[95.0% Conf. Int.]</th> \n",
       "</tr>\n",
       "<tr>\n",
       "  <th>const</th>  <td>   46.3174</td> <td>    0.795</td> <td>   58.243</td> <td> 0.000</td> <td>   44.754    47.881</td>\n",
       "</tr>\n",
       "<tr>\n",
       "  <th>weight</th> <td>   -0.0077</td> <td>    0.000</td> <td>  -29.814</td> <td> 0.000</td> <td>   -0.008    -0.007</td>\n",
       "</tr>\n",
       "</table>\n",
       "<table class=\"simpletable\">\n",
       "<tr>\n",
       "  <th>Omnibus:</th>       <td>40.423</td> <th>  Durbin-Watson:     </th> <td>   0.850</td>\n",
       "</tr>\n",
       "<tr>\n",
       "  <th>Prob(Omnibus):</th> <td> 0.000</td> <th>  Jarque-Bera (JB):  </th> <td>  56.695</td>\n",
       "</tr>\n",
       "<tr>\n",
       "  <th>Skew:</th>          <td> 0.713</td> <th>  Prob(JB):          </th> <td>4.89e-13</td>\n",
       "</tr>\n",
       "<tr>\n",
       "  <th>Kurtosis:</th>      <td> 4.176</td> <th>  Cond. No.          </th> <td>1.13e+04</td>\n",
       "</tr>\n",
       "</table>"
      ],
      "text/plain": [
       "<class 'statsmodels.iolib.summary.Summary'>\n",
       "\"\"\"\n",
       "                            OLS Regression Results                            \n",
       "==============================================================================\n",
       "Dep. Variable:                    mpg   R-squared:                       0.692\n",
       "Model:                            OLS   Adj. R-squared:                  0.691\n",
       "Method:                 Least Squares   F-statistic:                     888.9\n",
       "Date:                Thu, 06 Oct 2016   Prob (F-statistic):          2.97e-103\n",
       "Time:                        13:51:51   Log-Likelihood:                -1148.4\n",
       "No. Observations:                 398   AIC:                             2301.\n",
       "Df Residuals:                     396   BIC:                             2309.\n",
       "Df Model:                           1                                         \n",
       "Covariance Type:            nonrobust                                         \n",
       "==============================================================================\n",
       "                 coef    std err          t      P>|t|      [95.0% Conf. Int.]\n",
       "------------------------------------------------------------------------------\n",
       "const         46.3174      0.795     58.243      0.000        44.754    47.881\n",
       "weight        -0.0077      0.000    -29.814      0.000        -0.008    -0.007\n",
       "==============================================================================\n",
       "Omnibus:                       40.423   Durbin-Watson:                   0.850\n",
       "Prob(Omnibus):                  0.000   Jarque-Bera (JB):               56.695\n",
       "Skew:                           0.713   Prob(JB):                     4.89e-13\n",
       "Kurtosis:                       4.176   Cond. No.                     1.13e+04\n",
       "==============================================================================\n",
       "\n",
       "Warnings:\n",
       "[1] Standard Errors assume that the covariance matrix of the errors is correctly specified.\n",
       "[2] The condition number is large, 1.13e+04. This might indicate that there are\n",
       "strong multicollinearity or other numerical problems.\n",
       "\"\"\""
      ]
     },
     "execution_count": 3,
     "metadata": {},
     "output_type": "execute_result"
    }
   ],
   "source": [
    "X = cars.weight\n",
    "X = sm.add_constant(X)\n",
    "y = cars.mpg\n",
    "\n",
    "model = sm.OLS(y,X)\n",
    "results = model.fit()\n",
    "results.summary()"
   ]
  },
  {
   "cell_type": "markdown",
   "metadata": {},
   "source": [
    "$$\\hat{y} = b_0 + b_1 x $$  \n",
    "\n",
    "$$ \\hat{mpg} = 46.3174 -0.0077 (weight) $$"
   ]
  },
  {
   "cell_type": "markdown",
   "metadata": {},
   "source": [
    "2) Comment on the model fit.  "
   ]
  },
  {
   "cell_type": "markdown",
   "metadata": {},
   "source": [
    "R^2 = SSR/SST = 0.692\n",
    "\n",
    "Since the R^2 is high, it means that ~69% of the variability in mpg is explained in the variability in weight."
   ]
  },
  {
   "cell_type": "markdown",
   "metadata": {},
   "source": [
    "3) Interpret the model. "
   ]
  },
  {
   "cell_type": "markdown",
   "metadata": {},
   "source": [
    "For every 1 unit increase in weight, the mpg decreases by .0077"
   ]
  },
  {
   "cell_type": "markdown",
   "metadata": {},
   "source": [
    "4) Is `weight` useful for predicting `mpg`? Carry out a formal hypothesis test to show it.  "
   ]
  },
  {
   "cell_type": "markdown",
   "metadata": {},
   "source": [
    "$h_0 : \\beta_1 = 0$ - in other words, weight is not useful for predicting mpg\n",
    "\n",
    "$h_a : \\beta_1 != 0$\n",
    "\n",
    "$\\alpha = .05$\n",
    "\n",
    "the p value is:\t2.97e-103, so we reject the null hypothesis"
   ]
  },
  {
   "cell_type": "markdown",
   "metadata": {},
   "source": [
    "5) Make a prediction for the average `mpg` of all cars that have a weight of 2000.  "
   ]
  },
  {
   "cell_type": "code",
   "execution_count": 4,
   "metadata": {
    "collapsed": false
   },
   "outputs": [
    {
     "data": {
      "text/plain": [
       "30.9174"
      ]
     },
     "execution_count": 4,
     "metadata": {},
     "output_type": "execute_result"
    }
   ],
   "source": [
    "mpg_hat = 46.3174 -0.0077 *(2000)\n",
    "mpg_hat"
   ]
  },
  {
   "cell_type": "markdown",
   "metadata": {},
   "source": [
    "6) Make a prediction for a particular car that has a weight of 2000.  "
   ]
  },
  {
   "cell_type": "code",
   "execution_count": 5,
   "metadata": {
    "collapsed": false
   },
   "outputs": [
    {
     "data": {
      "text/plain": [
       "30.9174"
      ]
     },
     "execution_count": 5,
     "metadata": {},
     "output_type": "execute_result"
    }
   ],
   "source": [
    "# it's the same whether we want to calculate one object or the average - they have the same mean, but the variance is smaller for the average\n",
    "mpg_hat = 46.3174 -0.0077 *(2000)\n",
    "mpg_hat"
   ]
  },
  {
   "cell_type": "markdown",
   "metadata": {},
   "source": [
    "7) Write a Python function to calculate the confidence interval for your prediction in part 5).  "
   ]
  },
  {
   "cell_type": "code",
   "execution_count": 6,
   "metadata": {
    "collapsed": false
   },
   "outputs": [
    {
     "data": {
      "text/plain": [
       "array([ 30.31449246,  31.61379612])"
      ]
     },
     "execution_count": 6,
     "metadata": {},
     "output_type": "execute_result"
    }
   ],
   "source": [
    "x = cars.weight\n",
    "se = sqrt(results.mse_resid)\n",
    "b0, b1 = results.params\n",
    "\n",
    "x_new = 2000\n",
    "\n",
    "def confidence_se(s_e, x, x_new):\n",
    "    mean_x = x.mean()\n",
    "    var_x = x.var()\n",
    "    n = len(x)\n",
    "    return s_e * (1/n + (x_new - mean_x)**2 / ((n - 1) * var_x))**0.5\n",
    "\n",
    "sign = array([-1., 1.])\n",
    "b0 + b1 * x_new + sign * 1.96 * confidence_se(se, x, x_new)"
   ]
  },
  {
   "cell_type": "markdown",
   "metadata": {},
   "source": [
    "\n",
    "\n",
    "confidence interval of average means that when you're trying to predict mean mpg when weight = 2000, the mean estimated weight falls within the range given 95 percent of the time."
   ]
  },
  {
   "cell_type": "markdown",
   "metadata": {},
   "source": [
    "8) Write a Python function to calculate the prediction interval for your prediction in part 6).  "
   ]
  },
  {
   "cell_type": "code",
   "execution_count": 7,
   "metadata": {
    "collapsed": false
   },
   "outputs": [
    {
     "data": {
      "text/plain": [
       "array([ 22.42392803,  39.50436055])"
      ]
     },
     "execution_count": 7,
     "metadata": {},
     "output_type": "execute_result"
    }
   ],
   "source": [
    "def prediction_se(s_e, x, x_new):\n",
    "    mean_x = x.mean()\n",
    "    var_x = x.var()\n",
    "    n = len(x)\n",
    "    return s_e * (1 + 1/n + (x_new - mean_x)**2 / ((n - 1) * var_x))**0.5\n",
    "\n",
    "b0 + b1 * x_new + sign * 1.96 * prediction_se(se, x, x_new)"
   ]
  },
  {
   "cell_type": "markdown",
   "metadata": {},
   "source": [
    "\n",
    "prediction interval means that when you're trying to predict mpg when weight = 2000, the estimated weight falls within the range given 95 percent of the time."
   ]
  },
  {
   "cell_type": "markdown",
   "metadata": {},
   "source": [
    "9) What are the differences between the intervals you found in parts 7) and 8)?"
   ]
  },
  {
   "cell_type": "markdown",
   "metadata": {},
   "source": [
    "the prediction interval is always wider than the confidence interval for the average, because the prediction interval adds a 1.\n",
    "\n",
    "An interval on the mean of the values is smaller than for a point, because have more data points.\n"
   ]
  },
  {
   "cell_type": "markdown",
   "metadata": {},
   "source": [
    "**Question 2**  \n",
    "\n",
    "You are shopping for a laptop computer at Best Buy. To help you with your decision, you decide to construct a regression model to predict the selling price of the laptop. The table `laptops` provides the following data for a random sample of laptops on Best Buy’s Web site:  \n",
    "\n",
    "* Selling price\n",
    "* Brand\n",
    "* Screen size (in.)\n",
    "* Hard drive size (GB)\n",
    "* Amount of RAM memory (GB)\n",
    "* Number of USB ports\n",
    "* Weight (oz.) \n",
    "\n",
    "a) Using multiple regression, model selling price using the variables screen size, hard drive size, amount of ram, number of usb ports and weight.  "
   ]
  },
  {
   "cell_type": "code",
   "execution_count": 8,
   "metadata": {
    "collapsed": false,
    "scrolled": false
   },
   "outputs": [
    {
     "data": {
      "text/html": [
       "<div>\n",
       "<table border=\"1\" class=\"dataframe\">\n",
       "  <thead>\n",
       "    <tr style=\"text-align: right;\">\n",
       "      <th></th>\n",
       "      <th>Price ($)</th>\n",
       "      <th>Screen Size (in.)</th>\n",
       "      <th>RAM Memory (GB)</th>\n",
       "      <th>Hard drive (GB)</th>\n",
       "      <th>USB Ports</th>\n",
       "      <th>Brand</th>\n",
       "      <th>Weight (oz.)</th>\n",
       "    </tr>\n",
       "  </thead>\n",
       "  <tbody>\n",
       "    <tr>\n",
       "      <th>0</th>\n",
       "      <td>830</td>\n",
       "      <td>13.3</td>\n",
       "      <td>4</td>\n",
       "      <td>500</td>\n",
       "      <td>3</td>\n",
       "      <td>Toshiba</td>\n",
       "      <td>4.9</td>\n",
       "    </tr>\n",
       "    <tr>\n",
       "      <th>1</th>\n",
       "      <td>750</td>\n",
       "      <td>13.3</td>\n",
       "      <td>4</td>\n",
       "      <td>640</td>\n",
       "      <td>3</td>\n",
       "      <td>Toshiba</td>\n",
       "      <td>3.2</td>\n",
       "    </tr>\n",
       "    <tr>\n",
       "      <th>2</th>\n",
       "      <td>1200</td>\n",
       "      <td>11.6</td>\n",
       "      <td>2</td>\n",
       "      <td>128</td>\n",
       "      <td>2</td>\n",
       "      <td>Apple</td>\n",
       "      <td>2.3</td>\n",
       "    </tr>\n",
       "    <tr>\n",
       "      <th>3</th>\n",
       "      <td>1600</td>\n",
       "      <td>18.4</td>\n",
       "      <td>6</td>\n",
       "      <td>640</td>\n",
       "      <td>4</td>\n",
       "      <td>Toshiba</td>\n",
       "      <td>9.7</td>\n",
       "    </tr>\n",
       "    <tr>\n",
       "      <th>4</th>\n",
       "      <td>1900</td>\n",
       "      <td>18.4</td>\n",
       "      <td>8</td>\n",
       "      <td>500</td>\n",
       "      <td>4</td>\n",
       "      <td>Toshiba</td>\n",
       "      <td>9.7</td>\n",
       "    </tr>\n",
       "  </tbody>\n",
       "</table>\n",
       "</div>"
      ],
      "text/plain": [
       "   Price ($)  Screen Size (in.)  RAM Memory (GB)  Hard drive (GB)  USB Ports  \\\n",
       "0        830               13.3                4              500          3   \n",
       "1        750               13.3                4              640          3   \n",
       "2       1200               11.6                2              128          2   \n",
       "3       1600               18.4                6              640          4   \n",
       "4       1900               18.4                8              500          4   \n",
       "\n",
       "     Brand  Weight (oz.)  \n",
       "0  Toshiba           4.9  \n",
       "1  Toshiba           3.2  \n",
       "2    Apple           2.3  \n",
       "3  Toshiba           9.7  \n",
       "4  Toshiba           9.7  "
      ]
     },
     "execution_count": 8,
     "metadata": {},
     "output_type": "execute_result"
    }
   ],
   "source": [
    "laptops = pd.read_sql(\"SELECT * FROM laptops\", engine)\n",
    "\n",
    "laptops.head()"
   ]
  },
  {
   "cell_type": "code",
   "execution_count": 9,
   "metadata": {
    "collapsed": false
   },
   "outputs": [
    {
     "name": "stdout",
     "output_type": "stream",
     "text": [
      "Index(['Price ($)', 'Screen Size (in.)', 'RAM Memory (GB)', 'Hard drive (GB)',\n",
      "       'USB Ports', 'Brand', 'Weight (oz.)'],\n",
      "      dtype='object')\n"
     ]
    }
   ],
   "source": [
    "print(laptops.columns)"
   ]
  },
  {
   "cell_type": "code",
   "execution_count": 10,
   "metadata": {
    "collapsed": false
   },
   "outputs": [
    {
     "data": {
      "text/html": [
       "<table class=\"simpletable\">\n",
       "<caption>OLS Regression Results</caption>\n",
       "<tr>\n",
       "  <th>Dep. Variable:</th>        <td>Price ($)</td>    <th>  R-squared:         </th> <td>   0.117</td>\n",
       "</tr>\n",
       "<tr>\n",
       "  <th>Model:</th>                   <td>OLS</td>       <th>  Adj. R-squared:    </th> <td>   0.040</td>\n",
       "</tr>\n",
       "<tr>\n",
       "  <th>Method:</th>             <td>Least Squares</td>  <th>  F-statistic:       </th> <td>   1.514</td>\n",
       "</tr>\n",
       "<tr>\n",
       "  <th>Date:</th>             <td>Thu, 06 Oct 2016</td> <th>  Prob (F-statistic):</th>  <td> 0.200</td> \n",
       "</tr>\n",
       "<tr>\n",
       "  <th>Time:</th>                 <td>13:51:52</td>     <th>  Log-Likelihood:    </th> <td> -477.99</td>\n",
       "</tr>\n",
       "<tr>\n",
       "  <th>No. Observations:</th>      <td>    63</td>      <th>  AIC:               </th> <td>   968.0</td>\n",
       "</tr>\n",
       "<tr>\n",
       "  <th>Df Residuals:</th>          <td>    57</td>      <th>  BIC:               </th> <td>   980.8</td>\n",
       "</tr>\n",
       "<tr>\n",
       "  <th>Df Model:</th>              <td>     5</td>      <th>                     </th>     <td> </td>   \n",
       "</tr>\n",
       "<tr>\n",
       "  <th>Covariance Type:</th>      <td>nonrobust</td>    <th>                     </th>     <td> </td>   \n",
       "</tr>\n",
       "</table>\n",
       "<table class=\"simpletable\">\n",
       "<tr>\n",
       "          <td></td>             <th>coef</th>     <th>std err</th>      <th>t</th>      <th>P>|t|</th> <th>[95.0% Conf. Int.]</th> \n",
       "</tr>\n",
       "<tr>\n",
       "  <th>const</th>             <td>  761.4987</td> <td>  946.954</td> <td>    0.804</td> <td> 0.425</td> <td>-1134.744  2657.741</td>\n",
       "</tr>\n",
       "<tr>\n",
       "  <th>Screen Size (in.)</th> <td>    4.1113</td> <td>   96.206</td> <td>    0.043</td> <td> 0.966</td> <td> -188.539   196.761</td>\n",
       "</tr>\n",
       "<tr>\n",
       "  <th>Hard drive (GB)</th>   <td>    0.6561</td> <td>    0.459</td> <td>    1.429</td> <td> 0.159</td> <td>   -0.263     1.576</td>\n",
       "</tr>\n",
       "<tr>\n",
       "  <th>RAM Memory (GB)</th>   <td>   12.8642</td> <td>   74.411</td> <td>    0.173</td> <td> 0.863</td> <td> -136.141   161.870</td>\n",
       "</tr>\n",
       "<tr>\n",
       "  <th>USB Ports</th>         <td> -206.5346</td> <td>  123.563</td> <td>   -1.671</td> <td> 0.100</td> <td> -453.965    40.896</td>\n",
       "</tr>\n",
       "<tr>\n",
       "  <th>Weight (oz.)</th>      <td>   51.6251</td> <td>   99.210</td> <td>    0.520</td> <td> 0.605</td> <td> -147.040   250.290</td>\n",
       "</tr>\n",
       "</table>\n",
       "<table class=\"simpletable\">\n",
       "<tr>\n",
       "  <th>Omnibus:</th>       <td> 9.835</td> <th>  Durbin-Watson:     </th> <td>   1.792</td>\n",
       "</tr>\n",
       "<tr>\n",
       "  <th>Prob(Omnibus):</th> <td> 0.007</td> <th>  Jarque-Bera (JB):  </th> <td>  10.384</td>\n",
       "</tr>\n",
       "<tr>\n",
       "  <th>Skew:</th>          <td> 0.993</td> <th>  Prob(JB):          </th> <td> 0.00556</td>\n",
       "</tr>\n",
       "<tr>\n",
       "  <th>Kurtosis:</th>      <td> 3.102</td> <th>  Cond. No.          </th> <td>8.40e+03</td>\n",
       "</tr>\n",
       "</table>"
      ],
      "text/plain": [
       "<class 'statsmodels.iolib.summary.Summary'>\n",
       "\"\"\"\n",
       "                            OLS Regression Results                            \n",
       "==============================================================================\n",
       "Dep. Variable:              Price ($)   R-squared:                       0.117\n",
       "Model:                            OLS   Adj. R-squared:                  0.040\n",
       "Method:                 Least Squares   F-statistic:                     1.514\n",
       "Date:                Thu, 06 Oct 2016   Prob (F-statistic):              0.200\n",
       "Time:                        13:51:52   Log-Likelihood:                -477.99\n",
       "No. Observations:                  63   AIC:                             968.0\n",
       "Df Residuals:                      57   BIC:                             980.8\n",
       "Df Model:                           5                                         \n",
       "Covariance Type:            nonrobust                                         \n",
       "=====================================================================================\n",
       "                        coef    std err          t      P>|t|      [95.0% Conf. Int.]\n",
       "-------------------------------------------------------------------------------------\n",
       "const               761.4987    946.954      0.804      0.425     -1134.744  2657.741\n",
       "Screen Size (in.)     4.1113     96.206      0.043      0.966      -188.539   196.761\n",
       "Hard drive (GB)       0.6561      0.459      1.429      0.159        -0.263     1.576\n",
       "RAM Memory (GB)      12.8642     74.411      0.173      0.863      -136.141   161.870\n",
       "USB Ports          -206.5346    123.563     -1.671      0.100      -453.965    40.896\n",
       "Weight (oz.)         51.6251     99.210      0.520      0.605      -147.040   250.290\n",
       "==============================================================================\n",
       "Omnibus:                        9.835   Durbin-Watson:                   1.792\n",
       "Prob(Omnibus):                  0.007   Jarque-Bera (JB):               10.384\n",
       "Skew:                           0.993   Prob(JB):                      0.00556\n",
       "Kurtosis:                       3.102   Cond. No.                     8.40e+03\n",
       "==============================================================================\n",
       "\n",
       "Warnings:\n",
       "[1] Standard Errors assume that the covariance matrix of the errors is correctly specified.\n",
       "[2] The condition number is large, 8.4e+03. This might indicate that there are\n",
       "strong multicollinearity or other numerical problems.\n",
       "\"\"\""
      ]
     },
     "execution_count": 10,
     "metadata": {},
     "output_type": "execute_result"
    }
   ],
   "source": [
    "X2 = laptops[['Screen Size (in.)', 'Hard drive (GB)', 'RAM Memory (GB)', 'USB Ports', 'Weight (oz.)']]\n",
    "X2 = sm.add_constant(X2)\n",
    "y2 = laptops['Price ($)']\n",
    "\n",
    "model2 = sm.OLS(y2, X2)\n",
    "results2 = model2.fit()\n",
    "results2.summary()"
   ]
  },
  {
   "cell_type": "markdown",
   "metadata": {},
   "source": [
    "b) Perform and interpret the overall F test.  "
   ]
  },
  {
   "cell_type": "markdown",
   "metadata": {},
   "source": [
    "$h_0 : \\beta_1 =...=\n",
    "\\beta_n= 0$ - in other words, factors is not useful for predicting price\n",
    "\n",
    "$h_a :$ at least 1 $\\beta$ is not 0\n",
    "\n",
    "$\\alpha = .05$\n",
    "\n",
    "Prob (F-statistic):\t0.200\n",
    "\n",
    "Since the p value is greater than .05, we fail to reject the null hypothesis, so model is not useful."
   ]
  },
  {
   "cell_type": "markdown",
   "metadata": {},
   "source": [
    "c) Using p-values, which variables appear to be needed in the model? Justify your answer.   "
   ]
  },
  {
   "cell_type": "markdown",
   "metadata": {},
   "source": [
    "we want the variables that have p<0.05, so those are none of them."
   ]
  },
  {
   "cell_type": "markdown",
   "metadata": {},
   "source": [
    "d) Now create a new predictor that contains random numbers drawn from your favorite distribution, and include this predictor in your multiple regression model. Comment on the model fit. How does the new $R^2$ compare to the one in part a)?  "
   ]
  },
  {
   "cell_type": "code",
   "execution_count": 11,
   "metadata": {
    "collapsed": false,
    "scrolled": true
   },
   "outputs": [
    {
     "data": {
      "text/plain": [
       "array([ 908, 1000, 1009,  994, 1024, 1008,  957, 1005,  999,  983, 1020,\n",
       "       1040,  963,  980, 1045,  966,  979, 1045, 1026, 1010,  949,  962,\n",
       "        972, 1020, 1013, 1036, 1016,  993, 1004, 1010,  928,  973,  978,\n",
       "       1023,  961, 1062,  986,  979, 1012,  975,  973,  990,  943,  993,\n",
       "       1021, 1072, 1010,  959,  970,  988,  977, 1006, 1031, 1007,  987,\n",
       "       1017, 1009, 1020,  967, 1008, 1041, 1033, 1002])"
      ]
     },
     "execution_count": 11,
     "metadata": {},
     "output_type": "execute_result"
    }
   ],
   "source": [
    "# Define a Poisson distribution with lambda = 2\n",
    "# poisson2 = stats.poisson(2)\n",
    "\n",
    "sim = numpy.random.poisson(1000, 63)\n",
    "\n",
    "sim"
   ]
  },
  {
   "cell_type": "code",
   "execution_count": 12,
   "metadata": {
    "collapsed": false,
    "scrolled": true
   },
   "outputs": [
    {
     "data": {
      "text/html": [
       "<table class=\"simpletable\">\n",
       "<caption>OLS Regression Results</caption>\n",
       "<tr>\n",
       "  <th>Dep. Variable:</th>        <td>Price ($)</td>    <th>  R-squared:         </th> <td>   0.196</td>\n",
       "</tr>\n",
       "<tr>\n",
       "  <th>Model:</th>                   <td>OLS</td>       <th>  Adj. R-squared:    </th> <td>   0.110</td>\n",
       "</tr>\n",
       "<tr>\n",
       "  <th>Method:</th>             <td>Least Squares</td>  <th>  F-statistic:       </th> <td>   2.271</td>\n",
       "</tr>\n",
       "<tr>\n",
       "  <th>Date:</th>             <td>Thu, 06 Oct 2016</td> <th>  Prob (F-statistic):</th>  <td>0.0495</td> \n",
       "</tr>\n",
       "<tr>\n",
       "  <th>Time:</th>                 <td>13:51:52</td>     <th>  Log-Likelihood:    </th> <td> -475.06</td>\n",
       "</tr>\n",
       "<tr>\n",
       "  <th>No. Observations:</th>      <td>    63</td>      <th>  AIC:               </th> <td>   964.1</td>\n",
       "</tr>\n",
       "<tr>\n",
       "  <th>Df Residuals:</th>          <td>    56</td>      <th>  BIC:               </th> <td>   979.1</td>\n",
       "</tr>\n",
       "<tr>\n",
       "  <th>Df Model:</th>              <td>     6</td>      <th>                     </th>     <td> </td>   \n",
       "</tr>\n",
       "<tr>\n",
       "  <th>Covariance Type:</th>      <td>nonrobust</td>    <th>                     </th>     <td> </td>   \n",
       "</tr>\n",
       "</table>\n",
       "<table class=\"simpletable\">\n",
       "<tr>\n",
       "          <td></td>             <th>coef</th>     <th>std err</th>      <th>t</th>      <th>P>|t|</th> <th>[95.0% Conf. Int.]</th> \n",
       "</tr>\n",
       "<tr>\n",
       "  <th>const</th>             <td>-3390.8410</td> <td> 1996.770</td> <td>   -1.698</td> <td> 0.095</td> <td>-7390.851   609.169</td>\n",
       "</tr>\n",
       "<tr>\n",
       "  <th>Screen Size (in.)</th> <td>  -64.0953</td> <td>   97.133</td> <td>   -0.660</td> <td> 0.512</td> <td> -258.676   130.486</td>\n",
       "</tr>\n",
       "<tr>\n",
       "  <th>Hard drive (GB)</th>   <td>    0.7276</td> <td>    0.443</td> <td>    1.641</td> <td> 0.106</td> <td>   -0.160     1.616</td>\n",
       "</tr>\n",
       "<tr>\n",
       "  <th>RAM Memory (GB)</th>   <td>   11.1347</td> <td>   71.662</td> <td>    0.155</td> <td> 0.877</td> <td> -132.421   154.690</td>\n",
       "</tr>\n",
       "<tr>\n",
       "  <th>USB Ports</th>         <td> -209.4957</td> <td>  118.998</td> <td>   -1.760</td> <td> 0.084</td> <td> -447.877    28.886</td>\n",
       "</tr>\n",
       "<tr>\n",
       "  <th>Weight (oz.)</th>      <td>  115.2553</td> <td>   99.342</td> <td>    1.160</td> <td> 0.251</td> <td>  -83.750   314.261</td>\n",
       "</tr>\n",
       "<tr>\n",
       "  <th>sim</th>               <td>    4.8256</td> <td>    2.064</td> <td>    2.338</td> <td> 0.023</td> <td>    0.690     8.961</td>\n",
       "</tr>\n",
       "</table>\n",
       "<table class=\"simpletable\">\n",
       "<tr>\n",
       "  <th>Omnibus:</th>       <td> 6.886</td> <th>  Durbin-Watson:     </th> <td>   1.771</td>\n",
       "</tr>\n",
       "<tr>\n",
       "  <th>Prob(Omnibus):</th> <td> 0.032</td> <th>  Jarque-Bera (JB):  </th> <td>   6.867</td>\n",
       "</tr>\n",
       "<tr>\n",
       "  <th>Skew:</th>          <td> 0.808</td> <th>  Prob(JB):          </th> <td>  0.0323</td>\n",
       "</tr>\n",
       "<tr>\n",
       "  <th>Kurtosis:</th>      <td> 2.954</td> <th>  Cond. No.          </th> <td>3.69e+04</td>\n",
       "</tr>\n",
       "</table>"
      ],
      "text/plain": [
       "<class 'statsmodels.iolib.summary.Summary'>\n",
       "\"\"\"\n",
       "                            OLS Regression Results                            \n",
       "==============================================================================\n",
       "Dep. Variable:              Price ($)   R-squared:                       0.196\n",
       "Model:                            OLS   Adj. R-squared:                  0.110\n",
       "Method:                 Least Squares   F-statistic:                     2.271\n",
       "Date:                Thu, 06 Oct 2016   Prob (F-statistic):             0.0495\n",
       "Time:                        13:51:52   Log-Likelihood:                -475.06\n",
       "No. Observations:                  63   AIC:                             964.1\n",
       "Df Residuals:                      56   BIC:                             979.1\n",
       "Df Model:                           6                                         \n",
       "Covariance Type:            nonrobust                                         \n",
       "=====================================================================================\n",
       "                        coef    std err          t      P>|t|      [95.0% Conf. Int.]\n",
       "-------------------------------------------------------------------------------------\n",
       "const             -3390.8410   1996.770     -1.698      0.095     -7390.851   609.169\n",
       "Screen Size (in.)   -64.0953     97.133     -0.660      0.512      -258.676   130.486\n",
       "Hard drive (GB)       0.7276      0.443      1.641      0.106        -0.160     1.616\n",
       "RAM Memory (GB)      11.1347     71.662      0.155      0.877      -132.421   154.690\n",
       "USB Ports          -209.4957    118.998     -1.760      0.084      -447.877    28.886\n",
       "Weight (oz.)        115.2553     99.342      1.160      0.251       -83.750   314.261\n",
       "sim                   4.8256      2.064      2.338      0.023         0.690     8.961\n",
       "==============================================================================\n",
       "Omnibus:                        6.886   Durbin-Watson:                   1.771\n",
       "Prob(Omnibus):                  0.032   Jarque-Bera (JB):                6.867\n",
       "Skew:                           0.808   Prob(JB):                       0.0323\n",
       "Kurtosis:                       2.954   Cond. No.                     3.69e+04\n",
       "==============================================================================\n",
       "\n",
       "Warnings:\n",
       "[1] Standard Errors assume that the covariance matrix of the errors is correctly specified.\n",
       "[2] The condition number is large, 3.69e+04. This might indicate that there are\n",
       "strong multicollinearity or other numerical problems.\n",
       "\"\"\""
      ]
     },
     "execution_count": 12,
     "metadata": {},
     "output_type": "execute_result"
    }
   ],
   "source": [
    "X3 = X2\n",
    "X3['sim'] = sim\n",
    "# print(type(X2))\n",
    "y3 = laptops['Price ($)']\n",
    "\n",
    "model3 = sm.OLS(y3, X3)\n",
    "results3 = model3.fit()\n",
    "results3.summary()"
   ]
  },
  {
   "cell_type": "markdown",
   "metadata": {},
   "source": [
    "the simulated values drawn from the poisson distrubition also make for a bad model fit.  \n",
    "\n",
    "old R^2 was: 0.117\n",
    "new R^2 is: 0.118\n",
    "\n",
    "They both mean that the model fits poorly.  Higher R^2 is better; however, it's higher because we have more variability due to adding another variable.\n",
    "\n",
    "We need to look at adjusted R^2:\n",
    "old:  0.040\n",
    "new:  0.024\n",
    "\n",
    "When we look at the adjusted R^2, we can see that the new simulated numbers make the fit worse."
   ]
  },
  {
   "cell_type": "markdown",
   "metadata": {},
   "source": [
    "e) Generate another new predictor - you can draw another list of random numbers from the same distribution as above, or you can draw from a different distribution. Add this predictor to the model in part d). What happends to the $R^2$? Does this mean that the new predictor is useful for predicting laptop prices?"
   ]
  },
  {
   "cell_type": "code",
   "execution_count": 13,
   "metadata": {
    "collapsed": false
   },
   "outputs": [
    {
     "data": {
      "text/html": [
       "<table class=\"simpletable\">\n",
       "<caption>OLS Regression Results</caption>\n",
       "<tr>\n",
       "  <th>Dep. Variable:</th>        <td>Price ($)</td>    <th>  R-squared:         </th> <td>   0.204</td>\n",
       "</tr>\n",
       "<tr>\n",
       "  <th>Model:</th>                   <td>OLS</td>       <th>  Adj. R-squared:    </th> <td>   0.102</td>\n",
       "</tr>\n",
       "<tr>\n",
       "  <th>Method:</th>             <td>Least Squares</td>  <th>  F-statistic:       </th> <td>   2.011</td>\n",
       "</tr>\n",
       "<tr>\n",
       "  <th>Date:</th>             <td>Thu, 06 Oct 2016</td> <th>  Prob (F-statistic):</th>  <td>0.0700</td> \n",
       "</tr>\n",
       "<tr>\n",
       "  <th>Time:</th>                 <td>13:51:52</td>     <th>  Log-Likelihood:    </th> <td> -474.74</td>\n",
       "</tr>\n",
       "<tr>\n",
       "  <th>No. Observations:</th>      <td>    63</td>      <th>  AIC:               </th> <td>   965.5</td>\n",
       "</tr>\n",
       "<tr>\n",
       "  <th>Df Residuals:</th>          <td>    55</td>      <th>  BIC:               </th> <td>   982.6</td>\n",
       "</tr>\n",
       "<tr>\n",
       "  <th>Df Model:</th>              <td>     7</td>      <th>                     </th>     <td> </td>   \n",
       "</tr>\n",
       "<tr>\n",
       "  <th>Covariance Type:</th>      <td>nonrobust</td>    <th>                     </th>     <td> </td>   \n",
       "</tr>\n",
       "</table>\n",
       "<table class=\"simpletable\">\n",
       "<tr>\n",
       "          <td></td>             <th>coef</th>     <th>std err</th>      <th>t</th>      <th>P>|t|</th> <th>[95.0% Conf. Int.]</th> \n",
       "</tr>\n",
       "<tr>\n",
       "  <th>const</th>             <td>-2526.3269</td> <td> 2315.142</td> <td>   -1.091</td> <td> 0.280</td> <td>-7165.976  2113.322</td>\n",
       "</tr>\n",
       "<tr>\n",
       "  <th>Screen Size (in.)</th> <td>  -59.8996</td> <td>   97.681</td> <td>   -0.613</td> <td> 0.542</td> <td> -255.657   135.858</td>\n",
       "</tr>\n",
       "<tr>\n",
       "  <th>Hard drive (GB)</th>   <td>    0.6463</td> <td>    0.458</td> <td>    1.411</td> <td> 0.164</td> <td>   -0.272     1.564</td>\n",
       "</tr>\n",
       "<tr>\n",
       "  <th>RAM Memory (GB)</th>   <td>   21.7461</td> <td>   73.337</td> <td>    0.297</td> <td> 0.768</td> <td> -125.225   168.717</td>\n",
       "</tr>\n",
       "<tr>\n",
       "  <th>USB Ports</th>         <td> -208.8800</td> <td>  119.474</td> <td>   -1.748</td> <td> 0.086</td> <td> -448.311    30.551</td>\n",
       "</tr>\n",
       "<tr>\n",
       "  <th>Weight (oz.)</th>      <td>  106.4893</td> <td>  100.426</td> <td>    1.060</td> <td> 0.294</td> <td>  -94.768   307.747</td>\n",
       "</tr>\n",
       "<tr>\n",
       "  <th>sim</th>               <td>    4.6555</td> <td>    2.085</td> <td>    2.233</td> <td> 0.030</td> <td>    0.477     8.834</td>\n",
       "</tr>\n",
       "<tr>\n",
       "  <th>sim2</th>              <td>   -2.8440</td> <td>    3.810</td> <td>   -0.747</td> <td> 0.459</td> <td>  -10.479     4.791</td>\n",
       "</tr>\n",
       "</table>\n",
       "<table class=\"simpletable\">\n",
       "<tr>\n",
       "  <th>Omnibus:</th>       <td> 6.585</td> <th>  Durbin-Watson:     </th> <td>   1.775</td>\n",
       "</tr>\n",
       "<tr>\n",
       "  <th>Prob(Omnibus):</th> <td> 0.037</td> <th>  Jarque-Bera (JB):  </th> <td>   6.519</td>\n",
       "</tr>\n",
       "<tr>\n",
       "  <th>Skew:</th>          <td> 0.788</td> <th>  Prob(JB):          </th> <td>  0.0384</td>\n",
       "</tr>\n",
       "<tr>\n",
       "  <th>Kurtosis:</th>      <td> 2.947</td> <th>  Cond. No.          </th> <td>4.36e+04</td>\n",
       "</tr>\n",
       "</table>"
      ],
      "text/plain": [
       "<class 'statsmodels.iolib.summary.Summary'>\n",
       "\"\"\"\n",
       "                            OLS Regression Results                            \n",
       "==============================================================================\n",
       "Dep. Variable:              Price ($)   R-squared:                       0.204\n",
       "Model:                            OLS   Adj. R-squared:                  0.102\n",
       "Method:                 Least Squares   F-statistic:                     2.011\n",
       "Date:                Thu, 06 Oct 2016   Prob (F-statistic):             0.0700\n",
       "Time:                        13:51:52   Log-Likelihood:                -474.74\n",
       "No. Observations:                  63   AIC:                             965.5\n",
       "Df Residuals:                      55   BIC:                             982.6\n",
       "Df Model:                           7                                         \n",
       "Covariance Type:            nonrobust                                         \n",
       "=====================================================================================\n",
       "                        coef    std err          t      P>|t|      [95.0% Conf. Int.]\n",
       "-------------------------------------------------------------------------------------\n",
       "const             -2526.3269   2315.142     -1.091      0.280     -7165.976  2113.322\n",
       "Screen Size (in.)   -59.8996     97.681     -0.613      0.542      -255.657   135.858\n",
       "Hard drive (GB)       0.6463      0.458      1.411      0.164        -0.272     1.564\n",
       "RAM Memory (GB)      21.7461     73.337      0.297      0.768      -125.225   168.717\n",
       "USB Ports          -208.8800    119.474     -1.748      0.086      -448.311    30.551\n",
       "Weight (oz.)        106.4893    100.426      1.060      0.294       -94.768   307.747\n",
       "sim                   4.6555      2.085      2.233      0.030         0.477     8.834\n",
       "sim2                 -2.8440      3.810     -0.747      0.459       -10.479     4.791\n",
       "==============================================================================\n",
       "Omnibus:                        6.585   Durbin-Watson:                   1.775\n",
       "Prob(Omnibus):                  0.037   Jarque-Bera (JB):                6.519\n",
       "Skew:                           0.788   Prob(JB):                       0.0384\n",
       "Kurtosis:                       2.947   Cond. No.                     4.36e+04\n",
       "==============================================================================\n",
       "\n",
       "Warnings:\n",
       "[1] Standard Errors assume that the covariance matrix of the errors is correctly specified.\n",
       "[2] The condition number is large, 4.36e+04. This might indicate that there are\n",
       "strong multicollinearity or other numerical problems.\n",
       "\"\"\""
      ]
     },
     "execution_count": 13,
     "metadata": {},
     "output_type": "execute_result"
    }
   ],
   "source": [
    "sim2 = numpy.random.poisson(254, 63)\n",
    "\n",
    "\n",
    "# X3 = X2\n",
    "X3['sim2'] = sim2\n",
    "# print(type(X2))\n",
    "y3 = laptops['Price ($)']\n",
    "\n",
    "model3 = sm.OLS(y3, X3)\n",
    "results3 = model3.fit()\n",
    "results3.summary()"
   ]
  },
  {
   "cell_type": "markdown",
   "metadata": {},
   "source": [
    "the simulated values drawn from the poisson distrubition also make for a bad model fit.  \n",
    "\n",
    "old R^2 was: 0.117\n",
    "new R^2 is: 0.118\n",
    "R-squared:\t0.131\n",
    "\n",
    "They both mean that the model fits poorly.  Higher R^2 is better; however, it's higher because we have more variability due to adding another variable.\n",
    "\n",
    "We need to look at adjusted R^2:\n",
    "old:  0.040\n",
    "new:  0.024\n",
    "R-squared:\t0.021\n",
    "\n",
    "When we look at the adjusted R^2, we can see that the new simulated numbers make the fit worse."
   ]
  },
  {
   "cell_type": "markdown",
   "metadata": {},
   "source": [
    "**Question 3**  \n",
    "\n",
    "Squirt Squad is a cleaning service that sends crews to residential homes on either a once-a-month or twice-a-month schedule, depending on the customer’s preference. The owner would like to predict the amount of time required to clean a house based on the square footage of the house, the total number of rooms in the house, the number of bathrooms it has, the size of the cleaning crew, the frequency of the cleaning schedule, and whether or not the household has children. Data can be found in the tables **`squad`** (containing `squad_id`, `home_id`, `crew` and `freq` (0: once-a-month, 1: twice-a-month); **`squad_homes`** (containing `home_id`, `footage`, `rooms`, `baths` and `children` (Squirt Squad assumes the number of children in a house will never change. BONUS: how would you change the schema to account for the possibility that it will?)); and **`squad_times`** (containing `squad_id` and `dt`, `time` and `crew` (redundant with `squad` but included in case the squad size changes)). You will need to construct a three-way join using `home_id` and `squad_id`.\n",
    "\n",
    "a) Construct a regression model using all of the independent variables.  "
   ]
  },
  {
   "cell_type": "markdown",
   "metadata": {},
   "source": [
    "b) Test and interpret the significance of the overall regression model (what is the result of the overall F test)?  "
   ]
  },
  {
   "cell_type": "markdown",
   "metadata": {},
   "source": [
    "c) Interpret the meaning of the regression coefficient for the Rooms, Crew, Children, and Frequency variables.  "
   ]
  },
  {
   "cell_type": "markdown",
   "metadata": {},
   "source": [
    "d) Using the p-values, identify which independent variables are significant (needed).  "
   ]
  },
  {
   "cell_type": "markdown",
   "metadata": {},
   "source": [
    "e) Construct a regression model using only the significant variables found in part d) and predict the average time to clean a house that has 2,250 square feet, 11 total rooms, 3.5 bathrooms, and no children. This house is cleaned once a month with a crew of four employees.  "
   ]
  },
  {
   "cell_type": "markdown",
   "metadata": {},
   "source": [
    "f) Compare the two models you fitted, which one is a better model? Why?"
   ]
  },
  {
   "cell_type": "code",
   "execution_count": 14,
   "metadata": {
    "collapsed": false
   },
   "outputs": [
    {
     "name": "stdout",
     "output_type": "stream",
     "text": [
      "Populating the interactive namespace from numpy and matplotlib\n"
     ]
    },
    {
     "name": "stderr",
     "output_type": "stream",
     "text": [
      "WARNING: pylab import has clobbered these variables: ['sign']\n",
      "`%matplotlib` prevents importing * from pylab and numpy\n"
     ]
    }
   ],
   "source": [
    "%pylab inline\n",
    "\n",
    "import pandas as pd\n",
    "import statsmodels.api as sm\n",
    "import yaml\n",
    "\n",
    "from seaborn import pairplot\n",
    "from sqlalchemy import create_engine\n",
    "\n",
    "pg_creds = yaml.load(open('../../pg_creds.yaml'))['student']\n",
    "\n",
    "engine = create_engine('postgresql://{user}:{password}@{host}:{port}/{dbname}'.format(**pg_creds))\n",
    "\n",
    "squad = pd.read_sql(\"SELECT * FROM squad;\", engine)"
   ]
  },
  {
   "cell_type": "code",
   "execution_count": 15,
   "metadata": {
    "collapsed": false
   },
   "outputs": [
    {
     "data": {
      "text/html": [
       "<div>\n",
       "<table border=\"1\" class=\"dataframe\">\n",
       "  <thead>\n",
       "    <tr style=\"text-align: right;\">\n",
       "      <th></th>\n",
       "      <th>home_id</th>\n",
       "      <th>crew</th>\n",
       "      <th>freq</th>\n",
       "      <th>squad_id</th>\n",
       "    </tr>\n",
       "  </thead>\n",
       "  <tbody>\n",
       "    <tr>\n",
       "      <th>count</th>\n",
       "      <td>70.000000</td>\n",
       "      <td>70.000000</td>\n",
       "      <td>70.000000</td>\n",
       "      <td>70.000000</td>\n",
       "    </tr>\n",
       "    <tr>\n",
       "      <th>mean</th>\n",
       "      <td>34.500000</td>\n",
       "      <td>2.900000</td>\n",
       "      <td>0.485714</td>\n",
       "      <td>35.500000</td>\n",
       "    </tr>\n",
       "    <tr>\n",
       "      <th>std</th>\n",
       "      <td>20.351085</td>\n",
       "      <td>0.617381</td>\n",
       "      <td>0.503405</td>\n",
       "      <td>20.351085</td>\n",
       "    </tr>\n",
       "    <tr>\n",
       "      <th>min</th>\n",
       "      <td>0.000000</td>\n",
       "      <td>2.000000</td>\n",
       "      <td>0.000000</td>\n",
       "      <td>1.000000</td>\n",
       "    </tr>\n",
       "    <tr>\n",
       "      <th>25%</th>\n",
       "      <td>17.250000</td>\n",
       "      <td>3.000000</td>\n",
       "      <td>0.000000</td>\n",
       "      <td>18.250000</td>\n",
       "    </tr>\n",
       "    <tr>\n",
       "      <th>50%</th>\n",
       "      <td>34.500000</td>\n",
       "      <td>3.000000</td>\n",
       "      <td>0.000000</td>\n",
       "      <td>35.500000</td>\n",
       "    </tr>\n",
       "    <tr>\n",
       "      <th>75%</th>\n",
       "      <td>51.750000</td>\n",
       "      <td>3.000000</td>\n",
       "      <td>1.000000</td>\n",
       "      <td>52.750000</td>\n",
       "    </tr>\n",
       "    <tr>\n",
       "      <th>max</th>\n",
       "      <td>69.000000</td>\n",
       "      <td>4.000000</td>\n",
       "      <td>1.000000</td>\n",
       "      <td>70.000000</td>\n",
       "    </tr>\n",
       "  </tbody>\n",
       "</table>\n",
       "</div>"
      ],
      "text/plain": [
       "         home_id       crew       freq   squad_id\n",
       "count  70.000000  70.000000  70.000000  70.000000\n",
       "mean   34.500000   2.900000   0.485714  35.500000\n",
       "std    20.351085   0.617381   0.503405  20.351085\n",
       "min     0.000000   2.000000   0.000000   1.000000\n",
       "25%    17.250000   3.000000   0.000000  18.250000\n",
       "50%    34.500000   3.000000   0.000000  35.500000\n",
       "75%    51.750000   3.000000   1.000000  52.750000\n",
       "max    69.000000   4.000000   1.000000  70.000000"
      ]
     },
     "execution_count": 15,
     "metadata": {},
     "output_type": "execute_result"
    }
   ],
   "source": [
    "squad.head()\n",
    "squad.describe()"
   ]
  },
  {
   "cell_type": "code",
   "execution_count": 16,
   "metadata": {
    "collapsed": true
   },
   "outputs": [],
   "source": [
    "squad_homes = pd.read_sql(\"SELECT * FROM squad_homes;\", engine)\n",
    "squad_times = pd.read_sql(\"SELECT * FROM squad_times;\", engine)"
   ]
  },
  {
   "cell_type": "code",
   "execution_count": 17,
   "metadata": {
    "collapsed": false
   },
   "outputs": [
    {
     "data": {
      "text/plain": [
       "(   home_id  footage  rooms  baths  children\n",
       " 0        0     1548      8    2.0         0\n",
       " 1        1     1599      7    1.5         0\n",
       " 2        2     1630      8    2.0         0\n",
       " 3        3     1640      7    1.5         0\n",
       " 4        4     1711      8    2.5         1,\n",
       "          home_id      footage      rooms      baths   children\n",
       " count  70.000000    70.000000  70.000000  70.000000  70.000000\n",
       " mean   34.500000  2385.300000  10.871429   3.200000   0.471429\n",
       " std    20.351085   422.376175   2.186397   0.873938   0.502787\n",
       " min     0.000000  1548.000000   7.000000   1.500000   0.000000\n",
       " 25%    17.250000  2163.250000   9.000000   2.500000   0.000000\n",
       " 50%    34.500000  2341.500000  11.000000   3.000000   0.000000\n",
       " 75%    51.750000  2595.750000  13.000000   4.000000   1.000000\n",
       " max    69.000000  3517.000000  15.000000   4.500000   1.000000)"
      ]
     },
     "execution_count": 17,
     "metadata": {},
     "output_type": "execute_result"
    }
   ],
   "source": [
    "squad_homes.head(),squad_homes.describe()\n"
   ]
  },
  {
   "cell_type": "code",
   "execution_count": 18,
   "metadata": {
    "collapsed": false
   },
   "outputs": [
    {
     "data": {
      "text/plain": [
       "(   squad_id         dt  time  crew\n",
       " 0         1 2016-09-17   132     3\n",
       " 1         2 2016-09-09   146     2\n",
       " 2         3 2016-09-12   131     3\n",
       " 3         4 2016-09-11   141     3\n",
       " 4         5 2016-09-27   144     3,          squad_id        time        crew\n",
       " count  278.000000  278.000000  278.000000\n",
       " mean    35.679856  150.017986    2.917266\n",
       " std     20.574467   27.716780    0.615964\n",
       " min      1.000000   66.000000    2.000000\n",
       " 25%     18.000000  133.250000    3.000000\n",
       " 50%     35.500000  150.000000    3.000000\n",
       " 75%     53.000000  167.000000    3.000000\n",
       " max     70.000000  241.000000    4.000000)"
      ]
     },
     "execution_count": 18,
     "metadata": {},
     "output_type": "execute_result"
    }
   ],
   "source": [
    "squad_times.head(),squad_times.describe()"
   ]
  },
  {
   "cell_type": "code",
   "execution_count": 19,
   "metadata": {
    "collapsed": false
   },
   "outputs": [
    {
     "data": {
      "text/html": [
       "<div>\n",
       "<table border=\"1\" class=\"dataframe\">\n",
       "  <thead>\n",
       "    <tr style=\"text-align: right;\">\n",
       "      <th></th>\n",
       "      <th>squad_id</th>\n",
       "      <th>dt</th>\n",
       "      <th>time</th>\n",
       "      <th>crew</th>\n",
       "    </tr>\n",
       "  </thead>\n",
       "  <tbody>\n",
       "    <tr>\n",
       "      <th>0</th>\n",
       "      <td>1</td>\n",
       "      <td>2016-09-17</td>\n",
       "      <td>132</td>\n",
       "      <td>3</td>\n",
       "    </tr>\n",
       "    <tr>\n",
       "      <th>1</th>\n",
       "      <td>2</td>\n",
       "      <td>2016-09-09</td>\n",
       "      <td>146</td>\n",
       "      <td>2</td>\n",
       "    </tr>\n",
       "    <tr>\n",
       "      <th>2</th>\n",
       "      <td>3</td>\n",
       "      <td>2016-09-12</td>\n",
       "      <td>131</td>\n",
       "      <td>3</td>\n",
       "    </tr>\n",
       "    <tr>\n",
       "      <th>3</th>\n",
       "      <td>4</td>\n",
       "      <td>2016-09-11</td>\n",
       "      <td>141</td>\n",
       "      <td>3</td>\n",
       "    </tr>\n",
       "    <tr>\n",
       "      <th>4</th>\n",
       "      <td>5</td>\n",
       "      <td>2016-09-27</td>\n",
       "      <td>144</td>\n",
       "      <td>3</td>\n",
       "    </tr>\n",
       "    <tr>\n",
       "      <th>5</th>\n",
       "      <td>6</td>\n",
       "      <td>2016-09-08</td>\n",
       "      <td>162</td>\n",
       "      <td>3</td>\n",
       "    </tr>\n",
       "    <tr>\n",
       "      <th>6</th>\n",
       "      <td>7</td>\n",
       "      <td>2016-09-24</td>\n",
       "      <td>140</td>\n",
       "      <td>4</td>\n",
       "    </tr>\n",
       "    <tr>\n",
       "      <th>7</th>\n",
       "      <td>8</td>\n",
       "      <td>2016-09-18</td>\n",
       "      <td>162</td>\n",
       "      <td>3</td>\n",
       "    </tr>\n",
       "    <tr>\n",
       "      <th>8</th>\n",
       "      <td>9</td>\n",
       "      <td>2016-09-29</td>\n",
       "      <td>138</td>\n",
       "      <td>3</td>\n",
       "    </tr>\n",
       "    <tr>\n",
       "      <th>9</th>\n",
       "      <td>10</td>\n",
       "      <td>2016-09-13</td>\n",
       "      <td>165</td>\n",
       "      <td>2</td>\n",
       "    </tr>\n",
       "    <tr>\n",
       "      <th>10</th>\n",
       "      <td>11</td>\n",
       "      <td>2016-09-13</td>\n",
       "      <td>146</td>\n",
       "      <td>3</td>\n",
       "    </tr>\n",
       "    <tr>\n",
       "      <th>11</th>\n",
       "      <td>12</td>\n",
       "      <td>2016-09-23</td>\n",
       "      <td>77</td>\n",
       "      <td>4</td>\n",
       "    </tr>\n",
       "    <tr>\n",
       "      <th>12</th>\n",
       "      <td>13</td>\n",
       "      <td>2016-09-20</td>\n",
       "      <td>147</td>\n",
       "      <td>3</td>\n",
       "    </tr>\n",
       "    <tr>\n",
       "      <th>13</th>\n",
       "      <td>14</td>\n",
       "      <td>2016-09-10</td>\n",
       "      <td>159</td>\n",
       "      <td>3</td>\n",
       "    </tr>\n",
       "    <tr>\n",
       "      <th>14</th>\n",
       "      <td>15</td>\n",
       "      <td>2016-09-17</td>\n",
       "      <td>160</td>\n",
       "      <td>4</td>\n",
       "    </tr>\n",
       "    <tr>\n",
       "      <th>15</th>\n",
       "      <td>16</td>\n",
       "      <td>2016-09-27</td>\n",
       "      <td>119</td>\n",
       "      <td>2</td>\n",
       "    </tr>\n",
       "    <tr>\n",
       "      <th>16</th>\n",
       "      <td>17</td>\n",
       "      <td>2016-09-25</td>\n",
       "      <td>119</td>\n",
       "      <td>3</td>\n",
       "    </tr>\n",
       "    <tr>\n",
       "      <th>17</th>\n",
       "      <td>18</td>\n",
       "      <td>2016-09-02</td>\n",
       "      <td>112</td>\n",
       "      <td>2</td>\n",
       "    </tr>\n",
       "    <tr>\n",
       "      <th>18</th>\n",
       "      <td>19</td>\n",
       "      <td>2016-09-15</td>\n",
       "      <td>150</td>\n",
       "      <td>3</td>\n",
       "    </tr>\n",
       "    <tr>\n",
       "      <th>19</th>\n",
       "      <td>20</td>\n",
       "      <td>2016-09-20</td>\n",
       "      <td>143</td>\n",
       "      <td>3</td>\n",
       "    </tr>\n",
       "    <tr>\n",
       "      <th>20</th>\n",
       "      <td>21</td>\n",
       "      <td>2016-09-28</td>\n",
       "      <td>163</td>\n",
       "      <td>2</td>\n",
       "    </tr>\n",
       "    <tr>\n",
       "      <th>21</th>\n",
       "      <td>22</td>\n",
       "      <td>2016-09-04</td>\n",
       "      <td>115</td>\n",
       "      <td>4</td>\n",
       "    </tr>\n",
       "    <tr>\n",
       "      <th>22</th>\n",
       "      <td>23</td>\n",
       "      <td>2016-09-26</td>\n",
       "      <td>145</td>\n",
       "      <td>3</td>\n",
       "    </tr>\n",
       "    <tr>\n",
       "      <th>23</th>\n",
       "      <td>24</td>\n",
       "      <td>2016-09-09</td>\n",
       "      <td>125</td>\n",
       "      <td>4</td>\n",
       "    </tr>\n",
       "    <tr>\n",
       "      <th>24</th>\n",
       "      <td>25</td>\n",
       "      <td>2016-09-15</td>\n",
       "      <td>146</td>\n",
       "      <td>3</td>\n",
       "    </tr>\n",
       "    <tr>\n",
       "      <th>25</th>\n",
       "      <td>26</td>\n",
       "      <td>2016-09-26</td>\n",
       "      <td>92</td>\n",
       "      <td>3</td>\n",
       "    </tr>\n",
       "    <tr>\n",
       "      <th>26</th>\n",
       "      <td>27</td>\n",
       "      <td>2016-09-08</td>\n",
       "      <td>172</td>\n",
       "      <td>4</td>\n",
       "    </tr>\n",
       "    <tr>\n",
       "      <th>27</th>\n",
       "      <td>28</td>\n",
       "      <td>2016-09-28</td>\n",
       "      <td>147</td>\n",
       "      <td>3</td>\n",
       "    </tr>\n",
       "    <tr>\n",
       "      <th>28</th>\n",
       "      <td>29</td>\n",
       "      <td>2016-09-15</td>\n",
       "      <td>132</td>\n",
       "      <td>3</td>\n",
       "    </tr>\n",
       "    <tr>\n",
       "      <th>29</th>\n",
       "      <td>30</td>\n",
       "      <td>2016-09-08</td>\n",
       "      <td>148</td>\n",
       "      <td>3</td>\n",
       "    </tr>\n",
       "    <tr>\n",
       "      <th>...</th>\n",
       "      <td>...</td>\n",
       "      <td>...</td>\n",
       "      <td>...</td>\n",
       "      <td>...</td>\n",
       "    </tr>\n",
       "    <tr>\n",
       "      <th>248</th>\n",
       "      <td>41</td>\n",
       "      <td>2016-07-15</td>\n",
       "      <td>158</td>\n",
       "      <td>3</td>\n",
       "    </tr>\n",
       "    <tr>\n",
       "      <th>249</th>\n",
       "      <td>42</td>\n",
       "      <td>2016-07-28</td>\n",
       "      <td>146</td>\n",
       "      <td>3</td>\n",
       "    </tr>\n",
       "    <tr>\n",
       "      <th>250</th>\n",
       "      <td>43</td>\n",
       "      <td>2016-07-10</td>\n",
       "      <td>114</td>\n",
       "      <td>3</td>\n",
       "    </tr>\n",
       "    <tr>\n",
       "      <th>251</th>\n",
       "      <td>44</td>\n",
       "      <td>2016-07-12</td>\n",
       "      <td>202</td>\n",
       "      <td>2</td>\n",
       "    </tr>\n",
       "    <tr>\n",
       "      <th>252</th>\n",
       "      <td>45</td>\n",
       "      <td>2016-08-05</td>\n",
       "      <td>184</td>\n",
       "      <td>2</td>\n",
       "    </tr>\n",
       "    <tr>\n",
       "      <th>253</th>\n",
       "      <td>46</td>\n",
       "      <td>2016-07-18</td>\n",
       "      <td>162</td>\n",
       "      <td>3</td>\n",
       "    </tr>\n",
       "    <tr>\n",
       "      <th>254</th>\n",
       "      <td>47</td>\n",
       "      <td>2016-07-23</td>\n",
       "      <td>101</td>\n",
       "      <td>4</td>\n",
       "    </tr>\n",
       "    <tr>\n",
       "      <th>255</th>\n",
       "      <td>48</td>\n",
       "      <td>2016-08-03</td>\n",
       "      <td>174</td>\n",
       "      <td>3</td>\n",
       "    </tr>\n",
       "    <tr>\n",
       "      <th>256</th>\n",
       "      <td>49</td>\n",
       "      <td>2016-07-28</td>\n",
       "      <td>107</td>\n",
       "      <td>3</td>\n",
       "    </tr>\n",
       "    <tr>\n",
       "      <th>257</th>\n",
       "      <td>50</td>\n",
       "      <td>2016-08-02</td>\n",
       "      <td>160</td>\n",
       "      <td>3</td>\n",
       "    </tr>\n",
       "    <tr>\n",
       "      <th>258</th>\n",
       "      <td>51</td>\n",
       "      <td>2016-07-09</td>\n",
       "      <td>129</td>\n",
       "      <td>3</td>\n",
       "    </tr>\n",
       "    <tr>\n",
       "      <th>259</th>\n",
       "      <td>52</td>\n",
       "      <td>2016-07-21</td>\n",
       "      <td>167</td>\n",
       "      <td>3</td>\n",
       "    </tr>\n",
       "    <tr>\n",
       "      <th>260</th>\n",
       "      <td>53</td>\n",
       "      <td>2016-07-29</td>\n",
       "      <td>130</td>\n",
       "      <td>4</td>\n",
       "    </tr>\n",
       "    <tr>\n",
       "      <th>261</th>\n",
       "      <td>54</td>\n",
       "      <td>2016-07-27</td>\n",
       "      <td>235</td>\n",
       "      <td>2</td>\n",
       "    </tr>\n",
       "    <tr>\n",
       "      <th>262</th>\n",
       "      <td>55</td>\n",
       "      <td>2016-07-22</td>\n",
       "      <td>142</td>\n",
       "      <td>3</td>\n",
       "    </tr>\n",
       "    <tr>\n",
       "      <th>263</th>\n",
       "      <td>56</td>\n",
       "      <td>2016-07-22</td>\n",
       "      <td>132</td>\n",
       "      <td>3</td>\n",
       "    </tr>\n",
       "    <tr>\n",
       "      <th>264</th>\n",
       "      <td>57</td>\n",
       "      <td>2016-07-16</td>\n",
       "      <td>142</td>\n",
       "      <td>3</td>\n",
       "    </tr>\n",
       "    <tr>\n",
       "      <th>265</th>\n",
       "      <td>58</td>\n",
       "      <td>2016-07-27</td>\n",
       "      <td>144</td>\n",
       "      <td>3</td>\n",
       "    </tr>\n",
       "    <tr>\n",
       "      <th>266</th>\n",
       "      <td>59</td>\n",
       "      <td>2016-07-24</td>\n",
       "      <td>168</td>\n",
       "      <td>2</td>\n",
       "    </tr>\n",
       "    <tr>\n",
       "      <th>267</th>\n",
       "      <td>60</td>\n",
       "      <td>2016-08-02</td>\n",
       "      <td>160</td>\n",
       "      <td>4</td>\n",
       "    </tr>\n",
       "    <tr>\n",
       "      <th>268</th>\n",
       "      <td>61</td>\n",
       "      <td>2016-07-19</td>\n",
       "      <td>201</td>\n",
       "      <td>2</td>\n",
       "    </tr>\n",
       "    <tr>\n",
       "      <th>269</th>\n",
       "      <td>62</td>\n",
       "      <td>2016-07-23</td>\n",
       "      <td>174</td>\n",
       "      <td>2</td>\n",
       "    </tr>\n",
       "    <tr>\n",
       "      <th>270</th>\n",
       "      <td>63</td>\n",
       "      <td>2016-07-12</td>\n",
       "      <td>164</td>\n",
       "      <td>3</td>\n",
       "    </tr>\n",
       "    <tr>\n",
       "      <th>271</th>\n",
       "      <td>64</td>\n",
       "      <td>2016-07-24</td>\n",
       "      <td>165</td>\n",
       "      <td>2</td>\n",
       "    </tr>\n",
       "    <tr>\n",
       "      <th>272</th>\n",
       "      <td>65</td>\n",
       "      <td>2016-08-02</td>\n",
       "      <td>143</td>\n",
       "      <td>3</td>\n",
       "    </tr>\n",
       "    <tr>\n",
       "      <th>273</th>\n",
       "      <td>66</td>\n",
       "      <td>2016-07-18</td>\n",
       "      <td>127</td>\n",
       "      <td>2</td>\n",
       "    </tr>\n",
       "    <tr>\n",
       "      <th>274</th>\n",
       "      <td>67</td>\n",
       "      <td>2016-07-23</td>\n",
       "      <td>169</td>\n",
       "      <td>3</td>\n",
       "    </tr>\n",
       "    <tr>\n",
       "      <th>275</th>\n",
       "      <td>68</td>\n",
       "      <td>2016-07-15</td>\n",
       "      <td>172</td>\n",
       "      <td>2</td>\n",
       "    </tr>\n",
       "    <tr>\n",
       "      <th>276</th>\n",
       "      <td>69</td>\n",
       "      <td>2016-07-10</td>\n",
       "      <td>199</td>\n",
       "      <td>3</td>\n",
       "    </tr>\n",
       "    <tr>\n",
       "      <th>277</th>\n",
       "      <td>70</td>\n",
       "      <td>2016-07-26</td>\n",
       "      <td>179</td>\n",
       "      <td>3</td>\n",
       "    </tr>\n",
       "  </tbody>\n",
       "</table>\n",
       "<p>278 rows × 4 columns</p>\n",
       "</div>"
      ],
      "text/plain": [
       "     squad_id         dt  time  crew\n",
       "0           1 2016-09-17   132     3\n",
       "1           2 2016-09-09   146     2\n",
       "2           3 2016-09-12   131     3\n",
       "3           4 2016-09-11   141     3\n",
       "4           5 2016-09-27   144     3\n",
       "5           6 2016-09-08   162     3\n",
       "6           7 2016-09-24   140     4\n",
       "7           8 2016-09-18   162     3\n",
       "8           9 2016-09-29   138     3\n",
       "9          10 2016-09-13   165     2\n",
       "10         11 2016-09-13   146     3\n",
       "11         12 2016-09-23    77     4\n",
       "12         13 2016-09-20   147     3\n",
       "13         14 2016-09-10   159     3\n",
       "14         15 2016-09-17   160     4\n",
       "15         16 2016-09-27   119     2\n",
       "16         17 2016-09-25   119     3\n",
       "17         18 2016-09-02   112     2\n",
       "18         19 2016-09-15   150     3\n",
       "19         20 2016-09-20   143     3\n",
       "20         21 2016-09-28   163     2\n",
       "21         22 2016-09-04   115     4\n",
       "22         23 2016-09-26   145     3\n",
       "23         24 2016-09-09   125     4\n",
       "24         25 2016-09-15   146     3\n",
       "25         26 2016-09-26    92     3\n",
       "26         27 2016-09-08   172     4\n",
       "27         28 2016-09-28   147     3\n",
       "28         29 2016-09-15   132     3\n",
       "29         30 2016-09-08   148     3\n",
       "..        ...        ...   ...   ...\n",
       "248        41 2016-07-15   158     3\n",
       "249        42 2016-07-28   146     3\n",
       "250        43 2016-07-10   114     3\n",
       "251        44 2016-07-12   202     2\n",
       "252        45 2016-08-05   184     2\n",
       "253        46 2016-07-18   162     3\n",
       "254        47 2016-07-23   101     4\n",
       "255        48 2016-08-03   174     3\n",
       "256        49 2016-07-28   107     3\n",
       "257        50 2016-08-02   160     3\n",
       "258        51 2016-07-09   129     3\n",
       "259        52 2016-07-21   167     3\n",
       "260        53 2016-07-29   130     4\n",
       "261        54 2016-07-27   235     2\n",
       "262        55 2016-07-22   142     3\n",
       "263        56 2016-07-22   132     3\n",
       "264        57 2016-07-16   142     3\n",
       "265        58 2016-07-27   144     3\n",
       "266        59 2016-07-24   168     2\n",
       "267        60 2016-08-02   160     4\n",
       "268        61 2016-07-19   201     2\n",
       "269        62 2016-07-23   174     2\n",
       "270        63 2016-07-12   164     3\n",
       "271        64 2016-07-24   165     2\n",
       "272        65 2016-08-02   143     3\n",
       "273        66 2016-07-18   127     2\n",
       "274        67 2016-07-23   169     3\n",
       "275        68 2016-07-15   172     2\n",
       "276        69 2016-07-10   199     3\n",
       "277        70 2016-07-26   179     3\n",
       "\n",
       "[278 rows x 4 columns]"
      ]
     },
     "execution_count": 19,
     "metadata": {},
     "output_type": "execute_result"
    }
   ],
   "source": [
    "squad_times"
   ]
  },
  {
   "cell_type": "code",
   "execution_count": 20,
   "metadata": {
    "collapsed": true
   },
   "outputs": [],
   "source": [
    "squad_table = pd.read_sql(\"SELECT distinct squad_id, count(dt) from squad_times group by squad_id;\", engine)\n"
   ]
  },
  {
   "cell_type": "code",
   "execution_count": 21,
   "metadata": {
    "collapsed": true
   },
   "outputs": [],
   "source": [
    "squad_data = pd.read_sql('select distinct t.Squad_id, t.dt, t.time, s.home_id, s.crew ,s.freq, h.footage, h.rooms, h.baths, max(h.children) as max_children from squad_times t left join squad s on t.squad_id = s.squad_id left join squad_homes h on s.home_id = h.home_id group by t.Squad_id, t.dt, t.time, t.crew, s.home_id, s.crew ,s.freq, h.footage, h.rooms, h.baths;', engine)"
   ]
  },
  {
   "cell_type": "code",
   "execution_count": 22,
   "metadata": {
    "collapsed": false
   },
   "outputs": [
    {
     "data": {
      "text/html": [
       "<div>\n",
       "<table border=\"1\" class=\"dataframe\">\n",
       "  <thead>\n",
       "    <tr style=\"text-align: right;\">\n",
       "      <th></th>\n",
       "      <th>squad_id</th>\n",
       "      <th>dt</th>\n",
       "      <th>time</th>\n",
       "      <th>home_id</th>\n",
       "      <th>crew</th>\n",
       "      <th>freq</th>\n",
       "      <th>footage</th>\n",
       "      <th>rooms</th>\n",
       "      <th>baths</th>\n",
       "      <th>max_children</th>\n",
       "    </tr>\n",
       "  </thead>\n",
       "  <tbody>\n",
       "    <tr>\n",
       "      <th>0</th>\n",
       "      <td>18</td>\n",
       "      <td>2016-07-08</td>\n",
       "      <td>124</td>\n",
       "      <td>17</td>\n",
       "      <td>2</td>\n",
       "      <td>1</td>\n",
       "      <td>2159</td>\n",
       "      <td>9</td>\n",
       "      <td>2.5</td>\n",
       "      <td>0</td>\n",
       "    </tr>\n",
       "    <tr>\n",
       "      <th>1</th>\n",
       "      <td>37</td>\n",
       "      <td>2016-08-18</td>\n",
       "      <td>154</td>\n",
       "      <td>36</td>\n",
       "      <td>3</td>\n",
       "      <td>1</td>\n",
       "      <td>2351</td>\n",
       "      <td>13</td>\n",
       "      <td>3.0</td>\n",
       "      <td>0</td>\n",
       "    </tr>\n",
       "    <tr>\n",
       "      <th>2</th>\n",
       "      <td>63</td>\n",
       "      <td>2016-08-23</td>\n",
       "      <td>169</td>\n",
       "      <td>62</td>\n",
       "      <td>3</td>\n",
       "      <td>1</td>\n",
       "      <td>3007</td>\n",
       "      <td>13</td>\n",
       "      <td>4.0</td>\n",
       "      <td>0</td>\n",
       "    </tr>\n",
       "    <tr>\n",
       "      <th>3</th>\n",
       "      <td>29</td>\n",
       "      <td>2016-09-15</td>\n",
       "      <td>132</td>\n",
       "      <td>28</td>\n",
       "      <td>3</td>\n",
       "      <td>1</td>\n",
       "      <td>2255</td>\n",
       "      <td>10</td>\n",
       "      <td>3.5</td>\n",
       "      <td>0</td>\n",
       "    </tr>\n",
       "    <tr>\n",
       "      <th>4</th>\n",
       "      <td>10</td>\n",
       "      <td>2016-08-30</td>\n",
       "      <td>190</td>\n",
       "      <td>9</td>\n",
       "      <td>2</td>\n",
       "      <td>1</td>\n",
       "      <td>2010</td>\n",
       "      <td>7</td>\n",
       "      <td>2.5</td>\n",
       "      <td>1</td>\n",
       "    </tr>\n",
       "  </tbody>\n",
       "</table>\n",
       "</div>"
      ],
      "text/plain": [
       "   squad_id         dt  time  home_id  crew  freq  footage  rooms  baths  \\\n",
       "0        18 2016-07-08   124       17     2     1     2159      9    2.5   \n",
       "1        37 2016-08-18   154       36     3     1     2351     13    3.0   \n",
       "2        63 2016-08-23   169       62     3     1     3007     13    4.0   \n",
       "3        29 2016-09-15   132       28     3     1     2255     10    3.5   \n",
       "4        10 2016-08-30   190        9     2     1     2010      7    2.5   \n",
       "\n",
       "   max_children  \n",
       "0             0  \n",
       "1             0  \n",
       "2             0  \n",
       "3             0  \n",
       "4             1  "
      ]
     },
     "execution_count": 22,
     "metadata": {},
     "output_type": "execute_result"
    }
   ],
   "source": [
    "squad_data.head()"
   ]
  },
  {
   "cell_type": "code",
   "execution_count": 23,
   "metadata": {
    "collapsed": false
   },
   "outputs": [
    {
     "data": {
      "text/html": [
       "<div>\n",
       "<table border=\"1\" class=\"dataframe\">\n",
       "  <thead>\n",
       "    <tr style=\"text-align: right;\">\n",
       "      <th></th>\n",
       "      <th>squad_id</th>\n",
       "      <th>time</th>\n",
       "      <th>home_id</th>\n",
       "      <th>crew</th>\n",
       "      <th>freq</th>\n",
       "      <th>footage</th>\n",
       "      <th>rooms</th>\n",
       "      <th>baths</th>\n",
       "      <th>max_children</th>\n",
       "    </tr>\n",
       "  </thead>\n",
       "  <tbody>\n",
       "    <tr>\n",
       "      <th>count</th>\n",
       "      <td>278.000000</td>\n",
       "      <td>278.000000</td>\n",
       "      <td>278.000000</td>\n",
       "      <td>278.000000</td>\n",
       "      <td>278.000000</td>\n",
       "      <td>278.000000</td>\n",
       "      <td>278.000000</td>\n",
       "      <td>278.000000</td>\n",
       "      <td>278.000000</td>\n",
       "    </tr>\n",
       "    <tr>\n",
       "      <th>mean</th>\n",
       "      <td>35.679856</td>\n",
       "      <td>150.017986</td>\n",
       "      <td>34.679856</td>\n",
       "      <td>2.917266</td>\n",
       "      <td>0.611511</td>\n",
       "      <td>2388.823741</td>\n",
       "      <td>10.895683</td>\n",
       "      <td>3.215827</td>\n",
       "      <td>0.428058</td>\n",
       "    </tr>\n",
       "    <tr>\n",
       "      <th>std</th>\n",
       "      <td>20.574467</td>\n",
       "      <td>27.716780</td>\n",
       "      <td>20.574467</td>\n",
       "      <td>0.615964</td>\n",
       "      <td>0.488286</td>\n",
       "      <td>434.967464</td>\n",
       "      <td>2.212513</td>\n",
       "      <td>0.880085</td>\n",
       "      <td>0.495690</td>\n",
       "    </tr>\n",
       "    <tr>\n",
       "      <th>min</th>\n",
       "      <td>1.000000</td>\n",
       "      <td>66.000000</td>\n",
       "      <td>0.000000</td>\n",
       "      <td>2.000000</td>\n",
       "      <td>0.000000</td>\n",
       "      <td>1548.000000</td>\n",
       "      <td>7.000000</td>\n",
       "      <td>1.500000</td>\n",
       "      <td>0.000000</td>\n",
       "    </tr>\n",
       "    <tr>\n",
       "      <th>25%</th>\n",
       "      <td>18.000000</td>\n",
       "      <td>133.250000</td>\n",
       "      <td>17.000000</td>\n",
       "      <td>3.000000</td>\n",
       "      <td>0.000000</td>\n",
       "      <td>2159.000000</td>\n",
       "      <td>9.000000</td>\n",
       "      <td>2.500000</td>\n",
       "      <td>0.000000</td>\n",
       "    </tr>\n",
       "    <tr>\n",
       "      <th>50%</th>\n",
       "      <td>35.500000</td>\n",
       "      <td>150.000000</td>\n",
       "      <td>34.500000</td>\n",
       "      <td>3.000000</td>\n",
       "      <td>1.000000</td>\n",
       "      <td>2341.500000</td>\n",
       "      <td>11.000000</td>\n",
       "      <td>3.000000</td>\n",
       "      <td>0.000000</td>\n",
       "    </tr>\n",
       "    <tr>\n",
       "      <th>75%</th>\n",
       "      <td>53.000000</td>\n",
       "      <td>167.000000</td>\n",
       "      <td>52.000000</td>\n",
       "      <td>3.000000</td>\n",
       "      <td>1.000000</td>\n",
       "      <td>2597.000000</td>\n",
       "      <td>13.000000</td>\n",
       "      <td>4.000000</td>\n",
       "      <td>1.000000</td>\n",
       "    </tr>\n",
       "    <tr>\n",
       "      <th>max</th>\n",
       "      <td>70.000000</td>\n",
       "      <td>241.000000</td>\n",
       "      <td>69.000000</td>\n",
       "      <td>4.000000</td>\n",
       "      <td>1.000000</td>\n",
       "      <td>3517.000000</td>\n",
       "      <td>15.000000</td>\n",
       "      <td>4.500000</td>\n",
       "      <td>1.000000</td>\n",
       "    </tr>\n",
       "  </tbody>\n",
       "</table>\n",
       "</div>"
      ],
      "text/plain": [
       "         squad_id        time     home_id        crew        freq  \\\n",
       "count  278.000000  278.000000  278.000000  278.000000  278.000000   \n",
       "mean    35.679856  150.017986   34.679856    2.917266    0.611511   \n",
       "std     20.574467   27.716780   20.574467    0.615964    0.488286   \n",
       "min      1.000000   66.000000    0.000000    2.000000    0.000000   \n",
       "25%     18.000000  133.250000   17.000000    3.000000    0.000000   \n",
       "50%     35.500000  150.000000   34.500000    3.000000    1.000000   \n",
       "75%     53.000000  167.000000   52.000000    3.000000    1.000000   \n",
       "max     70.000000  241.000000   69.000000    4.000000    1.000000   \n",
       "\n",
       "           footage       rooms       baths  max_children  \n",
       "count   278.000000  278.000000  278.000000    278.000000  \n",
       "mean   2388.823741   10.895683    3.215827      0.428058  \n",
       "std     434.967464    2.212513    0.880085      0.495690  \n",
       "min    1548.000000    7.000000    1.500000      0.000000  \n",
       "25%    2159.000000    9.000000    2.500000      0.000000  \n",
       "50%    2341.500000   11.000000    3.000000      0.000000  \n",
       "75%    2597.000000   13.000000    4.000000      1.000000  \n",
       "max    3517.000000   15.000000    4.500000      1.000000  "
      ]
     },
     "execution_count": 23,
     "metadata": {},
     "output_type": "execute_result"
    }
   ],
   "source": [
    "squad_data.describe()"
   ]
  },
  {
   "cell_type": "markdown",
   "metadata": {},
   "source": [
    "Regression model:\n",
    "    \n",
    "$$\\hat{time} = 143.5146  -15.4141 crew  -4.0902 frequency - 0.0048 footage + 6.7580 rooms -5.6075 baths +22.8734 children$$"
   ]
  },
  {
   "cell_type": "code",
   "execution_count": 24,
   "metadata": {
    "collapsed": false
   },
   "outputs": [
    {
     "data": {
      "text/html": [
       "<table class=\"simpletable\">\n",
       "<caption>OLS Regression Results</caption>\n",
       "<tr>\n",
       "  <th>Dep. Variable:</th>          <td>time</td>       <th>  R-squared:         </th> <td>   0.496</td>\n",
       "</tr>\n",
       "<tr>\n",
       "  <th>Model:</th>                   <td>OLS</td>       <th>  Adj. R-squared:    </th> <td>   0.485</td>\n",
       "</tr>\n",
       "<tr>\n",
       "  <th>Method:</th>             <td>Least Squares</td>  <th>  F-statistic:       </th> <td>   44.51</td>\n",
       "</tr>\n",
       "<tr>\n",
       "  <th>Date:</th>             <td>Thu, 06 Oct 2016</td> <th>  Prob (F-statistic):</th> <td>1.02e-37</td>\n",
       "</tr>\n",
       "<tr>\n",
       "  <th>Time:</th>                 <td>13:51:57</td>     <th>  Log-Likelihood:    </th> <td> -1222.2</td>\n",
       "</tr>\n",
       "<tr>\n",
       "  <th>No. Observations:</th>      <td>   278</td>      <th>  AIC:               </th> <td>   2458.</td>\n",
       "</tr>\n",
       "<tr>\n",
       "  <th>Df Residuals:</th>          <td>   271</td>      <th>  BIC:               </th> <td>   2484.</td>\n",
       "</tr>\n",
       "<tr>\n",
       "  <th>Df Model:</th>              <td>     6</td>      <th>                     </th>     <td> </td>   \n",
       "</tr>\n",
       "<tr>\n",
       "  <th>Covariance Type:</th>      <td>nonrobust</td>    <th>                     </th>     <td> </td>   \n",
       "</tr>\n",
       "</table>\n",
       "<table class=\"simpletable\">\n",
       "<tr>\n",
       "        <td></td>          <th>coef</th>     <th>std err</th>      <th>t</th>      <th>P>|t|</th> <th>[95.0% Conf. Int.]</th> \n",
       "</tr>\n",
       "<tr>\n",
       "  <th>const</th>        <td>  143.5146</td> <td>   10.950</td> <td>   13.106</td> <td> 0.000</td> <td>  121.956   165.073</td>\n",
       "</tr>\n",
       "<tr>\n",
       "  <th>crew</th>         <td>  -15.4141</td> <td>    2.026</td> <td>   -7.609</td> <td> 0.000</td> <td>  -19.402   -11.426</td>\n",
       "</tr>\n",
       "<tr>\n",
       "  <th>freq</th>         <td>   -4.0902</td> <td>    2.621</td> <td>   -1.561</td> <td> 0.120</td> <td>   -9.250     1.070</td>\n",
       "</tr>\n",
       "<tr>\n",
       "  <th>footage</th>      <td>   -0.0048</td> <td>    0.006</td> <td>   -0.772</td> <td> 0.441</td> <td>   -0.017     0.007</td>\n",
       "</tr>\n",
       "<tr>\n",
       "  <th>rooms</th>        <td>    6.7580</td> <td>    1.238</td> <td>    5.457</td> <td> 0.000</td> <td>    4.320     9.196</td>\n",
       "</tr>\n",
       "<tr>\n",
       "  <th>baths</th>        <td>   -5.6072</td> <td>    3.247</td> <td>   -1.727</td> <td> 0.085</td> <td>  -12.000     0.786</td>\n",
       "</tr>\n",
       "<tr>\n",
       "  <th>max_children</th> <td>   22.8734</td> <td>    2.618</td> <td>    8.738</td> <td> 0.000</td> <td>   17.720    28.027</td>\n",
       "</tr>\n",
       "</table>\n",
       "<table class=\"simpletable\">\n",
       "<tr>\n",
       "  <th>Omnibus:</th>       <td> 3.347</td> <th>  Durbin-Watson:     </th> <td>   2.010</td>\n",
       "</tr>\n",
       "<tr>\n",
       "  <th>Prob(Omnibus):</th> <td> 0.188</td> <th>  Jarque-Bera (JB):  </th> <td>   3.313</td>\n",
       "</tr>\n",
       "<tr>\n",
       "  <th>Skew:</th>          <td>-0.148</td> <th>  Prob(JB):          </th> <td>   0.191</td>\n",
       "</tr>\n",
       "<tr>\n",
       "  <th>Kurtosis:</th>      <td> 3.446</td> <th>  Cond. No.          </th> <td>2.27e+04</td>\n",
       "</tr>\n",
       "</table>"
      ],
      "text/plain": [
       "<class 'statsmodels.iolib.summary.Summary'>\n",
       "\"\"\"\n",
       "                            OLS Regression Results                            \n",
       "==============================================================================\n",
       "Dep. Variable:                   time   R-squared:                       0.496\n",
       "Model:                            OLS   Adj. R-squared:                  0.485\n",
       "Method:                 Least Squares   F-statistic:                     44.51\n",
       "Date:                Thu, 06 Oct 2016   Prob (F-statistic):           1.02e-37\n",
       "Time:                        13:51:57   Log-Likelihood:                -1222.2\n",
       "No. Observations:                 278   AIC:                             2458.\n",
       "Df Residuals:                     271   BIC:                             2484.\n",
       "Df Model:                           6                                         \n",
       "Covariance Type:            nonrobust                                         \n",
       "================================================================================\n",
       "                   coef    std err          t      P>|t|      [95.0% Conf. Int.]\n",
       "--------------------------------------------------------------------------------\n",
       "const          143.5146     10.950     13.106      0.000       121.956   165.073\n",
       "crew           -15.4141      2.026     -7.609      0.000       -19.402   -11.426\n",
       "freq            -4.0902      2.621     -1.561      0.120        -9.250     1.070\n",
       "footage         -0.0048      0.006     -0.772      0.441        -0.017     0.007\n",
       "rooms            6.7580      1.238      5.457      0.000         4.320     9.196\n",
       "baths           -5.6072      3.247     -1.727      0.085       -12.000     0.786\n",
       "max_children    22.8734      2.618      8.738      0.000        17.720    28.027\n",
       "==============================================================================\n",
       "Omnibus:                        3.347   Durbin-Watson:                   2.010\n",
       "Prob(Omnibus):                  0.188   Jarque-Bera (JB):                3.313\n",
       "Skew:                          -0.148   Prob(JB):                        0.191\n",
       "Kurtosis:                       3.446   Cond. No.                     2.27e+04\n",
       "==============================================================================\n",
       "\n",
       "Warnings:\n",
       "[1] Standard Errors assume that the covariance matrix of the errors is correctly specified.\n",
       "[2] The condition number is large, 2.27e+04. This might indicate that there are\n",
       "strong multicollinearity or other numerical problems.\n",
       "\"\"\""
      ]
     },
     "execution_count": 24,
     "metadata": {},
     "output_type": "execute_result"
    }
   ],
   "source": [
    "X5 = squad_data[['crew','freq','footage','rooms','baths','max_children']]\n",
    "X5 = sm.add_constant(X5)\n",
    "y5 = squad_data['time']\n",
    "\n",
    "model5 = sm.OLS(y5,X5)\n",
    "results5 = model5.fit()\n",
    "results5.summary()"
   ]
  },
  {
   "cell_type": "markdown",
   "metadata": {},
   "source": [
    "part b"
   ]
  },
  {
   "cell_type": "markdown",
   "metadata": {},
   "source": [
    "Ho: All $\\beta$ = 0\n",
    "\n",
    "Ha: At least one $\\beta$ not = 0\n",
    "\n",
    "$\\alpha$ = 0.05\n",
    "\n",
    "Since the p-value of the F-stat (1.02e-37) is less than 0.05, we reject the null hypothesis. At least one of the independent variables is significant to predict time in cleaning a house"
   ]
  },
  {
   "cell_type": "markdown",
   "metadata": {},
   "source": [
    "c) Interpret the meaning of the regression coefficient for the Rooms, Crew, Children, and Frequency variables.  "
   ]
  },
  {
   "cell_type": "markdown",
   "metadata": {},
   "source": [
    "    Keeping all other variables constant, increasing the crew size by 1 decreases cleaning time by 15.41 minutes.\n",
    "    Keeping all other variables constant, increasing the frequency by 1 decreases cleaning time by 4.9 minutes.\n",
    "    Keeping all other variables constant, increasing the footage size by 1 square foot decreases cleaning time by 0.0048 minutes\n",
    "    Keeping all other variables constant, increasing the room count by 1 increases cleaning time by 6.758 minutes.\n",
    "    Keeping all other variables constant, increasing the number of baths by 1 decreases cleaning time by 5.607 minutes.\n",
    "    Keeping all other variables constant, increasing the number of children by 1 increases cleaning time by 22.8734 minutes."
   ]
  },
  {
   "cell_type": "markdown",
   "metadata": {},
   "source": [
    "d) Using the p-values, identify which independent variables are significant (needed).  "
   ]
  },
  {
   "cell_type": "markdown",
   "metadata": {},
   "source": [
    "Based on the p-values only the coefficients for constant, crew, rooms, children are significant"
   ]
  },
  {
   "cell_type": "markdown",
   "metadata": {},
   "source": [
    "e) Construct a regression model using only the significant variables found in part d) and predict the average time to clean a house that has 2,250 square feet, 11 total rooms, 3.5 bathrooms, and no children. This house is cleaned once a month with a crew of four employees.  "
   ]
  },
  {
   "cell_type": "code",
   "execution_count": 25,
   "metadata": {
    "collapsed": false
   },
   "outputs": [
    {
     "data": {
      "text/html": [
       "<table class=\"simpletable\">\n",
       "<caption>OLS Regression Results</caption>\n",
       "<tr>\n",
       "  <th>Dep. Variable:</th>          <td>time</td>       <th>  R-squared:         </th> <td>   0.491</td>\n",
       "</tr>\n",
       "<tr>\n",
       "  <th>Model:</th>                   <td>OLS</td>       <th>  Adj. R-squared:    </th> <td>   0.483</td>\n",
       "</tr>\n",
       "<tr>\n",
       "  <th>Method:</th>             <td>Least Squares</td>  <th>  F-statistic:       </th> <td>   65.76</td>\n",
       "</tr>\n",
       "<tr>\n",
       "  <th>Date:</th>             <td>Thu, 06 Oct 2016</td> <th>  Prob (F-statistic):</th> <td>6.78e-39</td>\n",
       "</tr>\n",
       "<tr>\n",
       "  <th>Time:</th>                 <td>13:51:57</td>     <th>  Log-Likelihood:    </th> <td> -1223.7</td>\n",
       "</tr>\n",
       "<tr>\n",
       "  <th>No. Observations:</th>      <td>   278</td>      <th>  AIC:               </th> <td>   2457.</td>\n",
       "</tr>\n",
       "<tr>\n",
       "  <th>Df Residuals:</th>          <td>   273</td>      <th>  BIC:               </th> <td>   2476.</td>\n",
       "</tr>\n",
       "<tr>\n",
       "  <th>Df Model:</th>              <td>     4</td>      <th>                     </th>     <td> </td>   \n",
       "</tr>\n",
       "<tr>\n",
       "  <th>Covariance Type:</th>      <td>nonrobust</td>    <th>                     </th>     <td> </td>   \n",
       "</tr>\n",
       "</table>\n",
       "<table class=\"simpletable\">\n",
       "<tr>\n",
       "        <td></td>          <th>coef</th>     <th>std err</th>      <th>t</th>      <th>P>|t|</th> <th>[95.0% Conf. Int.]</th> \n",
       "</tr>\n",
       "<tr>\n",
       "  <th>const</th>        <td>  137.1231</td> <td>    9.556</td> <td>   14.349</td> <td> 0.000</td> <td>  118.310   155.936</td>\n",
       "</tr>\n",
       "<tr>\n",
       "  <th>crew</th>         <td>  -15.3603</td> <td>    2.008</td> <td>   -7.650</td> <td> 0.000</td> <td>  -19.313   -11.408</td>\n",
       "</tr>\n",
       "<tr>\n",
       "  <th>rooms</th>        <td>    6.4869</td> <td>    1.137</td> <td>    5.703</td> <td> 0.000</td> <td>    4.248     8.726</td>\n",
       "</tr>\n",
       "<tr>\n",
       "  <th>max_children</th> <td>   24.0843</td> <td>    2.465</td> <td>    9.771</td> <td> 0.000</td> <td>   19.232    28.937</td>\n",
       "</tr>\n",
       "<tr>\n",
       "  <th>baths</th>        <td>   -7.2402</td> <td>    2.836</td> <td>   -2.553</td> <td> 0.011</td> <td>  -12.823    -1.657</td>\n",
       "</tr>\n",
       "</table>\n",
       "<table class=\"simpletable\">\n",
       "<tr>\n",
       "  <th>Omnibus:</th>       <td> 4.085</td> <th>  Durbin-Watson:     </th> <td>   2.000</td>\n",
       "</tr>\n",
       "<tr>\n",
       "  <th>Prob(Omnibus):</th> <td> 0.130</td> <th>  Jarque-Bera (JB):  </th> <td>   4.642</td>\n",
       "</tr>\n",
       "<tr>\n",
       "  <th>Skew:</th>          <td>-0.118</td> <th>  Prob(JB):          </th> <td>  0.0982</td>\n",
       "</tr>\n",
       "<tr>\n",
       "  <th>Kurtosis:</th>      <td> 3.587</td> <th>  Cond. No.          </th> <td>    97.9</td>\n",
       "</tr>\n",
       "</table>"
      ],
      "text/plain": [
       "<class 'statsmodels.iolib.summary.Summary'>\n",
       "\"\"\"\n",
       "                            OLS Regression Results                            \n",
       "==============================================================================\n",
       "Dep. Variable:                   time   R-squared:                       0.491\n",
       "Model:                            OLS   Adj. R-squared:                  0.483\n",
       "Method:                 Least Squares   F-statistic:                     65.76\n",
       "Date:                Thu, 06 Oct 2016   Prob (F-statistic):           6.78e-39\n",
       "Time:                        13:51:57   Log-Likelihood:                -1223.7\n",
       "No. Observations:                 278   AIC:                             2457.\n",
       "Df Residuals:                     273   BIC:                             2476.\n",
       "Df Model:                           4                                         \n",
       "Covariance Type:            nonrobust                                         \n",
       "================================================================================\n",
       "                   coef    std err          t      P>|t|      [95.0% Conf. Int.]\n",
       "--------------------------------------------------------------------------------\n",
       "const          137.1231      9.556     14.349      0.000       118.310   155.936\n",
       "crew           -15.3603      2.008     -7.650      0.000       -19.313   -11.408\n",
       "rooms            6.4869      1.137      5.703      0.000         4.248     8.726\n",
       "max_children    24.0843      2.465      9.771      0.000        19.232    28.937\n",
       "baths           -7.2402      2.836     -2.553      0.011       -12.823    -1.657\n",
       "==============================================================================\n",
       "Omnibus:                        4.085   Durbin-Watson:                   2.000\n",
       "Prob(Omnibus):                  0.130   Jarque-Bera (JB):                4.642\n",
       "Skew:                          -0.118   Prob(JB):                       0.0982\n",
       "Kurtosis:                       3.587   Cond. No.                         97.9\n",
       "==============================================================================\n",
       "\n",
       "Warnings:\n",
       "[1] Standard Errors assume that the covariance matrix of the errors is correctly specified.\n",
       "\"\"\""
      ]
     },
     "execution_count": 25,
     "metadata": {},
     "output_type": "execute_result"
    }
   ],
   "source": [
    "X6 = squad_data[['crew','rooms','max_children', 'baths']]\n",
    "X6 = sm.add_constant(X6)\n",
    "y6 = squad_data['time']\n",
    "\n",
    "model6 = sm.OLS(y6,X6)\n",
    "results6 = model6.fit()\n",
    "results6.summary()\n",
    "\n",
    "#baths was added after step-wise regression"
   ]
  },
  {
   "cell_type": "code",
   "execution_count": 26,
   "metadata": {
    "collapsed": false
   },
   "outputs": [
    {
     "name": "stdout",
     "output_type": "stream",
     "text": [
      "time it takes to clean house, on average, based on parameters given: [ 121.69663826]\n"
     ]
    }
   ],
   "source": [
    "print(\"time it takes to clean house, on average, based on parameters given:\",results6.predict([1,4,11,0,3.5]) )"
   ]
  },
  {
   "cell_type": "markdown",
   "metadata": {},
   "source": [
    "f) Compare the two models you fitted, which one is a better model? Why?"
   ]
  },
  {
   "cell_type": "markdown",
   "metadata": {},
   "source": [
    "The second model is better, because it includes only the variables significant in predicting cleaning time"
   ]
  }
 ],
 "metadata": {
  "anaconda-cloud": {},
  "kernelspec": {
   "display_name": "Python [conda root]",
   "language": "python",
   "name": "conda-root-py"
  },
  "language_info": {
   "codemirror_mode": {
    "name": "ipython",
    "version": 3
   },
   "file_extension": ".py",
   "mimetype": "text/x-python",
   "name": "python",
   "nbconvert_exporter": "python",
   "pygments_lexer": "ipython3",
   "version": "3.5.2"
  }
 },
 "nbformat": 4,
 "nbformat_minor": 0
}
