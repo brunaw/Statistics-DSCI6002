{
 "cells": [
  {
   "cell_type": "markdown",
   "metadata": {},
   "source": [
    "# Lab 6.4: Regression Diagnostics"
   ]
  },
  {
   "cell_type": "markdown",
   "metadata": {},
   "source": [
    "**Question 1**\n",
    "\n",
    "Using the data in https://s3-us-west-2.amazonaws.com/dsci/6002/data/homer.csv :\n",
    "\n",
    "1) Run a multiple regression model of $y$ against all the $x$ variables and then produce the residuals and fitted values. Create the residual diagnostic plot of residuals on the Y axis against the fitted values on the X axis. \n",
    "\n",
    "2) Is the linearity assumption met?  \n",
    "\n",
    "3) Test for non-Normality.  \n",
    "\n",
    "4) Test for heteroskedasticity. "
   ]
  },
  {
   "cell_type": "markdown",
   "metadata": {},
   "source": [
    "Q1. 1)"
   ]
  },
  {
   "cell_type": "code",
   "execution_count": 66,
   "metadata": {
    "collapsed": false
   },
   "outputs": [
    {
     "name": "stdout",
     "output_type": "stream",
     "text": [
      "Populating the interactive namespace from numpy and matplotlib\n"
     ]
    }
   ],
   "source": [
    "%pylab inline\n",
    "\n",
    "import pandas as pd\n",
    "import seaborn as sns\n",
    "import statsmodels as sm\n",
    "import statsmodels.api as sms\n",
    "from statsmodels.formula.api import ols\n",
    "\n",
    "homer = pd.read_csv('https://s3-us-west-2.amazonaws.com/dsci/6002/data/homer.csv')"
   ]
  },
  {
   "cell_type": "code",
   "execution_count": 67,
   "metadata": {
    "collapsed": false
   },
   "outputs": [
    {
     "data": {
      "text/html": [
       "<div>\n",
       "<table border=\"1\" class=\"dataframe\">\n",
       "  <thead>\n",
       "    <tr style=\"text-align: right;\">\n",
       "      <th></th>\n",
       "      <th>y</th>\n",
       "      <th>x1</th>\n",
       "      <th>x2</th>\n",
       "      <th>x3</th>\n",
       "      <th>x4</th>\n",
       "      <th>x5</th>\n",
       "      <th>x6</th>\n",
       "    </tr>\n",
       "  </thead>\n",
       "  <tbody>\n",
       "    <tr>\n",
       "      <th>count</th>\n",
       "      <td>6054.000000</td>\n",
       "      <td>6054.000000</td>\n",
       "      <td>6054.000000</td>\n",
       "      <td>6054.000000</td>\n",
       "      <td>6054.000000</td>\n",
       "      <td>6054.000000</td>\n",
       "      <td>6054.000000</td>\n",
       "    </tr>\n",
       "    <tr>\n",
       "      <th>mean</th>\n",
       "      <td>-0.008547</td>\n",
       "      <td>-0.000027</td>\n",
       "      <td>0.000006</td>\n",
       "      <td>-0.000029</td>\n",
       "      <td>0.000056</td>\n",
       "      <td>0.000028</td>\n",
       "      <td>-0.001640</td>\n",
       "    </tr>\n",
       "    <tr>\n",
       "      <th>std</th>\n",
       "      <td>1.202365</td>\n",
       "      <td>0.033310</td>\n",
       "      <td>0.080791</td>\n",
       "      <td>0.058493</td>\n",
       "      <td>0.156617</td>\n",
       "      <td>0.119564</td>\n",
       "      <td>0.784653</td>\n",
       "    </tr>\n",
       "    <tr>\n",
       "      <th>min</th>\n",
       "      <td>-3.810000</td>\n",
       "      <td>-0.104170</td>\n",
       "      <td>-0.303830</td>\n",
       "      <td>-0.199880</td>\n",
       "      <td>-0.633240</td>\n",
       "      <td>-0.479130</td>\n",
       "      <td>-2.903200</td>\n",
       "    </tr>\n",
       "    <tr>\n",
       "      <th>25%</th>\n",
       "      <td>-0.879910</td>\n",
       "      <td>-0.021885</td>\n",
       "      <td>-0.054038</td>\n",
       "      <td>-0.039078</td>\n",
       "      <td>-0.109588</td>\n",
       "      <td>-0.081435</td>\n",
       "      <td>-0.535820</td>\n",
       "    </tr>\n",
       "    <tr>\n",
       "      <th>50%</th>\n",
       "      <td>-0.066951</td>\n",
       "      <td>-0.000128</td>\n",
       "      <td>0.000113</td>\n",
       "      <td>0.000168</td>\n",
       "      <td>-0.000134</td>\n",
       "      <td>-0.000773</td>\n",
       "      <td>-0.018369</td>\n",
       "    </tr>\n",
       "    <tr>\n",
       "      <th>75%</th>\n",
       "      <td>0.929407</td>\n",
       "      <td>0.022538</td>\n",
       "      <td>0.055230</td>\n",
       "      <td>0.038944</td>\n",
       "      <td>0.107017</td>\n",
       "      <td>0.079743</td>\n",
       "      <td>0.514525</td>\n",
       "    </tr>\n",
       "    <tr>\n",
       "      <th>max</th>\n",
       "      <td>4.035900</td>\n",
       "      <td>0.112820</td>\n",
       "      <td>0.292970</td>\n",
       "      <td>0.199290</td>\n",
       "      <td>0.533080</td>\n",
       "      <td>0.454490</td>\n",
       "      <td>3.619300</td>\n",
       "    </tr>\n",
       "  </tbody>\n",
       "</table>\n",
       "</div>"
      ],
      "text/plain": [
       "                 y           x1           x2           x3           x4  \\\n",
       "count  6054.000000  6054.000000  6054.000000  6054.000000  6054.000000   \n",
       "mean     -0.008547    -0.000027     0.000006    -0.000029     0.000056   \n",
       "std       1.202365     0.033310     0.080791     0.058493     0.156617   \n",
       "min      -3.810000    -0.104170    -0.303830    -0.199880    -0.633240   \n",
       "25%      -0.879910    -0.021885    -0.054038    -0.039078    -0.109588   \n",
       "50%      -0.066951    -0.000128     0.000113     0.000168    -0.000134   \n",
       "75%       0.929407     0.022538     0.055230     0.038944     0.107017   \n",
       "max       4.035900     0.112820     0.292970     0.199290     0.533080   \n",
       "\n",
       "                x5           x6  \n",
       "count  6054.000000  6054.000000  \n",
       "mean      0.000028    -0.001640  \n",
       "std       0.119564     0.784653  \n",
       "min      -0.479130    -2.903200  \n",
       "25%      -0.081435    -0.535820  \n",
       "50%      -0.000773    -0.018369  \n",
       "75%       0.079743     0.514525  \n",
       "max       0.454490     3.619300  "
      ]
     },
     "execution_count": 67,
     "metadata": {},
     "output_type": "execute_result"
    }
   ],
   "source": [
    "homer = homer.dropna()\n",
    "homer.describe()"
   ]
  },
  {
   "cell_type": "code",
   "execution_count": 68,
   "metadata": {
    "collapsed": false
   },
   "outputs": [
    {
     "data": {
      "text/html": [
       "<table class=\"simpletable\">\n",
       "<caption>OLS Regression Results</caption>\n",
       "<tr>\n",
       "  <th>Dep. Variable:</th>            <td>y</td>        <th>  R-squared:         </th> <td>   0.310</td> \n",
       "</tr>\n",
       "<tr>\n",
       "  <th>Model:</th>                   <td>OLS</td>       <th>  Adj. R-squared:    </th> <td>   0.309</td> \n",
       "</tr>\n",
       "<tr>\n",
       "  <th>Method:</th>             <td>Least Squares</td>  <th>  F-statistic:       </th> <td>   452.1</td> \n",
       "</tr>\n",
       "<tr>\n",
       "  <th>Date:</th>             <td>Sun, 09 Oct 2016</td> <th>  Prob (F-statistic):</th>  <td>  0.00</td>  \n",
       "</tr>\n",
       "<tr>\n",
       "  <th>Time:</th>                 <td>15:18:44</td>     <th>  Log-Likelihood:    </th> <td> -8583.7</td> \n",
       "</tr>\n",
       "<tr>\n",
       "  <th>No. Observations:</th>      <td>  6054</td>      <th>  AIC:               </th> <td>1.718e+04</td>\n",
       "</tr>\n",
       "<tr>\n",
       "  <th>Df Residuals:</th>          <td>  6047</td>      <th>  BIC:               </th> <td>1.723e+04</td>\n",
       "</tr>\n",
       "<tr>\n",
       "  <th>Df Model:</th>              <td>     6</td>      <th>                     </th>     <td> </td>    \n",
       "</tr>\n",
       "<tr>\n",
       "  <th>Covariance Type:</th>      <td>nonrobust</td>    <th>                     </th>     <td> </td>    \n",
       "</tr>\n",
       "</table>\n",
       "<table class=\"simpletable\">\n",
       "<tr>\n",
       "      <td></td>         <th>coef</th>     <th>std err</th>      <th>t</th>      <th>P>|t|</th> <th>[95.0% Conf. Int.]</th> \n",
       "</tr>\n",
       "<tr>\n",
       "  <th>Intercept</th> <td>   -0.0069</td> <td>    0.013</td> <td>   -0.534</td> <td> 0.593</td> <td>   -0.032     0.018</td>\n",
       "</tr>\n",
       "<tr>\n",
       "  <th>x1</th>        <td>    4.0686</td> <td>    0.508</td> <td>    8.015</td> <td> 0.000</td> <td>    3.073     5.064</td>\n",
       "</tr>\n",
       "<tr>\n",
       "  <th>x2</th>        <td>    1.1412</td> <td>    0.257</td> <td>    4.442</td> <td> 0.000</td> <td>    0.638     1.645</td>\n",
       "</tr>\n",
       "<tr>\n",
       "  <th>x3</th>        <td>    4.0318</td> <td>    0.358</td> <td>   11.249</td> <td> 0.000</td> <td>    3.329     4.734</td>\n",
       "</tr>\n",
       "<tr>\n",
       "  <th>x4</th>        <td>    0.9373</td> <td>    0.127</td> <td>    7.362</td> <td> 0.000</td> <td>    0.688     1.187</td>\n",
       "</tr>\n",
       "<tr>\n",
       "  <th>x5</th>        <td>    3.9840</td> <td>    0.171</td> <td>   23.316</td> <td> 0.000</td> <td>    3.649     4.319</td>\n",
       "</tr>\n",
       "<tr>\n",
       "  <th>x6</th>        <td>    0.9967</td> <td>    0.022</td> <td>   44.744</td> <td> 0.000</td> <td>    0.953     1.040</td>\n",
       "</tr>\n",
       "</table>\n",
       "<table class=\"simpletable\">\n",
       "<tr>\n",
       "  <th>Omnibus:</th>       <td>635.831</td> <th>  Durbin-Watson:     </th> <td>   1.999</td>\n",
       "</tr>\n",
       "<tr>\n",
       "  <th>Prob(Omnibus):</th> <td> 0.000</td>  <th>  Jarque-Bera (JB):  </th> <td> 184.770</td>\n",
       "</tr>\n",
       "<tr>\n",
       "  <th>Skew:</th>          <td> 0.070</td>  <th>  Prob(JB):          </th> <td>7.54e-41</td>\n",
       "</tr>\n",
       "<tr>\n",
       "  <th>Kurtosis:</th>      <td> 2.156</td>  <th>  Cond. No.          </th> <td>    41.2</td>\n",
       "</tr>\n",
       "</table>"
      ],
      "text/plain": [
       "<class 'statsmodels.iolib.summary.Summary'>\n",
       "\"\"\"\n",
       "                            OLS Regression Results                            \n",
       "==============================================================================\n",
       "Dep. Variable:                      y   R-squared:                       0.310\n",
       "Model:                            OLS   Adj. R-squared:                  0.309\n",
       "Method:                 Least Squares   F-statistic:                     452.1\n",
       "Date:                Sun, 09 Oct 2016   Prob (F-statistic):               0.00\n",
       "Time:                        15:18:44   Log-Likelihood:                -8583.7\n",
       "No. Observations:                6054   AIC:                         1.718e+04\n",
       "Df Residuals:                    6047   BIC:                         1.723e+04\n",
       "Df Model:                           6                                         \n",
       "Covariance Type:            nonrobust                                         \n",
       "==============================================================================\n",
       "                 coef    std err          t      P>|t|      [95.0% Conf. Int.]\n",
       "------------------------------------------------------------------------------\n",
       "Intercept     -0.0069      0.013     -0.534      0.593        -0.032     0.018\n",
       "x1             4.0686      0.508      8.015      0.000         3.073     5.064\n",
       "x2             1.1412      0.257      4.442      0.000         0.638     1.645\n",
       "x3             4.0318      0.358     11.249      0.000         3.329     4.734\n",
       "x4             0.9373      0.127      7.362      0.000         0.688     1.187\n",
       "x5             3.9840      0.171     23.316      0.000         3.649     4.319\n",
       "x6             0.9967      0.022     44.744      0.000         0.953     1.040\n",
       "==============================================================================\n",
       "Omnibus:                      635.831   Durbin-Watson:                   1.999\n",
       "Prob(Omnibus):                  0.000   Jarque-Bera (JB):              184.770\n",
       "Skew:                           0.070   Prob(JB):                     7.54e-41\n",
       "Kurtosis:                       2.156   Cond. No.                         41.2\n",
       "==============================================================================\n",
       "\n",
       "Warnings:\n",
       "[1] Standard Errors assume that the covariance matrix of the errors is correctly specified.\n",
       "\"\"\""
      ]
     },
     "execution_count": 68,
     "metadata": {},
     "output_type": "execute_result"
    }
   ],
   "source": [
    "model1 = ols('y~ x1 + x2 + x3 + x4 + x5 + x6', data=homer)\n",
    "results1 = model1.fit()\n",
    "results1.summary()"
   ]
  },
  {
   "cell_type": "code",
   "execution_count": 69,
   "metadata": {
    "collapsed": false
   },
   "outputs": [
    {
     "data": {
      "image/png": "[encoded data removed]",
      "text/plain": [
       "<matplotlib.figure.Figure at 0x11ca8c080>"
      ]
     },
     "metadata": {},
     "output_type": "display_data"
    }
   ],
   "source": [
    "sns.residplot(results1.fittedvalues, results1.resid)\n",
    "plt.title('Homer')\n",
    "plt.ylabel('Residual')\n",
    "plt.xlabel('Y_hat');"
   ]
  },
  {
   "cell_type": "markdown",
   "metadata": {
    "collapsed": true
   },
   "source": [
    "2)\n",
    ">No, the linearlity assumption is not met because there's an obvious pattern - it's not a cloud of evenly distributed points above and below 0\n",
    "* No obvious pattern  \n",
    "* Residuals unrelated to $X$  "
   ]
  },
  {
   "cell_type": "markdown",
   "metadata": {
    "collapsed": true
   },
   "source": [
    "3) Test for non-normality:\n",
    ">Graphical Methods:\n",
    "* Histogram of residuals\n",
    "* Normal Q-Q plot"
   ]
  },
  {
   "cell_type": "code",
   "execution_count": 70,
   "metadata": {
    "collapsed": false
   },
   "outputs": [
    {
     "data": {
      "image/png": "[encoded data removed]",
      "text/plain": [
       "<matplotlib.figure.Figure at 0x11bec1828>"
      ]
     },
     "metadata": {},
     "output_type": "display_data"
    }
   ],
   "source": [
    "#historgram of residuals\n",
    "hist(results1.resid, bins = 50);"
   ]
  },
  {
   "cell_type": "code",
   "execution_count": 71,
   "metadata": {
    "collapsed": false
   },
   "outputs": [
    {
     "data": {
      "image/png": "[encoded data removed]",
      "text/plain": [
       "<matplotlib.figure.Figure at 0x11b8d52e8>"
      ]
     },
     "metadata": {},
     "output_type": "display_data"
    }
   ],
   "source": [
    "from statsmodels.graphics.gofplots import qqplot\n",
    "\n",
    "# There are various ways of standardizing the residuals \n",
    "# We will use the pearson residuals as the standardized residuals here\n",
    "sres1 = results1.resid_pearson\n",
    "qqplot(sres1)\n",
    "q = linspace(-3, 3)\n",
    "plot(q, q, color='r');"
   ]
  },
  {
   "cell_type": "markdown",
   "metadata": {},
   "source": [
    "based on the graphs, the normality assumption is not met.  Also, the Prob(JB):\t7.54e-41, so we reject the null hypothesis that the residuals are normal.\n",
    "\n",
    "Hence, model fails normality assumption."
   ]
  },
  {
   "cell_type": "markdown",
   "metadata": {},
   "source": [
    "4) Test for heteroskedasticity."
   ]
  },
  {
   "cell_type": "markdown",
   "metadata": {},
   "source": [
    "#### Testing for Heteroskedasticity  \n",
    "\n",
    "There are also numerical tests for heteroskedasticity.  \n",
    "\n",
    "$H_0$: constant variance  \n",
    "\n",
    "$H_1$: non-constant variance  \n",
    "\n",
    "A small p-value gives evidence for non-constant variance (heteroskedasticity)."
   ]
  },
  {
   "cell_type": "code",
   "execution_count": 72,
   "metadata": {
    "collapsed": false
   },
   "outputs": [
    {
     "data": {
      "text/plain": [
       "(53.18148641590016,\n",
       " 1.0785837820695295e-09,\n",
       " 8.9317939885747073,\n",
       " 9.8721073719605556e-10)"
      ]
     },
     "execution_count": 72,
     "metadata": {},
     "output_type": "execute_result"
    }
   ],
   "source": [
    "from statsmodels.stats.diagnostic import het_breushpagan\n",
    "\n",
    "het_breushpagan(results1.resid, results1.model.exog) # the second output gives the p-value of the test"
   ]
  },
  {
   "cell_type": "markdown",
   "metadata": {},
   "source": [
    "based on the results2 test, the p-value is  1.0785837820695295e-09, so we reject the null hypothesis, and so we have evidence to suggest that there is non-constant variance.\n",
    "\n",
    "Hence, the model fails the Homoscedasticity assumption."
   ]
  },
  {
   "cell_type": "markdown",
   "metadata": {},
   "source": [
    "**Question 2**\n",
    "\n",
    "You are given data about the Scottish Hill Climb races in the table `hills` which consists of 4 columns:\n",
    "\n",
    "```\n",
    "Race:     The name of the race (PK)\n",
    "Distance: The distance of the race in miles\n",
    "Climb:    Elevation climbed during race in feet\n",
    "Time:     Record time for race in minutes\n",
    "```"
   ]
  },
  {
   "cell_type": "markdown",
   "metadata": {},
   "source": [
    "1) Explore the data with a scatter matrix and a correlation plot (`statsmodels.graphics.plot_corr`).  \n",
    "\n",
    "   Build a multiple regression model to predict `Time` based on `Distance` and `Time`.\n",
    "   "
   ]
  },
  {
   "cell_type": "code",
   "execution_count": 73,
   "metadata": {
    "collapsed": false
   },
   "outputs": [
    {
     "name": "stdout",
     "output_type": "stream",
     "text": [
      "Populating the interactive namespace from numpy and matplotlib\n"
     ]
    },
    {
     "data": {
      "text/html": [
       "<div>\n",
       "<table border=\"1\" class=\"dataframe\">\n",
       "  <thead>\n",
       "    <tr style=\"text-align: right;\">\n",
       "      <th></th>\n",
       "      <th>Race</th>\n",
       "      <th>Distance</th>\n",
       "      <th>Climb</th>\n",
       "      <th>Time</th>\n",
       "    </tr>\n",
       "  </thead>\n",
       "  <tbody>\n",
       "    <tr>\n",
       "      <th>0</th>\n",
       "      <td>Greenmantle</td>\n",
       "      <td>2.5</td>\n",
       "      <td>650</td>\n",
       "      <td>16.083</td>\n",
       "    </tr>\n",
       "    <tr>\n",
       "      <th>1</th>\n",
       "      <td>Carnethy</td>\n",
       "      <td>6.0</td>\n",
       "      <td>2500</td>\n",
       "      <td>48.350</td>\n",
       "    </tr>\n",
       "    <tr>\n",
       "      <th>2</th>\n",
       "      <td>CraigDunain</td>\n",
       "      <td>6.0</td>\n",
       "      <td>900</td>\n",
       "      <td>33.650</td>\n",
       "    </tr>\n",
       "    <tr>\n",
       "      <th>3</th>\n",
       "      <td>BenRha</td>\n",
       "      <td>7.5</td>\n",
       "      <td>800</td>\n",
       "      <td>45.600</td>\n",
       "    </tr>\n",
       "    <tr>\n",
       "      <th>4</th>\n",
       "      <td>BenLomond</td>\n",
       "      <td>8.0</td>\n",
       "      <td>3070</td>\n",
       "      <td>62.267</td>\n",
       "    </tr>\n",
       "  </tbody>\n",
       "</table>\n",
       "</div>"
      ],
      "text/plain": [
       "          Race  Distance  Climb    Time\n",
       "0  Greenmantle       2.5    650  16.083\n",
       "1     Carnethy       6.0   2500  48.350\n",
       "2  CraigDunain       6.0    900  33.650\n",
       "3       BenRha       7.5    800  45.600\n",
       "4    BenLomond       8.0   3070  62.267"
      ]
     },
     "execution_count": 73,
     "metadata": {},
     "output_type": "execute_result"
    }
   ],
   "source": [
    "%pylab inline\n",
    "\n",
    "import pandas as pd\n",
    "import seaborn as sns\n",
    "import yaml\n",
    "from statsmodels.graphics.gofplots import qqplot\n",
    "from sqlalchemy import create_engine\n",
    "\n",
    "from statsmodels.stats.diagnostic import het_breushpagan\n",
    "from statsmodels.graphics.correlation import plot_corr\n",
    "from statsmodels.graphics.regressionplots import plot_leverage_resid2\n",
    "\n",
    "pg_creds = yaml.load(open('../../pg_creds.yaml'))['student']\n",
    "\n",
    "engine = create_engine('postgresql://{user}:{password}@{host}:{port}/{dbname}'.format(**pg_creds))\n",
    "\n",
    "hills = pd.read_sql(\"SELECT * FROM hills\", engine)\n",
    "hills.head()"
   ]
  },
  {
   "cell_type": "code",
   "execution_count": 74,
   "metadata": {
    "collapsed": false
   },
   "outputs": [
    {
     "data": {
      "text/html": [
       "<div>\n",
       "<table border=\"1\" class=\"dataframe\">\n",
       "  <thead>\n",
       "    <tr style=\"text-align: right;\">\n",
       "      <th></th>\n",
       "      <th>Distance</th>\n",
       "      <th>Climb</th>\n",
       "      <th>Time</th>\n",
       "    </tr>\n",
       "  </thead>\n",
       "  <tbody>\n",
       "    <tr>\n",
       "      <th>count</th>\n",
       "      <td>35.000000</td>\n",
       "      <td>35.000000</td>\n",
       "      <td>35.000000</td>\n",
       "    </tr>\n",
       "    <tr>\n",
       "      <th>mean</th>\n",
       "      <td>7.528571</td>\n",
       "      <td>1815.314286</td>\n",
       "      <td>57.875714</td>\n",
       "    </tr>\n",
       "    <tr>\n",
       "      <th>std</th>\n",
       "      <td>5.523936</td>\n",
       "      <td>1619.150536</td>\n",
       "      <td>50.040716</td>\n",
       "    </tr>\n",
       "    <tr>\n",
       "      <th>min</th>\n",
       "      <td>2.000000</td>\n",
       "      <td>300.000000</td>\n",
       "      <td>15.950000</td>\n",
       "    </tr>\n",
       "    <tr>\n",
       "      <th>25%</th>\n",
       "      <td>4.500000</td>\n",
       "      <td>725.000000</td>\n",
       "      <td>28.000000</td>\n",
       "    </tr>\n",
       "    <tr>\n",
       "      <th>50%</th>\n",
       "      <td>6.000000</td>\n",
       "      <td>1000.000000</td>\n",
       "      <td>39.750000</td>\n",
       "    </tr>\n",
       "    <tr>\n",
       "      <th>75%</th>\n",
       "      <td>8.000000</td>\n",
       "      <td>2200.000000</td>\n",
       "      <td>68.625000</td>\n",
       "    </tr>\n",
       "    <tr>\n",
       "      <th>max</th>\n",
       "      <td>28.000000</td>\n",
       "      <td>7500.000000</td>\n",
       "      <td>204.617000</td>\n",
       "    </tr>\n",
       "  </tbody>\n",
       "</table>\n",
       "</div>"
      ],
      "text/plain": [
       "        Distance        Climb        Time\n",
       "count  35.000000    35.000000   35.000000\n",
       "mean    7.528571  1815.314286   57.875714\n",
       "std     5.523936  1619.150536   50.040716\n",
       "min     2.000000   300.000000   15.950000\n",
       "25%     4.500000   725.000000   28.000000\n",
       "50%     6.000000  1000.000000   39.750000\n",
       "75%     8.000000  2200.000000   68.625000\n",
       "max    28.000000  7500.000000  204.617000"
      ]
     },
     "execution_count": 74,
     "metadata": {},
     "output_type": "execute_result"
    }
   ],
   "source": [
    "hills.describe()"
   ]
  },
  {
   "cell_type": "code",
   "execution_count": 75,
   "metadata": {
    "collapsed": false
   },
   "outputs": [
    {
     "data": {
      "image/png": "[encoded data removed]",
      "text/plain": [
       "<matplotlib.figure.Figure at 0x11bf78208>"
      ]
     },
     "metadata": {},
     "output_type": "display_data"
    }
   ],
   "source": [
    "pd.scatter_matrix(hills, figsize=(17, 10), edgecolor='none', alpha=0.5);"
   ]
  },
  {
   "cell_type": "code",
   "execution_count": 76,
   "metadata": {
    "collapsed": false
   },
   "outputs": [
    {
     "data": {
      "image/png": "[encoded data removed]",
      "text/plain": [
       "<matplotlib.figure.Figure at 0x11ba94d30>"
      ]
     },
     "metadata": {},
     "output_type": "display_data"
    }
   ],
   "source": [
    "sm.graphics.correlation.plot_corr(hills.corr(), xnames = hills.columns.tolist());"
   ]
  },
  {
   "cell_type": "code",
   "execution_count": 123,
   "metadata": {
    "collapsed": false
   },
   "outputs": [
    {
     "data": {
      "text/html": [
       "<table class=\"simpletable\">\n",
       "<caption>OLS Regression Results</caption>\n",
       "<tr>\n",
       "  <th>Dep. Variable:</th>          <td>Time</td>       <th>  R-squared:         </th> <td>   0.919</td>\n",
       "</tr>\n",
       "<tr>\n",
       "  <th>Model:</th>                   <td>OLS</td>       <th>  Adj. R-squared:    </th> <td>   0.914</td>\n",
       "</tr>\n",
       "<tr>\n",
       "  <th>Method:</th>             <td>Least Squares</td>  <th>  F-statistic:       </th> <td>   181.7</td>\n",
       "</tr>\n",
       "<tr>\n",
       "  <th>Date:</th>             <td>Sun, 09 Oct 2016</td> <th>  Prob (F-statistic):</th> <td>3.40e-18</td>\n",
       "</tr>\n",
       "<tr>\n",
       "  <th>Time:</th>                 <td>15:53:49</td>     <th>  Log-Likelihood:    </th> <td> -142.11</td>\n",
       "</tr>\n",
       "<tr>\n",
       "  <th>No. Observations:</th>      <td>    35</td>      <th>  AIC:               </th> <td>   290.2</td>\n",
       "</tr>\n",
       "<tr>\n",
       "  <th>Df Residuals:</th>          <td>    32</td>      <th>  BIC:               </th> <td>   294.9</td>\n",
       "</tr>\n",
       "<tr>\n",
       "  <th>Df Model:</th>              <td>     2</td>      <th>                     </th>     <td> </td>   \n",
       "</tr>\n",
       "<tr>\n",
       "  <th>Covariance Type:</th>      <td>nonrobust</td>    <th>                     </th>     <td> </td>   \n",
       "</tr>\n",
       "</table>\n",
       "<table class=\"simpletable\">\n",
       "<tr>\n",
       "      <td></td>        <th>coef</th>     <th>std err</th>      <th>t</th>      <th>P>|t|</th> <th>[95.0% Conf. Int.]</th> \n",
       "</tr>\n",
       "<tr>\n",
       "  <th>const</th>    <td>   -8.9920</td> <td>    4.303</td> <td>   -2.090</td> <td> 0.045</td> <td>  -17.756    -0.228</td>\n",
       "</tr>\n",
       "<tr>\n",
       "  <th>Distance</th> <td>    6.2180</td> <td>    0.601</td> <td>   10.343</td> <td> 0.000</td> <td>    4.993     7.442</td>\n",
       "</tr>\n",
       "<tr>\n",
       "  <th>Climb</th>    <td>    0.0110</td> <td>    0.002</td> <td>    5.387</td> <td> 0.000</td> <td>    0.007     0.015</td>\n",
       "</tr>\n",
       "</table>\n",
       "<table class=\"simpletable\">\n",
       "<tr>\n",
       "  <th>Omnibus:</th>       <td>47.910</td> <th>  Durbin-Watson:     </th> <td>   2.249</td>\n",
       "</tr>\n",
       "<tr>\n",
       "  <th>Prob(Omnibus):</th> <td> 0.000</td> <th>  Jarque-Bera (JB):  </th> <td> 233.976</td>\n",
       "</tr>\n",
       "<tr>\n",
       "  <th>Skew:</th>          <td> 3.026</td> <th>  Prob(JB):          </th> <td>1.56e-51</td>\n",
       "</tr>\n",
       "<tr>\n",
       "  <th>Kurtosis:</th>      <td>14.127</td> <th>  Cond. No.          </th> <td>4.20e+03</td>\n",
       "</tr>\n",
       "</table>"
      ],
      "text/plain": [
       "<class 'statsmodels.iolib.summary.Summary'>\n",
       "\"\"\"\n",
       "                            OLS Regression Results                            \n",
       "==============================================================================\n",
       "Dep. Variable:                   Time   R-squared:                       0.919\n",
       "Model:                            OLS   Adj. R-squared:                  0.914\n",
       "Method:                 Least Squares   F-statistic:                     181.7\n",
       "Date:                Sun, 09 Oct 2016   Prob (F-statistic):           3.40e-18\n",
       "Time:                        15:53:49   Log-Likelihood:                -142.11\n",
       "No. Observations:                  35   AIC:                             290.2\n",
       "Df Residuals:                      32   BIC:                             294.9\n",
       "Df Model:                           2                                         \n",
       "Covariance Type:            nonrobust                                         \n",
       "==============================================================================\n",
       "                 coef    std err          t      P>|t|      [95.0% Conf. Int.]\n",
       "------------------------------------------------------------------------------\n",
       "const         -8.9920      4.303     -2.090      0.045       -17.756    -0.228\n",
       "Distance       6.2180      0.601     10.343      0.000         4.993     7.442\n",
       "Climb          0.0110      0.002      5.387      0.000         0.007     0.015\n",
       "==============================================================================\n",
       "Omnibus:                       47.910   Durbin-Watson:                   2.249\n",
       "Prob(Omnibus):                  0.000   Jarque-Bera (JB):              233.976\n",
       "Skew:                           3.026   Prob(JB):                     1.56e-51\n",
       "Kurtosis:                      14.127   Cond. No.                     4.20e+03\n",
       "==============================================================================\n",
       "\n",
       "Warnings:\n",
       "[1] Standard Errors assume that the covariance matrix of the errors is correctly specified.\n",
       "[2] The condition number is large, 4.2e+03. This might indicate that there are\n",
       "strong multicollinearity or other numerical problems.\n",
       "\"\"\""
      ]
     },
     "execution_count": 123,
     "metadata": {},
     "output_type": "execute_result"
    }
   ],
   "source": [
    "X2 = hills[['Distance', 'Climb']]\n",
    "X2 = sms.add_constant(X2)\n",
    "y2 = hills['Time']\n",
    "\n",
    "model2 = sms.OLS(y2, X2)\n",
    "results2 = model2.fit()\n",
    "results2.summary()"
   ]
  },
  {
   "cell_type": "markdown",
   "metadata": {},
   "source": [
    "2) Interpret the coefficients of your model. \n",
    ">Based on the OLS result, the coefficient;\n",
    "* For every unit of distance, time increases by 6.2180 units.\n",
    "* For every unit of climb, time increses by 0.0110 units."
   ]
  },
  {
   "cell_type": "markdown",
   "metadata": {},
   "source": [
    "3) Plot the fitted values of the response (`Time`) against the standardized residuals of the model.\n",
    "\n",
    "   **Hint:**\n",
    "   - Use `model.fittedvalues` to get fitted values and `model.resid_pearson` to get the standardized residuals\n",
    " \n",
    "   Does the residual plot appear to fulfill the following assumptions:\n",
    "   - Linearity\n",
    "   - Normality\n",
    "   - Homoscedasticity \n",
    "   \n",
    "   What are the consequences if those assumptions are not met ? \n"
   ]
  },
  {
   "cell_type": "code",
   "execution_count": 124,
   "metadata": {
    "collapsed": false
   },
   "outputs": [
    {
     "data": {
      "image/png": "[encoded data removed]",
      "text/plain": [
       "<matplotlib.figure.Figure at 0x11cbf3828>"
      ]
     },
     "metadata": {},
     "output_type": "display_data"
    }
   ],
   "source": [
    "sns.residplot(results2.fittedvalues, results2.resid_pearson, hills);"
   ]
  },
  {
   "cell_type": "markdown",
   "metadata": {},
   "source": [
    ">There is no linearity."
   ]
  },
  {
   "cell_type": "code",
   "execution_count": 125,
   "metadata": {
    "collapsed": false
   },
   "outputs": [
    {
     "data": {
      "image/png": "[encoded data removed]",
      "text/plain": [
       "<matplotlib.figure.Figure at 0x11cbf0588>"
      ]
     },
     "metadata": {},
     "output_type": "display_data"
    }
   ],
   "source": [
    "res1 = results2.resid\n",
    "hist(res1, bins = 20);"
   ]
  },
  {
   "cell_type": "code",
   "execution_count": 126,
   "metadata": {
    "collapsed": false
   },
   "outputs": [
    {
     "data": {
      "image/png": "[encoded data removed]",
      "text/plain": [
       "<matplotlib.figure.Figure at 0x11cbd1160>"
      ]
     },
     "metadata": {},
     "output_type": "display_data"
    }
   ],
   "source": [
    "sres1 = results2.resid_pearson\n",
    "qqplot(sres1)\n",
    "q = linspace(-3, 3)\n",
    "plot(q, q, color='r');"
   ]
  },
  {
   "cell_type": "markdown",
   "metadata": {},
   "source": [
    ">The shape is non-Normality."
   ]
  },
  {
   "cell_type": "markdown",
   "metadata": {},
   "source": [
    ">Numerical method for normality.\n",
    "* H0  : data is Normally distributed.\n",
    "* Ha  : data is not Normally distributed.\n",
    "<br>\n",
    "A small p-value indicates violation of the Normality assumption.\n",
    "<br>\n",
    ">>Based on the OLS model;\n",
    ">>* Jarque-Bera (JB): 233.976\n",
    ">>* Prob(JB): 1.56e-51\n",
    "<br>\n",
    "The p-value for the Normality test is 1.56e-51, which shows evidence of non-Normality."
   ]
  },
  {
   "cell_type": "markdown",
   "metadata": {},
   "source": [
    ">Numerical tests for heteroskedasticity.\n",
    "* H0 : constant variance\n",
    "* H1 : non-constant variance\n",
    "<br>\n",
    "A small p-value gives evidence for non-constant variance (heteroskedasticity)."
   ]
  },
  {
   "cell_type": "code",
   "execution_count": 127,
   "metadata": {
    "collapsed": false
   },
   "outputs": [
    {
     "data": {
      "text/plain": [
       "(0.3639464134894832,\n",
       " 0.83362367560844775,\n",
       " 0.16812373272512898,\n",
       " 0.84599098763414304)"
      ]
     },
     "execution_count": 127,
     "metadata": {},
     "output_type": "execute_result"
    }
   ],
   "source": [
    "het_breushpagan(results2.resid, results2.model.exog)"
   ]
  },
  {
   "cell_type": "markdown",
   "metadata": {},
   "source": [
    ">The p-value of 0.83362367560844775 is greater than 0.05, so we would reject heteroskedasticity."
   ]
  },
  {
   "cell_type": "code",
   "execution_count": 129,
   "metadata": {
    "collapsed": false
   },
   "outputs": [
    {
     "data": {
      "image/png": "[encoded data removed]",
      "text/plain": [
       "<matplotlib.figure.Figure at 0x11c9dfc18>"
      ]
     },
     "metadata": {},
     "output_type": "display_data"
    }
   ],
   "source": [
    "log_y2 = np.log(y2)\n",
    "model2_log = sms.OLS(log_y2, X2)\n",
    "results2_log = model2_log.fit()\n",
    "\n",
    "sns.residplot(results2_log.fittedvalues, log_y2, hills);"
   ]
  },
  {
   "cell_type": "markdown",
   "metadata": {},
   "source": [
    ">Linearity is improved. \n",
    ">>We visually confirm non homoscedasticity: the variance of small values of the fitted values is higher than the variance of the higher fitted values."
   ]
  },
  {
   "cell_type": "code",
   "execution_count": 130,
   "metadata": {
    "collapsed": false
   },
   "outputs": [
    {
     "data": {
      "text/plain": [
       "(2.1357771585668122,\n",
       " 0.34373351782945255,\n",
       " 1.0398065611332974,\n",
       " 0.36516164777824511)"
      ]
     },
     "execution_count": 130,
     "metadata": {},
     "output_type": "execute_result"
    }
   ],
   "source": [
    "het_breushpagan(results2_log.resid, results2_log.model.exog)"
   ]
  },
  {
   "cell_type": "markdown",
   "metadata": {},
   "source": [
    ">The p-value of 0.34373351782945255 is greater than 0.05, so we would reject heteroskedasticity."
   ]
  },
  {
   "cell_type": "markdown",
   "metadata": {},
   "source": [
    "4) An additional test for Normality of the residuals is the Q-Q plot. If the quantiles of the residuals match that of a Normal distribution, then the residuals are normally distribution. \n",
    "\n",
    "   Import the qq-plot function from statsmodels `from statsmodels.graphics.gofplots import qqplot`.\n",
    "   \n",
    "   Draw a straight line where the quantiles of the residuals are the same as those of a standard Normal distribution.\n",
    "   \n",
    "   The plot you produce should look similar to the one below:\n",
    "   \n",
    "   ![](images/qq.png)\n",
    "   \n",
    "   Do the residuals appear to be Normal ?\n",
    "  \n",
    "   "
   ]
  },
  {
   "cell_type": "code",
   "execution_count": 131,
   "metadata": {
    "collapsed": false
   },
   "outputs": [
    {
     "data": {
      "image/png": "[encoded data removed]",
      "text/plain": [
       "<matplotlib.figure.Figure at 0x117de78d0>"
      ]
     },
     "metadata": {},
     "output_type": "display_data"
    }
   ],
   "source": [
    "sres2 = results2.resid_pearson\n",
    "qqplot(sres2)\n",
    "q = linspace(-3, 3)\n",
    "plot(q, q, color='r');"
   ]
  },
  {
   "cell_type": "markdown",
   "metadata": {},
   "source": [
    ">No, not appear to br Normal."
   ]
  },
  {
   "cell_type": "markdown",
   "metadata": {},
   "source": [
    "5) (Extra Credit) To identify outliers, one can also look at the leverage-residual plot. \n",
    "\n",
    "   Explain what leverage means and how is leverage computed. Is a data point influential if the residual is large but the leverage is low? What about if the residual and leverage are both high?\n",
    "   \n",
    "   Import the leverage-residual plot from statsmodels by `from statsmodels.graphics.regressionplots import plot_leverage_resid2`. You can call it by just feeding in the fitted model.\n",
    "   \n",
    "   ```python\n",
    "   plot_leverage_resid2(model)\n",
    "   ```\n",
    "   \n",
    "   Identify the races where the leverage and residual are high. Comment on the commonalities between those races.\n",
    "   \n",
    "   "
   ]
  },
  {
   "cell_type": "code",
   "execution_count": 133,
   "metadata": {
    "collapsed": false
   },
   "outputs": [
    {
     "data": {
      "image/png": "[encoded data removed]",
      "text/plain": [
       "<matplotlib.figure.Figure at 0x11beaa828>"
      ]
     },
     "metadata": {},
     "output_type": "display_data"
    }
   ],
   "source": [
    "plot_leverage_resid2(results2);"
   ]
  },
  {
   "cell_type": "markdown",
   "metadata": {},
   "source": [
    "There is some outlier; 6, 10 and 17."
   ]
  },
  {
   "cell_type": "markdown",
   "metadata": {},
   "source": [
    "6) (Extra Credit) What are the precautions you need to bare in mind if you were to remove the outliers you have identified in `5.` ?\n",
    "   \n",
    "   Remove the outliers in the dataset and re-run the model. \n",
    "   \n",
    "   Plot the residual plot and Q-Q plot as you have done previously. Comment on the plots.\n",
    "   \n",
    "   Also comment on the fit of the model to the data relative to the first model."
   ]
  },
  {
   "cell_type": "code",
   "execution_count": 135,
   "metadata": {
    "collapsed": false
   },
   "outputs": [
    {
     "data": {
      "text/html": [
       "<div>\n",
       "<table border=\"1\" class=\"dataframe\">\n",
       "  <thead>\n",
       "    <tr style=\"text-align: right;\">\n",
       "      <th></th>\n",
       "      <th>Race</th>\n",
       "      <th>Distance</th>\n",
       "      <th>Climb</th>\n",
       "      <th>Time</th>\n",
       "    </tr>\n",
       "  </thead>\n",
       "  <tbody>\n",
       "    <tr>\n",
       "      <th>0</th>\n",
       "      <td>Greenmantle</td>\n",
       "      <td>2.5</td>\n",
       "      <td>650</td>\n",
       "      <td>16.083</td>\n",
       "    </tr>\n",
       "    <tr>\n",
       "      <th>1</th>\n",
       "      <td>Carnethy</td>\n",
       "      <td>6.0</td>\n",
       "      <td>2500</td>\n",
       "      <td>48.350</td>\n",
       "    </tr>\n",
       "    <tr>\n",
       "      <th>2</th>\n",
       "      <td>CraigDunain</td>\n",
       "      <td>6.0</td>\n",
       "      <td>900</td>\n",
       "      <td>33.650</td>\n",
       "    </tr>\n",
       "    <tr>\n",
       "      <th>3</th>\n",
       "      <td>BenRha</td>\n",
       "      <td>7.5</td>\n",
       "      <td>800</td>\n",
       "      <td>45.600</td>\n",
       "    </tr>\n",
       "    <tr>\n",
       "      <th>4</th>\n",
       "      <td>BenLomond</td>\n",
       "      <td>8.0</td>\n",
       "      <td>3070</td>\n",
       "      <td>62.267</td>\n",
       "    </tr>\n",
       "    <tr>\n",
       "      <th>5</th>\n",
       "      <td>Goatfell</td>\n",
       "      <td>8.0</td>\n",
       "      <td>2866</td>\n",
       "      <td>73.217</td>\n",
       "    </tr>\n",
       "    <tr>\n",
       "      <th>7</th>\n",
       "      <td>Cairnpapple</td>\n",
       "      <td>6.0</td>\n",
       "      <td>800</td>\n",
       "      <td>36.367</td>\n",
       "    </tr>\n",
       "    <tr>\n",
       "      <th>8</th>\n",
       "      <td>Scolty</td>\n",
       "      <td>5.0</td>\n",
       "      <td>800</td>\n",
       "      <td>29.750</td>\n",
       "    </tr>\n",
       "    <tr>\n",
       "      <th>9</th>\n",
       "      <td>Traprain</td>\n",
       "      <td>6.0</td>\n",
       "      <td>650</td>\n",
       "      <td>39.750</td>\n",
       "    </tr>\n",
       "    <tr>\n",
       "      <th>11</th>\n",
       "      <td>Dollar</td>\n",
       "      <td>5.0</td>\n",
       "      <td>2000</td>\n",
       "      <td>43.050</td>\n",
       "    </tr>\n",
       "  </tbody>\n",
       "</table>\n",
       "</div>"
      ],
      "text/plain": [
       "           Race  Distance  Climb    Time\n",
       "0   Greenmantle       2.5    650  16.083\n",
       "1      Carnethy       6.0   2500  48.350\n",
       "2   CraigDunain       6.0    900  33.650\n",
       "3        BenRha       7.5    800  45.600\n",
       "4     BenLomond       8.0   3070  62.267\n",
       "5      Goatfell       8.0   2866  73.217\n",
       "7   Cairnpapple       6.0    800  36.367\n",
       "8        Scolty       5.0    800  29.750\n",
       "9      Traprain       6.0    650  39.750\n",
       "11       Dollar       5.0   2000  43.050"
      ]
     },
     "execution_count": 135,
     "metadata": {},
     "output_type": "execute_result"
    }
   ],
   "source": [
    "hills_new = hills[(hills.index != 6) & (hills.index != 10) & (hills.index != 17)]\n",
    "hills_new.head(n=10)"
   ]
  },
  {
   "cell_type": "code",
   "execution_count": 136,
   "metadata": {
    "collapsed": false
   },
   "outputs": [
    {
     "data": {
      "text/html": [
       "<table class=\"simpletable\">\n",
       "<caption>OLS Regression Results</caption>\n",
       "<tr>\n",
       "  <th>Dep. Variable:</th>          <td>Time</td>       <th>  R-squared:         </th> <td>   0.974</td>\n",
       "</tr>\n",
       "<tr>\n",
       "  <th>Model:</th>                   <td>OLS</td>       <th>  Adj. R-squared:    </th> <td>   0.972</td>\n",
       "</tr>\n",
       "<tr>\n",
       "  <th>Method:</th>             <td>Least Squares</td>  <th>  F-statistic:       </th> <td>   544.1</td>\n",
       "</tr>\n",
       "<tr>\n",
       "  <th>Date:</th>             <td>Sun, 09 Oct 2016</td> <th>  Prob (F-statistic):</th> <td>1.02e-23</td>\n",
       "</tr>\n",
       "<tr>\n",
       "  <th>Time:</th>                 <td>16:01:20</td>     <th>  Log-Likelihood:    </th> <td> -101.92</td>\n",
       "</tr>\n",
       "<tr>\n",
       "  <th>No. Observations:</th>      <td>    32</td>      <th>  AIC:               </th> <td>   209.8</td>\n",
       "</tr>\n",
       "<tr>\n",
       "  <th>Df Residuals:</th>          <td>    29</td>      <th>  BIC:               </th> <td>   214.2</td>\n",
       "</tr>\n",
       "<tr>\n",
       "  <th>Df Model:</th>              <td>     2</td>      <th>                     </th>     <td> </td>   \n",
       "</tr>\n",
       "<tr>\n",
       "  <th>Covariance Type:</th>      <td>nonrobust</td>    <th>                     </th>     <td> </td>   \n",
       "</tr>\n",
       "</table>\n",
       "<table class=\"simpletable\">\n",
       "<tr>\n",
       "      <td></td>        <th>coef</th>     <th>std err</th>      <th>t</th>      <th>P>|t|</th> <th>[95.0% Conf. Int.]</th> \n",
       "</tr>\n",
       "<tr>\n",
       "  <th>const</th>    <td>  -10.7171</td> <td>    2.147</td> <td>   -4.992</td> <td> 0.000</td> <td>  -15.108    -6.326</td>\n",
       "</tr>\n",
       "<tr>\n",
       "  <th>Distance</th> <td>    6.8377</td> <td>    0.467</td> <td>   14.647</td> <td> 0.000</td> <td>    5.883     7.792</td>\n",
       "</tr>\n",
       "<tr>\n",
       "  <th>Climb</th>    <td>    0.0077</td> <td>    0.001</td> <td>    5.374</td> <td> 0.000</td> <td>    0.005     0.011</td>\n",
       "</tr>\n",
       "</table>\n",
       "<table class=\"simpletable\">\n",
       "<tr>\n",
       "  <th>Omnibus:</th>       <td> 5.917</td> <th>  Durbin-Watson:     </th> <td>   1.969</td>\n",
       "</tr>\n",
       "<tr>\n",
       "  <th>Prob(Omnibus):</th> <td> 0.052</td> <th>  Jarque-Bera (JB):  </th> <td>   4.255</td>\n",
       "</tr>\n",
       "<tr>\n",
       "  <th>Skew:</th>          <td> 0.778</td> <th>  Prob(JB):          </th> <td>   0.119</td>\n",
       "</tr>\n",
       "<tr>\n",
       "  <th>Kurtosis:</th>      <td> 3.879</td> <th>  Cond. No.          </th> <td>4.22e+03</td>\n",
       "</tr>\n",
       "</table>"
      ],
      "text/plain": [
       "<class 'statsmodels.iolib.summary.Summary'>\n",
       "\"\"\"\n",
       "                            OLS Regression Results                            \n",
       "==============================================================================\n",
       "Dep. Variable:                   Time   R-squared:                       0.974\n",
       "Model:                            OLS   Adj. R-squared:                  0.972\n",
       "Method:                 Least Squares   F-statistic:                     544.1\n",
       "Date:                Sun, 09 Oct 2016   Prob (F-statistic):           1.02e-23\n",
       "Time:                        16:01:20   Log-Likelihood:                -101.92\n",
       "No. Observations:                  32   AIC:                             209.8\n",
       "Df Residuals:                      29   BIC:                             214.2\n",
       "Df Model:                           2                                         \n",
       "Covariance Type:            nonrobust                                         \n",
       "==============================================================================\n",
       "                 coef    std err          t      P>|t|      [95.0% Conf. Int.]\n",
       "------------------------------------------------------------------------------\n",
       "const        -10.7171      2.147     -4.992      0.000       -15.108    -6.326\n",
       "Distance       6.8377      0.467     14.647      0.000         5.883     7.792\n",
       "Climb          0.0077      0.001      5.374      0.000         0.005     0.011\n",
       "==============================================================================\n",
       "Omnibus:                        5.917   Durbin-Watson:                   1.969\n",
       "Prob(Omnibus):                  0.052   Jarque-Bera (JB):                4.255\n",
       "Skew:                           0.778   Prob(JB):                        0.119\n",
       "Kurtosis:                       3.879   Cond. No.                     4.22e+03\n",
       "==============================================================================\n",
       "\n",
       "Warnings:\n",
       "[1] Standard Errors assume that the covariance matrix of the errors is correctly specified.\n",
       "[2] The condition number is large, 4.22e+03. This might indicate that there are\n",
       "strong multicollinearity or other numerical problems.\n",
       "\"\"\""
      ]
     },
     "execution_count": 136,
     "metadata": {},
     "output_type": "execute_result"
    }
   ],
   "source": [
    "X21 = hills_new[['Distance', 'Climb']]\n",
    "X21 = sms.add_constant(X21)\n",
    "y21 = hills_new['Time']\n",
    "\n",
    "model21 = sms.OLS(y21, X21)\n",
    "results21 = model21.fit()\n",
    "results21.summary()"
   ]
  },
  {
   "cell_type": "markdown",
   "metadata": {},
   "source": [
    ">The model is 97.4% of the variation in Time.\n",
    "<br>\n",
    "The value of Adj. R-squared is greater than original model(0.914). \n",
    "<br>\n",
    "F-statistic is also greater than original model, and p-value is smaller."
   ]
  },
  {
   "cell_type": "code",
   "execution_count": 137,
   "metadata": {
    "collapsed": false,
    "scrolled": true
   },
   "outputs": [
    {
     "data": {
      "image/png": "[encoded data removed]",
      "text/plain": [
       "<matplotlib.figure.Figure at 0x11be54e48>"
      ]
     },
     "metadata": {},
     "output_type": "display_data"
    }
   ],
   "source": [
    "sns.residplot(results21.fittedvalues, results21.resid_pearson, hills_new);"
   ]
  },
  {
   "cell_type": "markdown",
   "metadata": {},
   "source": [
    ">It shows a kind of linearity."
   ]
  },
  {
   "cell_type": "code",
   "execution_count": 138,
   "metadata": {
    "collapsed": false
   },
   "outputs": [
    {
     "data": {
      "image/png": "[encoded data removed]",
      "text/plain": [
       "<matplotlib.figure.Figure at 0x11bea17b8>"
      ]
     },
     "metadata": {},
     "output_type": "display_data"
    }
   ],
   "source": [
    "sres2 = results21.resid_pearson\n",
    "qqplot(sres2)\n",
    "q = linspace(-3, 3)\n",
    "plot(q, q, color='r');"
   ]
  },
  {
   "cell_type": "markdown",
   "metadata": {},
   "source": [
    ">The normality is improved."
   ]
  },
  {
   "cell_type": "markdown",
   "metadata": {},
   "source": [
    "**Question 3**\n",
    "\n",
    "You are given the price and features of some used cars in the tables `car_price` and `car_type`. Car company X want you to build a model to predict car price based on some given features about the car.\n",
    "\n",
    "1) Explore the dataset with a correlation matrix. You should select only numeric columns when you are constructing the correlation matrix.  \n",
    "   ```python\n",
    "   numerics_only = car_price.select_dtypes(['int64', 'float64'])\n",
    "   sm.graphics.plot_corr(numerics_only.corr(), xnames=numerics_only.columns.tolist())\n",
    "   ```\n",
    "\n",
    "   Which 2 variables are strongly multicollinear with each other based on your observation of the correlation matrix ?\n",
    "   \n",
    "   Which one would you choose to put in the model and why (subjective answer)."
   ]
  },
  {
   "cell_type": "code",
   "execution_count": 78,
   "metadata": {
    "collapsed": false
   },
   "outputs": [],
   "source": [
    "car_price = pd.read_sql(\"SELECT * FROM car_price\", engine)\n",
    "car_type = pd.read_sql(\"SELECT * FROM car_type\", engine)\n",
    "car = pd.read_sql(\"SELECT * FROM car_price JOIN car_type USING (make, model, trim)\", engine)"
   ]
  },
  {
   "cell_type": "code",
   "execution_count": 79,
   "metadata": {
    "collapsed": false
   },
   "outputs": [
    {
     "name": "stdout",
     "output_type": "stream",
     "text": [
      "(804, 9)\n",
      "(78, 7)\n"
     ]
    }
   ],
   "source": [
    "print(car_price.shape)\n",
    "print(car_type.shape)"
   ]
  },
  {
   "cell_type": "code",
   "execution_count": 80,
   "metadata": {
    "collapsed": false
   },
   "outputs": [
    {
     "data": {
      "text/html": [
       "<div>\n",
       "<table border=\"1\" class=\"dataframe\">\n",
       "  <thead>\n",
       "    <tr style=\"text-align: right;\">\n",
       "      <th></th>\n",
       "      <th>make</th>\n",
       "      <th>model</th>\n",
       "      <th>trim</th>\n",
       "      <th>car_id</th>\n",
       "      <th>price</th>\n",
       "      <th>mileage</th>\n",
       "      <th>cruise</th>\n",
       "      <th>sound</th>\n",
       "      <th>leather</th>\n",
       "      <th>type</th>\n",
       "      <th>cylinder</th>\n",
       "      <th>liter</th>\n",
       "      <th>doors</th>\n",
       "    </tr>\n",
       "  </thead>\n",
       "  <tbody>\n",
       "    <tr>\n",
       "      <th>0</th>\n",
       "      <td>Buick</td>\n",
       "      <td>Century</td>\n",
       "      <td>Sedan 4D</td>\n",
       "      <td>0</td>\n",
       "      <td>17314.103129</td>\n",
       "      <td>8221</td>\n",
       "      <td>1</td>\n",
       "      <td>1</td>\n",
       "      <td>1</td>\n",
       "      <td>Sedan</td>\n",
       "      <td>6</td>\n",
       "      <td>3.1</td>\n",
       "      <td>4</td>\n",
       "    </tr>\n",
       "    <tr>\n",
       "      <th>1</th>\n",
       "      <td>Buick</td>\n",
       "      <td>Century</td>\n",
       "      <td>Sedan 4D</td>\n",
       "      <td>1</td>\n",
       "      <td>17542.036083</td>\n",
       "      <td>9135</td>\n",
       "      <td>1</td>\n",
       "      <td>1</td>\n",
       "      <td>0</td>\n",
       "      <td>Sedan</td>\n",
       "      <td>6</td>\n",
       "      <td>3.1</td>\n",
       "      <td>4</td>\n",
       "    </tr>\n",
       "    <tr>\n",
       "      <th>2</th>\n",
       "      <td>Buick</td>\n",
       "      <td>Century</td>\n",
       "      <td>Sedan 4D</td>\n",
       "      <td>2</td>\n",
       "      <td>16218.847862</td>\n",
       "      <td>13196</td>\n",
       "      <td>1</td>\n",
       "      <td>1</td>\n",
       "      <td>0</td>\n",
       "      <td>Sedan</td>\n",
       "      <td>6</td>\n",
       "      <td>3.1</td>\n",
       "      <td>4</td>\n",
       "    </tr>\n",
       "    <tr>\n",
       "      <th>3</th>\n",
       "      <td>Buick</td>\n",
       "      <td>Century</td>\n",
       "      <td>Sedan 4D</td>\n",
       "      <td>3</td>\n",
       "      <td>16336.913140</td>\n",
       "      <td>16342</td>\n",
       "      <td>1</td>\n",
       "      <td>0</td>\n",
       "      <td>0</td>\n",
       "      <td>Sedan</td>\n",
       "      <td>6</td>\n",
       "      <td>3.1</td>\n",
       "      <td>4</td>\n",
       "    </tr>\n",
       "    <tr>\n",
       "      <th>4</th>\n",
       "      <td>Buick</td>\n",
       "      <td>Century</td>\n",
       "      <td>Sedan 4D</td>\n",
       "      <td>4</td>\n",
       "      <td>16339.170324</td>\n",
       "      <td>19832</td>\n",
       "      <td>1</td>\n",
       "      <td>0</td>\n",
       "      <td>1</td>\n",
       "      <td>Sedan</td>\n",
       "      <td>6</td>\n",
       "      <td>3.1</td>\n",
       "      <td>4</td>\n",
       "    </tr>\n",
       "  </tbody>\n",
       "</table>\n",
       "</div>"
      ],
      "text/plain": [
       "    make    model      trim  car_id         price  mileage  cruise  sound  \\\n",
       "0  Buick  Century  Sedan 4D       0  17314.103129     8221       1      1   \n",
       "1  Buick  Century  Sedan 4D       1  17542.036083     9135       1      1   \n",
       "2  Buick  Century  Sedan 4D       2  16218.847862    13196       1      1   \n",
       "3  Buick  Century  Sedan 4D       3  16336.913140    16342       1      0   \n",
       "4  Buick  Century  Sedan 4D       4  16339.170324    19832       1      0   \n",
       "\n",
       "   leather   type  cylinder  liter  doors  \n",
       "0        1  Sedan         6    3.1      4  \n",
       "1        0  Sedan         6    3.1      4  \n",
       "2        0  Sedan         6    3.1      4  \n",
       "3        0  Sedan         6    3.1      4  \n",
       "4        1  Sedan         6    3.1      4  "
      ]
     },
     "execution_count": 80,
     "metadata": {},
     "output_type": "execute_result"
    }
   ],
   "source": [
    "car.head()"
   ]
  },
  {
   "cell_type": "code",
   "execution_count": 81,
   "metadata": {
    "collapsed": false
   },
   "outputs": [
    {
     "data": {
      "image/png": "[encoded data removed]",
      "text/plain": [
       "<matplotlib.figure.Figure at 0x117929ac8>"
      ]
     },
     "metadata": {},
     "output_type": "display_data"
    }
   ],
   "source": [
    "numerics_only = car.select_dtypes(['int64', 'float64'])\n",
    "sm.graphics.correlation.plot_corr(numerics_only.corr(), xnames=numerics_only.columns.tolist());"
   ]
  },
  {
   "cell_type": "code",
   "execution_count": 82,
   "metadata": {
    "collapsed": false,
    "scrolled": true
   },
   "outputs": [
    {
     "data": {
      "text/html": [
       "<div>\n",
       "<table border=\"1\" class=\"dataframe\">\n",
       "  <thead>\n",
       "    <tr style=\"text-align: right;\">\n",
       "      <th></th>\n",
       "      <th>car_id</th>\n",
       "      <th>price</th>\n",
       "      <th>mileage</th>\n",
       "      <th>cruise</th>\n",
       "      <th>sound</th>\n",
       "      <th>leather</th>\n",
       "      <th>cylinder</th>\n",
       "      <th>liter</th>\n",
       "      <th>doors</th>\n",
       "    </tr>\n",
       "  </thead>\n",
       "  <tbody>\n",
       "    <tr>\n",
       "      <th>car_id</th>\n",
       "      <td>1.000000</td>\n",
       "      <td>-0.089778</td>\n",
       "      <td>0.035162</td>\n",
       "      <td>-0.060988</td>\n",
       "      <td>-0.109941</td>\n",
       "      <td>-0.081113</td>\n",
       "      <td>-0.374327</td>\n",
       "      <td>-0.296516</td>\n",
       "      <td>-0.140653</td>\n",
       "    </tr>\n",
       "    <tr>\n",
       "      <th>price</th>\n",
       "      <td>-0.089778</td>\n",
       "      <td>1.000000</td>\n",
       "      <td>-0.143051</td>\n",
       "      <td>0.430851</td>\n",
       "      <td>-0.124348</td>\n",
       "      <td>0.157197</td>\n",
       "      <td>0.569086</td>\n",
       "      <td>0.558146</td>\n",
       "      <td>-0.138750</td>\n",
       "    </tr>\n",
       "    <tr>\n",
       "      <th>mileage</th>\n",
       "      <td>0.035162</td>\n",
       "      <td>-0.143051</td>\n",
       "      <td>1.000000</td>\n",
       "      <td>0.025037</td>\n",
       "      <td>-0.026146</td>\n",
       "      <td>0.001005</td>\n",
       "      <td>-0.029461</td>\n",
       "      <td>-0.018641</td>\n",
       "      <td>-0.016944</td>\n",
       "    </tr>\n",
       "    <tr>\n",
       "      <th>cruise</th>\n",
       "      <td>-0.060988</td>\n",
       "      <td>0.430851</td>\n",
       "      <td>0.025037</td>\n",
       "      <td>1.000000</td>\n",
       "      <td>-0.091730</td>\n",
       "      <td>-0.070573</td>\n",
       "      <td>0.354285</td>\n",
       "      <td>0.377509</td>\n",
       "      <td>-0.047674</td>\n",
       "    </tr>\n",
       "    <tr>\n",
       "      <th>sound</th>\n",
       "      <td>-0.109941</td>\n",
       "      <td>-0.124348</td>\n",
       "      <td>-0.026146</td>\n",
       "      <td>-0.091730</td>\n",
       "      <td>1.000000</td>\n",
       "      <td>0.165444</td>\n",
       "      <td>-0.089704</td>\n",
       "      <td>-0.065527</td>\n",
       "      <td>-0.062530</td>\n",
       "    </tr>\n",
       "    <tr>\n",
       "      <th>leather</th>\n",
       "      <td>-0.081113</td>\n",
       "      <td>0.157197</td>\n",
       "      <td>0.001005</td>\n",
       "      <td>-0.070573</td>\n",
       "      <td>0.165444</td>\n",
       "      <td>1.000000</td>\n",
       "      <td>0.075520</td>\n",
       "      <td>0.087332</td>\n",
       "      <td>-0.061969</td>\n",
       "    </tr>\n",
       "    <tr>\n",
       "      <th>cylinder</th>\n",
       "      <td>-0.374327</td>\n",
       "      <td>0.569086</td>\n",
       "      <td>-0.029461</td>\n",
       "      <td>0.354285</td>\n",
       "      <td>-0.089704</td>\n",
       "      <td>0.075520</td>\n",
       "      <td>1.000000</td>\n",
       "      <td>0.957897</td>\n",
       "      <td>0.002206</td>\n",
       "    </tr>\n",
       "    <tr>\n",
       "      <th>liter</th>\n",
       "      <td>-0.296516</td>\n",
       "      <td>0.558146</td>\n",
       "      <td>-0.018641</td>\n",
       "      <td>0.377509</td>\n",
       "      <td>-0.065527</td>\n",
       "      <td>0.087332</td>\n",
       "      <td>0.957897</td>\n",
       "      <td>1.000000</td>\n",
       "      <td>-0.079259</td>\n",
       "    </tr>\n",
       "    <tr>\n",
       "      <th>doors</th>\n",
       "      <td>-0.140653</td>\n",
       "      <td>-0.138750</td>\n",
       "      <td>-0.016944</td>\n",
       "      <td>-0.047674</td>\n",
       "      <td>-0.062530</td>\n",
       "      <td>-0.061969</td>\n",
       "      <td>0.002206</td>\n",
       "      <td>-0.079259</td>\n",
       "      <td>1.000000</td>\n",
       "    </tr>\n",
       "  </tbody>\n",
       "</table>\n",
       "</div>"
      ],
      "text/plain": [
       "            car_id     price   mileage    cruise     sound   leather  \\\n",
       "car_id    1.000000 -0.089778  0.035162 -0.060988 -0.109941 -0.081113   \n",
       "price    -0.089778  1.000000 -0.143051  0.430851 -0.124348  0.157197   \n",
       "mileage   0.035162 -0.143051  1.000000  0.025037 -0.026146  0.001005   \n",
       "cruise   -0.060988  0.430851  0.025037  1.000000 -0.091730 -0.070573   \n",
       "sound    -0.109941 -0.124348 -0.026146 -0.091730  1.000000  0.165444   \n",
       "leather  -0.081113  0.157197  0.001005 -0.070573  0.165444  1.000000   \n",
       "cylinder -0.374327  0.569086 -0.029461  0.354285 -0.089704  0.075520   \n",
       "liter    -0.296516  0.558146 -0.018641  0.377509 -0.065527  0.087332   \n",
       "doors    -0.140653 -0.138750 -0.016944 -0.047674 -0.062530 -0.061969   \n",
       "\n",
       "          cylinder     liter     doors  \n",
       "car_id   -0.374327 -0.296516 -0.140653  \n",
       "price     0.569086  0.558146 -0.138750  \n",
       "mileage  -0.029461 -0.018641 -0.016944  \n",
       "cruise    0.354285  0.377509 -0.047674  \n",
       "sound    -0.089704 -0.065527 -0.062530  \n",
       "leather   0.075520  0.087332 -0.061969  \n",
       "cylinder  1.000000  0.957897  0.002206  \n",
       "liter     0.957897  1.000000 -0.079259  \n",
       "doors     0.002206 -0.079259  1.000000  "
      ]
     },
     "execution_count": 82,
     "metadata": {},
     "output_type": "execute_result"
    }
   ],
   "source": [
    "numerics_only.corr()"
   ]
  },
  {
   "cell_type": "markdown",
   "metadata": {},
   "source": [
    ">cylinder and liter are highly correlated. We will remove cylinder."
   ]
  },
  {
   "cell_type": "markdown",
   "metadata": {},
   "source": [
    "2) Fit a multiple regression model with all the available features to predict price. Check all the assumptions made about the model as you have done previously. Comment on the Q-Q plot and the residual plot.\n",
    "\n",
    "   "
   ]
  },
  {
   "cell_type": "code",
   "execution_count": 83,
   "metadata": {
    "collapsed": false
   },
   "outputs": [
    {
     "data": {
      "text/html": [
       "<table class=\"simpletable\">\n",
       "<caption>OLS Regression Results</caption>\n",
       "<tr>\n",
       "  <th>Dep. Variable:</th>          <td>price</td>      <th>  R-squared:         </th> <td>   0.446</td> \n",
       "</tr>\n",
       "<tr>\n",
       "  <th>Model:</th>                   <td>OLS</td>       <th>  Adj. R-squared:    </th> <td>   0.441</td> \n",
       "</tr>\n",
       "<tr>\n",
       "  <th>Method:</th>             <td>Least Squares</td>  <th>  F-statistic:       </th> <td>   91.64</td> \n",
       "</tr>\n",
       "<tr>\n",
       "  <th>Date:</th>             <td>Sun, 09 Oct 2016</td> <th>  Prob (F-statistic):</th> <td>8.80e-98</td> \n",
       "</tr>\n",
       "<tr>\n",
       "  <th>Time:</th>                 <td>15:18:57</td>     <th>  Log-Likelihood:    </th> <td> -8298.5</td> \n",
       "</tr>\n",
       "<tr>\n",
       "  <th>No. Observations:</th>      <td>   804</td>      <th>  AIC:               </th> <td>1.661e+04</td>\n",
       "</tr>\n",
       "<tr>\n",
       "  <th>Df Residuals:</th>          <td>   796</td>      <th>  BIC:               </th> <td>1.665e+04</td>\n",
       "</tr>\n",
       "<tr>\n",
       "  <th>Df Model:</th>              <td>     7</td>      <th>                     </th>     <td> </td>    \n",
       "</tr>\n",
       "<tr>\n",
       "  <th>Covariance Type:</th>      <td>nonrobust</td>    <th>                     </th>     <td> </td>    \n",
       "</tr>\n",
       "</table>\n",
       "<table class=\"simpletable\">\n",
       "<tr>\n",
       "      <td></td>        <th>coef</th>     <th>std err</th>      <th>t</th>      <th>P>|t|</th> <th>[95.0% Conf. Int.]</th> \n",
       "</tr>\n",
       "<tr>\n",
       "  <th>const</th>    <td> 6758.7551</td> <td> 1876.967</td> <td>    3.601</td> <td> 0.000</td> <td> 3074.365  1.04e+04</td>\n",
       "</tr>\n",
       "<tr>\n",
       "  <th>mileage</th>  <td>   -0.1697</td> <td>    0.032</td> <td>   -5.326</td> <td> 0.000</td> <td>   -0.232    -0.107</td>\n",
       "</tr>\n",
       "<tr>\n",
       "  <th>cruise</th>   <td> 6288.9971</td> <td>  657.992</td> <td>    9.558</td> <td> 0.000</td> <td> 4997.392  7580.602</td>\n",
       "</tr>\n",
       "<tr>\n",
       "  <th>sound</th>    <td>-1993.7953</td> <td>  571.776</td> <td>   -3.487</td> <td> 0.001</td> <td>-3116.162  -871.429</td>\n",
       "</tr>\n",
       "<tr>\n",
       "  <th>leather</th>  <td> 3349.3616</td> <td>  597.681</td> <td>    5.604</td> <td> 0.000</td> <td> 2176.144  4522.579</td>\n",
       "</tr>\n",
       "<tr>\n",
       "  <th>cylinder</th> <td> 3792.3789</td> <td>  683.180</td> <td>    5.551</td> <td> 0.000</td> <td> 2451.332  5133.426</td>\n",
       "</tr>\n",
       "<tr>\n",
       "  <th>liter</th>    <td> -787.2207</td> <td>  867.062</td> <td>   -0.908</td> <td> 0.364</td> <td>-2489.218   914.777</td>\n",
       "</tr>\n",
       "<tr>\n",
       "  <th>doors</th>    <td>-1542.7458</td> <td>  320.456</td> <td>   -4.814</td> <td> 0.000</td> <td>-2171.784  -913.708</td>\n",
       "</tr>\n",
       "</table>\n",
       "<table class=\"simpletable\">\n",
       "<tr>\n",
       "  <th>Omnibus:</th>       <td>135.077</td> <th>  Durbin-Watson:     </th> <td>   0.311</td>\n",
       "</tr>\n",
       "<tr>\n",
       "  <th>Prob(Omnibus):</th> <td> 0.000</td>  <th>  Jarque-Bera (JB):  </th> <td> 226.476</td>\n",
       "</tr>\n",
       "<tr>\n",
       "  <th>Skew:</th>          <td> 1.054</td>  <th>  Prob(JB):          </th> <td>6.63e-50</td>\n",
       "</tr>\n",
       "<tr>\n",
       "  <th>Kurtosis:</th>      <td> 4.523</td>  <th>  Cond. No.          </th> <td>1.61e+05</td>\n",
       "</tr>\n",
       "</table>"
      ],
      "text/plain": [
       "<class 'statsmodels.iolib.summary.Summary'>\n",
       "\"\"\"\n",
       "                            OLS Regression Results                            \n",
       "==============================================================================\n",
       "Dep. Variable:                  price   R-squared:                       0.446\n",
       "Model:                            OLS   Adj. R-squared:                  0.441\n",
       "Method:                 Least Squares   F-statistic:                     91.64\n",
       "Date:                Sun, 09 Oct 2016   Prob (F-statistic):           8.80e-98\n",
       "Time:                        15:18:57   Log-Likelihood:                -8298.5\n",
       "No. Observations:                 804   AIC:                         1.661e+04\n",
       "Df Residuals:                     796   BIC:                         1.665e+04\n",
       "Df Model:                           7                                         \n",
       "Covariance Type:            nonrobust                                         \n",
       "==============================================================================\n",
       "                 coef    std err          t      P>|t|      [95.0% Conf. Int.]\n",
       "------------------------------------------------------------------------------\n",
       "const       6758.7551   1876.967      3.601      0.000      3074.365  1.04e+04\n",
       "mileage       -0.1697      0.032     -5.326      0.000        -0.232    -0.107\n",
       "cruise      6288.9971    657.992      9.558      0.000      4997.392  7580.602\n",
       "sound      -1993.7953    571.776     -3.487      0.001     -3116.162  -871.429\n",
       "leather     3349.3616    597.681      5.604      0.000      2176.144  4522.579\n",
       "cylinder    3792.3789    683.180      5.551      0.000      2451.332  5133.426\n",
       "liter       -787.2207    867.062     -0.908      0.364     -2489.218   914.777\n",
       "doors      -1542.7458    320.456     -4.814      0.000     -2171.784  -913.708\n",
       "==============================================================================\n",
       "Omnibus:                      135.077   Durbin-Watson:                   0.311\n",
       "Prob(Omnibus):                  0.000   Jarque-Bera (JB):              226.476\n",
       "Skew:                           1.054   Prob(JB):                     6.63e-50\n",
       "Kurtosis:                       4.523   Cond. No.                     1.61e+05\n",
       "==============================================================================\n",
       "\n",
       "Warnings:\n",
       "[1] Standard Errors assume that the covariance matrix of the errors is correctly specified.\n",
       "[2] The condition number is large, 1.61e+05. This might indicate that there are\n",
       "strong multicollinearity or other numerical problems.\n",
       "\"\"\""
      ]
     },
     "execution_count": 83,
     "metadata": {},
     "output_type": "execute_result"
    }
   ],
   "source": [
    "X3 = car[['mileage','cruise','sound','leather','cylinder', 'liter','doors']]\n",
    "X3= sms.add_constant(X3)\n",
    "y = car.price\n",
    "\n",
    "model3 = sms.OLS(y,X3)\n",
    "results3 = model3.fit()\n",
    "results3.summary()"
   ]
  },
  {
   "cell_type": "code",
   "execution_count": 84,
   "metadata": {
    "collapsed": false
   },
   "outputs": [
    {
     "data": {
      "image/png": "[encoded data removed]",
      "text/plain": [
       "<matplotlib.figure.Figure at 0x11b88bc50>"
      ]
     },
     "metadata": {},
     "output_type": "display_data"
    }
   ],
   "source": [
    "sns.residplot(results3.fittedvalues, results3.resid);"
   ]
  },
  {
   "cell_type": "markdown",
   "metadata": {},
   "source": [
    ">The residual plot shows no linearity."
   ]
  },
  {
   "cell_type": "code",
   "execution_count": 85,
   "metadata": {
    "collapsed": false
   },
   "outputs": [
    {
     "data": {
      "image/png": "[encoded data removed]",
      "text/plain": [
       "<matplotlib.figure.Figure at 0x11d0033c8>"
      ]
     },
     "metadata": {},
     "output_type": "display_data"
    }
   ],
   "source": [
    "res3 = results3.resid\n",
    "hist(res3, bins=20);"
   ]
  },
  {
   "cell_type": "code",
   "execution_count": 86,
   "metadata": {
    "collapsed": false
   },
   "outputs": [
    {
     "data": {
      "image/png": "[encoded data removed]",
      "text/plain": [
       "<matplotlib.figure.Figure at 0x11bdffc88>"
      ]
     },
     "metadata": {},
     "output_type": "display_data"
    }
   ],
   "source": [
    "sres3 = results3.resid_pearson\n",
    "qqplot(sres3)\n",
    "q = linspace(-3, 3)\n",
    "plot(q, q, color='r')\n",
    "show()"
   ]
  },
  {
   "cell_type": "markdown",
   "metadata": {},
   "source": [
    ">It shows non Normality."
   ]
  },
  {
   "cell_type": "markdown",
   "metadata": {},
   "source": [
    "3) One of the remedies to heteroskedastic residuals is to take the log of the response. Log the response and re-run the model and check the assumptions again.\n",
    "\n",
    "   "
   ]
  },
  {
   "cell_type": "code",
   "execution_count": 87,
   "metadata": {
    "collapsed": false
   },
   "outputs": [
    {
     "data": {
      "text/html": [
       "<table class=\"simpletable\">\n",
       "<caption>OLS Regression Results</caption>\n",
       "<tr>\n",
       "  <th>Dep. Variable:</th>          <td>price</td>      <th>  R-squared:         </th> <td>   0.486</td> \n",
       "</tr>\n",
       "<tr>\n",
       "  <th>Model:</th>                   <td>OLS</td>       <th>  Adj. R-squared:    </th> <td>   0.482</td> \n",
       "</tr>\n",
       "<tr>\n",
       "  <th>Method:</th>             <td>Least Squares</td>  <th>  F-statistic:       </th> <td>   107.6</td> \n",
       "</tr>\n",
       "<tr>\n",
       "  <th>Date:</th>             <td>Sun, 09 Oct 2016</td> <th>  Prob (F-statistic):</th> <td>1.18e-110</td>\n",
       "</tr>\n",
       "<tr>\n",
       "  <th>Time:</th>                 <td>15:19:02</td>     <th>  Log-Likelihood:    </th> <td> -155.94</td> \n",
       "</tr>\n",
       "<tr>\n",
       "  <th>No. Observations:</th>      <td>   804</td>      <th>  AIC:               </th> <td>   327.9</td> \n",
       "</tr>\n",
       "<tr>\n",
       "  <th>Df Residuals:</th>          <td>   796</td>      <th>  BIC:               </th> <td>   365.4</td> \n",
       "</tr>\n",
       "<tr>\n",
       "  <th>Df Model:</th>              <td>     7</td>      <th>                     </th>     <td> </td>    \n",
       "</tr>\n",
       "<tr>\n",
       "  <th>Covariance Type:</th>      <td>nonrobust</td>    <th>                     </th>     <td> </td>    \n",
       "</tr>\n",
       "</table>\n",
       "<table class=\"simpletable\">\n",
       "<tr>\n",
       "      <td></td>        <th>coef</th>     <th>std err</th>      <th>t</th>      <th>P>|t|</th> <th>[95.0% Conf. Int.]</th> \n",
       "</tr>\n",
       "<tr>\n",
       "  <th>const</th>    <td>    9.2507</td> <td>    0.075</td> <td>  123.331</td> <td> 0.000</td> <td>    9.103     9.398</td>\n",
       "</tr>\n",
       "<tr>\n",
       "  <th>mileage</th>  <td>-7.451e-06</td> <td> 1.27e-06</td> <td>   -5.849</td> <td> 0.000</td> <td>-9.95e-06 -4.95e-06</td>\n",
       "</tr>\n",
       "<tr>\n",
       "  <th>cruise</th>   <td>    0.3134</td> <td>    0.026</td> <td>   11.918</td> <td> 0.000</td> <td>    0.262     0.365</td>\n",
       "</tr>\n",
       "<tr>\n",
       "  <th>sound</th>    <td>   -0.0899</td> <td>    0.023</td> <td>   -3.936</td> <td> 0.000</td> <td>   -0.135    -0.045</td>\n",
       "</tr>\n",
       "<tr>\n",
       "  <th>leather</th>  <td>    0.1194</td> <td>    0.024</td> <td>    5.001</td> <td> 0.000</td> <td>    0.073     0.166</td>\n",
       "</tr>\n",
       "<tr>\n",
       "  <th>cylinder</th> <td>    0.0774</td> <td>    0.027</td> <td>    2.834</td> <td> 0.005</td> <td>    0.024     0.131</td>\n",
       "</tr>\n",
       "<tr>\n",
       "  <th>liter</th>    <td>    0.0702</td> <td>    0.035</td> <td>    2.027</td> <td> 0.043</td> <td>    0.002     0.138</td>\n",
       "</tr>\n",
       "<tr>\n",
       "  <th>doors</th>    <td>   -0.0300</td> <td>    0.013</td> <td>   -2.346</td> <td> 0.019</td> <td>   -0.055    -0.005</td>\n",
       "</tr>\n",
       "</table>\n",
       "<table class=\"simpletable\">\n",
       "<tr>\n",
       "  <th>Omnibus:</th>       <td>47.642</td> <th>  Durbin-Watson:     </th> <td>   0.367</td>\n",
       "</tr>\n",
       "<tr>\n",
       "  <th>Prob(Omnibus):</th> <td> 0.000</td> <th>  Jarque-Bera (JB):  </th> <td>  47.965</td>\n",
       "</tr>\n",
       "<tr>\n",
       "  <th>Skew:</th>          <td> 0.554</td> <th>  Prob(JB):          </th> <td>3.84e-11</td>\n",
       "</tr>\n",
       "<tr>\n",
       "  <th>Kurtosis:</th>      <td> 2.550</td> <th>  Cond. No.          </th> <td>1.61e+05</td>\n",
       "</tr>\n",
       "</table>"
      ],
      "text/plain": [
       "<class 'statsmodels.iolib.summary.Summary'>\n",
       "\"\"\"\n",
       "                            OLS Regression Results                            \n",
       "==============================================================================\n",
       "Dep. Variable:                  price   R-squared:                       0.486\n",
       "Model:                            OLS   Adj. R-squared:                  0.482\n",
       "Method:                 Least Squares   F-statistic:                     107.6\n",
       "Date:                Sun, 09 Oct 2016   Prob (F-statistic):          1.18e-110\n",
       "Time:                        15:19:02   Log-Likelihood:                -155.94\n",
       "No. Observations:                 804   AIC:                             327.9\n",
       "Df Residuals:                     796   BIC:                             365.4\n",
       "Df Model:                           7                                         \n",
       "Covariance Type:            nonrobust                                         \n",
       "==============================================================================\n",
       "                 coef    std err          t      P>|t|      [95.0% Conf. Int.]\n",
       "------------------------------------------------------------------------------\n",
       "const          9.2507      0.075    123.331      0.000         9.103     9.398\n",
       "mileage    -7.451e-06   1.27e-06     -5.849      0.000     -9.95e-06 -4.95e-06\n",
       "cruise         0.3134      0.026     11.918      0.000         0.262     0.365\n",
       "sound         -0.0899      0.023     -3.936      0.000        -0.135    -0.045\n",
       "leather        0.1194      0.024      5.001      0.000         0.073     0.166\n",
       "cylinder       0.0774      0.027      2.834      0.005         0.024     0.131\n",
       "liter          0.0702      0.035      2.027      0.043         0.002     0.138\n",
       "doors         -0.0300      0.013     -2.346      0.019        -0.055    -0.005\n",
       "==============================================================================\n",
       "Omnibus:                       47.642   Durbin-Watson:                   0.367\n",
       "Prob(Omnibus):                  0.000   Jarque-Bera (JB):               47.965\n",
       "Skew:                           0.554   Prob(JB):                     3.84e-11\n",
       "Kurtosis:                       2.550   Cond. No.                     1.61e+05\n",
       "==============================================================================\n",
       "\n",
       "Warnings:\n",
       "[1] Standard Errors assume that the covariance matrix of the errors is correctly specified.\n",
       "[2] The condition number is large, 1.61e+05. This might indicate that there are\n",
       "strong multicollinearity or other numerical problems.\n",
       "\"\"\""
      ]
     },
     "execution_count": 87,
     "metadata": {},
     "output_type": "execute_result"
    }
   ],
   "source": [
    "log_y = np.log(y)\n",
    "\n",
    "model_log = sms.OLS(log_y, X3)\n",
    "results_log = model_log.fit()\n",
    "results_log.summary()"
   ]
  },
  {
   "cell_type": "code",
   "execution_count": 88,
   "metadata": {
    "collapsed": false
   },
   "outputs": [
    {
     "data": {
      "image/png": "[encoded data removed]",
      "text/plain": [
       "<matplotlib.figure.Figure at 0x11d0945c0>"
      ]
     },
     "metadata": {},
     "output_type": "display_data"
    }
   ],
   "source": [
    "sns.residplot(results_log.fittedvalues, results_log.resid_pearson);"
   ]
  },
  {
   "cell_type": "code",
   "execution_count": 90,
   "metadata": {
    "collapsed": false
   },
   "outputs": [
    {
     "data": {
      "image/png": "[encoded data removed]",
      "text/plain": [
       "<matplotlib.figure.Figure at 0x11ca9b5f8>"
      ]
     },
     "metadata": {},
     "output_type": "display_data"
    }
   ],
   "source": [
    "results_log = results_log.resid_pearson\n",
    "hist(results_log, bins=20);"
   ]
  },
  {
   "cell_type": "code",
   "execution_count": 89,
   "metadata": {
    "collapsed": false,
    "scrolled": true
   },
   "outputs": [
    {
     "data": {
      "image/png": "[encoded data removed]",
      "text/plain": [
       "<matplotlib.figure.Figure at 0x11beaa4a8>"
      ]
     },
     "metadata": {},
     "output_type": "display_data"
    }
   ],
   "source": [
    "sres4 = results_log.resid_pearson\n",
    "qqplot(sres4)\n",
    "q = linspace(-3, 3)\n",
    "plot(q, q, color='r')\n",
    "show()"
   ]
  },
  {
   "cell_type": "markdown",
   "metadata": {},
   "source": [
    ">The normality is improved."
   ]
  },
  {
   "cell_type": "markdown",
   "metadata": {},
   "source": [
    "We can see improved linearity, heteroskedastic.\n",
    "\n",
    "$H_0$: constant variance  \n",
    "\n",
    "$H_1$: non-constant variance  \n",
    "\n",
    "A small p-value gives evidence for non-constant variance (heteroskedasticity)."
   ]
  },
  {
   "cell_type": "code",
   "execution_count": 93,
   "metadata": {
    "collapsed": false
   },
   "outputs": [
    {
     "data": {
      "text/plain": [
       "(177.05806036958774,\n",
       " 8.1426571642331505e-35,\n",
       " 32.114665796251778,\n",
       " 2.2608172722008548e-39)"
      ]
     },
     "execution_count": 93,
     "metadata": {},
     "output_type": "execute_result"
    }
   ],
   "source": [
    "het_breushpagan(results3.resid, results3.model.exog)"
   ]
  },
  {
   "cell_type": "markdown",
   "metadata": {},
   "source": [
    ">The p-value is 8.1426571642331505e-35, we would reject constant variance."
   ]
  },
  {
   "cell_type": "markdown",
   "metadata": {},
   "source": [
    "4) As a rule of thumb, the fewer variables there are in a model, the easier it is to interpret the model. Use your judgement and remove features which you think are of little practical importance and have coefficients that are statistically insignificant.\n",
    "\n",
    "   "
   ]
  },
  {
   "cell_type": "code",
   "execution_count": 140,
   "metadata": {
    "collapsed": false
   },
   "outputs": [
    {
     "data": {
      "text/html": [
       "<table class=\"simpletable\">\n",
       "<caption>OLS Regression Results</caption>\n",
       "<tr>\n",
       "  <th>Dep. Variable:</th>          <td>price</td>      <th>  R-squared:         </th> <td>   0.414</td> \n",
       "</tr>\n",
       "<tr>\n",
       "  <th>Model:</th>                   <td>OLS</td>       <th>  Adj. R-squared:    </th> <td>   0.410</td> \n",
       "</tr>\n",
       "<tr>\n",
       "  <th>Method:</th>             <td>Least Squares</td>  <th>  F-statistic:       </th> <td>   112.8</td> \n",
       "</tr>\n",
       "<tr>\n",
       "  <th>Date:</th>             <td>Sun, 09 Oct 2016</td> <th>  Prob (F-statistic):</th> <td>3.95e-90</td> \n",
       "</tr>\n",
       "<tr>\n",
       "  <th>Time:</th>                 <td>16:08:44</td>     <th>  Log-Likelihood:    </th> <td> -8321.3</td> \n",
       "</tr>\n",
       "<tr>\n",
       "  <th>No. Observations:</th>      <td>   804</td>      <th>  AIC:               </th> <td>1.665e+04</td>\n",
       "</tr>\n",
       "<tr>\n",
       "  <th>Df Residuals:</th>          <td>   798</td>      <th>  BIC:               </th> <td>1.668e+04</td>\n",
       "</tr>\n",
       "<tr>\n",
       "  <th>Df Model:</th>              <td>     5</td>      <th>                     </th>     <td> </td>    \n",
       "</tr>\n",
       "<tr>\n",
       "  <th>Covariance Type:</th>      <td>nonrobust</td>    <th>                     </th>     <td> </td>    \n",
       "</tr>\n",
       "</table>\n",
       "<table class=\"simpletable\">\n",
       "<tr>\n",
       "     <td></td>        <th>coef</th>     <th>std err</th>      <th>t</th>      <th>P>|t|</th> <th>[95.0% Conf. Int.]</th> \n",
       "</tr>\n",
       "<tr>\n",
       "  <th>const</th>   <td> 9627.0406</td> <td> 1646.730</td> <td>    5.846</td> <td> 0.000</td> <td> 6394.607  1.29e+04</td>\n",
       "</tr>\n",
       "<tr>\n",
       "  <th>mileage</th> <td>   -0.1731</td> <td>    0.033</td> <td>   -5.290</td> <td> 0.000</td> <td>   -0.237    -0.109</td>\n",
       "</tr>\n",
       "<tr>\n",
       "  <th>cruise</th>  <td> 6328.8646</td> <td>  674.745</td> <td>    9.380</td> <td> 0.000</td> <td> 5004.379  7653.350</td>\n",
       "</tr>\n",
       "<tr>\n",
       "  <th>leather</th> <td> 2955.9643</td> <td>  605.920</td> <td>    4.878</td> <td> 0.000</td> <td> 1766.579  4145.350</td>\n",
       "</tr>\n",
       "<tr>\n",
       "  <th>liter</th>   <td> 3868.2577</td> <td>  264.253</td> <td>   14.638</td> <td> 0.000</td> <td> 3349.545  4386.971</td>\n",
       "</tr>\n",
       "<tr>\n",
       "  <th>doors</th>   <td> -993.1607</td> <td>  316.705</td> <td>   -3.136</td> <td> 0.002</td> <td>-1614.834  -371.487</td>\n",
       "</tr>\n",
       "</table>\n",
       "<table class=\"simpletable\">\n",
       "<tr>\n",
       "  <th>Omnibus:</th>       <td>189.801</td> <th>  Durbin-Watson:     </th> <td>   0.255</td>\n",
       "</tr>\n",
       "<tr>\n",
       "  <th>Prob(Omnibus):</th> <td> 0.000</td>  <th>  Jarque-Bera (JB):  </th> <td> 422.308</td>\n",
       "</tr>\n",
       "<tr>\n",
       "  <th>Skew:</th>          <td> 1.278</td>  <th>  Prob(JB):          </th> <td>1.98e-92</td>\n",
       "</tr>\n",
       "<tr>\n",
       "  <th>Kurtosis:</th>      <td> 5.464</td>  <th>  Cond. No.          </th> <td>1.35e+05</td>\n",
       "</tr>\n",
       "</table>"
      ],
      "text/plain": [
       "<class 'statsmodels.iolib.summary.Summary'>\n",
       "\"\"\"\n",
       "                            OLS Regression Results                            \n",
       "==============================================================================\n",
       "Dep. Variable:                  price   R-squared:                       0.414\n",
       "Model:                            OLS   Adj. R-squared:                  0.410\n",
       "Method:                 Least Squares   F-statistic:                     112.8\n",
       "Date:                Sun, 09 Oct 2016   Prob (F-statistic):           3.95e-90\n",
       "Time:                        16:08:44   Log-Likelihood:                -8321.3\n",
       "No. Observations:                 804   AIC:                         1.665e+04\n",
       "Df Residuals:                     798   BIC:                         1.668e+04\n",
       "Df Model:                           5                                         \n",
       "Covariance Type:            nonrobust                                         \n",
       "==============================================================================\n",
       "                 coef    std err          t      P>|t|      [95.0% Conf. Int.]\n",
       "------------------------------------------------------------------------------\n",
       "const       9627.0406   1646.730      5.846      0.000      6394.607  1.29e+04\n",
       "mileage       -0.1731      0.033     -5.290      0.000        -0.237    -0.109\n",
       "cruise      6328.8646    674.745      9.380      0.000      5004.379  7653.350\n",
       "leather     2955.9643    605.920      4.878      0.000      1766.579  4145.350\n",
       "liter       3868.2577    264.253     14.638      0.000      3349.545  4386.971\n",
       "doors       -993.1607    316.705     -3.136      0.002     -1614.834  -371.487\n",
       "==============================================================================\n",
       "Omnibus:                      189.801   Durbin-Watson:                   0.255\n",
       "Prob(Omnibus):                  0.000   Jarque-Bera (JB):              422.308\n",
       "Skew:                           1.278   Prob(JB):                     1.98e-92\n",
       "Kurtosis:                       5.464   Cond. No.                     1.35e+05\n",
       "==============================================================================\n",
       "\n",
       "Warnings:\n",
       "[1] Standard Errors assume that the covariance matrix of the errors is correctly specified.\n",
       "[2] The condition number is large, 1.35e+05. This might indicate that there are\n",
       "strong multicollinearity or other numerical problems.\n",
       "\"\"\""
      ]
     },
     "execution_count": 140,
     "metadata": {},
     "output_type": "execute_result"
    }
   ],
   "source": [
    "X31 = car[['mileage','cruise','leather','liter','doors']]\n",
    "X31 = sms.add_constant(X31)\n",
    "y31 = car['price']\n",
    "\n",
    "model31 = sms.OLS(y31, X31)\n",
    "results31 = model31.fit()\n",
    "results31.summary()"
   ]
  },
  {
   "cell_type": "markdown",
   "metadata": {},
   "source": [
    ">There is no improvement from new model, so test another new model."
   ]
  },
  {
   "cell_type": "code",
   "execution_count": 141,
   "metadata": {
    "collapsed": false
   },
   "outputs": [
    {
     "data": {
      "text/html": [
       "<table class=\"simpletable\">\n",
       "<caption>OLS Regression Results</caption>\n",
       "<tr>\n",
       "  <th>Dep. Variable:</th>          <td>price</td>      <th>  R-squared:         </th> <td>   0.397</td> \n",
       "</tr>\n",
       "<tr>\n",
       "  <th>Model:</th>                   <td>OLS</td>       <th>  Adj. R-squared:    </th> <td>   0.394</td> \n",
       "</tr>\n",
       "<tr>\n",
       "  <th>Method:</th>             <td>Least Squares</td>  <th>  F-statistic:       </th> <td>   131.3</td> \n",
       "</tr>\n",
       "<tr>\n",
       "  <th>Date:</th>             <td>Sun, 09 Oct 2016</td> <th>  Prob (F-statistic):</th> <td>3.75e-86</td> \n",
       "</tr>\n",
       "<tr>\n",
       "  <th>Time:</th>                 <td>16:09:59</td>     <th>  Log-Likelihood:    </th> <td> -8333.1</td> \n",
       "</tr>\n",
       "<tr>\n",
       "  <th>No. Observations:</th>      <td>   804</td>      <th>  AIC:               </th> <td>1.668e+04</td>\n",
       "</tr>\n",
       "<tr>\n",
       "  <th>Df Residuals:</th>          <td>   799</td>      <th>  BIC:               </th> <td>1.670e+04</td>\n",
       "</tr>\n",
       "<tr>\n",
       "  <th>Df Model:</th>              <td>     4</td>      <th>                     </th>     <td> </td>    \n",
       "</tr>\n",
       "<tr>\n",
       "  <th>Covariance Type:</th>      <td>nonrobust</td>    <th>                     </th>     <td> </td>    \n",
       "</tr>\n",
       "</table>\n",
       "<table class=\"simpletable\">\n",
       "<tr>\n",
       "     <td></td>        <th>coef</th>     <th>std err</th>      <th>t</th>      <th>P>|t|</th> <th>[95.0% Conf. Int.]</th> \n",
       "</tr>\n",
       "<tr>\n",
       "  <th>const</th>   <td> 1.188e+04</td> <td> 1603.197</td> <td>    7.409</td> <td> 0.000</td> <td> 8730.431   1.5e+04</td>\n",
       "</tr>\n",
       "<tr>\n",
       "  <th>mileage</th> <td>   -0.1722</td> <td>    0.033</td> <td>   -5.190</td> <td> 0.000</td> <td>   -0.237    -0.107</td>\n",
       "</tr>\n",
       "<tr>\n",
       "  <th>cruise</th>  <td> 5954.8306</td> <td>  679.873</td> <td>    8.759</td> <td> 0.000</td> <td> 4620.283  7289.378</td>\n",
       "</tr>\n",
       "<tr>\n",
       "  <th>liter</th>   <td> 4022.5429</td> <td>  266.070</td> <td>   15.118</td> <td> 0.000</td> <td> 3500.263  4544.823</td>\n",
       "</tr>\n",
       "<tr>\n",
       "  <th>doors</th>   <td>-1082.5582</td> <td>  320.654</td> <td>   -3.376</td> <td> 0.001</td> <td>-1711.981  -453.135</td>\n",
       "</tr>\n",
       "</table>\n",
       "<table class=\"simpletable\">\n",
       "<tr>\n",
       "  <th>Omnibus:</th>       <td>196.433</td> <th>  Durbin-Watson:     </th> <td>   0.201</td>\n",
       "</tr>\n",
       "<tr>\n",
       "  <th>Prob(Omnibus):</th> <td> 0.000</td>  <th>  Jarque-Bera (JB):  </th> <td> 437.738</td>\n",
       "</tr>\n",
       "<tr>\n",
       "  <th>Skew:</th>          <td> 1.323</td>  <th>  Prob(JB):          </th> <td>8.84e-96</td>\n",
       "</tr>\n",
       "<tr>\n",
       "  <th>Kurtosis:</th>      <td> 5.464</td>  <th>  Cond. No.          </th> <td>1.29e+05</td>\n",
       "</tr>\n",
       "</table>"
      ],
      "text/plain": [
       "<class 'statsmodels.iolib.summary.Summary'>\n",
       "\"\"\"\n",
       "                            OLS Regression Results                            \n",
       "==============================================================================\n",
       "Dep. Variable:                  price   R-squared:                       0.397\n",
       "Model:                            OLS   Adj. R-squared:                  0.394\n",
       "Method:                 Least Squares   F-statistic:                     131.3\n",
       "Date:                Sun, 09 Oct 2016   Prob (F-statistic):           3.75e-86\n",
       "Time:                        16:09:59   Log-Likelihood:                -8333.1\n",
       "No. Observations:                 804   AIC:                         1.668e+04\n",
       "Df Residuals:                     799   BIC:                         1.670e+04\n",
       "Df Model:                           4                                         \n",
       "Covariance Type:            nonrobust                                         \n",
       "==============================================================================\n",
       "                 coef    std err          t      P>|t|      [95.0% Conf. Int.]\n",
       "------------------------------------------------------------------------------\n",
       "const       1.188e+04   1603.197      7.409      0.000      8730.431   1.5e+04\n",
       "mileage       -0.1722      0.033     -5.190      0.000        -0.237    -0.107\n",
       "cruise      5954.8306    679.873      8.759      0.000      4620.283  7289.378\n",
       "liter       4022.5429    266.070     15.118      0.000      3500.263  4544.823\n",
       "doors      -1082.5582    320.654     -3.376      0.001     -1711.981  -453.135\n",
       "==============================================================================\n",
       "Omnibus:                      196.433   Durbin-Watson:                   0.201\n",
       "Prob(Omnibus):                  0.000   Jarque-Bera (JB):              437.738\n",
       "Skew:                           1.323   Prob(JB):                     8.84e-96\n",
       "Kurtosis:                       5.464   Cond. No.                     1.29e+05\n",
       "==============================================================================\n",
       "\n",
       "Warnings:\n",
       "[1] Standard Errors assume that the covariance matrix of the errors is correctly specified.\n",
       "[2] The condition number is large, 1.29e+05. This might indicate that there are\n",
       "strong multicollinearity or other numerical problems.\n",
       "\"\"\""
      ]
     },
     "execution_count": 141,
     "metadata": {},
     "output_type": "execute_result"
    }
   ],
   "source": [
    "X32 = car[['mileage','cruise','liter','doors']]\n",
    "X32 = sms.add_constant(X32)\n",
    "y32 = car['price']\n",
    "\n",
    "model32 = sms.OLS(y32, X32)\n",
    "results32 = model32.fit()\n",
    "results32.summary()"
   ]
  },
  {
   "cell_type": "markdown",
   "metadata": {},
   "source": [
    ">There is no improvement from new model, so test another new model.\n",
    "<br>\n",
    "Since eliminating varialbes are not improve model fit, so the original model with is the best model.\n",
    "<br>\n",
    "The original model not only can predict with all other variables, but also it has less than 0.05 p-value."
   ]
  },
  {
   "cell_type": "markdown",
   "metadata": {},
   "source": [
    "5) (Extra Credit) Run outlier diagnostics in order to identify and explain outliers of the model."
   ]
  },
  {
   "cell_type": "code",
   "execution_count": 95,
   "metadata": {
    "collapsed": false
   },
   "outputs": [
    {
     "data": {
      "image/png": "[encoded data removed]",
      "text/plain": [
       "<matplotlib.figure.Figure at 0x11b8954e0>"
      ]
     },
     "metadata": {},
     "output_type": "display_data"
    }
   ],
   "source": [
    "plot_leverage_resid2(results3);"
   ]
  },
  {
   "cell_type": "markdown",
   "metadata": {},
   "source": [
    ">There is some outliers from 151 to 160."
   ]
  },
  {
   "cell_type": "code",
   "execution_count": 108,
   "metadata": {
    "collapsed": false
   },
   "outputs": [
    {
     "data": {
      "text/plain": [
       "[     car_id         price  mileage      make   model             trim  cruise  \\\n",
       " 151     150  70755.466717      583  Cadillac  XLR-V8  Hardtop Conv 2D       1   \n",
       " \n",
       "      sound  leather  \n",
       " 151      1        1  ,\n",
       "      car_id         price  mileage      make   model             trim  cruise  \\\n",
       " 152     151  68566.187189     6420  Cadillac  XLR-V8  Hardtop Conv 2D       1   \n",
       " \n",
       "      sound  leather  \n",
       " 152      1        1  ,\n",
       "      car_id         price  mileage      make   model             trim  cruise  \\\n",
       " 153     152  69133.731722     7892  Cadillac  XLR-V8  Hardtop Conv 2D       1   \n",
       " \n",
       "      sound  leather  \n",
       " 153      1        1  ,\n",
       "      car_id        price  mileage      make   model             trim  cruise  \\\n",
       " 154     153  66374.30704    12021  Cadillac  XLR-V8  Hardtop Conv 2D       1   \n",
       " \n",
       "      sound  leather  \n",
       " 154      1        1  ,\n",
       "      car_id         price  mileage      make   model             trim  cruise  \\\n",
       " 155     154  65281.481237    15600  Cadillac  XLR-V8  Hardtop Conv 2D       1   \n",
       " \n",
       "      sound  leather  \n",
       " 155      1        1  ,\n",
       "      car_id         price  mileage      make   model             trim  cruise  \\\n",
       " 156     155  63913.117248    18200  Cadillac  XLR-V8  Hardtop Conv 2D       1   \n",
       " \n",
       "      sound  leather  \n",
       " 156      1        1  ,\n",
       "      car_id         price  mileage      make   model             trim  cruise  \\\n",
       " 157     156  60567.549093    23193  Cadillac  XLR-V8  Hardtop Conv 2D       1   \n",
       " \n",
       "      sound  leather  \n",
       " 157      1        1  ,\n",
       "      car_id         price  mileage      make   model             trim  cruise  \\\n",
       " 158     157  57154.443437    29260  Cadillac  XLR-V8  Hardtop Conv 2D       1   \n",
       " \n",
       "      sound  leather  \n",
       " 158      1        1  ,\n",
       "      car_id         price  mileage      make   model             trim  cruise  \\\n",
       " 159     158  55639.087654    31805  Cadillac  XLR-V8  Hardtop Conv 2D       1   \n",
       " \n",
       "      sound  leather  \n",
       " 159      0        1  ,\n",
       "      car_id         price  mileage      make   model             trim  cruise  \\\n",
       " 160     159  52001.994379    42691  Cadillac  XLR-V8  Hardtop Conv 2D       1   \n",
       " \n",
       "      sound  leather  \n",
       " 160      1        1  ]"
      ]
     },
     "execution_count": 108,
     "metadata": {},
     "output_type": "execute_result"
    }
   ],
   "source": [
    "view_outliers = []\n",
    "for i in range(151,161):\n",
    "    view_outliers.append(car_price[car_price.index == i])\n",
    "view_outliers"
   ]
  },
  {
   "cell_type": "markdown",
   "metadata": {},
   "source": [
    ">They are all Cadillac model XLR-V8 hardtop conv with prices ranging about from mid $\\$50,000$ to $\\$70,000$."
   ]
  }
 ],
 "metadata": {
  "anaconda-cloud": {},
  "kernelspec": {
   "display_name": "Python [conda root]",
   "language": "python",
   "name": "conda-root-py"
  },
  "language_info": {
   "codemirror_mode": {
    "name": "ipython",
    "version": 3
   },
   "file_extension": ".py",
   "mimetype": "text/x-python",
   "name": "python",
   "nbconvert_exporter": "python",
   "pygments_lexer": "ipython3",
   "version": "3.5.2"
  }
 },
 "nbformat": 4,
 "nbformat_minor": 0
}
