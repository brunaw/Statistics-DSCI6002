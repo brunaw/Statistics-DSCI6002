{
 "cells": [
  {
   "cell_type": "code",
   "execution_count": 12,
   "metadata": {
    "collapsed": false
   },
   "outputs": [
    {
     "name": "stdout",
     "output_type": "stream",
     "text": [
      "Populating the interactive namespace from numpy and matplotlib\n"
     ]
    }
   ],
   "source": [
    "%pylab inline\n",
    "from scipy.stats import binom as binom\n",
    "import scipy.stats as stats"
   ]
  },
  {
   "cell_type": "markdown",
   "metadata": {},
   "source": [
    "1. p = .3.  If 5 students apply, what is the probability that at most 2 are accepted?\n",
    "Let X be the number of students accepted.\n",
    "X ~ binomial(5, .3)\n",
    "answer = P(X = 2) + P(X = 1) + P(X = 0)"
   ]
  },
  {
   "cell_type": "code",
   "execution_count": 19,
   "metadata": {
    "collapsed": false
   },
   "outputs": [
    {
     "data": {
      "text/plain": [
       "0.83691999999999989"
      ]
     },
     "execution_count": 19,
     "metadata": {},
     "output_type": "execute_result"
    }
   ],
   "source": [
    "# stats.binom.pmf(2,5,.3) + stats.binom.pmf(1,5,.3) + stats.binom.pmf(0,5,.3)\n",
    "\n",
    "stats.binom(5, .3).cdf(2)"
   ]
  },
  {
   "cell_type": "markdown",
   "metadata": {},
   "source": [
    "# 2. avg # of homes is 2 per day.  what is probability that exactly 3 homes will be sold tomorrow.\n",
    "\n",
    "Let X be the number of homes sold in a day.\n",
    "Then X ~ Poisson(2)."
   ]
  },
  {
   "cell_type": "code",
   "execution_count": 23,
   "metadata": {
    "collapsed": false
   },
   "outputs": [
    {
     "data": {
      "text/plain": [
       "0.18044704431548356"
      ]
     },
     "execution_count": 23,
     "metadata": {},
     "output_type": "execute_result"
    }
   ],
   "source": [
    "stats.poisson(2).pmf(3)"
   ]
  },
  {
   "cell_type": "markdown",
   "metadata": {},
   "source": [
    "#3. bob is 70% free throw shooter.  During the season, on which shot do we expect Bob to makes his third free throw?\n",
    "\n",
    "Let X = # of shots Bob makes before he makes his 3rd free throw\n",
    "\n",
    "neg binom models # of trials before rth failure.\n",
    "\n",
    "r = 3\n",
    "p = .7\n",
    "\n",
    "X~ negative binomial(r = 3, p = .7)\n",
    "\n",
    "E[X] = r/p = 3/.7 = 4.3"
   ]
  },
  {
   "cell_type": "code",
   "execution_count": 30,
   "metadata": {
    "collapsed": false
   },
   "outputs": [
    {
     "data": {
      "text/plain": [
       "4.2857142857142856"
      ]
     },
     "execution_count": 30,
     "metadata": {},
     "output_type": "execute_result"
    }
   ],
   "source": [
    "stats.nbinom(3, .7).mean() + 3"
   ]
  },
  {
   "cell_type": "code",
   "execution_count": 31,
   "metadata": {
    "collapsed": false
   },
   "outputs": [],
   "source": [
    "# stats.nbinom(3, .3).mean() + 3"
   ]
  },
  {
   "cell_type": "code",
   "execution_count": null,
   "metadata": {
    "collapsed": true
   },
   "outputs": [],
   "source": []
  }
 ],
 "metadata": {
  "anaconda-cloud": {},
  "kernelspec": {
   "display_name": "Python [Root]",
   "language": "python",
   "name": "Python [Root]"
  },
  "language_info": {
   "codemirror_mode": {
    "name": "ipython",
    "version": 3
   },
   "file_extension": ".py",
   "mimetype": "text/x-python",
   "name": "python",
   "nbconvert_exporter": "python",
   "pygments_lexer": "ipython3",
   "version": "3.5.2"
  }
 },
 "nbformat": 4,
 "nbformat_minor": 0
}
