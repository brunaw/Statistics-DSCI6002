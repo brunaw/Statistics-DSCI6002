{
 "cells": [
  {
   "cell_type": "code",
   "execution_count": 2,
   "metadata": {
    "collapsed": false,
    "scrolled": true
   },
   "outputs": [
    {
     "name": "stdout",
     "output_type": "stream",
     "text": [
      "Populating the interactive namespace from numpy and matplotlib\n"
     ]
    }
   ],
   "source": [
    "%pylab inline"
   ]
  },
  {
   "cell_type": "code",
   "execution_count": 4,
   "metadata": {
    "collapsed": true
   },
   "outputs": [],
   "source": [
    "from scipy import stats\n"
   ]
  },
  {
   "cell_type": "code",
   "execution_count": 19,
   "metadata": {
    "collapsed": false
   },
   "outputs": [
    {
     "name": "stdout",
     "output_type": "stream",
     "text": [
      "0.874928064363\n",
      "0.874928064363\n",
      "0.267018907589\n",
      "0.0455002638964\n"
     ]
    }
   ],
   "source": [
    "# 1. percentage of normal dist N(0, var = 1):\n",
    "normal_dist = stats.norm(0, 1) #sd = 1\n",
    "1 - normal_dist.cdf(300)\n",
    "# a) Z>-1.15\n",
    "print(1 - normal_dist.cdf(-1.15))\n",
    "# or you can do :  print(stats.norm.sf(-1.15))\n",
    "\n",
    "#b) .3<Z<1.2\n",
    "print(normal_dist.cdf(1.2) - normal_dist.cdf(.3))\n",
    "\n",
    "#c) abs(Z)>2\n",
    "print(1 - normal_dist.cdf(2) + (normal_dist.cdf(-2)))\n",
    "\n",
    "\n",
    "#2. transform to standard normal by offsetting to get mean = 0 and standard deviation = 1; \n",
    "# take every value X, and transform it to the standard normal f(X) = (X - 5) / 4.  \n",
    "# for exampe, P(X<5) becomes P(Z< 5-mu/sigma)."
   ]
  },
  {
   "cell_type": "code",
   "execution_count": null,
   "metadata": {
    "collapsed": true
   },
   "outputs": [],
   "source": []
  }
 ],
 "metadata": {
  "anaconda-cloud": {},
  "kernelspec": {
   "display_name": "Python [Root]",
   "language": "python",
   "name": "Python [Root]"
  },
  "language_info": {
   "codemirror_mode": {
    "name": "ipython",
    "version": 3
   },
   "file_extension": ".py",
   "mimetype": "text/x-python",
   "name": "python",
   "nbconvert_exporter": "python",
   "pygments_lexer": "ipython3",
   "version": "3.5.2"
  }
 },
 "nbformat": 4,
 "nbformat_minor": 0
}
