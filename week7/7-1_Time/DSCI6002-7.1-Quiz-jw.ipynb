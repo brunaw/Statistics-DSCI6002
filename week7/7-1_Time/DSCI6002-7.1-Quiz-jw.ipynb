{
 "cells": [
  {
   "cell_type": "markdown",
   "metadata": {},
   "source": [
    "# Quiz 7.1  \n",
    "\n",
    "An electric company is trying to determine the electrical energy needs for the residential customers in its service territory. By identifying certain customer and environmental characteristics, the utility hopes to build a multiple regression model for $Y$, the monthly kilowatthour usage. The independent variables under consideration are  \n",
    "\n",
    "$X_1 =$ Square feet of living space  \n",
    "\n",
    "$X_2 =$ Average monthly temperature  \n",
    "\n",
    "$X_3 =$ Age of residence  \n",
    "\n",
    "$X 4 =$ Proportion of available sunshine hours  \n",
    "\n",
    "The data file is stored in https://s3-us-west-2.amazonaws.com/dsci/6002/data/elec.csv  \n",
    "\n",
    "1) Using backward stepwise regression, build a model to describe electricity usage.  \n",
    "\n",
    "2) Test if the linear regression assumptions are met.  "
   ]
  },
  {
   "cell_type": "code",
   "execution_count": 14,
   "metadata": {
    "collapsed": false
   },
   "outputs": [
    {
     "name": "stdout",
     "output_type": "stream",
     "text": [
      "Populating the interactive namespace from numpy and matplotlib\n",
      "Index(['y', 'x1', 'x2', 'x3', 'x4'], dtype='object')\n"
     ]
    },
    {
     "data": {
      "text/html": [
       "<div>\n",
       "<table border=\"1\" class=\"dataframe\">\n",
       "  <thead>\n",
       "    <tr style=\"text-align: right;\">\n",
       "      <th></th>\n",
       "      <th>y</th>\n",
       "      <th>x1</th>\n",
       "      <th>x2</th>\n",
       "      <th>x3</th>\n",
       "      <th>x4</th>\n",
       "    </tr>\n",
       "  </thead>\n",
       "  <tbody>\n",
       "    <tr>\n",
       "      <th>0</th>\n",
       "      <td>1805</td>\n",
       "      <td>950</td>\n",
       "      <td>35</td>\n",
       "      <td>31</td>\n",
       "      <td>0.24</td>\n",
       "    </tr>\n",
       "    <tr>\n",
       "      <th>1</th>\n",
       "      <td>1029</td>\n",
       "      <td>1600</td>\n",
       "      <td>41</td>\n",
       "      <td>27</td>\n",
       "      <td>0.29</td>\n",
       "    </tr>\n",
       "    <tr>\n",
       "      <th>2</th>\n",
       "      <td>1020</td>\n",
       "      <td>2100</td>\n",
       "      <td>48</td>\n",
       "      <td>30</td>\n",
       "      <td>0.31</td>\n",
       "    </tr>\n",
       "    <tr>\n",
       "      <th>3</th>\n",
       "      <td>515</td>\n",
       "      <td>1055</td>\n",
       "      <td>52</td>\n",
       "      <td>29</td>\n",
       "      <td>0.39</td>\n",
       "    </tr>\n",
       "    <tr>\n",
       "      <th>4</th>\n",
       "      <td>942</td>\n",
       "      <td>1250</td>\n",
       "      <td>60</td>\n",
       "      <td>18</td>\n",
       "      <td>0.40</td>\n",
       "    </tr>\n",
       "  </tbody>\n",
       "</table>\n",
       "</div>"
      ],
      "text/plain": [
       "      y    x1  x2  x3    x4\n",
       "0  1805   950  35  31  0.24\n",
       "1  1029  1600  41  27  0.29\n",
       "2  1020  2100  48  30  0.31\n",
       "3   515  1055  52  29  0.39\n",
       "4   942  1250  60  18  0.40"
      ]
     },
     "execution_count": 14,
     "metadata": {},
     "output_type": "execute_result"
    }
   ],
   "source": [
    "%pylab inline\n",
    "\n",
    "import pandas as pd\n",
    "import seaborn as sns\n",
    "import yaml\n",
    "from statsmodels.graphics.gofplots import qqplot\n",
    "from sqlalchemy import create_engine\n",
    "import statsmodels.api as sms\n",
    "\n",
    "\n",
    "from statsmodels.stats.diagnostic import het_breushpagan\n",
    "from statsmodels.graphics.correlation import plot_corr\n",
    "from statsmodels.graphics.regressionplots import plot_leverage_resid2\n",
    "\n",
    "df = pd.read_csv(\"https://s3-us-west-2.amazonaws.com/dsci/6002/data/elec.csv\")\n",
    "df = df.dropna(axis=0)\n",
    "\n",
    "print(df.columns)\n",
    "\n",
    "df.head()"
   ]
  },
  {
   "cell_type": "code",
   "execution_count": 4,
   "metadata": {
    "collapsed": false,
    "scrolled": true
   },
   "outputs": [
    {
     "data": {
      "text/html": [
       "<table class=\"simpletable\">\n",
       "<caption>OLS Regression Results</caption>\n",
       "<tr>\n",
       "  <th>Dep. Variable:</th>            <td>y</td>        <th>  R-squared:         </th> <td>   0.717</td>\n",
       "</tr>\n",
       "<tr>\n",
       "  <th>Model:</th>                   <td>OLS</td>       <th>  Adj. R-squared:    </th> <td>   0.657</td>\n",
       "</tr>\n",
       "<tr>\n",
       "  <th>Method:</th>             <td>Least Squares</td>  <th>  F-statistic:       </th> <td>   12.04</td>\n",
       "</tr>\n",
       "<tr>\n",
       "  <th>Date:</th>             <td>Mon, 10 Oct 2016</td> <th>  Prob (F-statistic):</th> <td>4.83e-05</td>\n",
       "</tr>\n",
       "<tr>\n",
       "  <th>Time:</th>                 <td>13:31:53</td>     <th>  Log-Likelihood:    </th> <td> -177.49</td>\n",
       "</tr>\n",
       "<tr>\n",
       "  <th>No. Observations:</th>      <td>    24</td>      <th>  AIC:               </th> <td>   365.0</td>\n",
       "</tr>\n",
       "<tr>\n",
       "  <th>Df Residuals:</th>          <td>    19</td>      <th>  BIC:               </th> <td>   370.9</td>\n",
       "</tr>\n",
       "<tr>\n",
       "  <th>Df Model:</th>              <td>     4</td>      <th>                     </th>     <td> </td>   \n",
       "</tr>\n",
       "<tr>\n",
       "  <th>Covariance Type:</th>      <td>nonrobust</td>    <th>                     </th>     <td> </td>   \n",
       "</tr>\n",
       "</table>\n",
       "<table class=\"simpletable\">\n",
       "<tr>\n",
       "    <td></td>       <th>coef</th>     <th>std err</th>      <th>t</th>      <th>P>|t|</th> <th>[95.0% Conf. Int.]</th> \n",
       "</tr>\n",
       "<tr>\n",
       "  <th>const</th> <td> -177.3477</td> <td>  482.664</td> <td>   -0.367</td> <td> 0.717</td> <td>-1187.575   832.880</td>\n",
       "</tr>\n",
       "<tr>\n",
       "  <th>x1</th>    <td>    0.6625</td> <td>    0.125</td> <td>    5.291</td> <td> 0.000</td> <td>    0.400     0.925</td>\n",
       "</tr>\n",
       "<tr>\n",
       "  <th>x2</th>    <td>   -8.0370</td> <td>   11.107</td> <td>   -0.724</td> <td> 0.478</td> <td>  -31.285    15.211</td>\n",
       "</tr>\n",
       "<tr>\n",
       "  <th>x3</th>    <td>   -3.0830</td> <td>   11.615</td> <td>   -0.265</td> <td> 0.794</td> <td>  -27.394    21.228</td>\n",
       "</tr>\n",
       "<tr>\n",
       "  <th>x4</th>    <td> 2335.6939</td> <td> 1237.745</td> <td>    1.887</td> <td> 0.075</td> <td> -254.937  4926.325</td>\n",
       "</tr>\n",
       "</table>\n",
       "<table class=\"simpletable\">\n",
       "<tr>\n",
       "  <th>Omnibus:</th>       <td>13.481</td> <th>  Durbin-Watson:     </th> <td>   1.780</td>\n",
       "</tr>\n",
       "<tr>\n",
       "  <th>Prob(Omnibus):</th> <td> 0.001</td> <th>  Jarque-Bera (JB):  </th> <td>  12.357</td>\n",
       "</tr>\n",
       "<tr>\n",
       "  <th>Skew:</th>          <td> 1.482</td> <th>  Prob(JB):          </th> <td> 0.00207</td>\n",
       "</tr>\n",
       "<tr>\n",
       "  <th>Kurtosis:</th>      <td> 4.890</td> <th>  Cond. No.          </th> <td>2.77e+04</td>\n",
       "</tr>\n",
       "</table>"
      ],
      "text/plain": [
       "<class 'statsmodels.iolib.summary.Summary'>\n",
       "\"\"\"\n",
       "                            OLS Regression Results                            \n",
       "==============================================================================\n",
       "Dep. Variable:                      y   R-squared:                       0.717\n",
       "Model:                            OLS   Adj. R-squared:                  0.657\n",
       "Method:                 Least Squares   F-statistic:                     12.04\n",
       "Date:                Mon, 10 Oct 2016   Prob (F-statistic):           4.83e-05\n",
       "Time:                        13:31:53   Log-Likelihood:                -177.49\n",
       "No. Observations:                  24   AIC:                             365.0\n",
       "Df Residuals:                      19   BIC:                             370.9\n",
       "Df Model:                           4                                         \n",
       "Covariance Type:            nonrobust                                         \n",
       "==============================================================================\n",
       "                 coef    std err          t      P>|t|      [95.0% Conf. Int.]\n",
       "------------------------------------------------------------------------------\n",
       "const       -177.3477    482.664     -0.367      0.717     -1187.575   832.880\n",
       "x1             0.6625      0.125      5.291      0.000         0.400     0.925\n",
       "x2            -8.0370     11.107     -0.724      0.478       -31.285    15.211\n",
       "x3            -3.0830     11.615     -0.265      0.794       -27.394    21.228\n",
       "x4          2335.6939   1237.745      1.887      0.075      -254.937  4926.325\n",
       "==============================================================================\n",
       "Omnibus:                       13.481   Durbin-Watson:                   1.780\n",
       "Prob(Omnibus):                  0.001   Jarque-Bera (JB):               12.357\n",
       "Skew:                           1.482   Prob(JB):                      0.00207\n",
       "Kurtosis:                       4.890   Cond. No.                     2.77e+04\n",
       "==============================================================================\n",
       "\n",
       "Warnings:\n",
       "[1] Standard Errors assume that the covariance matrix of the errors is correctly specified.\n",
       "[2] The condition number is large, 2.77e+04. This might indicate that there are\n",
       "strong multicollinearity or other numerical problems.\n",
       "\"\"\""
      ]
     },
     "execution_count": 4,
     "metadata": {},
     "output_type": "execute_result"
    }
   ],
   "source": [
    "X2 = df[['x1', 'x2', 'x3', 'x4']]\n",
    "X2 = sm.add_constant(X2)\n",
    "y2 = df['y']\n",
    "\n",
    "model2 = sm.OLS(y2, X2)\n",
    "results2 = model2.fit()\n",
    "results2.summary()"
   ]
  },
  {
   "cell_type": "code",
   "execution_count": 17,
   "metadata": {
    "collapsed": false,
    "scrolled": true
   },
   "outputs": [
    {
     "data": {
      "text/html": [
       "<table class=\"simpletable\">\n",
       "<caption>OLS Regression Results</caption>\n",
       "<tr>\n",
       "  <th>Dep. Variable:</th>            <td>y</td>        <th>  R-squared:         </th> <td>   0.706</td>\n",
       "</tr>\n",
       "<tr>\n",
       "  <th>Model:</th>                   <td>OLS</td>       <th>  Adj. R-squared:    </th> <td>   0.678</td>\n",
       "</tr>\n",
       "<tr>\n",
       "  <th>Method:</th>             <td>Least Squares</td>  <th>  F-statistic:       </th> <td>   25.19</td>\n",
       "</tr>\n",
       "<tr>\n",
       "  <th>Date:</th>             <td>Mon, 10 Oct 2016</td> <th>  Prob (F-statistic):</th> <td>2.64e-06</td>\n",
       "</tr>\n",
       "<tr>\n",
       "  <th>Time:</th>                 <td>13:42:15</td>     <th>  Log-Likelihood:    </th> <td> -177.96</td>\n",
       "</tr>\n",
       "<tr>\n",
       "  <th>No. Observations:</th>      <td>    24</td>      <th>  AIC:               </th> <td>   361.9</td>\n",
       "</tr>\n",
       "<tr>\n",
       "  <th>Df Residuals:</th>          <td>    21</td>      <th>  BIC:               </th> <td>   365.5</td>\n",
       "</tr>\n",
       "<tr>\n",
       "  <th>Df Model:</th>              <td>     2</td>      <th>                     </th>     <td> </td>   \n",
       "</tr>\n",
       "<tr>\n",
       "  <th>Covariance Type:</th>      <td>nonrobust</td>    <th>                     </th>     <td> </td>   \n",
       "</tr>\n",
       "</table>\n",
       "<table class=\"simpletable\">\n",
       "<tr>\n",
       "    <td></td>       <th>coef</th>     <th>std err</th>      <th>t</th>      <th>P>|t|</th> <th>[95.0% Conf. Int.]</th> \n",
       "</tr>\n",
       "<tr>\n",
       "  <th>const</th> <td> -407.6312</td> <td>  306.489</td> <td>   -1.330</td> <td> 0.198</td> <td>-1045.010   229.748</td>\n",
       "</tr>\n",
       "<tr>\n",
       "  <th>x1</th>    <td>    0.6659</td> <td>    0.111</td> <td>    6.005</td> <td> 0.000</td> <td>    0.435     0.897</td>\n",
       "</tr>\n",
       "<tr>\n",
       "  <th>x4</th>    <td> 1636.8710</td> <td>  537.970</td> <td>    3.043</td> <td> 0.006</td> <td>  518.102  2755.640</td>\n",
       "</tr>\n",
       "</table>\n",
       "<table class=\"simpletable\">\n",
       "<tr>\n",
       "  <th>Omnibus:</th>       <td>11.393</td> <th>  Durbin-Watson:     </th> <td>   1.653</td>\n",
       "</tr>\n",
       "<tr>\n",
       "  <th>Prob(Omnibus):</th> <td> 0.003</td> <th>  Jarque-Bera (JB):  </th> <td>   9.572</td>\n",
       "</tr>\n",
       "<tr>\n",
       "  <th>Skew:</th>          <td> 1.355</td> <th>  Prob(JB):          </th> <td> 0.00835</td>\n",
       "</tr>\n",
       "<tr>\n",
       "  <th>Kurtosis:</th>      <td> 4.493</td> <th>  Cond. No.          </th> <td>1.34e+04</td>\n",
       "</tr>\n",
       "</table>"
      ],
      "text/plain": [
       "<class 'statsmodels.iolib.summary.Summary'>\n",
       "\"\"\"\n",
       "                            OLS Regression Results                            \n",
       "==============================================================================\n",
       "Dep. Variable:                      y   R-squared:                       0.706\n",
       "Model:                            OLS   Adj. R-squared:                  0.678\n",
       "Method:                 Least Squares   F-statistic:                     25.19\n",
       "Date:                Mon, 10 Oct 2016   Prob (F-statistic):           2.64e-06\n",
       "Time:                        13:42:15   Log-Likelihood:                -177.96\n",
       "No. Observations:                  24   AIC:                             361.9\n",
       "Df Residuals:                      21   BIC:                             365.5\n",
       "Df Model:                           2                                         \n",
       "Covariance Type:            nonrobust                                         \n",
       "==============================================================================\n",
       "                 coef    std err          t      P>|t|      [95.0% Conf. Int.]\n",
       "------------------------------------------------------------------------------\n",
       "const       -407.6312    306.489     -1.330      0.198     -1045.010   229.748\n",
       "x1             0.6659      0.111      6.005      0.000         0.435     0.897\n",
       "x4          1636.8710    537.970      3.043      0.006       518.102  2755.640\n",
       "==============================================================================\n",
       "Omnibus:                       11.393   Durbin-Watson:                   1.653\n",
       "Prob(Omnibus):                  0.003   Jarque-Bera (JB):                9.572\n",
       "Skew:                           1.355   Prob(JB):                      0.00835\n",
       "Kurtosis:                       4.493   Cond. No.                     1.34e+04\n",
       "==============================================================================\n",
       "\n",
       "Warnings:\n",
       "[1] Standard Errors assume that the covariance matrix of the errors is correctly specified.\n",
       "[2] The condition number is large, 1.34e+04. This might indicate that there are\n",
       "strong multicollinearity or other numerical problems.\n",
       "\"\"\""
      ]
     },
     "execution_count": 17,
     "metadata": {},
     "output_type": "execute_result"
    }
   ],
   "source": [
    "# drop x3 first, the drop x2 - based on highest p-value\n",
    "\n",
    "X2 = df[['x1', 'x4']]\n",
    "X2 = sm.add_constant(X2)\n",
    "y2 = df['y']\n",
    "\n",
    "model2 = sm.OLS(y2, X2)\n",
    "results2 = model2.fit()\n",
    "results2.summary()"
   ]
  },
  {
   "cell_type": "code",
   "execution_count": 18,
   "metadata": {
    "collapsed": false,
    "scrolled": false
   },
   "outputs": [
    {
     "data": {
      "image/png": "[encoded data removed]",
      "text/plain": [
       "<matplotlib.figure.Figure at 0x11b19d5c0>"
      ]
     },
     "metadata": {},
     "output_type": "display_data"
    }
   ],
   "source": [
    "sns.residplot(results2.fittedvalues, results2.resid_pearson, df);"
   ]
  },
  {
   "cell_type": "markdown",
   "metadata": {},
   "source": [
    "# yes, fulfills the linearlity assumption"
   ]
  },
  {
   "cell_type": "code",
   "execution_count": 28,
   "metadata": {
    "collapsed": false
   },
   "outputs": [
    {
     "name": "stderr",
     "output_type": "stream",
     "text": [
      "/Users/justin/anaconda/lib/python3.5/site-packages/statsmodels/nonparametric/kdetools.py:20: VisibleDeprecationWarning: using a non-integer number instead of an integer will result in an error in the future\n",
      "  y = X[:m/2+1] + np.r_[0,X[m/2+1:],0]*1j\n"
     ]
    },
    {
     "data": {
      "image/png": "[encoded data removed]",
      "text/plain": [
       "<matplotlib.figure.Figure at 0x11a629ba8>"
      ]
     },
     "metadata": {},
     "output_type": "display_data"
    }
   ],
   "source": [
    "res1 = results2.resid\n",
    "# hist(res1, bins = 20);\n",
    "\n",
    "sns.distplot(res1, bins=15);"
   ]
  },
  {
   "cell_type": "code",
   "execution_count": 20,
   "metadata": {
    "collapsed": false
   },
   "outputs": [
    {
     "data": {
      "image/png": "[encoded data removed]",
      "text/plain": [
       "<matplotlib.figure.Figure at 0x11b600320>"
      ]
     },
     "metadata": {},
     "output_type": "display_data"
    }
   ],
   "source": [
    "sres1 = results2.resid_pearson\n",
    "qqplot(sres1)\n",
    "q = linspace(-3, 3)\n",
    "plot(q, q, color='r');"
   ]
  },
  {
   "cell_type": "markdown",
   "metadata": {},
   "source": [
    "does not fulfill normality assumption"
   ]
  },
  {
   "cell_type": "code",
   "execution_count": 24,
   "metadata": {
    "collapsed": false,
    "scrolled": true
   },
   "outputs": [
    {
     "data": {
      "text/plain": [
       "(1.1183396450197218,\n",
       " 0.57168346564738659,\n",
       " 0.51318680945944795,\n",
       " 0.6059001749289652)"
      ]
     },
     "execution_count": 24,
     "metadata": {},
     "output_type": "execute_result"
    }
   ],
   "source": [
    "het_breushpagan(results2.resid, results2.model.exog)"
   ]
  },
  {
   "cell_type": "code",
   "execution_count": 29,
   "metadata": {
    "collapsed": true
   },
   "outputs": [],
   "source": [
    "het_breushpagan?"
   ]
  },
  {
   "cell_type": "markdown",
   "metadata": {},
   "source": [
    "based on the results2 test, the p-value is 0.57168, so we reject the null hypothesis, and so we have evidence to suggest that there is constant variance.\n",
    "\n",
    "Hence, the model fulfills the Homoscedasticity assumption."
   ]
  },
  {
   "cell_type": "markdown",
   "metadata": {},
   "source": [
    "The p-value of 0.77 is greater than 0.05, so we would reject heteroskedasticity."
   ]
  },
  {
   "cell_type": "code",
   "execution_count": 22,
   "metadata": {
    "collapsed": false
   },
   "outputs": [
    {
     "data": {
      "image/png": "[encoded data removed]",
      "text/plain": [
       "<matplotlib.figure.Figure at 0x11b75c3c8>"
      ]
     },
     "metadata": {},
     "output_type": "display_data"
    }
   ],
   "source": [
    "log_y2 = np.log(y2)\n",
    "model2_log = sms.OLS(log_y2, X2)\n",
    "results2_log = model2_log.fit()\n",
    "\n",
    "sns.residplot(results2_log.fittedvalues, log_y2, df);"
   ]
  }
 ],
 "metadata": {
  "anaconda-cloud": {},
  "kernelspec": {
   "display_name": "Python [conda root]",
   "language": "python",
   "name": "conda-root-py"
  },
  "language_info": {
   "codemirror_mode": {
    "name": "ipython",
    "version": 3
   },
   "file_extension": ".py",
   "mimetype": "text/x-python",
   "name": "python",
   "nbconvert_exporter": "python",
   "pygments_lexer": "ipython3",
   "version": "3.5.2"
  }
 },
 "nbformat": 4,
 "nbformat_minor": 0
}
