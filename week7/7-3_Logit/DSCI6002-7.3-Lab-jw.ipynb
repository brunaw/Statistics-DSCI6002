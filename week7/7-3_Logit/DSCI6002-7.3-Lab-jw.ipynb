{
 "cells": [
  {
   "cell_type": "markdown",
   "metadata": {},
   "source": [
    "# Lab 7.3: Introduction to Logistic Regression"
   ]
  },
  {
   "cell_type": "markdown",
   "metadata": {},
   "source": [
    "**Question 1**\n",
    "\n",
    "1) Write a Python function that computes the value of the logistic function.  \n",
    "\n",
    "2) Define an array of values from -6 to 6 (using `numpy.linspace`), use the logistic function to obtain the probabilites, and plot the values (x) against the probabilities (y).\n",
    "  "
   ]
  },
  {
   "cell_type": "code",
   "execution_count": 1,
   "metadata": {
    "collapsed": false
   },
   "outputs": [
    {
     "name": "stdout",
     "output_type": "stream",
     "text": [
      "Populating the interactive namespace from numpy and matplotlib\n"
     ]
    }
   ],
   "source": [
    "%pylab inline\n",
    "\n",
    "import numpy as np\n",
    "import pandas as pd\n",
    "import seaborn as sns\n",
    "import statsmodels.api as sm\n",
    "import statsmodels.formula.api as smf"
   ]
  },
  {
   "cell_type": "code",
   "execution_count": 52,
   "metadata": {
    "collapsed": true
   },
   "outputs": [],
   "source": [
    "t = arange(-20, 20)\n",
    "\n",
    "def f(t):\n",
    "    return exp(t) / (1 + exp(t))\n",
    "\n",
    "# ylim((-0.2, 1.2))\n",
    "# xlabel('$t$')\n",
    "# ylabel('$f(t)$')\n",
    "# plot(t, f);"
   ]
  },
  {
   "cell_type": "code",
   "execution_count": 13,
   "metadata": {
    "collapsed": true
   },
   "outputs": [],
   "source": [
    "np.linspace?"
   ]
  },
  {
   "cell_type": "code",
   "execution_count": 16,
   "metadata": {
    "collapsed": false,
    "scrolled": true
   },
   "outputs": [
    {
     "data": {
      "image/png": "[encoded data removed]",
      "text/plain": [
       "<matplotlib.figure.Figure at 0x118238780>"
      ]
     },
     "metadata": {},
     "output_type": "display_data"
    }
   ],
   "source": [
    "a = np.linspace(-6,6)\n",
    "\n",
    "f = exp(a) / (1 + exp(a))\n",
    "\n",
    "ylim((-0.2, 1.2))\n",
    "xlabel('$t$')\n",
    "ylabel('$f(t)$')\n",
    "plot(a, f);"
   ]
  },
  {
   "cell_type": "markdown",
   "metadata": {},
   "source": [
    "**Question 2**\n",
    "\n",
    "You are given a data set with a binary response (`Shot`) in the `flu` table. The response of 1 represents people who have taken flu shots, 0 represents people who have not. `Age` represents the the age of the person and `Health_aware` is a score of how health aware the person is.\n",
    "\n",
    "\n",
    "1) As usual, make plots to explore your data. By inspecting the scatter matrix, guess if people who are more health aware would be more likely to have got flu shots and if people who are old would be more likely to have got flu shots.\n",
    "\n",
    "\n",
    "2) Why would it be inappropriate to use linear regression for this problem ?\n",
    "\n",
    "   \n",
    "3) Fit the data to a logistic regression model. Logistic regression is fitted in a similar manner in Python as linear regression, except the function we use is `Logit`.\n",
    "  \n",
    " \n",
    "4) Do the regression coefficients confirm your guesses in Part 1)? Why or why not?   \n",
    "\n",
    "5) How would you interpret the regression coefficients?"
   ]
  },
  {
   "cell_type": "code",
   "execution_count": 22,
   "metadata": {
    "collapsed": false
   },
   "outputs": [
    {
     "name": "stdout",
     "output_type": "stream",
     "text": [
      "The sql extension is already loaded. To reload it, use:\n",
      "  %reload_ext sql\n",
      "Populating the interactive namespace from numpy and matplotlib\n"
     ]
    },
    {
     "data": {
      "text/plain": [
       "'Connected: student@postgres'"
      ]
     },
     "execution_count": 22,
     "metadata": {},
     "output_type": "execute_result"
    }
   ],
   "source": [
    "%load_ext sql\n",
    "%pylab inline  \n",
    "import pandas as pd\n",
    "import yaml\n",
    "\n",
    "# pg_creds = yaml.load(open('../../pg_creds.yaml'))['student']\n",
    "\n",
    "# engine = create_engine('postgresql://{user}:{password}@{host}:{port}/{dbname}'.format(**pg_creds))\n",
    "\n",
    "# pg_creds = yaml.load(open('../../pg_creds.yaml'))['student']\n",
    "# connection_string = 'postgresql://{user}:{password}@{host}:{port}/{dbname}'.format(**pg_creds)\n",
    "\n",
    "# %sql $connection_string"
   ]
  },
  {
   "cell_type": "code",
   "execution_count": 28,
   "metadata": {
    "collapsed": false
   },
   "outputs": [
    {
     "data": {
      "text/html": [
       "<div>\n",
       "<table border=\"1\" class=\"dataframe\">\n",
       "  <thead>\n",
       "    <tr style=\"text-align: right;\">\n",
       "      <th></th>\n",
       "      <th>patient_id</th>\n",
       "      <th>Shot</th>\n",
       "      <th>Age</th>\n",
       "      <th>Health_aware</th>\n",
       "    </tr>\n",
       "  </thead>\n",
       "  <tbody>\n",
       "    <tr>\n",
       "      <th>0</th>\n",
       "      <td>0</td>\n",
       "      <td>0.0</td>\n",
       "      <td>38.0</td>\n",
       "      <td>40.0</td>\n",
       "    </tr>\n",
       "    <tr>\n",
       "      <th>1</th>\n",
       "      <td>1</td>\n",
       "      <td>1.0</td>\n",
       "      <td>52.0</td>\n",
       "      <td>60.0</td>\n",
       "    </tr>\n",
       "    <tr>\n",
       "      <th>2</th>\n",
       "      <td>2</td>\n",
       "      <td>0.0</td>\n",
       "      <td>41.0</td>\n",
       "      <td>36.0</td>\n",
       "    </tr>\n",
       "    <tr>\n",
       "      <th>3</th>\n",
       "      <td>3</td>\n",
       "      <td>1.0</td>\n",
       "      <td>46.0</td>\n",
       "      <td>59.0</td>\n",
       "    </tr>\n",
       "    <tr>\n",
       "      <th>4</th>\n",
       "      <td>4</td>\n",
       "      <td>1.0</td>\n",
       "      <td>41.0</td>\n",
       "      <td>70.0</td>\n",
       "    </tr>\n",
       "  </tbody>\n",
       "</table>\n",
       "</div>"
      ],
      "text/plain": [
       "   patient_id  Shot   Age  Health_aware\n",
       "0           0   0.0  38.0          40.0\n",
       "1           1   1.0  52.0          60.0\n",
       "2           2   0.0  41.0          36.0\n",
       "3           3   1.0  46.0          59.0\n",
       "4           4   1.0  41.0          70.0"
      ]
     },
     "execution_count": 28,
     "metadata": {},
     "output_type": "execute_result"
    }
   ],
   "source": [
    "from sqlalchemy import create_engine\n",
    "import yaml\n",
    "pg_creds = yaml.load(open('../../pg_creds.yaml'))['student']\n",
    "\n",
    "engine = create_engine('postgresql://{user}:{password}@{host}:{port}/{dbname}'.format(**pg_creds))\n",
    "conn = engine.connect()\n",
    "\n",
    "# r = pd.read_sql('select * from cloth_sales', engine)\n",
    "# r = pd.read_sql(\"\"\"select date_trunc('week', dt) from cloth_sales\"\"\", engine)\n",
    "r = pd.read_sql('select * from flu', engine)\n",
    "\n",
    "r.head()\n",
    "# SELECT date_trunc('hour', TIMESTAMP '2001-02-16 20:38:40')"
   ]
  },
  {
   "cell_type": "markdown",
   "metadata": {},
   "source": [
    "1) As usual, make plots to explore your data. By inspecting the scatter matrix, guess if people who are more health aware would be more likely to have got flu shots and if people who are old would be more likely to have got flu shots.\n"
   ]
  },
  {
   "cell_type": "code",
   "execution_count": 41,
   "metadata": {
    "collapsed": false,
    "scrolled": false
   },
   "outputs": [
    {
     "data": {
      "text/plain": [
       "<matplotlib.collections.PathCollection at 0x1347cc8d0>"
      ]
     },
     "execution_count": 41,
     "metadata": {},
     "output_type": "execute_result"
    },
    {
     "data": {
      "image/png": "[encoded data removed]",
      "text/plain": [
       "<matplotlib.figure.Figure at 0x12496b668>"
      ]
     },
     "metadata": {},
     "output_type": "display_data"
    }
   ],
   "source": [
    "# plot(r.Health_aware, r.Shot, type = 'scatter')\n",
    "matplotlib.pyplot.scatter(r.Health_aware, r.Shot)\n",
    "\n",
    "# yes, people who are more health aware are more likely to have the flu shot"
   ]
  },
  {
   "cell_type": "code",
   "execution_count": 42,
   "metadata": {
    "collapsed": false,
    "scrolled": true
   },
   "outputs": [
    {
     "data": {
      "text/plain": [
       "<matplotlib.collections.PathCollection at 0x134a38f28>"
      ]
     },
     "execution_count": 42,
     "metadata": {},
     "output_type": "execute_result"
    },
    {
     "data": {
      "image/png": "[encoded data removed]",
      "text/plain": [
       "<matplotlib.figure.Figure at 0x1347e7be0>"
      ]
     },
     "metadata": {},
     "output_type": "display_data"
    }
   ],
   "source": [
    "matplotlib.pyplot.scatter(r.Age, r.Shot)\n",
    "\n",
    "#yes, people who are older are more likely to have gotten the flu shot."
   ]
  },
  {
   "cell_type": "markdown",
   "metadata": {},
   "source": [
    "2) Why would it be inappropriate to use linear regression for this problem ?\n",
    "\n",
    "A linear regression is not appropriate because the value we are trying to predict is a boolean value."
   ]
  },
  {
   "cell_type": "markdown",
   "metadata": {},
   "source": [
    "3) Fit the data to a logistic regression model. Logistic regression is fitted in a similar manner in Python as linear regression, except the function we use is `Logit`."
   ]
  },
  {
   "cell_type": "code",
   "execution_count": 46,
   "metadata": {
    "collapsed": false,
    "scrolled": true
   },
   "outputs": [
    {
     "name": "stdout",
     "output_type": "stream",
     "text": [
      "Optimization terminated successfully.\n",
      "         Current function value: 0.324163\n",
      "         Iterations 8\n"
     ]
    },
    {
     "data": {
      "text/html": [
       "<table class=\"simpletable\">\n",
       "<caption>Logit Regression Results</caption>\n",
       "<tr>\n",
       "  <th>Dep. Variable:</th>       <td>Shot</td>       <th>  No. Observations:  </th>  <td>    50</td>  \n",
       "</tr>\n",
       "<tr>\n",
       "  <th>Model:</th>               <td>Logit</td>      <th>  Df Residuals:      </th>  <td>    47</td>  \n",
       "</tr>\n",
       "<tr>\n",
       "  <th>Method:</th>               <td>MLE</td>       <th>  Df Model:          </th>  <td>     2</td>  \n",
       "</tr>\n",
       "<tr>\n",
       "  <th>Date:</th>          <td>Thu, 13 Oct 2016</td> <th>  Pseudo R-squ.:     </th>  <td>0.5235</td>  \n",
       "</tr>\n",
       "<tr>\n",
       "  <th>Time:</th>              <td>15:21:48</td>     <th>  Log-Likelihood:    </th> <td> -16.208</td> \n",
       "</tr>\n",
       "<tr>\n",
       "  <th>converged:</th>           <td>True</td>       <th>  LL-Null:           </th> <td> -34.015</td> \n",
       "</tr>\n",
       "<tr>\n",
       "  <th> </th>                      <td> </td>        <th>  LLR p-value:       </th> <td>1.848e-08</td>\n",
       "</tr>\n",
       "</table>\n",
       "<table class=\"simpletable\">\n",
       "<tr>\n",
       "        <td></td>          <th>coef</th>     <th>std err</th>      <th>z</th>      <th>P>|z|</th>  <th>[0.025</th>    <th>0.975]</th>  \n",
       "</tr>\n",
       "<tr>\n",
       "  <th>Intercept</th>    <td>  -21.5846</td> <td>    6.418</td> <td>   -3.363</td> <td> 0.001</td> <td>  -34.164</td> <td>   -9.005</td>\n",
       "</tr>\n",
       "<tr>\n",
       "  <th>Age</th>          <td>    0.2218</td> <td>    0.074</td> <td>    2.983</td> <td> 0.003</td> <td>    0.076</td> <td>    0.368</td>\n",
       "</tr>\n",
       "<tr>\n",
       "  <th>Health_aware</th> <td>    0.2035</td> <td>    0.063</td> <td>    3.244</td> <td> 0.001</td> <td>    0.081</td> <td>    0.326</td>\n",
       "</tr>\n",
       "</table>"
      ],
      "text/plain": [
       "<class 'statsmodels.iolib.summary.Summary'>\n",
       "\"\"\"\n",
       "                           Logit Regression Results                           \n",
       "==============================================================================\n",
       "Dep. Variable:                   Shot   No. Observations:                   50\n",
       "Model:                          Logit   Df Residuals:                       47\n",
       "Method:                           MLE   Df Model:                            2\n",
       "Date:                Thu, 13 Oct 2016   Pseudo R-squ.:                  0.5235\n",
       "Time:                        15:21:48   Log-Likelihood:                -16.208\n",
       "converged:                       True   LL-Null:                       -34.015\n",
       "                                        LLR p-value:                 1.848e-08\n",
       "================================================================================\n",
       "                   coef    std err          z      P>|z|      [0.025      0.975]\n",
       "--------------------------------------------------------------------------------\n",
       "Intercept      -21.5846      6.418     -3.363      0.001     -34.164      -9.005\n",
       "Age              0.2218      0.074      2.983      0.003       0.076       0.368\n",
       "Health_aware     0.2035      0.063      3.244      0.001       0.081       0.326\n",
       "================================================================================\n",
       "\"\"\""
      ]
     },
     "execution_count": 46,
     "metadata": {},
     "output_type": "execute_result"
    }
   ],
   "source": [
    "logit_model1 = smf.logit(\"Shot ~ Age + Health_aware\", data=r).fit()\n",
    "logit_model1.summary()"
   ]
  },
  {
   "cell_type": "code",
   "execution_count": 49,
   "metadata": {
    "collapsed": false
   },
   "outputs": [],
   "source": [
    "# r.dropna()\n",
    "# sns.lmplot(\"Age\", \"Health_aware\", r, hue=\"Shot\", logistic=True, size=8, aspect=1.5, y_jitter=.1);"
   ]
  },
  {
   "cell_type": "code",
   "execution_count": null,
   "metadata": {
    "collapsed": true
   },
   "outputs": [],
   "source": [
    "4) Do the regression coefficients confirm your guesses in Part 1)? Why or why not?   \n",
    "\n",
    "# yes, because both coefficients are positive, so age or health_aware increases, so does the \"y\" used to calculate the predicted value\n",
    "# So higher age or health_aware leads to higher probabiliy of having flu shot.\n",
    "\n",
    "# 5) How would you interpret the regression coefficients? - omit"
   ]
  },
  {
   "cell_type": "markdown",
   "metadata": {},
   "source": [
    "**Question 3**  \n",
    "\n",
    "The data set https://s3-us-west-2.amazonaws.com/dsci/6002/data/lrb.csv has data on 61 married couples. The dependent variable is HAPPYMAR, respondent’s marital happiness (1 = Very Happy, 0 = Otherwise). CHURCH, Church attendance (1 = Often attends, 0 = other), FEMALE (1 = female, 0 = male), and EDUC, Years of education, are the explanatory variables.  \n",
    "\n",
    "1) Run the logistic regression of happymar on church, female and educ.  \n",
    "\n",
    "2) Are all three explanatory variables needed in the model?  \n",
    "\n",
    "3) Based on the signs of the logistic regression coefficients (positive or negative), interpret their impact on the probability of a happy marriage. Any surprises?  \n",
    "\n",
    "4) Determine the probability of marital happiness for: (a) a male with 8 years of education who is not a regular churchgoer (b) a male with 8 years of education who is a regular churchgoer (c) a female with 16 years of education who is not a regular churchgoer (d) a female with 16 years of education who is a regular churchgoer. "
   ]
  },
  {
   "cell_type": "code",
   "execution_count": 57,
   "metadata": {
    "collapsed": false
   },
   "outputs": [
    {
     "data": {
      "text/html": [
       "<div>\n",
       "<table border=\"1\" class=\"dataframe\">\n",
       "  <thead>\n",
       "    <tr style=\"text-align: right;\">\n",
       "      <th></th>\n",
       "      <th>happymar</th>\n",
       "      <th>church</th>\n",
       "      <th>female</th>\n",
       "      <th>educ</th>\n",
       "    </tr>\n",
       "  </thead>\n",
       "  <tbody>\n",
       "    <tr>\n",
       "      <th>0</th>\n",
       "      <td>0</td>\n",
       "      <td>0</td>\n",
       "      <td>0</td>\n",
       "      <td>9</td>\n",
       "    </tr>\n",
       "    <tr>\n",
       "      <th>1</th>\n",
       "      <td>1</td>\n",
       "      <td>0</td>\n",
       "      <td>1</td>\n",
       "      <td>10</td>\n",
       "    </tr>\n",
       "    <tr>\n",
       "      <th>2</th>\n",
       "      <td>1</td>\n",
       "      <td>1</td>\n",
       "      <td>1</td>\n",
       "      <td>16</td>\n",
       "    </tr>\n",
       "    <tr>\n",
       "      <th>3</th>\n",
       "      <td>1</td>\n",
       "      <td>1</td>\n",
       "      <td>1</td>\n",
       "      <td>11</td>\n",
       "    </tr>\n",
       "    <tr>\n",
       "      <th>4</th>\n",
       "      <td>1</td>\n",
       "      <td>1</td>\n",
       "      <td>1</td>\n",
       "      <td>12</td>\n",
       "    </tr>\n",
       "  </tbody>\n",
       "</table>\n",
       "</div>"
      ],
      "text/plain": [
       "   happymar  church  female  educ\n",
       "0         0       0       0     9\n",
       "1         1       0       1    10\n",
       "2         1       1       1    16\n",
       "3         1       1       1    11\n",
       "4         1       1       1    12"
      ]
     },
     "execution_count": 57,
     "metadata": {},
     "output_type": "execute_result"
    }
   ],
   "source": [
    "df = pd.read_csv(\"https://s3-us-west-2.amazonaws.com/dsci/6002/data/lrb.csv\")\n",
    "df.head()"
   ]
  },
  {
   "cell_type": "code",
   "execution_count": 58,
   "metadata": {
    "collapsed": false
   },
   "outputs": [
    {
     "name": "stdout",
     "output_type": "stream",
     "text": [
      "Optimization terminated successfully.\n",
      "         Current function value: 0.403833\n",
      "         Iterations 7\n"
     ]
    },
    {
     "data": {
      "text/html": [
       "<table class=\"simpletable\">\n",
       "<caption>Logit Regression Results</caption>\n",
       "<tr>\n",
       "  <th>Dep. Variable:</th>     <td>happymar</td>     <th>  No. Observations:  </th>  <td>    61</td>  \n",
       "</tr>\n",
       "<tr>\n",
       "  <th>Model:</th>               <td>Logit</td>      <th>  Df Residuals:      </th>  <td>    57</td>  \n",
       "</tr>\n",
       "<tr>\n",
       "  <th>Method:</th>               <td>MLE</td>       <th>  Df Model:          </th>  <td>     3</td>  \n",
       "</tr>\n",
       "<tr>\n",
       "  <th>Date:</th>          <td>Thu, 13 Oct 2016</td> <th>  Pseudo R-squ.:     </th>  <td>0.3823</td>  \n",
       "</tr>\n",
       "<tr>\n",
       "  <th>Time:</th>              <td>15:36:32</td>     <th>  Log-Likelihood:    </th> <td> -24.634</td> \n",
       "</tr>\n",
       "<tr>\n",
       "  <th>converged:</th>           <td>True</td>       <th>  LL-Null:           </th> <td> -39.881</td> \n",
       "</tr>\n",
       "<tr>\n",
       "  <th> </th>                      <td> </td>        <th>  LLR p-value:       </th> <td>1.086e-06</td>\n",
       "</tr>\n",
       "</table>\n",
       "<table class=\"simpletable\">\n",
       "<tr>\n",
       "      <td></td>         <th>coef</th>     <th>std err</th>      <th>z</th>      <th>P>|z|</th>  <th>[0.025</th>    <th>0.975]</th>  \n",
       "</tr>\n",
       "<tr>\n",
       "  <th>Intercept</th> <td>   -8.1586</td> <td>    3.285</td> <td>   -2.483</td> <td> 0.013</td> <td>  -14.598</td> <td>   -1.719</td>\n",
       "</tr>\n",
       "<tr>\n",
       "  <th>church</th>    <td>    2.9075</td> <td>    0.921</td> <td>    3.158</td> <td> 0.002</td> <td>    1.103</td> <td>    4.712</td>\n",
       "</tr>\n",
       "<tr>\n",
       "  <th>female</th>    <td>    2.3945</td> <td>    0.877</td> <td>    2.729</td> <td> 0.006</td> <td>    0.675</td> <td>    4.114</td>\n",
       "</tr>\n",
       "<tr>\n",
       "  <th>educ</th>      <td>    0.5267</td> <td>    0.265</td> <td>    1.986</td> <td> 0.047</td> <td>    0.007</td> <td>    1.046</td>\n",
       "</tr>\n",
       "</table>"
      ],
      "text/plain": [
       "<class 'statsmodels.iolib.summary.Summary'>\n",
       "\"\"\"\n",
       "                           Logit Regression Results                           \n",
       "==============================================================================\n",
       "Dep. Variable:               happymar   No. Observations:                   61\n",
       "Model:                          Logit   Df Residuals:                       57\n",
       "Method:                           MLE   Df Model:                            3\n",
       "Date:                Thu, 13 Oct 2016   Pseudo R-squ.:                  0.3823\n",
       "Time:                        15:36:32   Log-Likelihood:                -24.634\n",
       "converged:                       True   LL-Null:                       -39.881\n",
       "                                        LLR p-value:                 1.086e-06\n",
       "==============================================================================\n",
       "                 coef    std err          z      P>|z|      [0.025      0.975]\n",
       "------------------------------------------------------------------------------\n",
       "Intercept     -8.1586      3.285     -2.483      0.013     -14.598      -1.719\n",
       "church         2.9075      0.921      3.158      0.002       1.103       4.712\n",
       "female         2.3945      0.877      2.729      0.006       0.675       4.114\n",
       "educ           0.5267      0.265      1.986      0.047       0.007       1.046\n",
       "==============================================================================\n",
       "\"\"\""
      ]
     },
     "execution_count": 58,
     "metadata": {},
     "output_type": "execute_result"
    }
   ],
   "source": [
    "logit_model1 = smf.logit(\"happymar ~ church + female + educ\", data=df).fit()\n",
    "logit_model1.summary()"
   ]
  },
  {
   "cell_type": "markdown",
   "metadata": {},
   "source": [
    "2) Are all three explanatory variables needed in the model?\n",
    "\n",
    "Yes, the p-value for each explanatory variable is significant (under .05)\n",
    "\n",
    "3) Based on the signs of the logistic regression coefficients (positive or negative), interpret their impact on the probability of a happy marriage. Any surprises?\n",
    "\n",
    "no, they are all positive, so they positively contribute to a happy marriage.\n",
    "If we order the predictors by their magnitude, we can see that church attentdance has the highest impact on happy marrriage, followed by female, and lastly by an additional year of education.\n",
    "\n",
    "4) Determine the probability of marital happiness for: (a) a male with 8 years of education who is not a regular churchgoer (b) a male with 8 years of education who is a regular churchgoer (c) a female with 16 years of education who is not a regular churchgoer (d) a female with 16 years of education who is a regular churchgoer. "
   ]
  },
  {
   "cell_type": "code",
   "execution_count": 60,
   "metadata": {
    "collapsed": false
   },
   "outputs": [
    {
     "name": "stdout",
     "output_type": "stream",
     "text": [
      "a: 0.0189838556711\n",
      "b: 0.261632658562\n",
      "c: 0.934813825899\n",
      "d: 0.9962062525\n"
     ]
    }
   ],
   "source": [
    "### list is intercept, church, female, education\n",
    "def pred(x):\n",
    "   a = -8.1586*x[0] + 2.9075*x[1] + 2.3945*x[2] + .5267*x[3]\n",
    "   return f(a)\n",
    "\n",
    "\n",
    "print('a:', pred([1, 0, 0, 8]))\n",
    "print('b:', pred([1, 1, 0, 8]))\n",
    "print('c:', pred([1, 0, 1, 16]))\n",
    "print('d:', pred([1, 1, 1, 16]))"
   ]
  },
  {
   "cell_type": "code",
   "execution_count": null,
   "metadata": {
    "collapsed": true
   },
   "outputs": [],
   "source": []
  }
 ],
 "metadata": {
  "anaconda-cloud": {},
  "kernelspec": {
   "display_name": "Python [conda root]",
   "language": "python",
   "name": "conda-root-py"
  },
  "language_info": {
   "codemirror_mode": {
    "name": "ipython",
    "version": 3
   },
   "file_extension": ".py",
   "mimetype": "text/x-python",
   "name": "python",
   "nbconvert_exporter": "python",
   "pygments_lexer": "ipython3",
   "version": "3.5.2"
  }
 },
 "nbformat": 4,
 "nbformat_minor": 0
}
