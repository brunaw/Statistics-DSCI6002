{
 "cells": [
  {
   "cell_type": "markdown",
   "metadata": {},
   "source": [
    "# Lab 1.3: Exploratory Data Analysis (EDA) with Pandas\n",
    "\n",
    "## Outline\n",
    "\n",
    "* Introduction to Pandas\n",
    "* EDA using Pandas\n",
    "\n",
    "Exploratory data analysis is a first crucial step to building predictive models from your data. EDA allows you\n",
    "to confirm or invalidate some of the assumptions you are making about your data and understand relationships between your variables."
   ]
  },
  {
   "cell_type": "markdown",
   "metadata": {},
   "source": [
    "## Getting Started with [Pandas](http://pandas.pydata.org/pandas-docs/version/0.17.1/)\n",
    "\n",
    "### What is Pandas?\n",
    "A Python library providing data structures and data analysis tools.\n",
    "\n",
    "### Huh?\n",
    "Think of it like Excel for Python but better."
   ]
  },
  {
   "cell_type": "code",
   "execution_count": 2,
   "metadata": {
    "collapsed": true
   },
   "outputs": [],
   "source": [
    "#By convention import pandas like:\n",
    "import pandas as pd"
   ]
  },
  {
   "cell_type": "code",
   "execution_count": 3,
   "metadata": {
    "collapsed": true
   },
   "outputs": [],
   "source": [
    "#For fake data.\n",
    "from numpy.random import randn\n",
    "import numpy as np"
   ]
  },
  {
   "cell_type": "markdown",
   "metadata": {},
   "source": [
    "## Series\n",
    "Think of a Pandas Series as a _labeled_ one-dimensional vector. In fact, it need not be a numeric vector, it can contain arbitrary python objects."
   ]
  },
  {
   "cell_type": "code",
   "execution_count": 4,
   "metadata": {
    "collapsed": false
   },
   "outputs": [
    {
     "data": {
      "text/plain": [
       "0    0\n",
       "1    1\n",
       "2    2\n",
       "3    3\n",
       "4    4\n",
       "dtype: int64"
      ]
     },
     "execution_count": 4,
     "metadata": {},
     "output_type": "execute_result"
    }
   ],
   "source": [
    "int_series = pd.Series(range(10))\n",
    "int_series.head()"
   ]
  },
  {
   "cell_type": "code",
   "execution_count": 5,
   "metadata": {
    "collapsed": false
   },
   "outputs": [
    {
     "data": {
      "text/plain": [
       "0   -0.708048\n",
       "1   -0.088982\n",
       "2   -1.316593\n",
       "3    0.411314\n",
       "4   -0.174575\n",
       "dtype: float64"
      ]
     },
     "execution_count": 5,
     "metadata": {},
     "output_type": "execute_result"
    }
   ],
   "source": [
    "num_series = pd.Series(randn(10))\n",
    "num_series.head()"
   ]
  },
  {
   "cell_type": "code",
   "execution_count": 6,
   "metadata": {
    "collapsed": false
   },
   "outputs": [
    {
     "data": {
      "text/plain": [
       "0    a\n",
       "1    b\n",
       "2    c\n",
       "3    d\n",
       "4    e\n",
       "dtype: object"
      ]
     },
     "execution_count": 6,
     "metadata": {},
     "output_type": "execute_result"
    }
   ],
   "source": [
    "str_series = pd.Series([x for x in 'abcde'*2])\n",
    "str_series.head()"
   ]
  },
  {
   "cell_type": "markdown",
   "metadata": {},
   "source": [
    "## Indexes\n",
    "Notice how each series has an index (in this case a relatively meaningless default index).\n",
    "\n",
    "Pandas can make great use of informative indexes. Indexes work similarly to a dictionary key, allowing fast lookups of the data associated with the index.\n",
    "\n",
    "Indexes can also be exploited for fast group-bys, merges, time-series operations and lots more.\n",
    "\n",
    "When you're really in the zone with pandas, you'll be thinking a lot about indexes."
   ]
  },
  {
   "cell_type": "code",
   "execution_count": 7,
   "metadata": {
    "collapsed": false
   },
   "outputs": [
    {
     "name": "stdout",
     "output_type": "stream",
     "text": [
      "California    0.055912\n",
      "Alabama       0.344969\n",
      "Indiana       0.087496\n",
      "Montana       1.325796\n",
      "Kentucky      0.879472\n",
      "dtype: float64\n",
      "\n",
      "\n",
      "Washington    1.126657\n",
      "Alabama      -1.476289\n",
      "Montana      -1.514470\n",
      "Indiana       1.215172\n",
      "New York     -0.069343\n",
      "dtype: float64\n"
     ]
    }
   ],
   "source": [
    "indexed_series = pd.Series(randn(5), \n",
    "                           index = ['California', 'Alabama', \n",
    "                                    'Indiana', 'Montana', \n",
    "                                    'Kentucky'])\n",
    "alt_indexed_series = pd.Series(randn(5),\n",
    "                               index = ['Washington', 'Alabama', \n",
    "                                        'Montana', 'Indiana', \n",
    "                                        'New York'])\n",
    "print (indexed_series)\n",
    "print ('\\n')\n",
    "print (alt_indexed_series)"
   ]
  },
  {
   "cell_type": "code",
   "execution_count": 8,
   "metadata": {
    "collapsed": false
   },
   "outputs": [
    {
     "data": {
      "text/plain": [
       "Alabama      -1.131320\n",
       "California         NaN\n",
       "Indiana       1.302668\n",
       "Kentucky           NaN\n",
       "Montana      -0.188674\n",
       "New York           NaN\n",
       "Washington         NaN\n",
       "dtype: float64"
      ]
     },
     "execution_count": 8,
     "metadata": {},
     "output_type": "execute_result"
    }
   ],
   "source": [
    "#Pandas uses the index by default to align series for arithmetic!\n",
    "indexed_series + alt_indexed_series"
   ]
  },
  {
   "cell_type": "code",
   "execution_count": 9,
   "metadata": {
    "collapsed": false
   },
   "outputs": [
    {
     "data": {
      "text/plain": [
       "Alabama      -0.060033\n",
       "California   -0.276105\n",
       "Indiana       0.034869\n",
       "Kentucky      0.191606\n",
       "Montana      -0.240487\n",
       "dtype: float64"
      ]
     },
     "execution_count": 9,
     "metadata": {},
     "output_type": "execute_result"
    }
   ],
   "source": [
    "indexed_series = pd.Series(randn(5*10), \n",
    "                           index = ['California', 'Alabama', \n",
    "                                    'Indiana', 'Montana', \n",
    "                                    'Kentucky']*10)\n",
    "#If you have non-unique indexes, you can use them \n",
    "#to do groupby operations.\n",
    "indexed_series.groupby(level=0).mean()"
   ]
  },
  {
   "cell_type": "code",
   "execution_count": 10,
   "metadata": {
    "collapsed": false
   },
   "outputs": [
    {
     "data": {
      "text/plain": [
       "2015-01-31    1.151146\n",
       "2015-02-28   -1.486258\n",
       "2015-03-31    0.171612\n",
       "2015-04-30   -1.705015\n",
       "2015-05-31    0.569381\n",
       "2015-06-30   -1.290185\n",
       "2015-07-31   -0.075463\n",
       "2015-08-31    0.760811\n",
       "2015-09-30    0.710315\n",
       "2015-10-31    0.352290\n",
       "Freq: M, dtype: float64"
      ]
     },
     "execution_count": 10,
     "metadata": {},
     "output_type": "execute_result"
    }
   ],
   "source": [
    "#Datetime index\n",
    "dt_index = pd.date_range('2015-1-1', \n",
    "                        '2015-11-1', \n",
    "                        freq='m')\n",
    "dt_series = pd.Series(randn(10), \n",
    "                      index = dt_index)\n",
    "dt_series"
   ]
  },
  {
   "cell_type": "code",
   "execution_count": 11,
   "metadata": {
    "collapsed": false
   },
   "outputs": [
    {
     "data": {
      "text/plain": [
       "2015-03-31   -0.054500\n",
       "2015-06-30   -0.808606\n",
       "2015-09-30    0.465221\n",
       "2015-12-31    0.352290\n",
       "Freq: Q-DEC, dtype: float64"
      ]
     },
     "execution_count": 11,
     "metadata": {},
     "output_type": "execute_result"
    }
   ],
   "source": [
    "#Datetime indexes make it easy to transform freqs etc!\n",
    "dt_series.resample('q').mean()"
   ]
  },
  {
   "cell_type": "markdown",
   "metadata": {},
   "source": [
    "## DataFrames\n",
    "Data frames extend the concept of Series to table-like data."
   ]
  },
  {
   "cell_type": "code",
   "execution_count": 12,
   "metadata": {
    "collapsed": false
   },
   "outputs": [
    {
     "data": {
      "text/html": [
       "<div>\n",
       "<table border=\"1\" class=\"dataframe\">\n",
       "  <thead>\n",
       "    <tr style=\"text-align: right;\">\n",
       "      <th></th>\n",
       "      <th>a</th>\n",
       "      <th>b</th>\n",
       "      <th>c</th>\n",
       "      <th>d</th>\n",
       "      <th>e</th>\n",
       "    </tr>\n",
       "  </thead>\n",
       "  <tbody>\n",
       "    <tr>\n",
       "      <th>2015-01-31</th>\n",
       "      <td>-0.651375</td>\n",
       "      <td>0.221333</td>\n",
       "      <td>-0.836096</td>\n",
       "      <td>-0.080427</td>\n",
       "      <td>1.347580</td>\n",
       "    </tr>\n",
       "    <tr>\n",
       "      <th>2015-02-28</th>\n",
       "      <td>0.633437</td>\n",
       "      <td>0.666350</td>\n",
       "      <td>-0.109188</td>\n",
       "      <td>-0.860639</td>\n",
       "      <td>1.623306</td>\n",
       "    </tr>\n",
       "    <tr>\n",
       "      <th>2015-03-31</th>\n",
       "      <td>1.452037</td>\n",
       "      <td>0.731658</td>\n",
       "      <td>0.052300</td>\n",
       "      <td>-0.421857</td>\n",
       "      <td>-0.582645</td>\n",
       "    </tr>\n",
       "    <tr>\n",
       "      <th>2015-04-30</th>\n",
       "      <td>1.289965</td>\n",
       "      <td>-0.737686</td>\n",
       "      <td>0.096160</td>\n",
       "      <td>-0.453808</td>\n",
       "      <td>-0.721682</td>\n",
       "    </tr>\n",
       "    <tr>\n",
       "      <th>2015-05-31</th>\n",
       "      <td>2.401577</td>\n",
       "      <td>-0.645831</td>\n",
       "      <td>0.730399</td>\n",
       "      <td>1.114318</td>\n",
       "      <td>0.044998</td>\n",
       "    </tr>\n",
       "    <tr>\n",
       "      <th>2015-06-30</th>\n",
       "      <td>-0.577385</td>\n",
       "      <td>-0.377031</td>\n",
       "      <td>0.409097</td>\n",
       "      <td>-0.376251</td>\n",
       "      <td>0.321368</td>\n",
       "    </tr>\n",
       "    <tr>\n",
       "      <th>2015-07-31</th>\n",
       "      <td>0.490679</td>\n",
       "      <td>0.044381</td>\n",
       "      <td>0.444019</td>\n",
       "      <td>1.216976</td>\n",
       "      <td>-0.251194</td>\n",
       "    </tr>\n",
       "    <tr>\n",
       "      <th>2015-08-31</th>\n",
       "      <td>0.376711</td>\n",
       "      <td>-0.072741</td>\n",
       "      <td>0.226901</td>\n",
       "      <td>-0.242413</td>\n",
       "      <td>-0.607972</td>\n",
       "    </tr>\n",
       "    <tr>\n",
       "      <th>2015-09-30</th>\n",
       "      <td>0.534466</td>\n",
       "      <td>0.652861</td>\n",
       "      <td>-0.326828</td>\n",
       "      <td>0.194342</td>\n",
       "      <td>-0.057844</td>\n",
       "    </tr>\n",
       "    <tr>\n",
       "      <th>2015-10-31</th>\n",
       "      <td>1.064402</td>\n",
       "      <td>1.049801</td>\n",
       "      <td>1.164941</td>\n",
       "      <td>2.503248</td>\n",
       "      <td>-0.830567</td>\n",
       "    </tr>\n",
       "  </tbody>\n",
       "</table>\n",
       "</div>"
      ],
      "text/plain": [
       "                   a         b         c         d         e\n",
       "2015-01-31 -0.651375  0.221333 -0.836096 -0.080427  1.347580\n",
       "2015-02-28  0.633437  0.666350 -0.109188 -0.860639  1.623306\n",
       "2015-03-31  1.452037  0.731658  0.052300 -0.421857 -0.582645\n",
       "2015-04-30  1.289965 -0.737686  0.096160 -0.453808 -0.721682\n",
       "2015-05-31  2.401577 -0.645831  0.730399  1.114318  0.044998\n",
       "2015-06-30 -0.577385 -0.377031  0.409097 -0.376251  0.321368\n",
       "2015-07-31  0.490679  0.044381  0.444019  1.216976 -0.251194\n",
       "2015-08-31  0.376711 -0.072741  0.226901 -0.242413 -0.607972\n",
       "2015-09-30  0.534466  0.652861 -0.326828  0.194342 -0.057844\n",
       "2015-10-31  1.064402  1.049801  1.164941  2.503248 -0.830567"
      ]
     },
     "execution_count": 12,
     "metadata": {},
     "output_type": "execute_result"
    }
   ],
   "source": [
    "df = pd.DataFrame(randn(10, 5), index=dt_index, columns=[x for x in 'abcde'])\n",
    "df"
   ]
  },
  {
   "cell_type": "code",
   "execution_count": 13,
   "metadata": {
    "collapsed": false
   },
   "outputs": [
    {
     "data": {
      "text/plain": [
       "pandas.core.series.Series"
      ]
     },
     "execution_count": 13,
     "metadata": {},
     "output_type": "execute_result"
    }
   ],
   "source": [
    "#A dataframes columns are series:\n",
    "col = df.a\n",
    "type(col)"
   ]
  },
  {
   "cell_type": "code",
   "execution_count": 14,
   "metadata": {
    "collapsed": false
   },
   "outputs": [
    {
     "data": {
      "text/plain": [
       "pandas.core.series.Series"
      ]
     },
     "execution_count": 14,
     "metadata": {},
     "output_type": "execute_result"
    }
   ],
   "source": [
    "#So are the rows.\n",
    "row = df.ix['2015-01-31']\n",
    "type(row)"
   ]
  },
  {
   "cell_type": "code",
   "execution_count": 15,
   "metadata": {
    "collapsed": false
   },
   "outputs": [
    {
     "data": {
      "text/plain": [
       "DatetimeIndex(['2015-01-31', '2015-02-28', '2015-03-31', '2015-04-30',\n",
       "               '2015-05-31', '2015-06-30', '2015-07-31', '2015-08-31',\n",
       "               '2015-09-30', '2015-10-31'],\n",
       "              dtype='datetime64[ns]', freq='M')"
      ]
     },
     "execution_count": 15,
     "metadata": {},
     "output_type": "execute_result"
    }
   ],
   "source": [
    "#The columns all have the same index:\n",
    "col.index   "
   ]
  },
  {
   "cell_type": "code",
   "execution_count": 16,
   "metadata": {
    "collapsed": false
   },
   "outputs": [
    {
     "data": {
      "text/plain": [
       "Index(['a', 'b', 'c', 'd', 'e'], dtype='object')"
      ]
     },
     "execution_count": 16,
     "metadata": {},
     "output_type": "execute_result"
    }
   ],
   "source": [
    "#What's the index for the rows?\n",
    "row.index"
   ]
  },
  {
   "cell_type": "markdown",
   "metadata": {},
   "source": [
    "## DataFrame basics"
   ]
  },
  {
   "cell_type": "code",
   "execution_count": 17,
   "metadata": {
    "collapsed": false
   },
   "outputs": [
    {
     "data": {
      "text/html": [
       "<div>\n",
       "<table border=\"1\" class=\"dataframe\">\n",
       "  <thead>\n",
       "    <tr style=\"text-align: right;\">\n",
       "      <th></th>\n",
       "      <th>a</th>\n",
       "      <th>b</th>\n",
       "      <th>c</th>\n",
       "      <th>d</th>\n",
       "      <th>e</th>\n",
       "      <th>new</th>\n",
       "    </tr>\n",
       "  </thead>\n",
       "  <tbody>\n",
       "    <tr>\n",
       "      <th>2015-01-31</th>\n",
       "      <td>-0.651375</td>\n",
       "      <td>0.221333</td>\n",
       "      <td>-0.836096</td>\n",
       "      <td>-0.080427</td>\n",
       "      <td>1.347580</td>\n",
       "      <td>-0.430042</td>\n",
       "    </tr>\n",
       "    <tr>\n",
       "      <th>2015-02-28</th>\n",
       "      <td>0.633437</td>\n",
       "      <td>0.666350</td>\n",
       "      <td>-0.109188</td>\n",
       "      <td>-0.860639</td>\n",
       "      <td>1.623306</td>\n",
       "      <td>1.299787</td>\n",
       "    </tr>\n",
       "    <tr>\n",
       "      <th>2015-03-31</th>\n",
       "      <td>1.452037</td>\n",
       "      <td>0.731658</td>\n",
       "      <td>0.052300</td>\n",
       "      <td>-0.421857</td>\n",
       "      <td>-0.582645</td>\n",
       "      <td>2.183694</td>\n",
       "    </tr>\n",
       "    <tr>\n",
       "      <th>2015-04-30</th>\n",
       "      <td>1.289965</td>\n",
       "      <td>-0.737686</td>\n",
       "      <td>0.096160</td>\n",
       "      <td>-0.453808</td>\n",
       "      <td>-0.721682</td>\n",
       "      <td>0.552279</td>\n",
       "    </tr>\n",
       "    <tr>\n",
       "      <th>2015-05-31</th>\n",
       "      <td>2.401577</td>\n",
       "      <td>-0.645831</td>\n",
       "      <td>0.730399</td>\n",
       "      <td>1.114318</td>\n",
       "      <td>0.044998</td>\n",
       "      <td>1.755746</td>\n",
       "    </tr>\n",
       "    <tr>\n",
       "      <th>2015-06-30</th>\n",
       "      <td>-0.577385</td>\n",
       "      <td>-0.377031</td>\n",
       "      <td>0.409097</td>\n",
       "      <td>-0.376251</td>\n",
       "      <td>0.321368</td>\n",
       "      <td>-0.954416</td>\n",
       "    </tr>\n",
       "    <tr>\n",
       "      <th>2015-07-31</th>\n",
       "      <td>0.490679</td>\n",
       "      <td>0.044381</td>\n",
       "      <td>0.444019</td>\n",
       "      <td>1.216976</td>\n",
       "      <td>-0.251194</td>\n",
       "      <td>0.535060</td>\n",
       "    </tr>\n",
       "    <tr>\n",
       "      <th>2015-08-31</th>\n",
       "      <td>0.376711</td>\n",
       "      <td>-0.072741</td>\n",
       "      <td>0.226901</td>\n",
       "      <td>-0.242413</td>\n",
       "      <td>-0.607972</td>\n",
       "      <td>0.303969</td>\n",
       "    </tr>\n",
       "    <tr>\n",
       "      <th>2015-09-30</th>\n",
       "      <td>0.534466</td>\n",
       "      <td>0.652861</td>\n",
       "      <td>-0.326828</td>\n",
       "      <td>0.194342</td>\n",
       "      <td>-0.057844</td>\n",
       "      <td>1.187327</td>\n",
       "    </tr>\n",
       "    <tr>\n",
       "      <th>2015-10-31</th>\n",
       "      <td>1.064402</td>\n",
       "      <td>1.049801</td>\n",
       "      <td>1.164941</td>\n",
       "      <td>2.503248</td>\n",
       "      <td>-0.830567</td>\n",
       "      <td>2.114203</td>\n",
       "    </tr>\n",
       "  </tbody>\n",
       "</table>\n",
       "</div>"
      ],
      "text/plain": [
       "                   a         b         c         d         e       new\n",
       "2015-01-31 -0.651375  0.221333 -0.836096 -0.080427  1.347580 -0.430042\n",
       "2015-02-28  0.633437  0.666350 -0.109188 -0.860639  1.623306  1.299787\n",
       "2015-03-31  1.452037  0.731658  0.052300 -0.421857 -0.582645  2.183694\n",
       "2015-04-30  1.289965 -0.737686  0.096160 -0.453808 -0.721682  0.552279\n",
       "2015-05-31  2.401577 -0.645831  0.730399  1.114318  0.044998  1.755746\n",
       "2015-06-30 -0.577385 -0.377031  0.409097 -0.376251  0.321368 -0.954416\n",
       "2015-07-31  0.490679  0.044381  0.444019  1.216976 -0.251194  0.535060\n",
       "2015-08-31  0.376711 -0.072741  0.226901 -0.242413 -0.607972  0.303969\n",
       "2015-09-30  0.534466  0.652861 -0.326828  0.194342 -0.057844  1.187327\n",
       "2015-10-31  1.064402  1.049801  1.164941  2.503248 -0.830567  2.114203"
      ]
     },
     "execution_count": 17,
     "metadata": {},
     "output_type": "execute_result"
    }
   ],
   "source": [
    "#New column\n",
    "df['new'] = df['a'] + df['b']\n",
    "df"
   ]
  },
  {
   "cell_type": "code",
   "execution_count": 18,
   "metadata": {
    "collapsed": false
   },
   "outputs": [
    {
     "data": {
      "text/html": [
       "<div>\n",
       "<table border=\"1\" class=\"dataframe\">\n",
       "  <thead>\n",
       "    <tr style=\"text-align: right;\">\n",
       "      <th></th>\n",
       "      <th>a</th>\n",
       "      <th>b</th>\n",
       "      <th>c</th>\n",
       "      <th>d</th>\n",
       "      <th>e</th>\n",
       "    </tr>\n",
       "  </thead>\n",
       "  <tbody>\n",
       "    <tr>\n",
       "      <th>2015-01-31</th>\n",
       "      <td>-0.651375</td>\n",
       "      <td>0.221333</td>\n",
       "      <td>-0.836096</td>\n",
       "      <td>-0.080427</td>\n",
       "      <td>1.347580</td>\n",
       "    </tr>\n",
       "    <tr>\n",
       "      <th>2015-02-28</th>\n",
       "      <td>0.633437</td>\n",
       "      <td>0.666350</td>\n",
       "      <td>-0.109188</td>\n",
       "      <td>-0.860639</td>\n",
       "      <td>1.623306</td>\n",
       "    </tr>\n",
       "    <tr>\n",
       "      <th>2015-03-31</th>\n",
       "      <td>1.452037</td>\n",
       "      <td>0.731658</td>\n",
       "      <td>0.052300</td>\n",
       "      <td>-0.421857</td>\n",
       "      <td>-0.582645</td>\n",
       "    </tr>\n",
       "    <tr>\n",
       "      <th>2015-04-30</th>\n",
       "      <td>1.289965</td>\n",
       "      <td>-0.737686</td>\n",
       "      <td>0.096160</td>\n",
       "      <td>-0.453808</td>\n",
       "      <td>-0.721682</td>\n",
       "    </tr>\n",
       "    <tr>\n",
       "      <th>2015-05-31</th>\n",
       "      <td>2.401577</td>\n",
       "      <td>-0.645831</td>\n",
       "      <td>0.730399</td>\n",
       "      <td>1.114318</td>\n",
       "      <td>0.044998</td>\n",
       "    </tr>\n",
       "    <tr>\n",
       "      <th>2015-06-30</th>\n",
       "      <td>-0.577385</td>\n",
       "      <td>-0.377031</td>\n",
       "      <td>0.409097</td>\n",
       "      <td>-0.376251</td>\n",
       "      <td>0.321368</td>\n",
       "    </tr>\n",
       "    <tr>\n",
       "      <th>2015-07-31</th>\n",
       "      <td>0.490679</td>\n",
       "      <td>0.044381</td>\n",
       "      <td>0.444019</td>\n",
       "      <td>1.216976</td>\n",
       "      <td>-0.251194</td>\n",
       "    </tr>\n",
       "    <tr>\n",
       "      <th>2015-08-31</th>\n",
       "      <td>0.376711</td>\n",
       "      <td>-0.072741</td>\n",
       "      <td>0.226901</td>\n",
       "      <td>-0.242413</td>\n",
       "      <td>-0.607972</td>\n",
       "    </tr>\n",
       "    <tr>\n",
       "      <th>2015-09-30</th>\n",
       "      <td>0.534466</td>\n",
       "      <td>0.652861</td>\n",
       "      <td>-0.326828</td>\n",
       "      <td>0.194342</td>\n",
       "      <td>-0.057844</td>\n",
       "    </tr>\n",
       "    <tr>\n",
       "      <th>2015-10-31</th>\n",
       "      <td>1.064402</td>\n",
       "      <td>1.049801</td>\n",
       "      <td>1.164941</td>\n",
       "      <td>2.503248</td>\n",
       "      <td>-0.830567</td>\n",
       "    </tr>\n",
       "  </tbody>\n",
       "</table>\n",
       "</div>"
      ],
      "text/plain": [
       "                   a         b         c         d         e\n",
       "2015-01-31 -0.651375  0.221333 -0.836096 -0.080427  1.347580\n",
       "2015-02-28  0.633437  0.666350 -0.109188 -0.860639  1.623306\n",
       "2015-03-31  1.452037  0.731658  0.052300 -0.421857 -0.582645\n",
       "2015-04-30  1.289965 -0.737686  0.096160 -0.453808 -0.721682\n",
       "2015-05-31  2.401577 -0.645831  0.730399  1.114318  0.044998\n",
       "2015-06-30 -0.577385 -0.377031  0.409097 -0.376251  0.321368\n",
       "2015-07-31  0.490679  0.044381  0.444019  1.216976 -0.251194\n",
       "2015-08-31  0.376711 -0.072741  0.226901 -0.242413 -0.607972\n",
       "2015-09-30  0.534466  0.652861 -0.326828  0.194342 -0.057844\n",
       "2015-10-31  1.064402  1.049801  1.164941  2.503248 -0.830567"
      ]
     },
     "execution_count": 18,
     "metadata": {},
     "output_type": "execute_result"
    }
   ],
   "source": [
    "#Delete a column\n",
    "df.drop('new', axis=1)"
   ]
  },
  {
   "cell_type": "markdown",
   "metadata": {},
   "source": [
    "## Axis?\n",
    "Because pandas thinks of rows and columns as both being series, anything we can do to rows we can do to columns too. \n",
    "\n",
    "Axis describes which one we want to do it to. 0=rows, 1=columns."
   ]
  },
  {
   "cell_type": "code",
   "execution_count": 19,
   "metadata": {
    "collapsed": false
   },
   "outputs": [
    {
     "data": {
      "text/html": [
       "<div>\n",
       "<table border=\"1\" class=\"dataframe\">\n",
       "  <thead>\n",
       "    <tr style=\"text-align: right;\">\n",
       "      <th></th>\n",
       "      <th>a</th>\n",
       "      <th>b</th>\n",
       "      <th>c</th>\n",
       "      <th>d</th>\n",
       "      <th>e</th>\n",
       "      <th>new</th>\n",
       "    </tr>\n",
       "  </thead>\n",
       "  <tbody>\n",
       "    <tr>\n",
       "      <th>2015-01-31</th>\n",
       "      <td>-0.651375</td>\n",
       "      <td>0.221333</td>\n",
       "      <td>-0.836096</td>\n",
       "      <td>-0.080427</td>\n",
       "      <td>1.347580</td>\n",
       "      <td>-0.430042</td>\n",
       "    </tr>\n",
       "    <tr>\n",
       "      <th>2015-02-28</th>\n",
       "      <td>0.633437</td>\n",
       "      <td>0.666350</td>\n",
       "      <td>-0.109188</td>\n",
       "      <td>-0.860639</td>\n",
       "      <td>1.623306</td>\n",
       "      <td>1.299787</td>\n",
       "    </tr>\n",
       "    <tr>\n",
       "      <th>2015-03-31</th>\n",
       "      <td>1.452037</td>\n",
       "      <td>0.731658</td>\n",
       "      <td>0.052300</td>\n",
       "      <td>-0.421857</td>\n",
       "      <td>-0.582645</td>\n",
       "      <td>2.183694</td>\n",
       "    </tr>\n",
       "    <tr>\n",
       "      <th>2015-05-31</th>\n",
       "      <td>2.401577</td>\n",
       "      <td>-0.645831</td>\n",
       "      <td>0.730399</td>\n",
       "      <td>1.114318</td>\n",
       "      <td>0.044998</td>\n",
       "      <td>1.755746</td>\n",
       "    </tr>\n",
       "    <tr>\n",
       "      <th>2015-06-30</th>\n",
       "      <td>-0.577385</td>\n",
       "      <td>-0.377031</td>\n",
       "      <td>0.409097</td>\n",
       "      <td>-0.376251</td>\n",
       "      <td>0.321368</td>\n",
       "      <td>-0.954416</td>\n",
       "    </tr>\n",
       "    <tr>\n",
       "      <th>2015-07-31</th>\n",
       "      <td>0.490679</td>\n",
       "      <td>0.044381</td>\n",
       "      <td>0.444019</td>\n",
       "      <td>1.216976</td>\n",
       "      <td>-0.251194</td>\n",
       "      <td>0.535060</td>\n",
       "    </tr>\n",
       "    <tr>\n",
       "      <th>2015-08-31</th>\n",
       "      <td>0.376711</td>\n",
       "      <td>-0.072741</td>\n",
       "      <td>0.226901</td>\n",
       "      <td>-0.242413</td>\n",
       "      <td>-0.607972</td>\n",
       "      <td>0.303969</td>\n",
       "    </tr>\n",
       "    <tr>\n",
       "      <th>2015-09-30</th>\n",
       "      <td>0.534466</td>\n",
       "      <td>0.652861</td>\n",
       "      <td>-0.326828</td>\n",
       "      <td>0.194342</td>\n",
       "      <td>-0.057844</td>\n",
       "      <td>1.187327</td>\n",
       "    </tr>\n",
       "    <tr>\n",
       "      <th>2015-10-31</th>\n",
       "      <td>1.064402</td>\n",
       "      <td>1.049801</td>\n",
       "      <td>1.164941</td>\n",
       "      <td>2.503248</td>\n",
       "      <td>-0.830567</td>\n",
       "      <td>2.114203</td>\n",
       "    </tr>\n",
       "  </tbody>\n",
       "</table>\n",
       "</div>"
      ],
      "text/plain": [
       "                   a         b         c         d         e       new\n",
       "2015-01-31 -0.651375  0.221333 -0.836096 -0.080427  1.347580 -0.430042\n",
       "2015-02-28  0.633437  0.666350 -0.109188 -0.860639  1.623306  1.299787\n",
       "2015-03-31  1.452037  0.731658  0.052300 -0.421857 -0.582645  2.183694\n",
       "2015-05-31  2.401577 -0.645831  0.730399  1.114318  0.044998  1.755746\n",
       "2015-06-30 -0.577385 -0.377031  0.409097 -0.376251  0.321368 -0.954416\n",
       "2015-07-31  0.490679  0.044381  0.444019  1.216976 -0.251194  0.535060\n",
       "2015-08-31  0.376711 -0.072741  0.226901 -0.242413 -0.607972  0.303969\n",
       "2015-09-30  0.534466  0.652861 -0.326828  0.194342 -0.057844  1.187327\n",
       "2015-10-31  1.064402  1.049801  1.164941  2.503248 -0.830567  2.114203"
      ]
     },
     "execution_count": 19,
     "metadata": {},
     "output_type": "execute_result"
    }
   ],
   "source": [
    "lbl = pd.Timestamp('2015-04-30 00:00:00', offset='M')\n",
    "df.drop(lbl, axis=0)"
   ]
  },
  {
   "cell_type": "markdown",
   "metadata": {},
   "source": [
    "## Selecting subsets\n",
    "There a couple of ways to select a subset of a python data frame."
   ]
  },
  {
   "cell_type": "code",
   "execution_count": 20,
   "metadata": {
    "collapsed": false
   },
   "outputs": [
    {
     "data": {
      "text/html": [
       "<div>\n",
       "<table border=\"1\" class=\"dataframe\">\n",
       "  <thead>\n",
       "    <tr style=\"text-align: right;\">\n",
       "      <th></th>\n",
       "      <th>a</th>\n",
       "      <th>b</th>\n",
       "      <th>c</th>\n",
       "      <th>d</th>\n",
       "      <th>e</th>\n",
       "      <th>new</th>\n",
       "    </tr>\n",
       "  </thead>\n",
       "  <tbody>\n",
       "    <tr>\n",
       "      <th>2015-02-28</th>\n",
       "      <td>0.633437</td>\n",
       "      <td>0.666350</td>\n",
       "      <td>-0.109188</td>\n",
       "      <td>-0.860639</td>\n",
       "      <td>1.623306</td>\n",
       "      <td>1.299787</td>\n",
       "    </tr>\n",
       "    <tr>\n",
       "      <th>2015-03-31</th>\n",
       "      <td>1.452037</td>\n",
       "      <td>0.731658</td>\n",
       "      <td>0.052300</td>\n",
       "      <td>-0.421857</td>\n",
       "      <td>-0.582645</td>\n",
       "      <td>2.183694</td>\n",
       "    </tr>\n",
       "    <tr>\n",
       "      <th>2015-04-30</th>\n",
       "      <td>1.289965</td>\n",
       "      <td>-0.737686</td>\n",
       "      <td>0.096160</td>\n",
       "      <td>-0.453808</td>\n",
       "      <td>-0.721682</td>\n",
       "      <td>0.552279</td>\n",
       "    </tr>\n",
       "    <tr>\n",
       "      <th>2015-05-31</th>\n",
       "      <td>2.401577</td>\n",
       "      <td>-0.645831</td>\n",
       "      <td>0.730399</td>\n",
       "      <td>1.114318</td>\n",
       "      <td>0.044998</td>\n",
       "      <td>1.755746</td>\n",
       "    </tr>\n",
       "    <tr>\n",
       "      <th>2015-07-31</th>\n",
       "      <td>0.490679</td>\n",
       "      <td>0.044381</td>\n",
       "      <td>0.444019</td>\n",
       "      <td>1.216976</td>\n",
       "      <td>-0.251194</td>\n",
       "      <td>0.535060</td>\n",
       "    </tr>\n",
       "    <tr>\n",
       "      <th>2015-08-31</th>\n",
       "      <td>0.376711</td>\n",
       "      <td>-0.072741</td>\n",
       "      <td>0.226901</td>\n",
       "      <td>-0.242413</td>\n",
       "      <td>-0.607972</td>\n",
       "      <td>0.303969</td>\n",
       "    </tr>\n",
       "    <tr>\n",
       "      <th>2015-09-30</th>\n",
       "      <td>0.534466</td>\n",
       "      <td>0.652861</td>\n",
       "      <td>-0.326828</td>\n",
       "      <td>0.194342</td>\n",
       "      <td>-0.057844</td>\n",
       "      <td>1.187327</td>\n",
       "    </tr>\n",
       "    <tr>\n",
       "      <th>2015-10-31</th>\n",
       "      <td>1.064402</td>\n",
       "      <td>1.049801</td>\n",
       "      <td>1.164941</td>\n",
       "      <td>2.503248</td>\n",
       "      <td>-0.830567</td>\n",
       "      <td>2.114203</td>\n",
       "    </tr>\n",
       "  </tbody>\n",
       "</table>\n",
       "</div>"
      ],
      "text/plain": [
       "                   a         b         c         d         e       new\n",
       "2015-02-28  0.633437  0.666350 -0.109188 -0.860639  1.623306  1.299787\n",
       "2015-03-31  1.452037  0.731658  0.052300 -0.421857 -0.582645  2.183694\n",
       "2015-04-30  1.289965 -0.737686  0.096160 -0.453808 -0.721682  0.552279\n",
       "2015-05-31  2.401577 -0.645831  0.730399  1.114318  0.044998  1.755746\n",
       "2015-07-31  0.490679  0.044381  0.444019  1.216976 -0.251194  0.535060\n",
       "2015-08-31  0.376711 -0.072741  0.226901 -0.242413 -0.607972  0.303969\n",
       "2015-09-30  0.534466  0.652861 -0.326828  0.194342 -0.057844  1.187327\n",
       "2015-10-31  1.064402  1.049801  1.164941  2.503248 -0.830567  2.114203"
      ]
     },
     "execution_count": 20,
     "metadata": {},
     "output_type": "execute_result"
    }
   ],
   "source": [
    "#To subset the rows, you can use the convenient:\n",
    "df[df.a > 0]"
   ]
  },
  {
   "cell_type": "code",
   "execution_count": 21,
   "metadata": {
    "collapsed": false
   },
   "outputs": [
    {
     "data": {
      "text/html": [
       "<div>\n",
       "<table border=\"1\" class=\"dataframe\">\n",
       "  <thead>\n",
       "    <tr style=\"text-align: right;\">\n",
       "      <th></th>\n",
       "      <th>a</th>\n",
       "      <th>b</th>\n",
       "      <th>c</th>\n",
       "      <th>d</th>\n",
       "      <th>e</th>\n",
       "      <th>new</th>\n",
       "    </tr>\n",
       "  </thead>\n",
       "  <tbody>\n",
       "    <tr>\n",
       "      <th>2015-02-28</th>\n",
       "      <td>0.633437</td>\n",
       "      <td>0.666350</td>\n",
       "      <td>-0.109188</td>\n",
       "      <td>-0.860639</td>\n",
       "      <td>1.623306</td>\n",
       "      <td>1.299787</td>\n",
       "    </tr>\n",
       "    <tr>\n",
       "      <th>2015-09-30</th>\n",
       "      <td>0.534466</td>\n",
       "      <td>0.652861</td>\n",
       "      <td>-0.326828</td>\n",
       "      <td>0.194342</td>\n",
       "      <td>-0.057844</td>\n",
       "      <td>1.187327</td>\n",
       "    </tr>\n",
       "  </tbody>\n",
       "</table>\n",
       "</div>"
      ],
      "text/plain": [
       "                   a         b         c         d         e       new\n",
       "2015-02-28  0.633437  0.666350 -0.109188 -0.860639  1.623306  1.299787\n",
       "2015-09-30  0.534466  0.652861 -0.326828  0.194342 -0.057844  1.187327"
      ]
     },
     "execution_count": 21,
     "metadata": {},
     "output_type": "execute_result"
    }
   ],
   "source": [
    "#Or combine multiple conditions:\n",
    "df[(df.a > 0) & (df.c < 0)]"
   ]
  },
  {
   "cell_type": "code",
   "execution_count": 22,
   "metadata": {
    "collapsed": false
   },
   "outputs": [
    {
     "data": {
      "text/plain": [
       "2015-01-31   -0.651375\n",
       "2015-02-28    0.633437\n",
       "2015-03-31    1.452037\n",
       "2015-04-30    1.289965\n",
       "2015-05-31    2.401577\n",
       "2015-06-30   -0.577385\n",
       "2015-07-31    0.490679\n",
       "2015-08-31    0.376711\n",
       "2015-09-30    0.534466\n",
       "2015-10-31    1.064402\n",
       "Freq: M, Name: a, dtype: float64"
      ]
     },
     "execution_count": 22,
     "metadata": {},
     "output_type": "execute_result"
    }
   ],
   "source": [
    "#Selecting a column\n",
    "df.a\n",
    "#Works sometimes."
   ]
  },
  {
   "cell_type": "code",
   "execution_count": 23,
   "metadata": {
    "collapsed": false
   },
   "outputs": [
    {
     "data": {
      "text/plain": [
       "2015-01-31   -0.651375\n",
       "2015-02-28    0.633437\n",
       "2015-03-31    1.452037\n",
       "2015-04-30    1.289965\n",
       "2015-05-31    2.401577\n",
       "2015-06-30   -0.577385\n",
       "2015-07-31    0.490679\n",
       "2015-08-31    0.376711\n",
       "2015-09-30    0.534466\n",
       "2015-10-31    1.064402\n",
       "Freq: M, Name: a, dtype: float64"
      ]
     },
     "execution_count": 23,
     "metadata": {},
     "output_type": "execute_result"
    }
   ],
   "source": [
    "df['a'] #works always"
   ]
  },
  {
   "cell_type": "code",
   "execution_count": 24,
   "metadata": {
    "collapsed": false
   },
   "outputs": [
    {
     "data": {
      "text/html": [
       "<div>\n",
       "<table border=\"1\" class=\"dataframe\">\n",
       "  <thead>\n",
       "    <tr style=\"text-align: right;\">\n",
       "      <th></th>\n",
       "      <th>a</th>\n",
       "      <th>b</th>\n",
       "    </tr>\n",
       "  </thead>\n",
       "  <tbody>\n",
       "    <tr>\n",
       "      <th>2015-01-31</th>\n",
       "      <td>-0.651375</td>\n",
       "      <td>0.221333</td>\n",
       "    </tr>\n",
       "    <tr>\n",
       "      <th>2015-02-28</th>\n",
       "      <td>0.633437</td>\n",
       "      <td>0.666350</td>\n",
       "    </tr>\n",
       "    <tr>\n",
       "      <th>2015-03-31</th>\n",
       "      <td>1.452037</td>\n",
       "      <td>0.731658</td>\n",
       "    </tr>\n",
       "    <tr>\n",
       "      <th>2015-04-30</th>\n",
       "      <td>1.289965</td>\n",
       "      <td>-0.737686</td>\n",
       "    </tr>\n",
       "    <tr>\n",
       "      <th>2015-05-31</th>\n",
       "      <td>2.401577</td>\n",
       "      <td>-0.645831</td>\n",
       "    </tr>\n",
       "    <tr>\n",
       "      <th>2015-06-30</th>\n",
       "      <td>-0.577385</td>\n",
       "      <td>-0.377031</td>\n",
       "    </tr>\n",
       "    <tr>\n",
       "      <th>2015-07-31</th>\n",
       "      <td>0.490679</td>\n",
       "      <td>0.044381</td>\n",
       "    </tr>\n",
       "    <tr>\n",
       "      <th>2015-08-31</th>\n",
       "      <td>0.376711</td>\n",
       "      <td>-0.072741</td>\n",
       "    </tr>\n",
       "    <tr>\n",
       "      <th>2015-09-30</th>\n",
       "      <td>0.534466</td>\n",
       "      <td>0.652861</td>\n",
       "    </tr>\n",
       "    <tr>\n",
       "      <th>2015-10-31</th>\n",
       "      <td>1.064402</td>\n",
       "      <td>1.049801</td>\n",
       "    </tr>\n",
       "  </tbody>\n",
       "</table>\n",
       "</div>"
      ],
      "text/plain": [
       "                   a         b\n",
       "2015-01-31 -0.651375  0.221333\n",
       "2015-02-28  0.633437  0.666350\n",
       "2015-03-31  1.452037  0.731658\n",
       "2015-04-30  1.289965 -0.737686\n",
       "2015-05-31  2.401577 -0.645831\n",
       "2015-06-30 -0.577385 -0.377031\n",
       "2015-07-31  0.490679  0.044381\n",
       "2015-08-31  0.376711 -0.072741\n",
       "2015-09-30  0.534466  0.652861\n",
       "2015-10-31  1.064402  1.049801"
      ]
     },
     "execution_count": 24,
     "metadata": {},
     "output_type": "execute_result"
    }
   ],
   "source": [
    "df[['a', 'b']]\n",
    "#Or a subset of columns"
   ]
  },
  {
   "cell_type": "markdown",
   "metadata": {},
   "source": [
    "## Advanced selection\n",
    "The above methods work for simple types of selections, but what if you need something more complex?"
   ]
  },
  {
   "cell_type": "code",
   "execution_count": 25,
   "metadata": {
    "collapsed": false
   },
   "outputs": [
    {
     "data": {
      "text/html": [
       "<div>\n",
       "<table border=\"1\" class=\"dataframe\">\n",
       "  <thead>\n",
       "    <tr style=\"text-align: right;\">\n",
       "      <th></th>\n",
       "      <th>c</th>\n",
       "      <th>d</th>\n",
       "      <th>e</th>\n",
       "    </tr>\n",
       "  </thead>\n",
       "  <tbody>\n",
       "    <tr>\n",
       "      <th>2015-05-31</th>\n",
       "      <td>0.730399</td>\n",
       "      <td>1.114318</td>\n",
       "      <td>0.044998</td>\n",
       "    </tr>\n",
       "    <tr>\n",
       "      <th>2015-06-30</th>\n",
       "      <td>0.409097</td>\n",
       "      <td>-0.376251</td>\n",
       "      <td>0.321368</td>\n",
       "    </tr>\n",
       "    <tr>\n",
       "      <th>2015-07-31</th>\n",
       "      <td>0.444019</td>\n",
       "      <td>1.216976</td>\n",
       "      <td>-0.251194</td>\n",
       "    </tr>\n",
       "    <tr>\n",
       "      <th>2015-08-31</th>\n",
       "      <td>0.226901</td>\n",
       "      <td>-0.242413</td>\n",
       "      <td>-0.607972</td>\n",
       "    </tr>\n",
       "  </tbody>\n",
       "</table>\n",
       "</div>"
      ],
      "text/plain": [
       "                   c         d         e\n",
       "2015-05-31  0.730399  1.114318  0.044998\n",
       "2015-06-30  0.409097 -0.376251  0.321368\n",
       "2015-07-31  0.444019  1.216976 -0.251194\n",
       "2015-08-31  0.226901 -0.242413 -0.607972"
      ]
     },
     "execution_count": 25,
     "metadata": {},
     "output_type": "execute_result"
    }
   ],
   "source": [
    "df.loc['2015-05-31':'2015-08-31', 'c':'e'] #Ranges by label."
   ]
  },
  {
   "cell_type": "code",
   "execution_count": 26,
   "metadata": {
    "collapsed": false
   },
   "outputs": [
    {
     "data": {
      "text/html": [
       "<div>\n",
       "<table border=\"1\" class=\"dataframe\">\n",
       "  <thead>\n",
       "    <tr style=\"text-align: right;\">\n",
       "      <th></th>\n",
       "      <th>c</th>\n",
       "      <th>d</th>\n",
       "      <th>e</th>\n",
       "    </tr>\n",
       "  </thead>\n",
       "  <tbody>\n",
       "    <tr>\n",
       "      <th>2015-03-31</th>\n",
       "      <td>0.052300</td>\n",
       "      <td>-0.421857</td>\n",
       "      <td>-0.582645</td>\n",
       "    </tr>\n",
       "    <tr>\n",
       "      <th>2015-04-30</th>\n",
       "      <td>0.096160</td>\n",
       "      <td>-0.453808</td>\n",
       "      <td>-0.721682</td>\n",
       "    </tr>\n",
       "    <tr>\n",
       "      <th>2015-05-31</th>\n",
       "      <td>0.730399</td>\n",
       "      <td>1.114318</td>\n",
       "      <td>0.044998</td>\n",
       "    </tr>\n",
       "    <tr>\n",
       "      <th>2015-06-30</th>\n",
       "      <td>0.409097</td>\n",
       "      <td>-0.376251</td>\n",
       "      <td>0.321368</td>\n",
       "    </tr>\n",
       "    <tr>\n",
       "      <th>2015-07-31</th>\n",
       "      <td>0.444019</td>\n",
       "      <td>1.216976</td>\n",
       "      <td>-0.251194</td>\n",
       "    </tr>\n",
       "  </tbody>\n",
       "</table>\n",
       "</div>"
      ],
      "text/plain": [
       "                   c         d         e\n",
       "2015-03-31  0.052300 -0.421857 -0.582645\n",
       "2015-04-30  0.096160 -0.453808 -0.721682\n",
       "2015-05-31  0.730399  1.114318  0.044998\n",
       "2015-06-30  0.409097 -0.376251  0.321368\n",
       "2015-07-31  0.444019  1.216976 -0.251194"
      ]
     },
     "execution_count": 26,
     "metadata": {},
     "output_type": "execute_result"
    }
   ],
   "source": [
    "df.iloc[2:-3,2:5] #Ranges by number."
   ]
  },
  {
   "cell_type": "code",
   "execution_count": 27,
   "metadata": {
    "collapsed": false
   },
   "outputs": [
    {
     "data": {
      "text/html": [
       "<div>\n",
       "<table border=\"1\" class=\"dataframe\">\n",
       "  <thead>\n",
       "    <tr style=\"text-align: right;\">\n",
       "      <th></th>\n",
       "      <th>a</th>\n",
       "      <th>b</th>\n",
       "      <th>c</th>\n",
       "      <th>d</th>\n",
       "      <th>e</th>\n",
       "      <th>new</th>\n",
       "    </tr>\n",
       "  </thead>\n",
       "  <tbody>\n",
       "    <tr>\n",
       "      <th>2015-03-31</th>\n",
       "      <td>1.452037</td>\n",
       "      <td>0.731658</td>\n",
       "      <td>0.052300</td>\n",
       "      <td>-0.421857</td>\n",
       "      <td>-0.582645</td>\n",
       "      <td>2.183694</td>\n",
       "    </tr>\n",
       "    <tr>\n",
       "      <th>2015-04-30</th>\n",
       "      <td>1.289965</td>\n",
       "      <td>-0.737686</td>\n",
       "      <td>0.096160</td>\n",
       "      <td>-0.453808</td>\n",
       "      <td>-0.721682</td>\n",
       "      <td>0.552279</td>\n",
       "    </tr>\n",
       "    <tr>\n",
       "      <th>2015-05-31</th>\n",
       "      <td>2.401577</td>\n",
       "      <td>-0.645831</td>\n",
       "      <td>0.730399</td>\n",
       "      <td>1.114318</td>\n",
       "      <td>0.044998</td>\n",
       "      <td>1.755746</td>\n",
       "    </tr>\n",
       "  </tbody>\n",
       "</table>\n",
       "</div>"
      ],
      "text/plain": [
       "                   a         b         c         d         e       new\n",
       "2015-03-31  1.452037  0.731658  0.052300 -0.421857 -0.582645  2.183694\n",
       "2015-04-30  1.289965 -0.737686  0.096160 -0.453808 -0.721682  0.552279\n",
       "2015-05-31  2.401577 -0.645831  0.730399  1.114318  0.044998  1.755746"
      ]
     },
     "execution_count": 27,
     "metadata": {},
     "output_type": "execute_result"
    }
   ],
   "source": [
    "# SQL-like queries for parsimonious row selection.\n",
    "# Experimental\n",
    "df.query('a > 1 and c <1')"
   ]
  },
  {
   "cell_type": "code",
   "execution_count": 28,
   "metadata": {
    "collapsed": false
   },
   "outputs": [],
   "source": [
    "# Multi Index:\n",
    "dt_index = pd.date_range('2015-1-1', \n",
    "                        '2017-7-1', \n",
    "                        freq='m')\n",
    "df = pd.DataFrame(randn(30,5), index=dt_index)"
   ]
  },
  {
   "cell_type": "code",
   "execution_count": 29,
   "metadata": {
    "collapsed": false
   },
   "outputs": [
    {
     "data": {
      "text/html": [
       "<div>\n",
       "<table border=\"1\" class=\"dataframe\">\n",
       "  <thead>\n",
       "    <tr style=\"text-align: right;\">\n",
       "      <th></th>\n",
       "      <th>0</th>\n",
       "      <th>1</th>\n",
       "      <th>2</th>\n",
       "      <th>3</th>\n",
       "      <th>4</th>\n",
       "      <th>state</th>\n",
       "    </tr>\n",
       "  </thead>\n",
       "  <tbody>\n",
       "    <tr>\n",
       "      <th>2015-01-31</th>\n",
       "      <td>-0.487590</td>\n",
       "      <td>1.094196</td>\n",
       "      <td>1.053163</td>\n",
       "      <td>-1.200902</td>\n",
       "      <td>-0.488650</td>\n",
       "      <td>Alabama</td>\n",
       "    </tr>\n",
       "    <tr>\n",
       "      <th>2015-02-28</th>\n",
       "      <td>-0.054719</td>\n",
       "      <td>0.513234</td>\n",
       "      <td>0.193706</td>\n",
       "      <td>0.728743</td>\n",
       "      <td>-2.109234</td>\n",
       "      <td>Alaska</td>\n",
       "    </tr>\n",
       "    <tr>\n",
       "      <th>2015-03-31</th>\n",
       "      <td>0.103883</td>\n",
       "      <td>1.921173</td>\n",
       "      <td>1.367425</td>\n",
       "      <td>0.505959</td>\n",
       "      <td>0.102555</td>\n",
       "      <td>Arizona</td>\n",
       "    </tr>\n",
       "    <tr>\n",
       "      <th>2015-04-30</th>\n",
       "      <td>-0.751469</td>\n",
       "      <td>-0.141222</td>\n",
       "      <td>0.661877</td>\n",
       "      <td>1.546345</td>\n",
       "      <td>0.779070</td>\n",
       "      <td>Alabama</td>\n",
       "    </tr>\n",
       "    <tr>\n",
       "      <th>2015-05-31</th>\n",
       "      <td>0.701404</td>\n",
       "      <td>0.171580</td>\n",
       "      <td>-0.009606</td>\n",
       "      <td>0.515683</td>\n",
       "      <td>-0.508984</td>\n",
       "      <td>Alaska</td>\n",
       "    </tr>\n",
       "  </tbody>\n",
       "</table>\n",
       "</div>"
      ],
      "text/plain": [
       "                   0         1         2         3         4    state\n",
       "2015-01-31 -0.487590  1.094196  1.053163 -1.200902 -0.488650  Alabama\n",
       "2015-02-28 -0.054719  0.513234  0.193706  0.728743 -2.109234   Alaska\n",
       "2015-03-31  0.103883  1.921173  1.367425  0.505959  0.102555  Arizona\n",
       "2015-04-30 -0.751469 -0.141222  0.661877  1.546345  0.779070  Alabama\n",
       "2015-05-31  0.701404  0.171580 -0.009606  0.515683 -0.508984   Alaska"
      ]
     },
     "execution_count": 29,
     "metadata": {},
     "output_type": "execute_result"
    }
   ],
   "source": [
    "df['state'] = ['Alabama', 'Alaska' , 'Arizona'] * 10\n",
    "df.head()"
   ]
  },
  {
   "cell_type": "code",
   "execution_count": 30,
   "metadata": {
    "collapsed": false
   },
   "outputs": [
    {
     "data": {
      "text/html": [
       "<div>\n",
       "<table border=\"1\" class=\"dataframe\">\n",
       "  <thead>\n",
       "    <tr style=\"text-align: right;\">\n",
       "      <th></th>\n",
       "      <th></th>\n",
       "      <th>0</th>\n",
       "      <th>1</th>\n",
       "      <th>2</th>\n",
       "      <th>3</th>\n",
       "      <th>4</th>\n",
       "    </tr>\n",
       "    <tr>\n",
       "      <th>state</th>\n",
       "      <th>index</th>\n",
       "      <th></th>\n",
       "      <th></th>\n",
       "      <th></th>\n",
       "      <th></th>\n",
       "      <th></th>\n",
       "    </tr>\n",
       "  </thead>\n",
       "  <tbody>\n",
       "    <tr>\n",
       "      <th>Alabama</th>\n",
       "      <th>2015-01-31</th>\n",
       "      <td>-0.487590</td>\n",
       "      <td>1.094196</td>\n",
       "      <td>1.053163</td>\n",
       "      <td>-1.200902</td>\n",
       "      <td>-0.488650</td>\n",
       "    </tr>\n",
       "    <tr>\n",
       "      <th>Alaska</th>\n",
       "      <th>2015-02-28</th>\n",
       "      <td>-0.054719</td>\n",
       "      <td>0.513234</td>\n",
       "      <td>0.193706</td>\n",
       "      <td>0.728743</td>\n",
       "      <td>-2.109234</td>\n",
       "    </tr>\n",
       "    <tr>\n",
       "      <th>Arizona</th>\n",
       "      <th>2015-03-31</th>\n",
       "      <td>0.103883</td>\n",
       "      <td>1.921173</td>\n",
       "      <td>1.367425</td>\n",
       "      <td>0.505959</td>\n",
       "      <td>0.102555</td>\n",
       "    </tr>\n",
       "    <tr>\n",
       "      <th>Alabama</th>\n",
       "      <th>2015-04-30</th>\n",
       "      <td>-0.751469</td>\n",
       "      <td>-0.141222</td>\n",
       "      <td>0.661877</td>\n",
       "      <td>1.546345</td>\n",
       "      <td>0.779070</td>\n",
       "    </tr>\n",
       "    <tr>\n",
       "      <th>Alaska</th>\n",
       "      <th>2015-05-31</th>\n",
       "      <td>0.701404</td>\n",
       "      <td>0.171580</td>\n",
       "      <td>-0.009606</td>\n",
       "      <td>0.515683</td>\n",
       "      <td>-0.508984</td>\n",
       "    </tr>\n",
       "  </tbody>\n",
       "</table>\n",
       "</div>"
      ],
      "text/plain": [
       "                           0         1         2         3         4\n",
       "state   index                                                       \n",
       "Alabama 2015-01-31 -0.487590  1.094196  1.053163 -1.200902 -0.488650\n",
       "Alaska  2015-02-28 -0.054719  0.513234  0.193706  0.728743 -2.109234\n",
       "Arizona 2015-03-31  0.103883  1.921173  1.367425  0.505959  0.102555\n",
       "Alabama 2015-04-30 -0.751469 -0.141222  0.661877  1.546345  0.779070\n",
       "Alaska  2015-05-31  0.701404  0.171580 -0.009606  0.515683 -0.508984"
      ]
     },
     "execution_count": 30,
     "metadata": {},
     "output_type": "execute_result"
    }
   ],
   "source": [
    "df = df.reset_index()\n",
    "df = df.set_index(['state', 'index'])\n",
    "df.head()"
   ]
  },
  {
   "cell_type": "code",
   "execution_count": 31,
   "metadata": {
    "collapsed": false
   },
   "outputs": [
    {
     "data": {
      "text/html": [
       "<div>\n",
       "<table border=\"1\" class=\"dataframe\">\n",
       "  <thead>\n",
       "    <tr style=\"text-align: right;\">\n",
       "      <th></th>\n",
       "      <th>0</th>\n",
       "      <th>1</th>\n",
       "      <th>2</th>\n",
       "      <th>3</th>\n",
       "      <th>4</th>\n",
       "    </tr>\n",
       "    <tr>\n",
       "      <th>index</th>\n",
       "      <th></th>\n",
       "      <th></th>\n",
       "      <th></th>\n",
       "      <th></th>\n",
       "      <th></th>\n",
       "    </tr>\n",
       "  </thead>\n",
       "  <tbody>\n",
       "    <tr>\n",
       "      <th>2015-01-31</th>\n",
       "      <td>-0.487590</td>\n",
       "      <td>1.094196</td>\n",
       "      <td>1.053163</td>\n",
       "      <td>-1.200902</td>\n",
       "      <td>-0.488650</td>\n",
       "    </tr>\n",
       "    <tr>\n",
       "      <th>2015-04-30</th>\n",
       "      <td>-0.751469</td>\n",
       "      <td>-0.141222</td>\n",
       "      <td>0.661877</td>\n",
       "      <td>1.546345</td>\n",
       "      <td>0.779070</td>\n",
       "    </tr>\n",
       "    <tr>\n",
       "      <th>2015-07-31</th>\n",
       "      <td>-0.995585</td>\n",
       "      <td>-1.098044</td>\n",
       "      <td>0.167547</td>\n",
       "      <td>0.054310</td>\n",
       "      <td>0.301064</td>\n",
       "    </tr>\n",
       "    <tr>\n",
       "      <th>2015-10-31</th>\n",
       "      <td>-0.385128</td>\n",
       "      <td>-0.257248</td>\n",
       "      <td>-0.376567</td>\n",
       "      <td>0.661250</td>\n",
       "      <td>0.281134</td>\n",
       "    </tr>\n",
       "    <tr>\n",
       "      <th>2016-01-31</th>\n",
       "      <td>0.736939</td>\n",
       "      <td>1.367034</td>\n",
       "      <td>-0.732832</td>\n",
       "      <td>-0.658417</td>\n",
       "      <td>1.043408</td>\n",
       "    </tr>\n",
       "  </tbody>\n",
       "</table>\n",
       "</div>"
      ],
      "text/plain": [
       "                   0         1         2         3         4\n",
       "index                                                       \n",
       "2015-01-31 -0.487590  1.094196  1.053163 -1.200902 -0.488650\n",
       "2015-04-30 -0.751469 -0.141222  0.661877  1.546345  0.779070\n",
       "2015-07-31 -0.995585 -1.098044  0.167547  0.054310  0.301064\n",
       "2015-10-31 -0.385128 -0.257248 -0.376567  0.661250  0.281134\n",
       "2016-01-31  0.736939  1.367034 -0.732832 -0.658417  1.043408"
      ]
     },
     "execution_count": 31,
     "metadata": {},
     "output_type": "execute_result"
    }
   ],
   "source": [
    "df.loc['Alabama'].head()"
   ]
  },
  {
   "cell_type": "code",
   "execution_count": 32,
   "metadata": {
    "collapsed": false
   },
   "outputs": [
    {
     "ename": "KeyError",
     "evalue": "'the label [2015-01-31] is not in the [index]'",
     "output_type": "error",
     "traceback": [
      "\u001b[0;31m---------------------------------------------------------------------------\u001b[0m",
      "\u001b[0;31mKeyError\u001b[0m                                  Traceback (most recent call last)",
      "\u001b[0;32m/Users/justin/anaconda/lib/python3.5/site-packages/pandas/core/indexing.py\u001b[0m in \u001b[0;36m_has_valid_type\u001b[0;34m(self, key, axis)\u001b[0m\n\u001b[1;32m   1394\u001b[0m                 \u001b[0;32mif\u001b[0m \u001b[0mkey\u001b[0m \u001b[0;32mnot\u001b[0m \u001b[0;32min\u001b[0m \u001b[0max\u001b[0m\u001b[0;34m:\u001b[0m\u001b[0;34m\u001b[0m\u001b[0m\n\u001b[0;32m-> 1395\u001b[0;31m                     \u001b[0merror\u001b[0m\u001b[0;34m(\u001b[0m\u001b[0;34m)\u001b[0m\u001b[0;34m\u001b[0m\u001b[0m\n\u001b[0m\u001b[1;32m   1396\u001b[0m             \u001b[0;32mexcept\u001b[0m \u001b[0mTypeError\u001b[0m \u001b[0;32mas\u001b[0m \u001b[0me\u001b[0m\u001b[0;34m:\u001b[0m\u001b[0;34m\u001b[0m\u001b[0m\n",
      "\u001b[0;32m/Users/justin/anaconda/lib/python3.5/site-packages/pandas/core/indexing.py\u001b[0m in \u001b[0;36merror\u001b[0;34m()\u001b[0m\n\u001b[1;32m   1389\u001b[0m                 raise KeyError(\"the label [%s] is not in the [%s]\" %\n\u001b[0;32m-> 1390\u001b[0;31m                                (key, self.obj._get_axis_name(axis)))\n\u001b[0m\u001b[1;32m   1391\u001b[0m \u001b[0;34m\u001b[0m\u001b[0m\n",
      "\u001b[0;31mKeyError\u001b[0m: 'the label [2015-01-31] is not in the [index]'",
      "\nDuring handling of the above exception, another exception occurred:\n",
      "\u001b[0;31mKeyError\u001b[0m                                  Traceback (most recent call last)",
      "\u001b[0;32m<ipython-input-32-9ad54708e015>\u001b[0m in \u001b[0;36m<module>\u001b[0;34m()\u001b[0m\n\u001b[0;32m----> 1\u001b[0;31m \u001b[0mdf\u001b[0m\u001b[0;34m.\u001b[0m\u001b[0mloc\u001b[0m\u001b[0;34m[\u001b[0m\u001b[0;34m'2015-01-31'\u001b[0m\u001b[0;34m]\u001b[0m  \u001b[0;31m# Doesn't work.\u001b[0m\u001b[0;34m\u001b[0m\u001b[0m\n\u001b[0m",
      "\u001b[0;32m/Users/justin/anaconda/lib/python3.5/site-packages/pandas/core/indexing.py\u001b[0m in \u001b[0;36m__getitem__\u001b[0;34m(self, key)\u001b[0m\n\u001b[1;32m   1294\u001b[0m             \u001b[0;32mreturn\u001b[0m \u001b[0mself\u001b[0m\u001b[0;34m.\u001b[0m\u001b[0m_getitem_tuple\u001b[0m\u001b[0;34m(\u001b[0m\u001b[0mkey\u001b[0m\u001b[0;34m)\u001b[0m\u001b[0;34m\u001b[0m\u001b[0m\n\u001b[1;32m   1295\u001b[0m         \u001b[0;32melse\u001b[0m\u001b[0;34m:\u001b[0m\u001b[0;34m\u001b[0m\u001b[0m\n\u001b[0;32m-> 1296\u001b[0;31m             \u001b[0;32mreturn\u001b[0m \u001b[0mself\u001b[0m\u001b[0;34m.\u001b[0m\u001b[0m_getitem_axis\u001b[0m\u001b[0;34m(\u001b[0m\u001b[0mkey\u001b[0m\u001b[0;34m,\u001b[0m \u001b[0maxis\u001b[0m\u001b[0;34m=\u001b[0m\u001b[0;36m0\u001b[0m\u001b[0;34m)\u001b[0m\u001b[0;34m\u001b[0m\u001b[0m\n\u001b[0m\u001b[1;32m   1297\u001b[0m \u001b[0;34m\u001b[0m\u001b[0m\n\u001b[1;32m   1298\u001b[0m     \u001b[0;32mdef\u001b[0m \u001b[0m_getitem_axis\u001b[0m\u001b[0;34m(\u001b[0m\u001b[0mself\u001b[0m\u001b[0;34m,\u001b[0m \u001b[0mkey\u001b[0m\u001b[0;34m,\u001b[0m \u001b[0maxis\u001b[0m\u001b[0;34m=\u001b[0m\u001b[0;36m0\u001b[0m\u001b[0;34m)\u001b[0m\u001b[0;34m:\u001b[0m\u001b[0;34m\u001b[0m\u001b[0m\n",
      "\u001b[0;32m/Users/justin/anaconda/lib/python3.5/site-packages/pandas/core/indexing.py\u001b[0m in \u001b[0;36m_getitem_axis\u001b[0;34m(self, key, axis)\u001b[0m\n\u001b[1;32m   1464\u001b[0m \u001b[0;34m\u001b[0m\u001b[0m\n\u001b[1;32m   1465\u001b[0m         \u001b[0;31m# fall thru to straight lookup\u001b[0m\u001b[0;34m\u001b[0m\u001b[0;34m\u001b[0m\u001b[0m\n\u001b[0;32m-> 1466\u001b[0;31m         \u001b[0mself\u001b[0m\u001b[0;34m.\u001b[0m\u001b[0m_has_valid_type\u001b[0m\u001b[0;34m(\u001b[0m\u001b[0mkey\u001b[0m\u001b[0;34m,\u001b[0m \u001b[0maxis\u001b[0m\u001b[0;34m)\u001b[0m\u001b[0;34m\u001b[0m\u001b[0m\n\u001b[0m\u001b[1;32m   1467\u001b[0m         \u001b[0;32mreturn\u001b[0m \u001b[0mself\u001b[0m\u001b[0;34m.\u001b[0m\u001b[0m_get_label\u001b[0m\u001b[0;34m(\u001b[0m\u001b[0mkey\u001b[0m\u001b[0;34m,\u001b[0m \u001b[0maxis\u001b[0m\u001b[0;34m=\u001b[0m\u001b[0maxis\u001b[0m\u001b[0;34m)\u001b[0m\u001b[0;34m\u001b[0m\u001b[0m\n\u001b[1;32m   1468\u001b[0m \u001b[0;34m\u001b[0m\u001b[0m\n",
      "\u001b[0;32m/Users/justin/anaconda/lib/python3.5/site-packages/pandas/core/indexing.py\u001b[0m in \u001b[0;36m_has_valid_type\u001b[0;34m(self, key, axis)\u001b[0m\n\u001b[1;32m   1401\u001b[0m                 \u001b[0;32mraise\u001b[0m\u001b[0;34m\u001b[0m\u001b[0m\n\u001b[1;32m   1402\u001b[0m             \u001b[0;32mexcept\u001b[0m\u001b[0;34m:\u001b[0m\u001b[0;34m\u001b[0m\u001b[0m\n\u001b[0;32m-> 1403\u001b[0;31m                 \u001b[0merror\u001b[0m\u001b[0;34m(\u001b[0m\u001b[0;34m)\u001b[0m\u001b[0;34m\u001b[0m\u001b[0m\n\u001b[0m\u001b[1;32m   1404\u001b[0m \u001b[0;34m\u001b[0m\u001b[0m\n\u001b[1;32m   1405\u001b[0m         \u001b[0;32mreturn\u001b[0m \u001b[0;32mTrue\u001b[0m\u001b[0;34m\u001b[0m\u001b[0m\n",
      "\u001b[0;32m/Users/justin/anaconda/lib/python3.5/site-packages/pandas/core/indexing.py\u001b[0m in \u001b[0;36merror\u001b[0;34m()\u001b[0m\n\u001b[1;32m   1388\u001b[0m                                     \"key\")\n\u001b[1;32m   1389\u001b[0m                 raise KeyError(\"the label [%s] is not in the [%s]\" %\n\u001b[0;32m-> 1390\u001b[0;31m                                (key, self.obj._get_axis_name(axis)))\n\u001b[0m\u001b[1;32m   1391\u001b[0m \u001b[0;34m\u001b[0m\u001b[0m\n\u001b[1;32m   1392\u001b[0m             \u001b[0;32mtry\u001b[0m\u001b[0;34m:\u001b[0m\u001b[0;34m\u001b[0m\u001b[0m\n",
      "\u001b[0;31mKeyError\u001b[0m: 'the label [2015-01-31] is not in the [index]'"
     ]
    }
   ],
   "source": [
    "df.loc['2015-01-31']  # Doesn't work."
   ]
  },
  {
   "cell_type": "code",
   "execution_count": null,
   "metadata": {
    "collapsed": false
   },
   "outputs": [],
   "source": [
    "df.loc[('Alabama', '2015-01-31')]  # Can do this."
   ]
  },
  {
   "cell_type": "code",
   "execution_count": 35,
   "metadata": {
    "collapsed": false
   },
   "outputs": [
    {
     "data": {
      "text/html": [
       "<div>\n",
       "<table border=\"1\" class=\"dataframe\">\n",
       "  <thead>\n",
       "    <tr>\n",
       "      <th></th>\n",
       "      <th colspan=\"3\" halign=\"left\">0</th>\n",
       "      <th colspan=\"3\" halign=\"left\">1</th>\n",
       "      <th colspan=\"3\" halign=\"left\">2</th>\n",
       "      <th colspan=\"3\" halign=\"left\">3</th>\n",
       "      <th colspan=\"3\" halign=\"left\">4</th>\n",
       "    </tr>\n",
       "    <tr>\n",
       "      <th>state</th>\n",
       "      <th>Alabama</th>\n",
       "      <th>Alaska</th>\n",
       "      <th>Arizona</th>\n",
       "      <th>Alabama</th>\n",
       "      <th>Alaska</th>\n",
       "      <th>Arizona</th>\n",
       "      <th>Alabama</th>\n",
       "      <th>Alaska</th>\n",
       "      <th>Arizona</th>\n",
       "      <th>Alabama</th>\n",
       "      <th>Alaska</th>\n",
       "      <th>Arizona</th>\n",
       "      <th>Alabama</th>\n",
       "      <th>Alaska</th>\n",
       "      <th>Arizona</th>\n",
       "    </tr>\n",
       "    <tr>\n",
       "      <th>index</th>\n",
       "      <th></th>\n",
       "      <th></th>\n",
       "      <th></th>\n",
       "      <th></th>\n",
       "      <th></th>\n",
       "      <th></th>\n",
       "      <th></th>\n",
       "      <th></th>\n",
       "      <th></th>\n",
       "      <th></th>\n",
       "      <th></th>\n",
       "      <th></th>\n",
       "      <th></th>\n",
       "      <th></th>\n",
       "      <th></th>\n",
       "    </tr>\n",
       "  </thead>\n",
       "  <tbody>\n",
       "    <tr>\n",
       "      <th>2015-01-31</th>\n",
       "      <td>-0.048355</td>\n",
       "      <td>NaN</td>\n",
       "      <td>NaN</td>\n",
       "      <td>-0.198583</td>\n",
       "      <td>NaN</td>\n",
       "      <td>NaN</td>\n",
       "      <td>1.791561</td>\n",
       "      <td>NaN</td>\n",
       "      <td>NaN</td>\n",
       "      <td>1.551845</td>\n",
       "      <td>NaN</td>\n",
       "      <td>NaN</td>\n",
       "      <td>1.714438</td>\n",
       "      <td>NaN</td>\n",
       "      <td>NaN</td>\n",
       "    </tr>\n",
       "    <tr>\n",
       "      <th>2015-02-28</th>\n",
       "      <td>NaN</td>\n",
       "      <td>0.584937</td>\n",
       "      <td>NaN</td>\n",
       "      <td>NaN</td>\n",
       "      <td>-0.143104</td>\n",
       "      <td>NaN</td>\n",
       "      <td>NaN</td>\n",
       "      <td>-1.094974</td>\n",
       "      <td>NaN</td>\n",
       "      <td>NaN</td>\n",
       "      <td>1.020763</td>\n",
       "      <td>NaN</td>\n",
       "      <td>NaN</td>\n",
       "      <td>1.381843</td>\n",
       "      <td>NaN</td>\n",
       "    </tr>\n",
       "    <tr>\n",
       "      <th>2015-03-31</th>\n",
       "      <td>NaN</td>\n",
       "      <td>NaN</td>\n",
       "      <td>-1.840915</td>\n",
       "      <td>NaN</td>\n",
       "      <td>NaN</td>\n",
       "      <td>1.79663</td>\n",
       "      <td>NaN</td>\n",
       "      <td>NaN</td>\n",
       "      <td>-0.98895</td>\n",
       "      <td>NaN</td>\n",
       "      <td>NaN</td>\n",
       "      <td>0.102497</td>\n",
       "      <td>NaN</td>\n",
       "      <td>NaN</td>\n",
       "      <td>-1.596196</td>\n",
       "    </tr>\n",
       "    <tr>\n",
       "      <th>2015-04-30</th>\n",
       "      <td>0.538481</td>\n",
       "      <td>NaN</td>\n",
       "      <td>NaN</td>\n",
       "      <td>0.198082</td>\n",
       "      <td>NaN</td>\n",
       "      <td>NaN</td>\n",
       "      <td>0.770344</td>\n",
       "      <td>NaN</td>\n",
       "      <td>NaN</td>\n",
       "      <td>1.231772</td>\n",
       "      <td>NaN</td>\n",
       "      <td>NaN</td>\n",
       "      <td>1.655413</td>\n",
       "      <td>NaN</td>\n",
       "      <td>NaN</td>\n",
       "    </tr>\n",
       "    <tr>\n",
       "      <th>2015-05-31</th>\n",
       "      <td>NaN</td>\n",
       "      <td>-2.654329</td>\n",
       "      <td>NaN</td>\n",
       "      <td>NaN</td>\n",
       "      <td>-0.534252</td>\n",
       "      <td>NaN</td>\n",
       "      <td>NaN</td>\n",
       "      <td>0.437716</td>\n",
       "      <td>NaN</td>\n",
       "      <td>NaN</td>\n",
       "      <td>0.108290</td>\n",
       "      <td>NaN</td>\n",
       "      <td>NaN</td>\n",
       "      <td>0.532988</td>\n",
       "      <td>NaN</td>\n",
       "    </tr>\n",
       "  </tbody>\n",
       "</table>\n",
       "</div>"
      ],
      "text/plain": [
       "                   0                             1                     \\\n",
       "state        Alabama    Alaska   Arizona   Alabama    Alaska  Arizona   \n",
       "index                                                                   \n",
       "2015-01-31 -0.048355       NaN       NaN -0.198583       NaN      NaN   \n",
       "2015-02-28       NaN  0.584937       NaN       NaN -0.143104      NaN   \n",
       "2015-03-31       NaN       NaN -1.840915       NaN       NaN  1.79663   \n",
       "2015-04-30  0.538481       NaN       NaN  0.198082       NaN      NaN   \n",
       "2015-05-31       NaN -2.654329       NaN       NaN -0.534252      NaN   \n",
       "\n",
       "                   2                            3                      \\\n",
       "state        Alabama    Alaska  Arizona   Alabama    Alaska   Arizona   \n",
       "index                                                                   \n",
       "2015-01-31  1.791561       NaN      NaN  1.551845       NaN       NaN   \n",
       "2015-02-28       NaN -1.094974      NaN       NaN  1.020763       NaN   \n",
       "2015-03-31       NaN       NaN -0.98895       NaN       NaN  0.102497   \n",
       "2015-04-30  0.770344       NaN      NaN  1.231772       NaN       NaN   \n",
       "2015-05-31       NaN  0.437716      NaN       NaN  0.108290       NaN   \n",
       "\n",
       "                   4                      \n",
       "state        Alabama    Alaska   Arizona  \n",
       "index                                     \n",
       "2015-01-31  1.714438       NaN       NaN  \n",
       "2015-02-28       NaN  1.381843       NaN  \n",
       "2015-03-31       NaN       NaN -1.596196  \n",
       "2015-04-30  1.655413       NaN       NaN  \n",
       "2015-05-31       NaN  0.532988       NaN  "
      ]
     },
     "execution_count": 35,
     "metadata": {},
     "output_type": "execute_result"
    }
   ],
   "source": [
    "# Can also have multi-index in columns.\n",
    "df.reset_index().set_index(['index', 'state']).unstack().head()"
   ]
  },
  {
   "cell_type": "code",
   "execution_count": 34,
   "metadata": {
    "collapsed": false
   },
   "outputs": [
    {
     "data": {
      "text/html": [
       "<div>\n",
       "<table border=\"1\" class=\"dataframe\">\n",
       "  <thead>\n",
       "    <tr style=\"text-align: right;\">\n",
       "      <th></th>\n",
       "      <th></th>\n",
       "      <th>0</th>\n",
       "      <th>1</th>\n",
       "      <th>2</th>\n",
       "      <th>3</th>\n",
       "      <th>4</th>\n",
       "    </tr>\n",
       "    <tr>\n",
       "      <th>state</th>\n",
       "      <th>index</th>\n",
       "      <th></th>\n",
       "      <th></th>\n",
       "      <th></th>\n",
       "      <th></th>\n",
       "      <th></th>\n",
       "    </tr>\n",
       "  </thead>\n",
       "  <tbody>\n",
       "    <tr>\n",
       "      <th>Alabama</th>\n",
       "      <th>2015-01-31</th>\n",
       "      <td>-0.487590</td>\n",
       "      <td>1.094196</td>\n",
       "      <td>1.053163</td>\n",
       "      <td>-1.200902</td>\n",
       "      <td>-0.488650</td>\n",
       "    </tr>\n",
       "    <tr>\n",
       "      <th>Alaska</th>\n",
       "      <th>2015-02-28</th>\n",
       "      <td>-0.054719</td>\n",
       "      <td>0.513234</td>\n",
       "      <td>0.193706</td>\n",
       "      <td>0.728743</td>\n",
       "      <td>-2.109234</td>\n",
       "    </tr>\n",
       "    <tr>\n",
       "      <th>Arizona</th>\n",
       "      <th>2015-03-31</th>\n",
       "      <td>0.103883</td>\n",
       "      <td>1.921173</td>\n",
       "      <td>1.367425</td>\n",
       "      <td>0.505959</td>\n",
       "      <td>0.102555</td>\n",
       "    </tr>\n",
       "    <tr>\n",
       "      <th>Alabama</th>\n",
       "      <th>2015-04-30</th>\n",
       "      <td>-0.751469</td>\n",
       "      <td>-0.141222</td>\n",
       "      <td>0.661877</td>\n",
       "      <td>1.546345</td>\n",
       "      <td>0.779070</td>\n",
       "    </tr>\n",
       "    <tr>\n",
       "      <th>Alaska</th>\n",
       "      <th>2015-05-31</th>\n",
       "      <td>0.701404</td>\n",
       "      <td>0.171580</td>\n",
       "      <td>-0.009606</td>\n",
       "      <td>0.515683</td>\n",
       "      <td>-0.508984</td>\n",
       "    </tr>\n",
       "  </tbody>\n",
       "</table>\n",
       "</div>"
      ],
      "text/plain": [
       "                           0         1         2         3         4\n",
       "state   index                                                       \n",
       "Alabama 2015-01-31 -0.487590  1.094196  1.053163 -1.200902 -0.488650\n",
       "Alaska  2015-02-28 -0.054719  0.513234  0.193706  0.728743 -2.109234\n",
       "Arizona 2015-03-31  0.103883  1.921173  1.367425  0.505959  0.102555\n",
       "Alabama 2015-04-30 -0.751469 -0.141222  0.661877  1.546345  0.779070\n",
       "Alaska  2015-05-31  0.701404  0.171580 -0.009606  0.515683 -0.508984"
      ]
     },
     "execution_count": 34,
     "metadata": {},
     "output_type": "execute_result"
    }
   ],
   "source": [
    "df.head()"
   ]
  },
  {
   "cell_type": "markdown",
   "metadata": {},
   "source": [
    "## split-apply-combine"
   ]
  },
  {
   "cell_type": "code",
   "execution_count": 35,
   "metadata": {
    "collapsed": false
   },
   "outputs": [
    {
     "data": {
      "text/html": [
       "<div>\n",
       "<table border=\"1\" class=\"dataframe\">\n",
       "  <thead>\n",
       "    <tr style=\"text-align: right;\">\n",
       "      <th></th>\n",
       "      <th>0</th>\n",
       "      <th>1</th>\n",
       "      <th>2</th>\n",
       "      <th>3</th>\n",
       "      <th>4</th>\n",
       "    </tr>\n",
       "    <tr>\n",
       "      <th>index</th>\n",
       "      <th></th>\n",
       "      <th></th>\n",
       "      <th></th>\n",
       "      <th></th>\n",
       "      <th></th>\n",
       "    </tr>\n",
       "  </thead>\n",
       "  <tbody>\n",
       "    <tr>\n",
       "      <th>2015-01-31</th>\n",
       "      <td>-0.487590</td>\n",
       "      <td>1.094196</td>\n",
       "      <td>1.053163</td>\n",
       "      <td>-1.200902</td>\n",
       "      <td>-0.488650</td>\n",
       "    </tr>\n",
       "    <tr>\n",
       "      <th>2015-02-28</th>\n",
       "      <td>-0.054719</td>\n",
       "      <td>0.513234</td>\n",
       "      <td>0.193706</td>\n",
       "      <td>0.728743</td>\n",
       "      <td>-2.109234</td>\n",
       "    </tr>\n",
       "    <tr>\n",
       "      <th>2015-03-31</th>\n",
       "      <td>0.103883</td>\n",
       "      <td>1.921173</td>\n",
       "      <td>1.367425</td>\n",
       "      <td>0.505959</td>\n",
       "      <td>0.102555</td>\n",
       "    </tr>\n",
       "    <tr>\n",
       "      <th>2015-04-30</th>\n",
       "      <td>-0.751469</td>\n",
       "      <td>-0.141222</td>\n",
       "      <td>0.661877</td>\n",
       "      <td>1.546345</td>\n",
       "      <td>0.779070</td>\n",
       "    </tr>\n",
       "    <tr>\n",
       "      <th>2015-05-31</th>\n",
       "      <td>0.701404</td>\n",
       "      <td>0.171580</td>\n",
       "      <td>-0.009606</td>\n",
       "      <td>0.515683</td>\n",
       "      <td>-0.508984</td>\n",
       "    </tr>\n",
       "  </tbody>\n",
       "</table>\n",
       "</div>"
      ],
      "text/plain": [
       "                   0         1         2         3         4\n",
       "index                                                       \n",
       "2015-01-31 -0.487590  1.094196  1.053163 -1.200902 -0.488650\n",
       "2015-02-28 -0.054719  0.513234  0.193706  0.728743 -2.109234\n",
       "2015-03-31  0.103883  1.921173  1.367425  0.505959  0.102555\n",
       "2015-04-30 -0.751469 -0.141222  0.661877  1.546345  0.779070\n",
       "2015-05-31  0.701404  0.171580 -0.009606  0.515683 -0.508984"
      ]
     },
     "execution_count": 35,
     "metadata": {},
     "output_type": "execute_result"
    }
   ],
   "source": [
    "df.groupby(level=1).mean().head()"
   ]
  },
  {
   "cell_type": "code",
   "execution_count": 36,
   "metadata": {
    "collapsed": false
   },
   "outputs": [
    {
     "data": {
      "text/html": [
       "<div>\n",
       "<table border=\"1\" class=\"dataframe\">\n",
       "  <thead>\n",
       "    <tr style=\"text-align: right;\">\n",
       "      <th></th>\n",
       "      <th>0</th>\n",
       "      <th>1</th>\n",
       "      <th>2</th>\n",
       "      <th>3</th>\n",
       "      <th>4</th>\n",
       "    </tr>\n",
       "    <tr>\n",
       "      <th>state</th>\n",
       "      <th></th>\n",
       "      <th></th>\n",
       "      <th></th>\n",
       "      <th></th>\n",
       "      <th></th>\n",
       "    </tr>\n",
       "  </thead>\n",
       "  <tbody>\n",
       "    <tr>\n",
       "      <th>Alabama</th>\n",
       "      <td>0.132610</td>\n",
       "      <td>-0.045459</td>\n",
       "      <td>-0.321344</td>\n",
       "      <td>-0.244004</td>\n",
       "      <td>0.281829</td>\n",
       "    </tr>\n",
       "    <tr>\n",
       "      <th>Alaska</th>\n",
       "      <td>0.587588</td>\n",
       "      <td>0.237315</td>\n",
       "      <td>-0.202126</td>\n",
       "      <td>-0.317174</td>\n",
       "      <td>-0.206917</td>\n",
       "    </tr>\n",
       "    <tr>\n",
       "      <th>Arizona</th>\n",
       "      <td>-0.041728</td>\n",
       "      <td>-0.048268</td>\n",
       "      <td>0.289833</td>\n",
       "      <td>-0.299355</td>\n",
       "      <td>-0.003041</td>\n",
       "    </tr>\n",
       "  </tbody>\n",
       "</table>\n",
       "</div>"
      ],
      "text/plain": [
       "                0         1         2         3         4\n",
       "state                                                    \n",
       "Alabama  0.132610 -0.045459 -0.321344 -0.244004  0.281829\n",
       "Alaska   0.587588  0.237315 -0.202126 -0.317174 -0.206917\n",
       "Arizona -0.041728 -0.048268  0.289833 -0.299355 -0.003041"
      ]
     },
     "execution_count": 36,
     "metadata": {},
     "output_type": "execute_result"
    }
   ],
   "source": [
    "df.groupby(level=0).mean().head()  # Groupby index"
   ]
  },
  {
   "cell_type": "code",
   "execution_count": 37,
   "metadata": {
    "collapsed": false
   },
   "outputs": [
    {
     "data": {
      "text/html": [
       "<div>\n",
       "<table border=\"1\" class=\"dataframe\">\n",
       "  <thead>\n",
       "    <tr style=\"text-align: right;\">\n",
       "      <th></th>\n",
       "      <th>0</th>\n",
       "      <th>1</th>\n",
       "      <th>2</th>\n",
       "      <th>3</th>\n",
       "      <th>4</th>\n",
       "    </tr>\n",
       "    <tr>\n",
       "      <th>state</th>\n",
       "      <th></th>\n",
       "      <th></th>\n",
       "      <th></th>\n",
       "      <th></th>\n",
       "      <th></th>\n",
       "    </tr>\n",
       "  </thead>\n",
       "  <tbody>\n",
       "    <tr>\n",
       "      <th>Alabama</th>\n",
       "      <td>0.132610</td>\n",
       "      <td>-0.045459</td>\n",
       "      <td>-0.321344</td>\n",
       "      <td>-0.244004</td>\n",
       "      <td>0.281829</td>\n",
       "    </tr>\n",
       "    <tr>\n",
       "      <th>Alaska</th>\n",
       "      <td>0.587588</td>\n",
       "      <td>0.237315</td>\n",
       "      <td>-0.202126</td>\n",
       "      <td>-0.317174</td>\n",
       "      <td>-0.206917</td>\n",
       "    </tr>\n",
       "    <tr>\n",
       "      <th>Arizona</th>\n",
       "      <td>-0.041728</td>\n",
       "      <td>-0.048268</td>\n",
       "      <td>0.289833</td>\n",
       "      <td>-0.299355</td>\n",
       "      <td>-0.003041</td>\n",
       "    </tr>\n",
       "  </tbody>\n",
       "</table>\n",
       "</div>"
      ],
      "text/plain": [
       "                0         1         2         3         4\n",
       "state                                                    \n",
       "Alabama  0.132610 -0.045459 -0.321344 -0.244004  0.281829\n",
       "Alaska   0.587588  0.237315 -0.202126 -0.317174 -0.206917\n",
       "Arizona -0.041728 -0.048268  0.289833 -0.299355 -0.003041"
      ]
     },
     "execution_count": 37,
     "metadata": {},
     "output_type": "execute_result"
    }
   ],
   "source": [
    "# Groupby doesn't have to be on index.\n",
    "df.reset_index().groupby('state').mean().head()\n",
    "# 'state' could be a list of columns to group on."
   ]
  },
  {
   "cell_type": "code",
   "execution_count": 38,
   "metadata": {
    "collapsed": false
   },
   "outputs": [],
   "source": [
    "# Apply\n",
    "g = df.groupby(level=0)"
   ]
  },
  {
   "cell_type": "code",
   "execution_count": 39,
   "metadata": {
    "collapsed": false
   },
   "outputs": [
    {
     "data": {
      "text/html": [
       "<div>\n",
       "<table border=\"1\" class=\"dataframe\">\n",
       "  <thead>\n",
       "    <tr style=\"text-align: right;\">\n",
       "      <th></th>\n",
       "      <th>0</th>\n",
       "      <th>1</th>\n",
       "      <th>2</th>\n",
       "      <th>3</th>\n",
       "      <th>4</th>\n",
       "    </tr>\n",
       "    <tr>\n",
       "      <th>state</th>\n",
       "      <th></th>\n",
       "      <th></th>\n",
       "      <th></th>\n",
       "      <th></th>\n",
       "      <th></th>\n",
       "    </tr>\n",
       "  </thead>\n",
       "  <tbody>\n",
       "    <tr>\n",
       "      <th>Alabama</th>\n",
       "      <td>0.132610</td>\n",
       "      <td>-0.045459</td>\n",
       "      <td>-0.321344</td>\n",
       "      <td>-0.244004</td>\n",
       "      <td>0.281829</td>\n",
       "    </tr>\n",
       "    <tr>\n",
       "      <th>Alaska</th>\n",
       "      <td>0.587588</td>\n",
       "      <td>0.237315</td>\n",
       "      <td>-0.202126</td>\n",
       "      <td>-0.317174</td>\n",
       "      <td>-0.206917</td>\n",
       "    </tr>\n",
       "    <tr>\n",
       "      <th>Arizona</th>\n",
       "      <td>-0.041728</td>\n",
       "      <td>-0.048268</td>\n",
       "      <td>0.289833</td>\n",
       "      <td>-0.299355</td>\n",
       "      <td>-0.003041</td>\n",
       "    </tr>\n",
       "  </tbody>\n",
       "</table>\n",
       "</div>"
      ],
      "text/plain": [
       "                0         1         2         3         4\n",
       "state                                                    \n",
       "Alabama  0.132610 -0.045459 -0.321344 -0.244004  0.281829\n",
       "Alaska   0.587588  0.237315 -0.202126 -0.317174 -0.206917\n",
       "Arizona -0.041728 -0.048268  0.289833 -0.299355 -0.003041"
      ]
     },
     "execution_count": 39,
     "metadata": {},
     "output_type": "execute_result"
    }
   ],
   "source": [
    "# If one row for each index.\n",
    "g.aggregate(np.mean)"
   ]
  },
  {
   "cell_type": "code",
   "execution_count": 40,
   "metadata": {
    "collapsed": false
   },
   "outputs": [
    {
     "data": {
      "text/html": [
       "<div>\n",
       "<table border=\"1\" class=\"dataframe\">\n",
       "  <thead>\n",
       "    <tr style=\"text-align: right;\">\n",
       "      <th></th>\n",
       "      <th></th>\n",
       "      <th>0</th>\n",
       "      <th>1</th>\n",
       "      <th>2</th>\n",
       "      <th>3</th>\n",
       "      <th>4</th>\n",
       "    </tr>\n",
       "    <tr>\n",
       "      <th>state</th>\n",
       "      <th>index</th>\n",
       "      <th></th>\n",
       "      <th></th>\n",
       "      <th></th>\n",
       "      <th></th>\n",
       "      <th></th>\n",
       "    </tr>\n",
       "  </thead>\n",
       "  <tbody>\n",
       "    <tr>\n",
       "      <th>Alabama</th>\n",
       "      <th>2015-01-31</th>\n",
       "      <td>-0.721688</td>\n",
       "      <td>1.425777</td>\n",
       "      <td>1.919696</td>\n",
       "      <td>-1.027508</td>\n",
       "      <td>-0.667797</td>\n",
       "    </tr>\n",
       "    <tr>\n",
       "      <th>Alaska</th>\n",
       "      <th>2015-02-28</th>\n",
       "      <td>-0.759735</td>\n",
       "      <td>0.399012</td>\n",
       "      <td>0.418553</td>\n",
       "      <td>1.025109</td>\n",
       "      <td>-1.273341</td>\n",
       "    </tr>\n",
       "    <tr>\n",
       "      <th>Arizona</th>\n",
       "      <th>2015-03-31</th>\n",
       "      <td>0.188090</td>\n",
       "      <td>1.544460</td>\n",
       "      <td>1.035376</td>\n",
       "      <td>0.800006</td>\n",
       "      <td>0.103694</td>\n",
       "    </tr>\n",
       "    <tr>\n",
       "      <th>Alabama</th>\n",
       "      <th>2015-04-30</th>\n",
       "      <td>-1.028748</td>\n",
       "      <td>-0.119806</td>\n",
       "      <td>1.373208</td>\n",
       "      <td>1.922459</td>\n",
       "      <td>0.430974</td>\n",
       "    </tr>\n",
       "    <tr>\n",
       "      <th>Alaska</th>\n",
       "      <th>2015-05-31</th>\n",
       "      <td>0.134625</td>\n",
       "      <td>-0.095062</td>\n",
       "      <td>0.203571</td>\n",
       "      <td>0.816287</td>\n",
       "      <td>-0.202193</td>\n",
       "    </tr>\n",
       "  </tbody>\n",
       "</table>\n",
       "</div>"
      ],
      "text/plain": [
       "                           0         1         2         3         4\n",
       "state   index                                                       \n",
       "Alabama 2015-01-31 -0.721688  1.425777  1.919696 -1.027508 -0.667797\n",
       "Alaska  2015-02-28 -0.759735  0.399012  0.418553  1.025109 -1.273341\n",
       "Arizona 2015-03-31  0.188090  1.544460  1.035376  0.800006  0.103694\n",
       "Alabama 2015-04-30 -1.028748 -0.119806  1.373208  1.922459  0.430974\n",
       "Alaska  2015-05-31  0.134625 -0.095062  0.203571  0.816287 -0.202193"
      ]
     },
     "execution_count": 40,
     "metadata": {},
     "output_type": "execute_result"
    }
   ],
   "source": [
    "# If same shape as original:\n",
    "g.transform(lambda x: (x - x.mean())/x.std()).head()"
   ]
  },
  {
   "cell_type": "markdown",
   "metadata": {},
   "source": [
    "## Reading and writing data"
   ]
  },
  {
   "cell_type": "code",
   "execution_count": 43,
   "metadata": {
    "collapsed": true
   },
   "outputs": [],
   "source": [
    "df.to_csv('saved_data.csv', delimiter='\\t')"
   ]
  },
  {
   "cell_type": "code",
   "execution_count": 44,
   "metadata": {
    "collapsed": true
   },
   "outputs": [],
   "source": [
    "read = pd.read_csv('saved_data.csv', delimiter='\\t')\n",
    "#TONS OF options for reading data"
   ]
  },
  {
   "cell_type": "markdown",
   "metadata": {
    "collapsed": false
   },
   "source": [
    "\"\"\"Other methods:\n",
    "pd.read_excel\n",
    "pd.read_sql\n",
    "pd.read_stata\n",
    "...\n",
    "\"\"\""
   ]
  },
  {
   "cell_type": "markdown",
   "metadata": {},
   "source": [
    "## Other very useful things\n",
    "\n",
    "join, concat and merge"
   ]
  },
  {
   "cell_type": "code",
   "execution_count": 46,
   "metadata": {
    "collapsed": false
   },
   "outputs": [
    {
     "data": {
      "text/html": [
       "<div>\n",
       "<table border=\"1\" class=\"dataframe\">\n",
       "  <thead>\n",
       "    <tr style=\"text-align: right;\">\n",
       "      <th></th>\n",
       "      <th>state</th>\n",
       "      <th>index</th>\n",
       "      <th>0</th>\n",
       "      <th>1</th>\n",
       "      <th>2</th>\n",
       "      <th>3</th>\n",
       "      <th>4</th>\n",
       "      <th>governor</th>\n",
       "    </tr>\n",
       "  </thead>\n",
       "  <tbody>\n",
       "    <tr>\n",
       "      <th>20</th>\n",
       "      <td>Arizona</td>\n",
       "      <td>2016-09-30</td>\n",
       "      <td>-1.521408</td>\n",
       "      <td>-2.016135</td>\n",
       "      <td>-0.501130</td>\n",
       "      <td>0.129394</td>\n",
       "      <td>-1.987903</td>\n",
       "      <td>Doug Ducey</td>\n",
       "    </tr>\n",
       "    <tr>\n",
       "      <th>23</th>\n",
       "      <td>Arizona</td>\n",
       "      <td>2016-12-31</td>\n",
       "      <td>0.718587</td>\n",
       "      <td>-0.261420</td>\n",
       "      <td>1.395542</td>\n",
       "      <td>-0.188347</td>\n",
       "      <td>0.377303</td>\n",
       "      <td>Doug Ducey</td>\n",
       "    </tr>\n",
       "    <tr>\n",
       "      <th>26</th>\n",
       "      <td>Arizona</td>\n",
       "      <td>2017-03-31</td>\n",
       "      <td>-0.507627</td>\n",
       "      <td>1.132078</td>\n",
       "      <td>-1.435928</td>\n",
       "      <td>-2.139604</td>\n",
       "      <td>-0.391570</td>\n",
       "      <td>Doug Ducey</td>\n",
       "    </tr>\n",
       "    <tr>\n",
       "      <th>29</th>\n",
       "      <td>Arizona</td>\n",
       "      <td>2017-06-30</td>\n",
       "      <td>0.442452</td>\n",
       "      <td>0.471012</td>\n",
       "      <td>1.048276</td>\n",
       "      <td>0.495413</td>\n",
       "      <td>1.577641</td>\n",
       "      <td>Doug Ducey</td>\n",
       "    </tr>\n",
       "    <tr>\n",
       "      <th>29</th>\n",
       "      <td>Arkansas</td>\n",
       "      <td>NaT</td>\n",
       "      <td>NaN</td>\n",
       "      <td>NaN</td>\n",
       "      <td>NaN</td>\n",
       "      <td>NaN</td>\n",
       "      <td>NaN</td>\n",
       "      <td>Asa Hutchinson</td>\n",
       "    </tr>\n",
       "  </tbody>\n",
       "</table>\n",
       "</div>"
      ],
      "text/plain": [
       "       state      index         0         1         2         3         4  \\\n",
       "20   Arizona 2016-09-30 -1.521408 -2.016135 -0.501130  0.129394 -1.987903   \n",
       "23   Arizona 2016-12-31  0.718587 -0.261420  1.395542 -0.188347  0.377303   \n",
       "26   Arizona 2017-03-31 -0.507627  1.132078 -1.435928 -2.139604 -0.391570   \n",
       "29   Arizona 2017-06-30  0.442452  0.471012  1.048276  0.495413  1.577641   \n",
       "29  Arkansas        NaT       NaN       NaN       NaN       NaN       NaN   \n",
       "\n",
       "          governor  \n",
       "20      Doug Ducey  \n",
       "23      Doug Ducey  \n",
       "26      Doug Ducey  \n",
       "29      Doug Ducey  \n",
       "29  Asa Hutchinson  "
      ]
     },
     "execution_count": 46,
     "metadata": {},
     "output_type": "execute_result"
    }
   ],
   "source": [
    "state_df = pd.DataFrame({'governor':['Robert Bentley',\n",
    "                                    'Bill Walker',\n",
    "                                    'Doug Ducey',\n",
    "                                    'Asa Hutchinson']}, \n",
    "                        index=['Alabama', 'Alaska', 'Arizona', 'Arkansas'])\n",
    "#Note merge is most useful when you want to merge on something other than the index.\n",
    "#Default is to merge on common column names.\n",
    "pd.merge(df.reset_index(), state_df, \n",
    "         left_on='state', right_index=True, how='right').tail()"
   ]
  },
  {
   "cell_type": "code",
   "execution_count": 48,
   "metadata": {
    "collapsed": false
   },
   "outputs": [
    {
     "data": {
      "text/html": [
       "<div>\n",
       "<table border=\"1\" class=\"dataframe\">\n",
       "  <thead>\n",
       "    <tr style=\"text-align: right;\">\n",
       "      <th></th>\n",
       "      <th>0</th>\n",
       "      <th>1</th>\n",
       "      <th>2</th>\n",
       "      <th>3</th>\n",
       "      <th>4</th>\n",
       "    </tr>\n",
       "    <tr>\n",
       "      <th>state</th>\n",
       "      <th></th>\n",
       "      <th></th>\n",
       "      <th></th>\n",
       "      <th></th>\n",
       "      <th></th>\n",
       "    </tr>\n",
       "  </thead>\n",
       "  <tbody>\n",
       "    <tr>\n",
       "      <th>Alabama</th>\n",
       "      <td>0.132610</td>\n",
       "      <td>-0.045459</td>\n",
       "      <td>-0.321344</td>\n",
       "      <td>-0.244004</td>\n",
       "      <td>0.281829</td>\n",
       "    </tr>\n",
       "    <tr>\n",
       "      <th>Alaska</th>\n",
       "      <td>0.587588</td>\n",
       "      <td>0.237315</td>\n",
       "      <td>-0.202126</td>\n",
       "      <td>-0.317174</td>\n",
       "      <td>-0.206917</td>\n",
       "    </tr>\n",
       "    <tr>\n",
       "      <th>Arizona</th>\n",
       "      <td>-0.041728</td>\n",
       "      <td>-0.048268</td>\n",
       "      <td>0.289833</td>\n",
       "      <td>-0.299355</td>\n",
       "      <td>-0.003041</td>\n",
       "    </tr>\n",
       "  </tbody>\n",
       "</table>\n",
       "</div>"
      ],
      "text/plain": [
       "                0         1         2         3         4\n",
       "state                                                    \n",
       "Alabama  0.132610 -0.045459 -0.321344 -0.244004  0.281829\n",
       "Alaska   0.587588  0.237315 -0.202126 -0.317174 -0.206917\n",
       "Arizona -0.041728 -0.048268  0.289833 -0.299355 -0.003041"
      ]
     },
     "execution_count": 48,
     "metadata": {},
     "output_type": "execute_result"
    }
   ],
   "source": [
    "state_avg = df.groupby(level=0).mean()\n",
    "state_avg.head()"
   ]
  },
  {
   "cell_type": "code",
   "execution_count": 47,
   "metadata": {
    "collapsed": false
   },
   "outputs": [
    {
     "data": {
      "text/html": [
       "<div>\n",
       "<table border=\"1\" class=\"dataframe\">\n",
       "  <thead>\n",
       "    <tr style=\"text-align: right;\">\n",
       "      <th></th>\n",
       "      <th>0</th>\n",
       "      <th>1</th>\n",
       "      <th>2</th>\n",
       "      <th>3</th>\n",
       "      <th>4</th>\n",
       "      <th>governor</th>\n",
       "    </tr>\n",
       "  </thead>\n",
       "  <tbody>\n",
       "    <tr>\n",
       "      <th>Alabama</th>\n",
       "      <td>0.208752</td>\n",
       "      <td>-0.480120</td>\n",
       "      <td>-0.016911</td>\n",
       "      <td>0.622022</td>\n",
       "      <td>0.062684</td>\n",
       "      <td>Robert Bentley</td>\n",
       "    </tr>\n",
       "    <tr>\n",
       "      <th>Alaska</th>\n",
       "      <td>0.385286</td>\n",
       "      <td>-0.783318</td>\n",
       "      <td>0.243022</td>\n",
       "      <td>-0.148556</td>\n",
       "      <td>0.192637</td>\n",
       "      <td>Bill Walker</td>\n",
       "    </tr>\n",
       "    <tr>\n",
       "      <th>Arizona</th>\n",
       "      <td>-0.275708</td>\n",
       "      <td>-0.191888</td>\n",
       "      <td>-0.121975</td>\n",
       "      <td>0.546467</td>\n",
       "      <td>-0.146003</td>\n",
       "      <td>Doug Ducey</td>\n",
       "    </tr>\n",
       "    <tr>\n",
       "      <th>Arkansas</th>\n",
       "      <td>NaN</td>\n",
       "      <td>NaN</td>\n",
       "      <td>NaN</td>\n",
       "      <td>NaN</td>\n",
       "      <td>NaN</td>\n",
       "      <td>Asa Hutchinson</td>\n",
       "    </tr>\n",
       "  </tbody>\n",
       "</table>\n",
       "</div>"
      ],
      "text/plain": [
       "                 0         1         2         3         4        governor\n",
       "Alabama   0.208752 -0.480120 -0.016911  0.622022  0.062684  Robert Bentley\n",
       "Alaska    0.385286 -0.783318  0.243022 -0.148556  0.192637     Bill Walker\n",
       "Arizona  -0.275708 -0.191888 -0.121975  0.546467 -0.146003      Doug Ducey\n",
       "Arkansas       NaN       NaN       NaN       NaN       NaN  Asa Hutchinson"
      ]
     },
     "execution_count": 47,
     "metadata": {},
     "output_type": "execute_result"
    }
   ],
   "source": [
    "#Concat allows joining along the axes.\n",
    "pd.concat([state_avg, state_df], axis=1)"
   ]
  },
  {
   "cell_type": "code",
   "execution_count": 52,
   "metadata": {
    "collapsed": false
   },
   "outputs": [
    {
     "data": {
      "text/html": [
       "<div>\n",
       "<table border=\"1\" class=\"dataframe\">\n",
       "  <thead>\n",
       "    <tr style=\"text-align: right;\">\n",
       "      <th></th>\n",
       "      <th>0</th>\n",
       "      <th>1</th>\n",
       "      <th>2</th>\n",
       "      <th>3</th>\n",
       "      <th>4</th>\n",
       "      <th>governor</th>\n",
       "    </tr>\n",
       "  </thead>\n",
       "  <tbody>\n",
       "    <tr>\n",
       "      <th>Alabama</th>\n",
       "      <td>0.132610</td>\n",
       "      <td>-0.045459</td>\n",
       "      <td>-0.321344</td>\n",
       "      <td>-0.244004</td>\n",
       "      <td>0.281829</td>\n",
       "      <td>Robert Bentley</td>\n",
       "    </tr>\n",
       "    <tr>\n",
       "      <th>Alaska</th>\n",
       "      <td>0.587588</td>\n",
       "      <td>0.237315</td>\n",
       "      <td>-0.202126</td>\n",
       "      <td>-0.317174</td>\n",
       "      <td>-0.206917</td>\n",
       "      <td>Bill Walker</td>\n",
       "    </tr>\n",
       "    <tr>\n",
       "      <th>Arizona</th>\n",
       "      <td>-0.041728</td>\n",
       "      <td>-0.048268</td>\n",
       "      <td>0.289833</td>\n",
       "      <td>-0.299355</td>\n",
       "      <td>-0.003041</td>\n",
       "      <td>Doug Ducey</td>\n",
       "    </tr>\n",
       "    <tr>\n",
       "      <th>Arkansas</th>\n",
       "      <td>NaN</td>\n",
       "      <td>NaN</td>\n",
       "      <td>NaN</td>\n",
       "      <td>NaN</td>\n",
       "      <td>NaN</td>\n",
       "      <td>Asa Hutchinson</td>\n",
       "    </tr>\n",
       "  </tbody>\n",
       "</table>\n",
       "</div>"
      ],
      "text/plain": [
       "                 0         1         2         3         4        governor\n",
       "Alabama   0.132610 -0.045459 -0.321344 -0.244004  0.281829  Robert Bentley\n",
       "Alaska    0.587588  0.237315 -0.202126 -0.317174 -0.206917     Bill Walker\n",
       "Arizona  -0.041728 -0.048268  0.289833 -0.299355 -0.003041      Doug Ducey\n",
       "Arkansas       NaN       NaN       NaN       NaN       NaN  Asa Hutchinson"
      ]
     },
     "execution_count": 52,
     "metadata": {},
     "output_type": "execute_result"
    }
   ],
   "source": [
    "#Join also works. Just like merge, but \n",
    "#default is to join on indexes.\n",
    "state_avg.join(state_df, how='right')"
   ]
  },
  {
   "cell_type": "markdown",
   "metadata": {},
   "source": [
    "## Exploratory Data Analysis with Pandas"
   ]
  },
  {
   "cell_type": "code",
   "execution_count": 54,
   "metadata": {
    "collapsed": false
   },
   "outputs": [
    {
     "name": "stdout",
     "output_type": "stream",
     "text": [
      "Populating the interactive namespace from numpy and matplotlib\n"
     ]
    }
   ],
   "source": [
    "%pylab inline"
   ]
  },
  {
   "cell_type": "code",
   "execution_count": 56,
   "metadata": {
    "collapsed": false
   },
   "outputs": [
    {
     "data": {
      "text/html": [
       "<div>\n",
       "<table border=\"1\" class=\"dataframe\">\n",
       "  <thead>\n",
       "    <tr style=\"text-align: right;\">\n",
       "      <th></th>\n",
       "      <th>Date</th>\n",
       "      <th>Outlook</th>\n",
       "      <th>Temperature</th>\n",
       "      <th>Humidity</th>\n",
       "      <th>Windy</th>\n",
       "      <th>Result</th>\n",
       "    </tr>\n",
       "  </thead>\n",
       "  <tbody>\n",
       "    <tr>\n",
       "      <th>0</th>\n",
       "      <td>07-01-2014</td>\n",
       "      <td>sunny</td>\n",
       "      <td>85</td>\n",
       "      <td>85</td>\n",
       "      <td>False</td>\n",
       "      <td>Don't Play</td>\n",
       "    </tr>\n",
       "    <tr>\n",
       "      <th>1</th>\n",
       "      <td>07-02-2014</td>\n",
       "      <td>sunny</td>\n",
       "      <td>80</td>\n",
       "      <td>90</td>\n",
       "      <td>True</td>\n",
       "      <td>Don't Play</td>\n",
       "    </tr>\n",
       "    <tr>\n",
       "      <th>2</th>\n",
       "      <td>07-03-2014</td>\n",
       "      <td>overcast</td>\n",
       "      <td>83</td>\n",
       "      <td>78</td>\n",
       "      <td>False</td>\n",
       "      <td>Play</td>\n",
       "    </tr>\n",
       "    <tr>\n",
       "      <th>3</th>\n",
       "      <td>07-04-2014</td>\n",
       "      <td>rain</td>\n",
       "      <td>70</td>\n",
       "      <td>96</td>\n",
       "      <td>False</td>\n",
       "      <td>Play</td>\n",
       "    </tr>\n",
       "    <tr>\n",
       "      <th>4</th>\n",
       "      <td>07-05-2014</td>\n",
       "      <td>rain</td>\n",
       "      <td>68</td>\n",
       "      <td>80</td>\n",
       "      <td>False</td>\n",
       "      <td>Play</td>\n",
       "    </tr>\n",
       "  </tbody>\n",
       "</table>\n",
       "</div>"
      ],
      "text/plain": [
       "         Date   Outlook  Temperature  Humidity  Windy      Result\n",
       "0  07-01-2014     sunny           85        85  False  Don't Play\n",
       "1  07-02-2014     sunny           80        90   True  Don't Play\n",
       "2  07-03-2014  overcast           83        78  False        Play\n",
       "3  07-04-2014      rain           70        96  False        Play\n",
       "4  07-05-2014      rain           68        80  False        Play"
      ]
     },
     "execution_count": 56,
     "metadata": {},
     "output_type": "execute_result"
    }
   ],
   "source": [
    "df = pd.read_csv('https://s3-us-west-2.amazonaws.com/dsci/6002/data/playgolf.csv', delimiter='|' )\n",
    "df.head()"
   ]
  },
  {
   "cell_type": "markdown",
   "metadata": {},
   "source": [
    "## Describe the continuous variables\n",
    "### This treats the Boolean Windy variable as a series of 0's and 1's"
   ]
  },
  {
   "cell_type": "code",
   "execution_count": 57,
   "metadata": {
    "collapsed": false
   },
   "outputs": [
    {
     "data": {
      "text/html": [
       "<div>\n",
       "<table border=\"1\" class=\"dataframe\">\n",
       "  <thead>\n",
       "    <tr style=\"text-align: right;\">\n",
       "      <th></th>\n",
       "      <th>Temperature</th>\n",
       "      <th>Humidity</th>\n",
       "    </tr>\n",
       "  </thead>\n",
       "  <tbody>\n",
       "    <tr>\n",
       "      <th>count</th>\n",
       "      <td>14.000000</td>\n",
       "      <td>14.000000</td>\n",
       "    </tr>\n",
       "    <tr>\n",
       "      <th>mean</th>\n",
       "      <td>73.571429</td>\n",
       "      <td>80.285714</td>\n",
       "    </tr>\n",
       "    <tr>\n",
       "      <th>std</th>\n",
       "      <td>6.571667</td>\n",
       "      <td>9.840486</td>\n",
       "    </tr>\n",
       "    <tr>\n",
       "      <th>min</th>\n",
       "      <td>64.000000</td>\n",
       "      <td>65.000000</td>\n",
       "    </tr>\n",
       "    <tr>\n",
       "      <th>25%</th>\n",
       "      <td>69.250000</td>\n",
       "      <td>71.250000</td>\n",
       "    </tr>\n",
       "    <tr>\n",
       "      <th>50%</th>\n",
       "      <td>72.000000</td>\n",
       "      <td>80.000000</td>\n",
       "    </tr>\n",
       "    <tr>\n",
       "      <th>75%</th>\n",
       "      <td>78.750000</td>\n",
       "      <td>88.750000</td>\n",
       "    </tr>\n",
       "    <tr>\n",
       "      <th>max</th>\n",
       "      <td>85.000000</td>\n",
       "      <td>96.000000</td>\n",
       "    </tr>\n",
       "  </tbody>\n",
       "</table>\n",
       "</div>"
      ],
      "text/plain": [
       "       Temperature   Humidity\n",
       "count    14.000000  14.000000\n",
       "mean     73.571429  80.285714\n",
       "std       6.571667   9.840486\n",
       "min      64.000000  65.000000\n",
       "25%      69.250000  71.250000\n",
       "50%      72.000000  80.000000\n",
       "75%      78.750000  88.750000\n",
       "max      85.000000  96.000000"
      ]
     },
     "execution_count": 57,
     "metadata": {},
     "output_type": "execute_result"
    }
   ],
   "source": [
    "df.describe()"
   ]
  },
  {
   "cell_type": "markdown",
   "metadata": {},
   "source": [
    "Can see the general pattern of Temperature and Humidity and mean of a Boolean represents the percentage"
   ]
  },
  {
   "cell_type": "markdown",
   "metadata": {},
   "source": [
    "### We can make use of df.plot() to produce simple graphs that calls on the more adjustable [Matplotlib](http://matplotlib.org/api/pyplot_api.html) library "
   ]
  },
  {
   "cell_type": "code",
   "execution_count": 58,
   "metadata": {
    "collapsed": false,
    "scrolled": true
   },
   "outputs": [
    {
     "data": {
      "text/plain": [
       "array([[<matplotlib.axes._subplots.AxesSubplot object at 0x112b38160>,\n",
       "        <matplotlib.axes._subplots.AxesSubplot object at 0x112bb2b00>]], dtype=object)"
      ]
     },
     "execution_count": 58,
     "metadata": {},
     "output_type": "execute_result"
    },
    {
     "data": {
      "image/png": "[encoded data removed]",
      "text/plain": [
       "<matplotlib.figure.Figure at 0x112b24c18>"
      ]
     },
     "metadata": {},
     "output_type": "display_data"
    }
   ],
   "source": [
    "df.hist(['Temperature','Humidity'],bins=5)"
   ]
  },
  {
   "cell_type": "code",
   "execution_count": 59,
   "metadata": {
    "collapsed": false
   },
   "outputs": [
    {
     "data": {
      "text/plain": [
       "<matplotlib.axes._subplots.AxesSubplot at 0x117b09828>"
      ]
     },
     "execution_count": 59,
     "metadata": {},
     "output_type": "execute_result"
    },
    {
     "data": {
      "image/png": "[encoded data removed]",
      "text/plain": [
       "<matplotlib.figure.Figure at 0x117f98a20>"
      ]
     },
     "metadata": {},
     "output_type": "display_data"
    }
   ],
   "source": [
    "df[['Temperature','Humidity']].plot(kind='box')"
   ]
  },
  {
   "cell_type": "markdown",
   "metadata": {},
   "source": [
    "### Scatterplots for examining bivariate relationships"
   ]
  },
  {
   "cell_type": "code",
   "execution_count": 60,
   "metadata": {
    "collapsed": false,
    "scrolled": false
   },
   "outputs": [
    {
     "data": {
      "image/png": "[encoded data removed]",
      "text/plain": [
       "<matplotlib.figure.Figure at 0x118001470>"
      ]
     },
     "metadata": {},
     "output_type": "display_data"
    }
   ],
   "source": [
    "df.plot('Temperature', 'Humidity', kind='scatter');"
   ]
  },
  {
   "cell_type": "markdown",
   "metadata": {},
   "source": [
    "## What about the categorical variables? Frequency tables and relative frequency tables"
   ]
  },
  {
   "cell_type": "markdown",
   "metadata": {},
   "source": [
    "### Simply df.value_counts() gets you the frequencies"
   ]
  },
  {
   "cell_type": "code",
   "execution_count": 67,
   "metadata": {
    "collapsed": false
   },
   "outputs": [
    {
     "data": {
      "text/plain": [
       "rain        5\n",
       "sunny       5\n",
       "overcast    4\n",
       "Name: Outlook, dtype: int64"
      ]
     },
     "execution_count": 67,
     "metadata": {},
     "output_type": "execute_result"
    }
   ],
   "source": [
    "df['Outlook'].value_counts()"
   ]
  },
  {
   "cell_type": "markdown",
   "metadata": {},
   "source": [
    "### Using apply will get you the value counts for multiple columns at once"
   ]
  },
  {
   "cell_type": "code",
   "execution_count": 73,
   "metadata": {
    "collapsed": false
   },
   "outputs": [
    {
     "data": {
      "text/html": [
       "<div>\n",
       "<table border=\"1\" class=\"dataframe\">\n",
       "  <thead>\n",
       "    <tr style=\"text-align: right;\">\n",
       "      <th></th>\n",
       "      <th>Outlook</th>\n",
       "      <th>Result</th>\n",
       "    </tr>\n",
       "  </thead>\n",
       "  <tbody>\n",
       "    <tr>\n",
       "      <th>Don't Play</th>\n",
       "      <td>NaN</td>\n",
       "      <td>5.0</td>\n",
       "    </tr>\n",
       "    <tr>\n",
       "      <th>Play</th>\n",
       "      <td>NaN</td>\n",
       "      <td>9.0</td>\n",
       "    </tr>\n",
       "    <tr>\n",
       "      <th>overcast</th>\n",
       "      <td>4.0</td>\n",
       "      <td>NaN</td>\n",
       "    </tr>\n",
       "    <tr>\n",
       "      <th>rain</th>\n",
       "      <td>5.0</td>\n",
       "      <td>NaN</td>\n",
       "    </tr>\n",
       "    <tr>\n",
       "      <th>sunny</th>\n",
       "      <td>5.0</td>\n",
       "      <td>NaN</td>\n",
       "    </tr>\n",
       "  </tbody>\n",
       "</table>\n",
       "</div>"
      ],
      "text/plain": [
       "            Outlook  Result\n",
       "Don't Play      NaN     5.0\n",
       "Play            NaN     9.0\n",
       "overcast        4.0     NaN\n",
       "rain            5.0     NaN\n",
       "sunny           5.0     NaN"
      ]
     },
     "execution_count": 73,
     "metadata": {},
     "output_type": "execute_result"
    }
   ],
   "source": [
    "df[['Outlook','Result']].apply(lambda x: x.value_counts())"
   ]
  },
  {
   "cell_type": "markdown",
   "metadata": {},
   "source": [
    "### Contingency Tables for looking at bivariate relationships between two categorical variables"
   ]
  },
  {
   "cell_type": "code",
   "execution_count": 80,
   "metadata": {
    "collapsed": false
   },
   "outputs": [
    {
     "data": {
      "text/html": [
       "<div>\n",
       "<table border=\"1\" class=\"dataframe\">\n",
       "  <thead>\n",
       "    <tr style=\"text-align: right;\">\n",
       "      <th>Result</th>\n",
       "      <th>Don't Play</th>\n",
       "      <th>Play</th>\n",
       "    </tr>\n",
       "    <tr>\n",
       "      <th>Outlook</th>\n",
       "      <th></th>\n",
       "      <th></th>\n",
       "    </tr>\n",
       "  </thead>\n",
       "  <tbody>\n",
       "    <tr>\n",
       "      <th>overcast</th>\n",
       "      <td>0</td>\n",
       "      <td>4</td>\n",
       "    </tr>\n",
       "    <tr>\n",
       "      <th>rain</th>\n",
       "      <td>2</td>\n",
       "      <td>3</td>\n",
       "    </tr>\n",
       "    <tr>\n",
       "      <th>sunny</th>\n",
       "      <td>3</td>\n",
       "      <td>2</td>\n",
       "    </tr>\n",
       "  </tbody>\n",
       "</table>\n",
       "</div>"
      ],
      "text/plain": [
       "Result    Don't Play  Play\n",
       "Outlook                   \n",
       "overcast           0     4\n",
       "rain               2     3\n",
       "sunny              3     2"
      ]
     },
     "execution_count": 80,
     "metadata": {},
     "output_type": "execute_result"
    }
   ],
   "source": [
    "pd.crosstab(df['Outlook'], df['Result'])"
   ]
  },
  {
   "cell_type": "markdown",
   "metadata": {},
   "source": [
    "### Often we want the row percentages"
   ]
  },
  {
   "cell_type": "code",
   "execution_count": 81,
   "metadata": {
    "collapsed": false
   },
   "outputs": [
    {
     "data": {
      "text/html": [
       "<div>\n",
       "<table border=\"1\" class=\"dataframe\">\n",
       "  <thead>\n",
       "    <tr style=\"text-align: right;\">\n",
       "      <th>Result</th>\n",
       "      <th>Don't Play</th>\n",
       "      <th>Play</th>\n",
       "    </tr>\n",
       "    <tr>\n",
       "      <th>Outlook</th>\n",
       "      <th></th>\n",
       "      <th></th>\n",
       "    </tr>\n",
       "  </thead>\n",
       "  <tbody>\n",
       "    <tr>\n",
       "      <th>overcast</th>\n",
       "      <td>0.0</td>\n",
       "      <td>1.0</td>\n",
       "    </tr>\n",
       "    <tr>\n",
       "      <th>rain</th>\n",
       "      <td>0.4</td>\n",
       "      <td>0.6</td>\n",
       "    </tr>\n",
       "    <tr>\n",
       "      <th>sunny</th>\n",
       "      <td>0.6</td>\n",
       "      <td>0.4</td>\n",
       "    </tr>\n",
       "  </tbody>\n",
       "</table>\n",
       "</div>"
      ],
      "text/plain": [
       "Result    Don't Play  Play\n",
       "Outlook                   \n",
       "overcast         0.0   1.0\n",
       "rain             0.4   0.6\n",
       "sunny            0.6   0.4"
      ]
     },
     "execution_count": 81,
     "metadata": {},
     "output_type": "execute_result"
    }
   ],
   "source": [
    "pd.crosstab(df['Outlook'], df['Result']).apply(lambda r: r/r.sum(), axis=1)"
   ]
  },
  {
   "cell_type": "markdown",
   "metadata": {},
   "source": [
    "### Or the column percentages"
   ]
  },
  {
   "cell_type": "code",
   "execution_count": 82,
   "metadata": {
    "collapsed": false
   },
   "outputs": [
    {
     "data": {
      "text/html": [
       "<div>\n",
       "<table border=\"1\" class=\"dataframe\">\n",
       "  <thead>\n",
       "    <tr style=\"text-align: right;\">\n",
       "      <th>Result</th>\n",
       "      <th>Don't Play</th>\n",
       "      <th>Play</th>\n",
       "    </tr>\n",
       "    <tr>\n",
       "      <th>Outlook</th>\n",
       "      <th></th>\n",
       "      <th></th>\n",
       "    </tr>\n",
       "  </thead>\n",
       "  <tbody>\n",
       "    <tr>\n",
       "      <th>overcast</th>\n",
       "      <td>0.0</td>\n",
       "      <td>0.444444</td>\n",
       "    </tr>\n",
       "    <tr>\n",
       "      <th>rain</th>\n",
       "      <td>0.4</td>\n",
       "      <td>0.333333</td>\n",
       "    </tr>\n",
       "    <tr>\n",
       "      <th>sunny</th>\n",
       "      <td>0.6</td>\n",
       "      <td>0.222222</td>\n",
       "    </tr>\n",
       "  </tbody>\n",
       "</table>\n",
       "</div>"
      ],
      "text/plain": [
       "Result    Don't Play      Play\n",
       "Outlook                       \n",
       "overcast         0.0  0.444444\n",
       "rain             0.4  0.333333\n",
       "sunny            0.6  0.222222"
      ]
     },
     "execution_count": 82,
     "metadata": {},
     "output_type": "execute_result"
    }
   ],
   "source": [
    "pd.crosstab(df['Outlook'], df['Result']).apply(lambda c: c/c.sum(), axis=0)"
   ]
  },
  {
   "cell_type": "markdown",
   "metadata": {
    "collapsed": true
   },
   "source": [
    "## Lab Exercises [GRADED]\n",
    "\n",
    "In this scenario, you are a data scientist at [Bay Area Bike Share](http://www.bayareabikeshare.com/). Your task\n",
    "is to provide insights on bike user activity and behavior to the products team. \n",
    "\n",
    "\n",
    "1. Load the `trips` table into a dataframe. \n",
    "   \n",
    "   Make 4 extra columns from the `start_date` column (We will use these in later questions):\n",
    "   - `month` would contain only the month component\n",
    "   - `dayofweek` would indicate what day of the week the date is\n",
    "   - `date` would contain only the date component \n",
    "   - `hour` would only contain the hour component\n",
    "   - [Hint to deal with datetime objects in pandas](http://stackoverflow.com/questions/25129144/pandas-return-hour-from-datetime-column-directly)\n",
    "\n",
    "2. Group the bike rides by `month` and count the number of users per month. Plot the number of users for each month. \n",
    "   What do you observe? Provide a likely explanation to your observation. Real life data can often be messy/incomplete\n",
    "   and cursory EDA is often able to reveal that.\n",
    "   \n",
    "3. Plot the daily user count from September to December. Mark the `mean` and `mean +/- 1.5 * Standard Deviation` as \n",
    "   horizontal lines on the plot. This would help you identify the outliers in your data. Describe your observations. \n",
    "   \n",
    "   ![image](images/timeseries.png)\n",
    "\n",
    "4. Plot the distribution of the daily user counts for all months as a histogram. Comment on the distribution you see and explain why the distribution might be shaped as such. \n",
    "    \n",
    "   <img src=\"images/hist.png\" width=\"500\">\n",
    "  \n",
    "5. Now we are going to explore hourly trends of user activity. Group the bike rides by `date` and `hour` and count \n",
    "   the number of rides in the given hour on the given date. Make a \n",
    "   [boxplot](http://blog.bharatbhole.com/creating-boxplots-with-matplotlib/) of the hours in the day **(x)** against\n",
    "   the number of users **(y)** in that given hour. \n",
    "   \n",
    "6. Someone from the analytics team made a line plot (_right_) that he claims is showing the same information as your\n",
    "   boxplot (_left_). What information can you gain from the boxplot that is missing in the line plot?\n",
    "   \n",
    "   ![image](images/q1_pair.png)\n",
    "\n",
    "7. ** Extra Credit **: Replot the boxplot in `6.` after binning your data into weekday and weekend. Describe the differences you observe between hour user activity between weekday and weekend? \n",
    "    "
   ]
  },
  {
   "cell_type": "code",
   "execution_count": 2,
   "metadata": {
    "collapsed": false
   },
   "outputs": [
    {
     "name": "stdout",
     "output_type": "stream",
     "text": [
      "Fetching package metadata .......\n",
      "Solving package specifications: ..........\n",
      "\n",
      "# All requested packages already installed.\n",
      "# packages in environment at /Users/justin/anaconda:\n",
      "#\n",
      "psycopg2                  2.6.2                    py35_0  \n",
      "Requirement already satisfied (use --upgrade to upgrade): ipython-sql in /Users/justin/anaconda/lib/python3.5/site-packages\n",
      "Requirement already satisfied (use --upgrade to upgrade): six in /Users/justin/anaconda/lib/python3.5/site-packages (from ipython-sql)\n",
      "Requirement already satisfied (use --upgrade to upgrade): ipython>=1.0 in /Users/justin/anaconda/lib/python3.5/site-packages (from ipython-sql)\n",
      "Requirement already satisfied (use --upgrade to upgrade): sqlparse in /Users/justin/anaconda/lib/python3.5/site-packages (from ipython-sql)\n",
      "Requirement already satisfied (use --upgrade to upgrade): prettytable in /Users/justin/anaconda/lib/python3.5/site-packages (from ipython-sql)\n",
      "Requirement already satisfied (use --upgrade to upgrade): sqlalchemy>=0.6.7 in /Users/justin/anaconda/lib/python3.5/site-packages (from ipython-sql)\n"
     ]
    },
    {
     "name": "stderr",
     "output_type": "stream",
     "text": [
      "/Users/justin/anaconda/lib/python3.5/site-packages/IPython/config.py:13: ShimWarning: The `IPython.config` package has been deprecated. You should import from traitlets.config instead.\n",
      "  \"You should import from traitlets.config instead.\", ShimWarning)\n",
      "/Users/justin/anaconda/lib/python3.5/site-packages/IPython/utils/traitlets.py:5: UserWarning: IPython.utils.traitlets has moved to a top-level traitlets package.\n",
      "  warn(\"IPython.utils.traitlets has moved to a top-level traitlets package.\")\n"
     ]
    },
    {
     "name": "stdout",
     "output_type": "stream",
     "text": [
      "Populating the interactive namespace from numpy and matplotlib\n"
     ]
    }
   ],
   "source": [
    "!conda install psycopg2 -y\n",
    "!pip install ipython-sql\n",
    "\n",
    "%load_ext sql\n",
    "%pylab inline  \n",
    "import pandas as pd\n",
    "import yaml"
   ]
  },
  {
   "cell_type": "code",
   "execution_count": 3,
   "metadata": {
    "collapsed": false
   },
   "outputs": [
    {
     "name": "stdout",
     "output_type": "stream",
     "text": [
      "144015 rows affected.\n"
     ]
    },
    {
     "data": {
      "text/html": [
       "<div>\n",
       "<table border=\"1\" class=\"dataframe\">\n",
       "  <thead>\n",
       "    <tr style=\"text-align: right;\">\n",
       "      <th></th>\n",
       "      <th>trip_id</th>\n",
       "      <th>duration</th>\n",
       "      <th>start_date</th>\n",
       "      <th>start_station</th>\n",
       "      <th>start_terminal</th>\n",
       "      <th>end_date</th>\n",
       "      <th>end_station</th>\n",
       "      <th>end_terminal</th>\n",
       "      <th>bike_#</th>\n",
       "      <th>subscription_type</th>\n",
       "      <th>zip_code</th>\n",
       "    </tr>\n",
       "  </thead>\n",
       "  <tbody>\n",
       "    <tr>\n",
       "      <th>0</th>\n",
       "      <td>4576</td>\n",
       "      <td>63</td>\n",
       "      <td>2013-08-29 14:13:00</td>\n",
       "      <td>South Van Ness at Market</td>\n",
       "      <td>66</td>\n",
       "      <td>8/29/2013 14:14</td>\n",
       "      <td>South Van Ness at Market</td>\n",
       "      <td>66</td>\n",
       "      <td>520</td>\n",
       "      <td>Subscriber</td>\n",
       "      <td>94127</td>\n",
       "    </tr>\n",
       "    <tr>\n",
       "      <th>1</th>\n",
       "      <td>4607</td>\n",
       "      <td>70</td>\n",
       "      <td>2013-08-29 14:42:00</td>\n",
       "      <td>San Jose City Hall</td>\n",
       "      <td>10</td>\n",
       "      <td>8/29/2013 14:43</td>\n",
       "      <td>San Jose City Hall</td>\n",
       "      <td>10</td>\n",
       "      <td>661</td>\n",
       "      <td>Subscriber</td>\n",
       "      <td>95138</td>\n",
       "    </tr>\n",
       "    <tr>\n",
       "      <th>2</th>\n",
       "      <td>4130</td>\n",
       "      <td>71</td>\n",
       "      <td>2013-08-29 10:16:00</td>\n",
       "      <td>Mountain View City Hall</td>\n",
       "      <td>27</td>\n",
       "      <td>8/29/2013 10:17</td>\n",
       "      <td>Mountain View City Hall</td>\n",
       "      <td>27</td>\n",
       "      <td>48</td>\n",
       "      <td>Subscriber</td>\n",
       "      <td>97214</td>\n",
       "    </tr>\n",
       "    <tr>\n",
       "      <th>3</th>\n",
       "      <td>4251</td>\n",
       "      <td>77</td>\n",
       "      <td>2013-08-29 11:29:00</td>\n",
       "      <td>San Jose City Hall</td>\n",
       "      <td>10</td>\n",
       "      <td>8/29/2013 11:30</td>\n",
       "      <td>San Jose City Hall</td>\n",
       "      <td>10</td>\n",
       "      <td>26</td>\n",
       "      <td>Subscriber</td>\n",
       "      <td>95060</td>\n",
       "    </tr>\n",
       "    <tr>\n",
       "      <th>4</th>\n",
       "      <td>4299</td>\n",
       "      <td>83</td>\n",
       "      <td>2013-08-29 12:02:00</td>\n",
       "      <td>South Van Ness at Market</td>\n",
       "      <td>66</td>\n",
       "      <td>8/29/2013 12:04</td>\n",
       "      <td>Market at 10th</td>\n",
       "      <td>67</td>\n",
       "      <td>319</td>\n",
       "      <td>Subscriber</td>\n",
       "      <td>94103</td>\n",
       "    </tr>\n",
       "  </tbody>\n",
       "</table>\n",
       "</div>"
      ],
      "text/plain": [
       "   trip_id  duration          start_date             start_station  \\\n",
       "0     4576        63 2013-08-29 14:13:00  South Van Ness at Market   \n",
       "1     4607        70 2013-08-29 14:42:00        San Jose City Hall   \n",
       "2     4130        71 2013-08-29 10:16:00   Mountain View City Hall   \n",
       "3     4251        77 2013-08-29 11:29:00        San Jose City Hall   \n",
       "4     4299        83 2013-08-29 12:02:00  South Van Ness at Market   \n",
       "\n",
       "   start_terminal         end_date               end_station  end_terminal  \\\n",
       "0              66  8/29/2013 14:14  South Van Ness at Market            66   \n",
       "1              10  8/29/2013 14:43        San Jose City Hall            10   \n",
       "2              27  8/29/2013 10:17   Mountain View City Hall            27   \n",
       "3              10  8/29/2013 11:30        San Jose City Hall            10   \n",
       "4              66  8/29/2013 12:04            Market at 10th            67   \n",
       "\n",
       "   bike_# subscription_type zip_code  \n",
       "0     520        Subscriber    94127  \n",
       "1     661        Subscriber    95138  \n",
       "2      48        Subscriber    97214  \n",
       "3      26        Subscriber    95060  \n",
       "4     319        Subscriber    94103  "
      ]
     },
     "execution_count": 3,
     "metadata": {},
     "output_type": "execute_result"
    }
   ],
   "source": [
    "pg_creds = yaml.load(open('../../pg_creds.yaml'))['student']\n",
    "connection_string = 'postgresql://{user}:{password}@{host}:{port}/{dbname}'.format(**pg_creds)\n",
    "\n",
    "%sql $connection_string\n",
    "\n",
    "trips_table = %sql SELECT * FROM trips;\n",
    "trips = trips_table.DataFrame()\n",
    "\n",
    "trips.head()"
   ]
  },
  {
   "cell_type": "code",
   "execution_count": 106,
   "metadata": {
    "collapsed": false
   },
   "outputs": [
    {
     "data": {
      "text/html": [
       "<div>\n",
       "<table border=\"1\" class=\"dataframe\">\n",
       "  <thead>\n",
       "    <tr style=\"text-align: right;\">\n",
       "      <th></th>\n",
       "      <th>trip_id</th>\n",
       "      <th>duration</th>\n",
       "      <th>start_date</th>\n",
       "      <th>start_station</th>\n",
       "      <th>start_terminal</th>\n",
       "      <th>end_date</th>\n",
       "      <th>end_station</th>\n",
       "      <th>end_terminal</th>\n",
       "      <th>bike_#</th>\n",
       "      <th>subscription_type</th>\n",
       "      <th>zip_code</th>\n",
       "      <th>month</th>\n",
       "      <th>dayofweek</th>\n",
       "      <th>date</th>\n",
       "      <th>hour</th>\n",
       "    </tr>\n",
       "  </thead>\n",
       "  <tbody>\n",
       "    <tr>\n",
       "      <th>144010</th>\n",
       "      <td>198771</td>\n",
       "      <td>385</td>\n",
       "      <td>2014-02-28 22:15:00</td>\n",
       "      <td>Powell Street BART</td>\n",
       "      <td>53</td>\n",
       "      <td>2/28/2014 22:22</td>\n",
       "      <td>South Van Ness at Market</td>\n",
       "      <td>66</td>\n",
       "      <td>483</td>\n",
       "      <td>Subscriber</td>\n",
       "      <td>94404</td>\n",
       "      <td>2</td>\n",
       "      <td>4</td>\n",
       "      <td>2014-02-28</td>\n",
       "      <td>22</td>\n",
       "    </tr>\n",
       "    <tr>\n",
       "      <th>144011</th>\n",
       "      <td>198772</td>\n",
       "      <td>145</td>\n",
       "      <td>2014-02-28 22:38:00</td>\n",
       "      <td>Commercial at Montgomery</td>\n",
       "      <td>45</td>\n",
       "      <td>2/28/2014 22:40</td>\n",
       "      <td>Davis at Jackson</td>\n",
       "      <td>42</td>\n",
       "      <td>425</td>\n",
       "      <td>Subscriber</td>\n",
       "      <td>94111</td>\n",
       "      <td>2</td>\n",
       "      <td>4</td>\n",
       "      <td>2014-02-28</td>\n",
       "      <td>22</td>\n",
       "    </tr>\n",
       "    <tr>\n",
       "      <th>144012</th>\n",
       "      <td>198773</td>\n",
       "      <td>677</td>\n",
       "      <td>2014-02-28 22:45:00</td>\n",
       "      <td>Embarcadero at Sansome</td>\n",
       "      <td>60</td>\n",
       "      <td>2/28/2014 22:56</td>\n",
       "      <td>Market at 4th</td>\n",
       "      <td>76</td>\n",
       "      <td>438</td>\n",
       "      <td>Subscriber</td>\n",
       "      <td>94102</td>\n",
       "      <td>2</td>\n",
       "      <td>4</td>\n",
       "      <td>2014-02-28</td>\n",
       "      <td>22</td>\n",
       "    </tr>\n",
       "    <tr>\n",
       "      <th>144013</th>\n",
       "      <td>198774</td>\n",
       "      <td>64128</td>\n",
       "      <td>2014-02-28 23:01:00</td>\n",
       "      <td>Civic Center BART (7th at Market)</td>\n",
       "      <td>72</td>\n",
       "      <td>3/1/2014 16:50</td>\n",
       "      <td>Harry Bridges Plaza (Ferry Building)</td>\n",
       "      <td>50</td>\n",
       "      <td>414</td>\n",
       "      <td>Customer</td>\n",
       "      <td>94124</td>\n",
       "      <td>2</td>\n",
       "      <td>4</td>\n",
       "      <td>2014-02-28</td>\n",
       "      <td>23</td>\n",
       "    </tr>\n",
       "    <tr>\n",
       "      <th>144014</th>\n",
       "      <td>198775</td>\n",
       "      <td>570</td>\n",
       "      <td>2014-02-28 23:20:00</td>\n",
       "      <td>2nd at South Park</td>\n",
       "      <td>64</td>\n",
       "      <td>2/28/2014 23:30</td>\n",
       "      <td>Townsend at 7th</td>\n",
       "      <td>65</td>\n",
       "      <td>577</td>\n",
       "      <td>Subscriber</td>\n",
       "      <td>94107</td>\n",
       "      <td>2</td>\n",
       "      <td>4</td>\n",
       "      <td>2014-02-28</td>\n",
       "      <td>23</td>\n",
       "    </tr>\n",
       "  </tbody>\n",
       "</table>\n",
       "</div>"
      ],
      "text/plain": [
       "        trip_id  duration          start_date  \\\n",
       "144010   198771       385 2014-02-28 22:15:00   \n",
       "144011   198772       145 2014-02-28 22:38:00   \n",
       "144012   198773       677 2014-02-28 22:45:00   \n",
       "144013   198774     64128 2014-02-28 23:01:00   \n",
       "144014   198775       570 2014-02-28 23:20:00   \n",
       "\n",
       "                            start_station  start_terminal         end_date  \\\n",
       "144010                 Powell Street BART              53  2/28/2014 22:22   \n",
       "144011           Commercial at Montgomery              45  2/28/2014 22:40   \n",
       "144012             Embarcadero at Sansome              60  2/28/2014 22:56   \n",
       "144013  Civic Center BART (7th at Market)              72   3/1/2014 16:50   \n",
       "144014                  2nd at South Park              64  2/28/2014 23:30   \n",
       "\n",
       "                                 end_station  end_terminal  bike_#  \\\n",
       "144010              South Van Ness at Market            66     483   \n",
       "144011                      Davis at Jackson            42     425   \n",
       "144012                         Market at 4th            76     438   \n",
       "144013  Harry Bridges Plaza (Ferry Building)            50     414   \n",
       "144014                       Townsend at 7th            65     577   \n",
       "\n",
       "       subscription_type zip_code  month  dayofweek        date  hour  \n",
       "144010        Subscriber    94404      2          4  2014-02-28    22  \n",
       "144011        Subscriber    94111      2          4  2014-02-28    22  \n",
       "144012        Subscriber    94102      2          4  2014-02-28    22  \n",
       "144013          Customer    94124      2          4  2014-02-28    23  \n",
       "144014        Subscriber    94107      2          4  2014-02-28    23  "
      ]
     },
     "execution_count": 106,
     "metadata": {},
     "output_type": "execute_result"
    }
   ],
   "source": [
    "# month would contain only the month component\n",
    "trips['month'] = trips.start_date.dt.month\n",
    "\n",
    "# dayofweek would indicate what day of the week the date is\n",
    "trips['dayofweek'] = trips.start_date.dt.dayofweek\n",
    "\n",
    "# date would contain only the date component\n",
    "trips['date'] = trips.start_date.dt.date\n",
    "\n",
    "# hour would only contain the hour component\n",
    "trips['hour'] = trips.start_date.dt.hour\n",
    "\n",
    "trips.head()\n",
    "trips.tail()"
   ]
  },
  {
   "cell_type": "code",
   "execution_count": 107,
   "metadata": {
    "collapsed": false
   },
   "outputs": [
    {
     "name": "stdout",
     "output_type": "stream",
     "text": [
      "Fetching package metadata .......\n",
      "Solving package specifications: ..........\n",
      "\n",
      "# All requested packages already installed.\n",
      "# packages in environment at /Users/justin/anaconda:\n",
      "#\n",
      "seaborn                   0.7.1                    py35_0  \n"
     ]
    },
    {
     "data": {
      "text/plain": [
       "<matplotlib.axes._subplots.AxesSubplot at 0x1276b7828>"
      ]
     },
     "execution_count": 107,
     "metadata": {},
     "output_type": "execute_result"
    },
    {
     "data": {
      "image/png": "[encoded data removed]",
      "text/plain": [
       "<matplotlib.figure.Figure at 0x118179898>"
      ]
     },
     "metadata": {},
     "output_type": "display_data"
    }
   ],
   "source": [
    "# Group the bike rides by month and count the number of users per month. Plot the number of users for each month. \n",
    "# What do you observe? Provide a likely explanation to your observation. \n",
    "# Real life data can often be messy/incomplete and cursory EDA is often able to reveal that.\n",
    "\n",
    "trips.month.value_counts()\n",
    "\n",
    "!conda install seaborn -y\n",
    "import seaborn as sns\n",
    "\n",
    "sns.countplot(x='month', data=trips)\n",
    "\n",
    "# there's low counts for August, and months 3-7 are missing.\n",
    "# I would consider the month-years because months from different years can overlap\n",
    "\n",
    "# the earliest date is 8/29/2013, and the latest date is 2014-02-28\n",
    "\n",
    "# Hence, August is lacking because data was collected starting the 29th, and we went only up to the following February."
   ]
  },
  {
   "cell_type": "code",
   "execution_count": 111,
   "metadata": {
    "collapsed": false
   },
   "outputs": [
    {
     "data": {
      "image/png": "[encoded data removed]",
      "text/plain": [
       "<matplotlib.figure.Figure at 0x126b644a8>"
      ]
     },
     "metadata": {},
     "output_type": "display_data"
    }
   ],
   "source": [
    "# Plot the daily user count from September to December. Mark the mean and mean +/- 1.5 * Standard Deviation as \n",
    "# horizontal lines on the plot. This would help you identify the outliers in your data. Describe your observations. \n",
    "\n",
    "import matplotlib.pyplot as plt\n",
    "x = trips[trips['month']>=9].groupby(trips.date).count().trip_id\n",
    "#print(x.head())\n",
    "\n",
    "#http://savvastjortjoglou.com/nba-draft-part02-visualizing.html\n",
    "x_values = x.index  \n",
    "y_values = x.values\n",
    "title = ('Daily user count from September to December')\n",
    "plt.title(title, fontsize=20)\n",
    "plt.ylabel('Counts', fontsize=9, rotation='vertical')\n",
    "plt.xlabel('Months', fontsize=9, rotation='horizontal')\n",
    "#sns.despine(left=True, bottom=True) \n",
    "#plt.plot(x_values, y_values)\n",
    "sns.pointplot(x=x_values, y=y_values)\n",
    "#locs, labels = plt.xticks()\n",
    "plt.xticks(rotation='vertical')\n",
    "\n",
    "# Display our graph\n",
    "plt.show()"
   ]
  },
  {
   "cell_type": "code",
   "execution_count": 119,
   "metadata": {
    "collapsed": false
   },
   "outputs": [
    {
     "name": "stdout",
     "output_type": "stream",
     "text": [
      "date\n",
      "2013-08-29    748\n",
      "2013-08-30    714\n",
      "2013-08-31    640\n",
      "2013-09-01    706\n",
      "2013-09-02    661\n",
      "Name: trip_id, dtype: int64\n"
     ]
    },
    {
     "data": {
      "text/plain": [
       "<matplotlib.text.Text at 0x126a752e8>"
      ]
     },
     "execution_count": 119,
     "metadata": {},
     "output_type": "execute_result"
    },
    {
     "data": {
      "image/png": "[encoded data removed]",
      "text/plain": [
       "<matplotlib.figure.Figure at 0x12647a080>"
      ]
     },
     "metadata": {},
     "output_type": "display_data"
    }
   ],
   "source": [
    "# Plot the distribution of the daily user counts for all months as a histogram. \n",
    "# Comment on the distribution you see and explain why the distribution might be shaped as such. \n",
    "\n",
    "import matplotlib.pyplot as plt\n",
    "x = trips.groupby(trips.date).count().trip_id\n",
    "print(x.head())\n",
    "\n",
    "#http://savvastjortjoglou.com/nba-draft-part02-visualizing.html\n",
    "x_values = x.index\n",
    "y_values = x.values\n",
    "\n",
    "title = ('distribution of the daily user counts for all months')\n",
    "plt.title(title, fontsize=20)\n",
    "# sns.distplot(a=y_values, bins=x_values)\n",
    "\n",
    "# plt.show()"
   ]
  },
  {
   "cell_type": "code",
   "execution_count": 120,
   "metadata": {
    "collapsed": true
   },
   "outputs": [],
   "source": [
    "# Someone from the analytics team made a line plot (right) that he claims is showing the same information as your \n",
    "# boxplot (left). What information can you gain from the boxplot that is missing in the line plot?\n",
    "\n",
    "# the line plot lacks confidence interval information."
   ]
  },
  {
   "cell_type": "markdown",
   "metadata": {},
   "source": [
    "# Research for tomorrow:\n",
    "## What is Anscombe's Quartet?\n",
    "### Be prepared to explain it tomorrow at the beginning of class."
   ]
  },
  {
   "cell_type": "code",
   "execution_count": null,
   "metadata": {
    "collapsed": true
   },
   "outputs": [],
   "source": []
  }
 ],
 "metadata": {
  "anaconda-cloud": {},
  "kernelspec": {
   "display_name": "Python [conda root]",
   "language": "python",
   "name": "conda-root-py"
  },
  "language_info": {
   "codemirror_mode": {
    "name": "ipython",
    "version": 3
   },
   "file_extension": ".py",
   "mimetype": "text/x-python",
   "name": "python",
   "nbconvert_exporter": "python",
   "pygments_lexer": "ipython3",
   "version": "3.5.2"
  }
 },
 "nbformat": 4,
 "nbformat_minor": 0
}
