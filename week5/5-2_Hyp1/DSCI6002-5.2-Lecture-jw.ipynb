{
 "cells": [
  {
   "cell_type": "markdown",
   "metadata": {
    "slideshow": {
     "slide_type": "slide"
    }
   },
   "source": [
    "# Lecture 5.2: Hypothesis Testing I - Inference for Numerical Data"
   ]
  },
  {
   "cell_type": "markdown",
   "metadata": {
    "slideshow": {
     "slide_type": "subslide"
    }
   },
   "source": [
    "## Outline\n",
    "\n",
    "* Recap: confidence intervals - one sample mean\n",
    "* Introduction to hypothesis testing\n",
    "    * Null and alternative hypotheses\n",
    "    * Test statistic\n",
    "    * p-value\n",
    "    * Power of test"
   ]
  },
  {
   "cell_type": "markdown",
   "metadata": {
    "slideshow": {
     "slide_type": "subslide"
    }
   },
   "source": [
    "## Objectives\n",
    "\n",
    "* Know how to carry out hypothesis testing for mean and proportion\n",
    "* Understand p-values\n",
    "* Understand the power of the test"
   ]
  },
  {
   "cell_type": "markdown",
   "metadata": {
    "slideshow": {
     "slide_type": "slide"
    }
   },
   "source": [
    "## Recap: Confidence Intervals  \n",
    "\n",
    "* Allow us to use sample data to estimate a population value, like the true mean, and then put bounds on our estimate.  \n",
    "\n",
    "\n",
    "* Example: Give a 95% confidence interval for the true average amount of sleep students get every day.  "
   ]
  },
  {
   "cell_type": "markdown",
   "metadata": {
    "slideshow": {
     "slide_type": "subslide"
    }
   },
   "source": [
    "* If population standard deviation $\\sigma$ is known, we estimate the 95% confidence interval for the mean as follows,  \n",
    "\n",
    "$$ (\\bar{X} - 1.96 \\frac{\\sigma}{\\sqrt{n}} \\text{, } \\bar{X} + 1.96 \\frac{\\sigma}{\\sqrt{n}}) $$  \n",
    "\n",
    "* If $\\sigma$ is unknown, we use the sample standard deviation $s$:  \n",
    "\n",
    "$$ \\bar{X} \\pm t \\left( \\frac{s}{\\sqrt{n}} \\right) $$   "
   ]
  },
  {
   "cell_type": "markdown",
   "metadata": {
    "slideshow": {
     "slide_type": "slide"
    }
   },
   "source": [
    "### One-Sided Confidence Intervals\n",
    "\n",
    "* The confidence intervals we have seen so far are two-sided intervals for the mean  \n",
    "\n",
    "* We can also calculate one-sided confidence intervals  \n",
    "\n",
    "    * One-sided confidence intervals give upper or lower bounds on the value of the population mean  \n",
    "    \n",
    "    * For a 95% confidence interval, it puts the 5% all onto one side  \n",
    "    "
   ]
  },
  {
   "cell_type": "markdown",
   "metadata": {
    "slideshow": {
     "slide_type": "subslide"
    }
   },
   "source": [
    "* 95% Upper one-side CI   \n",
    "\n",
    "$$ (- \\infty, \\bar{X} + 1.64 \\frac{\\sigma}{\\sqrt{n}}) $$  \n",
    "\n",
    "* 95% Lower one-side CI  \n",
    "\n",
    "$$ (\\bar{X} - 1.64 \\frac{\\sigma}{\\sqrt{n}}, \\infty) $$  \n",
    "\n",
    "* For 95% intervals, $z_{\\alpha} = 1.64$; we don’t use 1.96 since these are one-sided intervals."
   ]
  },
  {
   "cell_type": "markdown",
   "metadata": {
    "slideshow": {
     "slide_type": "slide"
    }
   },
   "source": [
    "#### Example\n",
    "\n",
    "* I want a one-sided 95% lower confidence interval on the average number of minutes my little cousin spends on his xbox video game. I get the tally for each of 30 days and find the mean is 250 minutes/day with a standard deviation of 20 minutes.  \n",
    "\n",
    "* The interval is  \n",
    "\n",
    "$$ (250 - 1.70 \\frac{20}{\\sqrt{30}}, \\infty) = (243.8, \\infty) $$"
   ]
  },
  {
   "cell_type": "code",
   "execution_count": 1,
   "metadata": {
    "collapsed": false,
    "slideshow": {
     "slide_type": "skip"
    }
   },
   "outputs": [
    {
     "name": "stdout",
     "output_type": "stream",
     "text": [
      "Populating the interactive namespace from numpy and matplotlib\n"
     ]
    }
   ],
   "source": [
    "%pylab inline\n",
    "import sympy\n",
    "from sympy import Eq, S, init_printing\n",
    "from sympy.stats import Binomial, Die, P, density, sample, sample_iter\n",
    "init_printing()"
   ]
  },
  {
   "cell_type": "code",
   "execution_count": 2,
   "metadata": {
    "collapsed": false,
    "slideshow": {
     "slide_type": "subslide"
    }
   },
   "outputs": [
    {
     "name": "stdout",
     "output_type": "stream",
     "text": [
      "1.69912702653\n"
     ]
    },
    {
     "data": {
      "image/png": "[encoded data removed]",
      "text/latex": [
       "$$243.79566533$$"
      ],
      "text/plain": [
       "243.79566533"
      ]
     },
     "execution_count": 2,
     "metadata": {},
     "output_type": "execute_result"
    }
   ],
   "source": [
    "from scipy.stats import t, binom\n",
    "\n",
    "t_val = t(29).ppf(0.95)\n",
    "print(t_val)\n",
    "\n",
    "250 - t_val * 20 /(30**0.5)"
   ]
  },
  {
   "cell_type": "markdown",
   "metadata": {
    "slideshow": {
     "slide_type": "fragment"
    }
   },
   "source": [
    "* I am 95% confident he spends (on average) at least 243.8 minutes playing xbox every day."
   ]
  },
  {
   "cell_type": "markdown",
   "metadata": {
    "slideshow": {
     "slide_type": "slide"
    }
   },
   "source": [
    "## p-values and Hypothesis Testing\n",
    "\n",
    "Back to de Méré's *Null Hypothesis* $(H_0)$:\n",
    "$$ P(win) = \\frac{2}{3} $$"
   ]
  },
  {
   "cell_type": "code",
   "execution_count": null,
   "metadata": {
    "collapsed": false,
    "slideshow": {
     "slide_type": "skip"
    }
   },
   "outputs": [],
   "source": []
  },
  {
   "cell_type": "code",
   "execution_count": 3,
   "metadata": {
    "collapsed": false,
    "slideshow": {
     "slide_type": "-"
    }
   },
   "outputs": [
    {
     "data": {
      "image/png": "[encoded data removed]",
      "text/latex": [
       "$$\\left \\{ 0 : \\frac{1}{3}, \\quad 1 : \\frac{2}{3}\\right \\}$$"
      ],
      "text/plain": [
       "{0: 1/3, 1: 2/3}"
      ]
     },
     "execution_count": 3,
     "metadata": {},
     "output_type": "execute_result"
    }
   ],
   "source": [
    "X = Binomial('X', 1, S(2)/3)\n",
    "density(X).dict"
   ]
  },
  {
   "cell_type": "code",
   "execution_count": 4,
   "metadata": {
    "collapsed": false,
    "slideshow": {
     "slide_type": "skip"
    }
   },
   "outputs": [
    {
     "data": {
      "text/plain": [
       "array([ 0.33333333,  0.66666667])"
      ]
     },
     "execution_count": 4,
     "metadata": {},
     "output_type": "execute_result"
    }
   ],
   "source": [
    "binom.pmf([0,1], 1, 2/3)"
   ]
  },
  {
   "cell_type": "markdown",
   "metadata": {
    "slideshow": {
     "slide_type": "subslide"
    }
   },
   "source": [
    "If he plays three times, according to $H_0$, he should win:"
   ]
  },
  {
   "cell_type": "code",
   "execution_count": 5,
   "metadata": {
    "collapsed": false,
    "slideshow": {
     "slide_type": "-"
    }
   },
   "outputs": [
    {
     "data": {
      "image/png": "[encoded data removed]",
      "text/latex": [
       "$$\\left \\{ 0 : \\frac{1}{27}, \\quad 1 : \\frac{2}{9}, \\quad 2 : \\frac{4}{9}, \\quad 3 : \\frac{8}{27}\\right \\}$$"
      ],
      "text/plain": [
       "{0: 1/27, 1: 2/9, 2: 4/9, 3: 8/27}"
      ]
     },
     "execution_count": 5,
     "metadata": {},
     "output_type": "execute_result"
    }
   ],
   "source": [
    "X = Binomial('X', 3, S(2)/3)\n",
    "density(X).dict"
   ]
  },
  {
   "cell_type": "code",
   "execution_count": 6,
   "metadata": {
    "collapsed": false,
    "slideshow": {
     "slide_type": "skip"
    }
   },
   "outputs": [
    {
     "data": {
      "text/plain": [
       "array([ 0.03703704,  0.22222222,  0.44444444,  0.2962963 ])"
      ]
     },
     "execution_count": 6,
     "metadata": {},
     "output_type": "execute_result"
    }
   ],
   "source": [
    "binom.pmf(range(3+1), 3, 2/3)"
   ]
  },
  {
   "cell_type": "markdown",
   "metadata": {
    "slideshow": {
     "slide_type": "fragment"
    }
   },
   "source": [
    "If he plays nine times, his odds:"
   ]
  },
  {
   "cell_type": "code",
   "execution_count": 7,
   "metadata": {
    "collapsed": false,
    "slideshow": {
     "slide_type": "fragment"
    }
   },
   "outputs": [
    {
     "data": {
      "image/png": "[encoded data removed]",
      "text/latex": [
       "$$\\left \\{ 0 : \\frac{1}{19683}, \\quad 1 : \\frac{2}{2187}, \\quad 2 : \\frac{16}{2187}, \\quad 3 : \\frac{224}{6561}, \\quad 4 : \\frac{224}{2187}, \\quad 5 : \\frac{448}{2187}, \\quad 6 : \\frac{1792}{6561}, \\quad 7 : \\frac{512}{2187}, \\quad 8 : \\frac{256}{2187}, \\quad 9 : \\frac{512}{19683}\\right \\}$$"
      ],
      "text/plain": [
       "⎧                           16      224      224      448      1792     512   \n",
       "⎨0: 1/19683, 1: 2/2187, 2: ────, 3: ────, 4: ────, 5: ────, 6: ────, 7: ────, \n",
       "⎩                          2187     6561     2187     2187     6561     2187  \n",
       "\n",
       "   256       512 ⎫\n",
       "8: ────, 9: ─────⎬\n",
       "   2187     19683⎭"
      ]
     },
     "execution_count": 7,
     "metadata": {},
     "output_type": "execute_result"
    }
   ],
   "source": [
    "X = Binomial('X', 9, S(2)/3)\n",
    "density(X).dict"
   ]
  },
  {
   "cell_type": "code",
   "execution_count": 8,
   "metadata": {
    "collapsed": false,
    "slideshow": {
     "slide_type": "skip"
    }
   },
   "outputs": [
    {
     "data": {
      "text/plain": [
       "array([  5.08052634e-05,   9.14494742e-04,   7.31595793e-03,\n",
       "         3.41411370e-02,   1.02423411e-01,   2.04846822e-01,\n",
       "         2.73129096e-01,   2.34110654e-01,   1.17055327e-01,\n",
       "         2.60122949e-02])"
      ]
     },
     "execution_count": 8,
     "metadata": {},
     "output_type": "execute_result"
    }
   ],
   "source": [
    "binom.pmf(range(9+1), 9, 2/3)"
   ]
  },
  {
   "cell_type": "code",
   "execution_count": 9,
   "metadata": {
    "collapsed": false,
    "slideshow": {
     "slide_type": "subslide"
    }
   },
   "outputs": [
    {
     "data": {
      "image/png": "[encoded data removed]",
      "text/plain": [
       "<matplotlib.figure.Figure at 0x15761516eb8>"
      ]
     },
     "metadata": {},
     "output_type": "display_data"
    }
   ],
   "source": [
    "figure(figsize=(12,6))\n",
    "p = 2/3\n",
    "k = 9\n",
    "rv = binom(k, p)\n",
    "x = linspace(0.0, 1.0, k+1)\n",
    "y = rv.pmf(range(k+1))\n",
    "plot(x, y, lw=2, label=k)\n",
    "fill_between(x, y, alpha=1/9)\n",
    "legend()\n",
    "title(\"Relative distribution given $p = 2/3$\")\n",
    "ylabel(\"PMF\")\n",
    "xlabel(\"Relative Frequency\");"
   ]
  },
  {
   "cell_type": "code",
   "execution_count": 10,
   "metadata": {
    "collapsed": false,
    "slideshow": {
     "slide_type": "subslide"
    }
   },
   "outputs": [
    {
     "data": {
      "image/png": "[encoded data removed]",
      "text/plain": [
       "<matplotlib.figure.Figure at 0x1575fe441d0>"
      ]
     },
     "metadata": {},
     "output_type": "display_data"
    }
   ],
   "source": [
    "figure(figsize=(12,6))\n",
    "colors = rcParams['axes.prop_cycle'].by_key()['color']\n",
    "for k, color in zip(arange(9,16), colors):\n",
    "    rv = binom(k, p)\n",
    "    x = linspace(0.0, 1.0, k+1)\n",
    "    y = rv.pmf(range(k+1))\n",
    "    plot(x, y, lw=2, color=color, label=k)\n",
    "    fill_between(x, y, color=color, alpha=1/9)\n",
    "legend()\n",
    "title(\"Relative distribution given $p = 2/3$\")\n",
    "ylabel(\"PMF\")\n",
    "xlabel(\"Relative Frequency\");"
   ]
  },
  {
   "cell_type": "markdown",
   "metadata": {
    "collapsed": true,
    "slideshow": {
     "slide_type": "subslide"
    }
   },
   "source": [
    "What are the chances of losing 6 out of 12 games, given: $$ H_0: P(win) = \\frac{2}{3} $$"
   ]
  },
  {
   "cell_type": "code",
   "execution_count": 11,
   "metadata": {
    "collapsed": false,
    "slideshow": {
     "slide_type": "skip"
    }
   },
   "outputs": [
    {
     "data": {
      "image/png": "[encoded data removed]",
      "text/latex": [
       "$$\\frac{31483}{177147}$$"
      ],
      "text/plain": [
       "31483 \n",
       "──────\n",
       "177147"
      ]
     },
     "execution_count": 11,
     "metadata": {},
     "output_type": "execute_result"
    }
   ],
   "source": [
    "X = Binomial('X', 12, S(2)/3)\n",
    "P(X <= 6)"
   ]
  },
  {
   "cell_type": "code",
   "execution_count": 12,
   "metadata": {
    "collapsed": false,
    "slideshow": {
     "slide_type": "fragment"
    }
   },
   "outputs": [
    {
     "data": {
      "image/png": "[encoded data removed]",
      "text/latex": [
       "$$0.177722456491$$"
      ],
      "text/plain": [
       "0.177722456491"
      ]
     },
     "execution_count": 12,
     "metadata": {},
     "output_type": "execute_result"
    }
   ],
   "source": [
    "binom(12, 2/3).cdf(6)"
   ]
  },
  {
   "cell_type": "markdown",
   "metadata": {
    "collapsed": true,
    "slideshow": {
     "slide_type": "fragment"
    }
   },
   "source": [
    "In other words, if we were to play 12 games *100 times*, and $H_0$ *were true*, we could expect to lose half of those 12 about 18% of the time."
   ]
  },
  {
   "cell_type": "markdown",
   "metadata": {
    "collapsed": true,
    "slideshow": {
     "slide_type": "subslide"
    }
   },
   "source": [
    "How many games do we need to play before we can conclude, from losing half the time, that $p(win) < \\frac{2}{3}$"
   ]
  },
  {
   "cell_type": "code",
   "execution_count": 13,
   "metadata": {
    "collapsed": false,
    "slideshow": {
     "slide_type": "fragment"
    }
   },
   "outputs": [
    {
     "name": "stdout",
     "output_type": "stream",
     "text": [
      "12 trials: p-value = 0.178\n",
      "14 trials: p-value = 0.149\n",
      "16 trials: p-value = 0.127\n",
      "18 trials: p-value = 0.108\n",
      "20 trials: p-value = 0.0919\n",
      "22 trials: p-value = 0.0787\n",
      "24 trials: p-value = 0.0677\n",
      "26 trials: p-value = 0.0583\n",
      "28 trials: p-value = 0.0503\n",
      "30 trials: p-value = 0.0435\n",
      "32 trials: p-value = 0.0377\n",
      "34 trials: p-value = 0.0327\n",
      "36 trials: p-value = 0.0283\n",
      "38 trials: p-value = 0.0246\n",
      "40 trials: p-value = 0.0214\n",
      "42 trials: p-value = 0.0187\n",
      "44 trials: p-value = 0.0163\n",
      "46 trials: p-value = 0.0142\n",
      "48 trials: p-value = 0.0124\n",
      "50 trials: p-value = 0.0108\n",
      "52 trials: p-value = 0.00946\n"
     ]
    }
   ],
   "source": [
    "for t in range(12,53,2):\n",
    "    print(\"{} trials: p-value = {:.3}\".format(t, binom(t, 2/3).cdf(t/2)))"
   ]
  },
  {
   "cell_type": "markdown",
   "metadata": {
    "slideshow": {
     "slide_type": "slide"
    }
   },
   "source": [
    "What is a p-value?\n",
    "=================="
   ]
  },
  {
   "cell_type": "markdown",
   "metadata": {
    "slideshow": {
     "slide_type": "fragment"
    }
   },
   "source": [
    "What it's not:\n",
    "------------------"
   ]
  },
  {
   "cell_type": "markdown",
   "metadata": {
    "slideshow": {
     "slide_type": "fragment"
    }
   },
   "source": [
    "* It is ***not*** the probability that the null hypothesis is true."
   ]
  },
  {
   "cell_type": "markdown",
   "metadata": {
    "slideshow": {
     "slide_type": "fragment"
    }
   },
   "source": [
    "* It is ***not*** the inverse of the probability that the alternative hypothesis *is* true."
   ]
  },
  {
   "cell_type": "markdown",
   "metadata": {
    "slideshow": {
     "slide_type": "subslide"
    }
   },
   "source": [
    "What it is:\n",
    "------------------\n",
    "\n",
    "* The *p-value* is the probability of an observed outcome *if the null hypothesis **were** true*."
   ]
  },
  {
   "cell_type": "markdown",
   "metadata": {
    "slideshow": {
     "slide_type": "fragment"
    }
   },
   "source": [
    "*N.B. Statistics is incapable of proving that anything is true. It can only suggest that something **probably isn't**.*"
   ]
  },
  {
   "cell_type": "markdown",
   "metadata": {
    "slideshow": {
     "slide_type": "slide"
    }
   },
   "source": [
    "## Introduction to Hypothesis Testing\n",
    "\n",
    "We have discussed two methods for making inference about population parameters based on a random sample, e.g. how do we figure out the true mean.  \n",
    "\n",
    "* Point estimates give us a single “guess”  \n",
    "\n",
    "* Confidence intervals give us a region  \n",
    "\n",
    "Alternatively, we might be interested in using the information in a sample to test hypothesis about parameters in the population."
   ]
  },
  {
   "cell_type": "markdown",
   "metadata": {
    "slideshow": {
     "slide_type": "slide"
    }
   },
   "source": [
    "**What is a hypothesis?**  \n",
    "\n",
    "\n",
    "A **hypothesis** (or claim) is simply **a belief** (usually based on some relevant information).  \n",
    "\n",
    "\n",
    "Some examples of a hypothesis:  \n",
    "\n",
    "* Taking pain killers reduces the pain  \n",
    "\n",
    "* Doing homework increases scores on exams  "
   ]
  },
  {
   "cell_type": "markdown",
   "metadata": {
    "slideshow": {
     "slide_type": "subslide"
    }
   },
   "source": [
    "* A company that has a 10% market share launches a marketing campaign. At the end of the campaign period the company conducts a survey in order to assess whether its market share has increased   \n",
    "\n",
    "* A bottling machine is set to automatically fill each bottle with 12 oz of soft drink. To check whether the machine needs to be readjusted, a quality control inspector examines a random sample of newly filled bottles."
   ]
  },
  {
   "cell_type": "markdown",
   "metadata": {
    "slideshow": {
     "slide_type": "slide"
    }
   },
   "source": [
    "### Hypothesis Testing  \n",
    "\n",
    "\n",
    "* Allows us to use sample data to test a claim about a population, such as testing whether a population mean or population proportion equals some number  \n",
    "\n",
    "\n",
    "* Example: Do students, on average, sleep 8 hours every night?"
   ]
  },
  {
   "cell_type": "markdown",
   "metadata": {
    "slideshow": {
     "slide_type": "slide"
    }
   },
   "source": [
    "#### Parameter Identification  \n",
    "\n",
    "* Hypothesis tests can be carried out on all the population parameters (the Greek letters), such as the population median or variance  \n",
    "\n",
    "\n",
    "* Today, we will conduct tests of hypothesis only regarding the population mean $\\mu$ or the population proportion $p$"
   ]
  },
  {
   "cell_type": "markdown",
   "metadata": {
    "slideshow": {
     "slide_type": "subslide"
    }
   },
   "source": [
    "* In the market share example: \n",
    "    * A company that has a 10% market share launches a marketing campaign. At the end of the campaign period the company conducts a survey in order to assess whether its market share has increased  \n",
    "    * The parameter of interest may be defined as $p =$ the true proportion of customers who would purchase the company's products at the conclusion of the marketing campaign.  \n",
    "    "
   ]
  },
  {
   "cell_type": "markdown",
   "metadata": {
    "slideshow": {
     "slide_type": "subslide"
    }
   },
   "source": [
    "* In the bottling machine example:  \n",
    "    * A bottling machine is set to automatically fill each bottle with 12 oz of soft drink. To check whether the machine needs to be readjusted, a quality control inspector examines a random sample of newly filled bottles\n",
    "    * The parameter of interest may be defined as $\\mu =$ the true mean volume (in oz) per bottle"
   ]
  },
  {
   "cell_type": "markdown",
   "metadata": {
    "slideshow": {
     "slide_type": "slide"
    }
   },
   "source": [
    "#### Naming the Hypotheses\n",
    "\n",
    "We have special names for the hypotheses under consideration.\n",
    "\n",
    "* We call the conventional belief, the status quo or prevailing viewpoint, the **null hypothesis** and denote it by $H_0$\n",
    "\n",
    "* The competing belief is referred to as the alternative hypothesis and is denoted by $H_1$ or $H_a$  \n",
    "\n",
    "* The null hypothesis is generally a statement that there is nothing happening, no difference, or no change in the population.\n",
    "\n",
    "* The alternative hypothesis is an alternative to the null hypothesis. It is the statement that the researcher hopes is true, namely, the change in the population that the researcher is looking for"
   ]
  },
  {
   "cell_type": "markdown",
   "metadata": {
    "slideshow": {
     "slide_type": "slide"
    }
   },
   "source": [
    "**The Null Hypothesis**  \n",
    "\n",
    "The null hypothesis, which is denoted $H_0$, specifies a specific value for the population parameter.  \n",
    "\n",
    "* In the market share example  \n",
    "\n",
    "$$ H_0: p = 10\\% $$  \n",
    "\n",
    "* In the bottling machine example  \n",
    "\n",
    "$$ H_0: \\mu = 12 $$"
   ]
  },
  {
   "cell_type": "markdown",
   "metadata": {
    "slideshow": {
     "slide_type": "slide"
    }
   },
   "source": [
    "**The Alternative Hypothesis**  \n",
    "\n",
    "If the null hypothesis is not true then something else must be true. We call this the alternative hypothesis and denote it by $H_1$ or $H_a$  "
   ]
  },
  {
   "cell_type": "markdown",
   "metadata": {
    "slideshow": {
     "slide_type": "subslide"
    }
   },
   "source": [
    "* In the marketing example the alternative hypothesis is called **one sided** because we are testing against the alternative that the market share is now greater than 10%:  \n",
    "\n",
    "$$  H_0: p = 10\\% \\qquad H_a: P > 10\\% $$  "
   ]
  },
  {
   "cell_type": "markdown",
   "metadata": {
    "slideshow": {
     "slide_type": "fragment"
    }
   },
   "source": [
    "* For the bottling machine example, we want to test the null hypothesis that the mean is equal to 355ml against the alternative that the mean is either larger than or smaller than 12 oz. This is called a **two sided** alternative.\n",
    "\n",
    "$$ H_0: \\mu = 12 \\qquad H_a: \\mu \\neq 12 $$"
   ]
  },
  {
   "cell_type": "markdown",
   "metadata": {
    "slideshow": {
     "slide_type": "slide"
    }
   },
   "source": [
    "**Example**  \n",
    "\n",
    "Suppose you work for a company that produces cooking pots with an average life span of 7 years. To gain a competitive advantage you suggest using a new material that claims to extend the life span of the pots. You want to test the hypothesis that the average life span of the cooking pots made with this new material increases.  \n",
    "\n",
    "\n",
    "$H_0: $  \n",
    "\n",
    "\n",
    "$H_a: $"
   ]
  },
  {
   "cell_type": "markdown",
   "metadata": {
    "slideshow": {
     "slide_type": "slide"
    }
   },
   "source": [
    "#### General Framework  \n",
    "\n",
    "* Start with some claim ($H_0$ and $H_a$)  \n",
    "\n",
    "\n",
    "* Collect evidence (data)  \n",
    "\n",
    "\n",
    "* In statistics, we always assume the null hypothesis is true at first (like assuming the defendant is innocent until proven guilty)  \n",
    "\n",
    "\n",
    "* Then, make a decision based on the available evidence  \n",
    "\n",
    "    * If there is sufficient evidence, **reject the null hypothesis** (i.e. defendent is guilty)  \n",
    "    \n",
    "    * If there is not enough evidence, **do not reject the null hypothesis** (i.e. defendent is not guilty)"
   ]
  },
  {
   "cell_type": "markdown",
   "metadata": {
    "slideshow": {
     "slide_type": "subslide"
    }
   },
   "source": [
    "**Note**: accepting the null hypothesis is **NOT** an option."
   ]
  },
  {
   "cell_type": "markdown",
   "metadata": {
    "slideshow": {
     "slide_type": "slide"
    }
   },
   "source": [
    "**What can go wrong?**  \n",
    "\n",
    "Because the conclusion we will be making is based on sample data, the possibility of making an error always exists.  \n",
    "\n",
    "<img src=\"images/type12.png\" width=\"600\">"
   ]
  },
  {
   "cell_type": "markdown",
   "metadata": {
    "slideshow": {
     "slide_type": "slide"
    }
   },
   "source": [
    "#### Types of Errors  \n",
    "\n",
    "* Type I error: The null hypothesis is rejected when it is true.  \n",
    "\n",
    "\n",
    "* Type II error: The null hypothesis is not rejected when it is false.  \n",
    "\n",
    "\n",
    "* There is always a chance of making one of these errors. We will want to minimize the chance of doing so.  "
   ]
  },
  {
   "cell_type": "markdown",
   "metadata": {
    "slideshow": {
     "slide_type": "slide"
    }
   },
   "source": [
    "**Examples**  \n",
    "\n",
    "$H_0$: Defendant is not guilty.  \n",
    "\n",
    "$H_a$: Defendant is guilty.  \n",
    "\n",
    "What is the type I error?  \n",
    "\n",
    "What is the type II error?  \n",
    "\n",
    "Which error is more important? "
   ]
  },
  {
   "cell_type": "markdown",
   "metadata": {
    "slideshow": {
     "slide_type": "slide"
    }
   },
   "source": [
    "The milemaster tire company has decided that their new tire must last more than 45,000 miles or they won't market it.  \n",
    "\n",
    "$H_0$: tire lasts 45,000 (or less)  \n",
    "\n",
    "$H_a$: tire lasts more than 45,000  \n",
    "\n",
    "What is the type I error? The type II error?  \n",
    "\n",
    "What is the cost of a type I error here?  \n",
    "\n",
    "What is the cost of a type II error?  \n"
   ]
  },
  {
   "cell_type": "markdown",
   "metadata": {
    "slideshow": {
     "slide_type": "slide"
    }
   },
   "source": [
    "#### The significance Level  \n",
    "\n",
    "We define  \n",
    "\n",
    "$$ \\alpha = P(\\text{Type I error}) = P(\\text{reject } H_0 | H_0 \\text{ is true}) $$  \n",
    "\n",
    "We normally use $\\alpha = 0.5$ : called the **significance level**  \n",
    "\n",
    "*This is a pretty standard value but it is not set in stone. Usually the greater the cost of a type I error, the smaller this number is.*"
   ]
  },
  {
   "cell_type": "markdown",
   "metadata": {
    "slideshow": {
     "slide_type": "slide"
    }
   },
   "source": [
    "#### Statistical Power\n",
    "\n",
    "We define  \n",
    "\n",
    "$$ \\beta = P(\\text{Type II error}) = P(\\text{fail to reject } H_0 | H_1 \\text{ is true}) $$\n",
    "\n",
    "and the **power** of a test is defined as  \n",
    "\n",
    "$$ power = P(\\text{reject } H_0 | H_1 \\text{ is true}) = 1 - \\beta $$"
   ]
  },
  {
   "cell_type": "markdown",
   "metadata": {
    "slideshow": {
     "slide_type": "slide"
    }
   },
   "source": [
    "#### Methods for doing hypothesis testing  \n",
    "\n",
    "We will show 2 methods for doing the hypothesis test:  \n",
    "\n",
    "* Confidence Interval method  \n",
    "\n",
    "* P-value method"
   ]
  },
  {
   "cell_type": "markdown",
   "metadata": {
    "slideshow": {
     "slide_type": "slide"
    }
   },
   "source": [
    "#### Testing a two-sided hypothesis using the confidence interval method\n",
    "\n",
    "* Step 1: Define hypothesis  \n",
    "\n",
    "$$ H_0: \\mu = \\mu_0 $$  \n",
    "$$ H_a: \\mu \\neq \\mu_0 $$  \n",
    "\n",
    "* Step 2: Construct confidence interval  \n",
    "\n",
    "\n",
    "* Step 3: Reject or fail to reject  \n",
    "    * If $\\mu_0$ falls within this interval, then we fail to reject the null, otherwise we reject it."
   ]
  },
  {
   "cell_type": "markdown",
   "metadata": {
    "slideshow": {
     "slide_type": "slide"
    }
   },
   "source": [
    "**Example**  \n",
    "\n",
    "A machine being used for packaging seedless golden raisins has been set so that on the average 15 ounces of raisins will be packaged per box. The quality control engineer wishes to test the machine setting and selects a sample of 30 raisin boxes. He finds $\\bar{x} = 15.11$ and $s = 0.4058$.  \n",
    "\n",
    "He wants to know if the mean weight per box is different from 15 ounces.  "
   ]
  },
  {
   "cell_type": "markdown",
   "metadata": {
    "slideshow": {
     "slide_type": "subslide"
    }
   },
   "source": [
    "* Step 1: Define hypothesis  "
   ]
  },
  {
   "cell_type": "markdown",
   "metadata": {
    "slideshow": {
     "slide_type": "fragment"
    }
   },
   "source": [
    "$$ H_0: \\mu = 15 $$  \n",
    "$$ H_a: \\mu \\neq 15 $$  "
   ]
  },
  {
   "cell_type": "markdown",
   "metadata": {
    "slideshow": {
     "slide_type": "subslide"
    }
   },
   "source": [
    "* Step 2: Construct confidence interval  "
   ]
  },
  {
   "cell_type": "markdown",
   "metadata": {
    "slideshow": {
     "slide_type": "fragment"
    }
   },
   "source": [
    "The 95% confidence interval is (14.96, 15.26)."
   ]
  },
  {
   "cell_type": "markdown",
   "metadata": {
    "slideshow": {
     "slide_type": "subslide"
    }
   },
   "source": [
    "* Step 3: What can we conclude?  "
   ]
  },
  {
   "cell_type": "markdown",
   "metadata": {
    "slideshow": {
     "slide_type": "fragment"
    }
   },
   "source": [
    "Since 15 falls within the interval, we fail to reject the null hypothesis. We do not have sufficient evidence to conclude that the mean weight per box is different from 15 ounces."
   ]
  },
  {
   "cell_type": "markdown",
   "metadata": {
    "slideshow": {
     "slide_type": "slide"
    }
   },
   "source": [
    "#### The test statistic\n",
    "\n",
    "* We could also \"unwrap\" the confidence interval into a test statistics\n",
    "\n",
    "* In the one sample mean case, we define the test statistic to be  \n",
    "\n",
    "$$ t_{stat} = \\frac{\\bar{X} - \\mu_0}{s/ \\sqrt{n}} $$\n",
    "\n",
    "* Assume the null hypothesis is true, $\\mu = \\mu_0$, then\n",
    "\n",
    "$$ t_{stat} \\sim t_{n - 1} $$"
   ]
  },
  {
   "cell_type": "markdown",
   "metadata": {
    "slideshow": {
     "slide_type": "slide"
    }
   },
   "source": [
    "**Question**: What is the test statistic for the previous example?  \n",
    "\n",
    "A machine being used for packaging seedless golden raisins has been set so that on the average 15 ounces of raisins will be packaged per box. The quality control engineer wishes to test the machine setting and selects a sample of 30 raisin boxes. He finds $\\bar{x} = 15.11$ and $s = 0.4058$.  \n",
    "\n",
    "He wants to know if the mean weight per box is different from 15 ounces.  "
   ]
  },
  {
   "cell_type": "markdown",
   "metadata": {
    "slideshow": {
     "slide_type": "subslide"
    }
   },
   "source": [
    "$\\bar{x} = 15.11$   \n",
    "\n",
    "$s = 0.4058$   \n",
    "\n",
    "$n = 30$  \n",
    "\n",
    "$\\mu_0 = 15$   \n",
    "\n",
    "$$ t_{stat} = \\frac{\\bar{x} - \\mu_0}{s/ \\sqrt{n}}  = \\frac{15.11 - 15}{0.4058/ \\sqrt{30}} = 1.48$$"
   ]
  },
  {
   "cell_type": "code",
   "execution_count": 14,
   "metadata": {
    "collapsed": false,
    "slideshow": {
     "slide_type": "fragment"
    }
   },
   "outputs": [
    {
     "name": "stdout",
     "output_type": "stream",
     "text": [
      "1.4847087561746666\n"
     ]
    }
   ],
   "source": [
    "t_stat = (15.11 - 15)/(0.4058 / 30**0.5)\n",
    "print(t_stat)"
   ]
  },
  {
   "cell_type": "markdown",
   "metadata": {
    "slideshow": {
     "slide_type": "slide"
    }
   },
   "source": [
    "#### Introducing the p-value\n",
    "\n",
    "* The **p-value** is a way of quantifying the strength of the evidence against the null hypothesis and in favor of the alternative.  \n",
    "\n",
    "\n",
    "* The p-value gives the probability of seeing something as weird as what we did see, if $H_0$ is true.  \n",
    "\n",
    "\n",
    "* The p-value stands for Probability Value, and is a number between 0 and 1.    "
   ]
  },
  {
   "cell_type": "markdown",
   "metadata": {
    "slideshow": {
     "slide_type": "subslide"
    }
   },
   "source": [
    "* It is a measure of consistency - How consistent is the observed data with the null hypothesis?     \n",
    "\n",
    "\n",
    "* The larger the p-value the more consistent the data is with the null, the smaller the p-value the more consistent the data is with the alternative.  "
   ]
  },
  {
   "cell_type": "markdown",
   "metadata": {
    "slideshow": {
     "slide_type": "slide"
    }
   },
   "source": [
    "** Question**: What is the p-value for the raisin example?  \n",
    "\n",
    "Assuming $H_0$ is true, so $\\mu = \\mu_0 = 15$, then\n",
    "\n",
    "$$ t_{stat} = \\frac{\\bar{X} - \\mu_0}{s/ \\sqrt{n}} \\sim t_{n - 1} $$  \n",
    "\n",
    "$\\begin{align}p\\text{-value} = P(|t_{n - 1}| > |t_{stat}|) &= P(t_{n - 1} < -1.48 \\text{ or } t_{n - 1} > 1.48) \\\\&= 2 \\times P(t_{n - 1} < -1.48) = 0.15\\end{align}$"
   ]
  },
  {
   "cell_type": "code",
   "execution_count": 15,
   "metadata": {
    "collapsed": false,
    "slideshow": {
     "slide_type": "fragment"
    }
   },
   "outputs": [
    {
     "ename": "NameError",
     "evalue": "name 'stats' is not defined",
     "output_type": "error",
     "traceback": [
      "\u001b[0;31m---------------------------------------------------------------------------\u001b[0m",
      "\u001b[0;31mNameError\u001b[0m                                 Traceback (most recent call last)",
      "\u001b[0;32m<ipython-input-15-b662352bf705>\u001b[0m in \u001b[0;36m<module>\u001b[0;34m()\u001b[0m\n\u001b[0;32m----> 1\u001b[0;31m \u001b[0mstats\u001b[0m\u001b[1;33m.\u001b[0m\u001b[0mt\u001b[0m\u001b[1;33m(\u001b[0m\u001b[1;36m29\u001b[0m\u001b[1;33m)\u001b[0m\u001b[1;33m.\u001b[0m\u001b[0mcdf\u001b[0m\u001b[1;33m(\u001b[0m\u001b[1;33m-\u001b[0m\u001b[0mt_stat\u001b[0m\u001b[1;33m)\u001b[0m \u001b[1;33m*\u001b[0m \u001b[1;36m2\u001b[0m\u001b[1;33m\u001b[0m\u001b[0m\n\u001b[0m",
      "\u001b[0;31mNameError\u001b[0m: name 'stats' is not defined"
     ]
    }
   ],
   "source": [
    "stats.t(29).cdf(-t_stat) * 2"
   ]
  },
  {
   "cell_type": "markdown",
   "metadata": {
    "slideshow": {
     "slide_type": "slide"
    }
   },
   "source": [
    "The following graph shows the process of calculating the p-value for both one-sided and two-sided tests when the population standard deviation $\\sigma$ is known.\n",
    "\n",
    "<img src=\"images/p-value.png\" width=\"700\">"
   ]
  },
  {
   "cell_type": "markdown",
   "metadata": {
    "slideshow": {
     "slide_type": "slide"
    }
   },
   "source": [
    "<img src=\"images/interpret_p.png\">"
   ]
  },
  {
   "cell_type": "markdown",
   "metadata": {
    "slideshow": {
     "slide_type": "slide"
    }
   },
   "source": [
    "#### Formal testing using p-values\n",
    "\n",
    "The process  \n",
    "\n",
    "* Step 1: state the null and alternative hypotheses  \n",
    "\n",
    "* Step 2: Choose a significant level $\\alpha$ (usually 0.05)  \n",
    "\n",
    "* Step 3: Calculate the test statistic  \n",
    "\n",
    "* Step 4: Compute the p-value  \n",
    "\n",
    "* Step 5: Make your decision"
   ]
  },
  {
   "cell_type": "markdown",
   "metadata": {
    "slideshow": {
     "slide_type": "slide"
    }
   },
   "source": [
    "**Example**\n",
    "\n",
    "* The manager of a department store is thinking about establishing a new billing system for the store's credit customers.  \n",
    "\n",
    "* She determines that the new system will be cost effective only if the mean monthly account is more than \\$170. A random sample of 400 monthly accounts is drawn, for which the sample mean is \\$173, with a sample standard deviation of \\$65.  \n",
    "\n",
    "* Can the manager conclude from this that the new\n",
    "system will be cost-effective?"
   ]
  },
  {
   "cell_type": "markdown",
   "metadata": {
    "slideshow": {
     "slide_type": "subslide"
    }
   },
   "source": [
    "The system will be cost effective if the mean account balance for all customers is greater than \\$170.  \n",
    "We express this belief as our research hypothesis, that is:  \n",
    "\n",
    "$H_0: \\mu = 170$ this specifies a single value for the parameter of interest)  \n",
    "\n",
    "$H_a: \\mu > 170$ (this is what we want to determine)  "
   ]
  },
  {
   "cell_type": "markdown",
   "metadata": {
    "slideshow": {
     "slide_type": "slide"
    }
   },
   "source": [
    "What we want to show:\n",
    "\n",
    "$H_0: \\mu = 170$ (we will assume this is true)    \n",
    "\n",
    "$H_a: \\mu > 170$  \n",
    "\n",
    "We know:\n",
    "\n",
    "$n = 400$  \n",
    "\n",
    "$\\bar{x} = 173$  \n",
    "\n",
    "$s = 65$  \n",
    "\n",
    "What to do next?  "
   ]
  },
  {
   "cell_type": "markdown",
   "metadata": {
    "slideshow": {
     "slide_type": "subslide"
    }
   },
   "source": [
    "$$t_{stat} = \\frac{\\bar{x} - \\mu_0}{s/ \\sqrt{n}} = \\frac{173 - 170}{65/ \\sqrt{400}} = 0.92$$"
   ]
  },
  {
   "cell_type": "code",
   "execution_count": null,
   "metadata": {
    "collapsed": false,
    "slideshow": {
     "slide_type": "fragment"
    }
   },
   "outputs": [],
   "source": [
    "(173 - 170)/(65 / 400**0.5)"
   ]
  },
  {
   "cell_type": "markdown",
   "metadata": {
    "slideshow": {
     "slide_type": "fragment"
    }
   },
   "source": [
    "$$\\text{p-value} = P(t > 0.92) = 0.18 \\Rightarrow \\text{ fail to reject } H_0  $$"
   ]
  },
  {
   "cell_type": "code",
   "execution_count": null,
   "metadata": {
    "collapsed": false,
    "slideshow": {
     "slide_type": "fragment"
    }
   },
   "outputs": [],
   "source": [
    "stats.t(399).sf(0.92)"
   ]
  },
  {
   "cell_type": "markdown",
   "metadata": {
    "slideshow": {
     "slide_type": "fragment"
    }
   },
   "source": [
    "Conclusion? There is not enough evidence to conclude that the new system will be cost effective.  "
   ]
  },
  {
   "cell_type": "markdown",
   "metadata": {
    "slideshow": {
     "slide_type": "fragment"
    }
   },
   "source": [
    "This process is called a **one sample t-test** for the mean."
   ]
  },
  {
   "cell_type": "markdown",
   "metadata": {
    "slideshow": {
     "slide_type": "slide"
    }
   },
   "source": [
    "**Example**  \n",
    "\n",
    "According to Zagats (2005), the average cost for a better dinner in the U.S. was \\$30.50.  \n",
    "You think food is cheaper in your town and want to test this hypothesis.  \n",
    "\n",
    "We survey 36 restaurants and find a sample mean of \\$27.80 and standard deviation of \\$6.60.  "
   ]
  },
  {
   "cell_type": "markdown",
   "metadata": {
    "slideshow": {
     "slide_type": "subslide"
    }
   },
   "source": [
    "* Step 1: state the null and alternative"
   ]
  },
  {
   "cell_type": "markdown",
   "metadata": {
    "slideshow": {
     "slide_type": "fragment"
    }
   },
   "source": [
    "$$ H_0: \\mu = 30.50 $$\n",
    "$$ H_a: \\mu < 30.50 $$"
   ]
  },
  {
   "cell_type": "markdown",
   "metadata": {
    "slideshow": {
     "slide_type": "subslide"
    }
   },
   "source": [
    "* Step 2: significance level  "
   ]
  },
  {
   "cell_type": "markdown",
   "metadata": {
    "slideshow": {
     "slide_type": "fragment"
    }
   },
   "source": [
    "$$ \\alpha = 0.05$$"
   ]
  },
  {
   "cell_type": "markdown",
   "metadata": {
    "slideshow": {
     "slide_type": "subslide"
    }
   },
   "source": [
    "* Step 3: calculate test statistic"
   ]
  },
  {
   "cell_type": "markdown",
   "metadata": {
    "slideshow": {
     "slide_type": "fragment"
    }
   },
   "source": [
    "$$t_{stat} = \\frac{\\bar{x} - \\mu_0}{s/ \\sqrt{n}} = \\frac{27.80 - 30.50}{6.60/ \\sqrt{36}} = -2.45$$"
   ]
  },
  {
   "cell_type": "markdown",
   "metadata": {
    "slideshow": {
     "slide_type": "subslide"
    }
   },
   "source": [
    "* Step 4: p-value"
   ]
  },
  {
   "cell_type": "code",
   "execution_count": null,
   "metadata": {
    "collapsed": false,
    "slideshow": {
     "slide_type": "fragment"
    }
   },
   "outputs": [],
   "source": [
    "stats.t(35).cdf(-2.45)"
   ]
  },
  {
   "cell_type": "markdown",
   "metadata": {
    "slideshow": {
     "slide_type": "fragment"
    }
   },
   "source": [
    "$$\\text{p-value} = P(t < -2.45) = 0.010 < 0.05 $$"
   ]
  },
  {
   "cell_type": "markdown",
   "metadata": {
    "slideshow": {
     "slide_type": "subslide"
    }
   },
   "source": [
    "* Step 5: make decision  \n",
    "\n",
    "\n",
    "Since p-value $< 0.05$, we reject the null hypothesis. At the 5% level of significance, we did find sufficient evidence to conclude that the average dinner cost is less than \\$30.50."
   ]
  },
  {
   "cell_type": "markdown",
   "metadata": {
    "slideshow": {
     "slide_type": "slide"
    }
   },
   "source": [
    "**Example cont.**  \n",
    "\n",
    "If we know that the true average cost for a better dinner is $29, what is the power of the test?"
   ]
  },
  {
   "cell_type": "markdown",
   "metadata": {
    "slideshow": {
     "slide_type": "fragment"
    }
   },
   "source": [
    "Since we know that $\\mu = 29$, then  \n",
    "\n",
    "$$ \\frac{\\bar{X} - \\mu}{s/ \\sqrt{n}} = \\frac{\\bar{X} - 29}{6.6/ \\sqrt{36}} \\sim t_{n - 1}$$ \n",
    "\n",
    "power = $P(\\text{reject } H_0 | H_a \\text{ is true})$"
   ]
  },
  {
   "cell_type": "markdown",
   "metadata": {
    "slideshow": {
     "slide_type": "slide"
    }
   },
   "source": [
    "<img src=\"images/power.png\" width=\"600\">"
   ]
  },
  {
   "cell_type": "markdown",
   "metadata": {
    "slideshow": {
     "slide_type": "slide"
    }
   },
   "source": [
    "When would we reject $H_0$?"
   ]
  },
  {
   "cell_type": "markdown",
   "metadata": {
    "slideshow": {
     "slide_type": "fragment"
    }
   },
   "source": [
    "When p-value $< 0.05$."
   ]
  },
  {
   "cell_type": "markdown",
   "metadata": {
    "slideshow": {
     "slide_type": "subslide"
    }
   },
   "source": [
    "What is the value of $\\bar{X}$ when p-value $< 0.05$?"
   ]
  },
  {
   "cell_type": "markdown",
   "metadata": {
    "slideshow": {
     "slide_type": "fragment"
    }
   },
   "source": [
    "p-value = $P(t_{35} < t_{stat}) = P(t_{35} < \\frac{\\bar{x} - \\mu_0}{s/ \\sqrt{n}}) < 0.05$"
   ]
  },
  {
   "cell_type": "code",
   "execution_count": null,
   "metadata": {
    "collapsed": false,
    "slideshow": {
     "slide_type": "fragment"
    }
   },
   "outputs": [],
   "source": [
    "percentile5 = stats.t(35).ppf(0.05)\n",
    "print(percentile5)"
   ]
  },
  {
   "cell_type": "code",
   "execution_count": null,
   "metadata": {
    "collapsed": false,
    "slideshow": {
     "slide_type": "fragment"
    }
   },
   "outputs": [],
   "source": [
    "stats.t(35).cdf(stats.t(35).ppf(0.05))\n",
    "# stats.t(35).cdf(percentile5)"
   ]
  },
  {
   "cell_type": "code",
   "execution_count": null,
   "metadata": {
    "collapsed": false,
    "slideshow": {
     "slide_type": "fragment"
    }
   },
   "outputs": [],
   "source": [
    "x_bar = percentile5 * (6.6 / 36**0.5) + 30.5\n",
    "print(x_bar)"
   ]
  },
  {
   "cell_type": "markdown",
   "metadata": {
    "slideshow": {
     "slide_type": "fragment"
    }
   },
   "source": [
    "$\\Rightarrow$ when $\\bar{x} < 28.64$, p-value $< 0.05$"
   ]
  },
  {
   "cell_type": "markdown",
   "metadata": {
    "slideshow": {
     "slide_type": "subslide"
    }
   },
   "source": [
    "power = $P(\\text{reject } H_0 | H_a \\text{ is true}) = P(t_{35} < \\frac{28.64 - 29}{6.6/ \\sqrt{36}}) = 0.37$"
   ]
  },
  {
   "cell_type": "code",
   "execution_count": null,
   "metadata": {
    "collapsed": false,
    "slideshow": {
     "slide_type": "fragment"
    }
   },
   "outputs": [],
   "source": [
    "stats.t(35).cdf((x_bar - 29)/(6.6 / 36**0.5))"
   ]
  },
  {
   "cell_type": "markdown",
   "metadata": {
    "slideshow": {
     "slide_type": "subslide"
    }
   },
   "source": [
    "$$ \\text{p-value } = P(t < -1.08 \\text{ or } t > 1.08) = 0.28 > 0.05 $$  \n",
    "\n",
    "We fail to reject the null. We don't have sufficient evidence to conclude that the true proportion of female patrons is different from 70%.  \n",
    "\n",
    "\n",
    "This is often called the **one sample z-test** for proportions."
   ]
  },
  {
   "cell_type": "markdown",
   "metadata": {
    "slideshow": {
     "slide_type": "subslide"
    }
   },
   "source": [
    "#### One Sided Intervals for proportions \n",
    "\n",
    "* 95% Upper one-side CI   \n",
    "\n",
    "$$ (- \\infty, \\hat{p} + 1.64 \\sqrt{\\frac{\\hat{p}(1 - \\hat{p})}{n}}) $$  \n",
    "\n",
    "* 95% Lower one-side CI  \n",
    "\n",
    "$$ (\\hat{p} - 1.64 \\sqrt{\\frac{\\hat{p}(1 - \\hat{p})}{n}}, \\infty) $$  \n",
    "\n",
    "* For 95% intervals, $z_{\\alpha} = 1.64$; we don’t use 1.96 since these are one-sided intervals"
   ]
  }
 ],
 "metadata": {
  "anaconda-cloud": {},
  "kernelspec": {
   "display_name": "Python [conda root]",
   "language": "python",
   "name": "conda-root-py"
  },
  "language_info": {
   "codemirror_mode": {
    "name": "ipython",
    "version": 3
   },
   "file_extension": ".py",
   "mimetype": "text/x-python",
   "name": "python",
   "nbconvert_exporter": "python",
   "pygments_lexer": "ipython3",
   "version": "3.5.2"
  }
 },
 "nbformat": 4,
 "nbformat_minor": 0
}
