{
 "cells": [
  {
   "cell_type": "markdown",
   "metadata": {},
   "source": [
    "## Outline\n",
    "\n",
    "- Null / Alternative Hypothesis\n",
    "- One sample t-test / z-test\n",
    "- p-value and Significance Level\n",
    "- Python for One sample t-test / z-test"
   ]
  },
  {
   "cell_type": "markdown",
   "metadata": {},
   "source": [
    "**Question 1**\n",
    "\n",
    "State the null hypothesis and the alternative hypothesis for the following scenarios:\n",
    "\n",
    "1. A burger place claims the fat content of their bugers is no more than 20%. You have collected a sample of burgers to verify the claim.\n",
    "\n",
    "   <br>\n",
    "   \n",
    "2. With a month to go in the election, the opinion poll shows that the Democrate candidate is leading with 55% support. You want to know if the true percentage is different from 55%.\n",
    "\n",
    "   <br>\n",
    "   \n",
    "3. Apple Inc. is interested to find out if the battery life of a Macbook Pro that has been used for a month is more than 48 hours."
   ]
  },
  {
   "cell_type": "markdown",
   "metadata": {},
   "source": [
    "1.\n",
    "$h_0$ : mu > .2, where mu is the mean fat content\n",
    "$h_a$ : mu <= .2\n",
    "\n",
    "2.\n",
    "$h_0$ : p != .55, where p is the percentage of support\n",
    "$h_a$ : p = .55\n",
    "\n",
    "3.\n",
    "$h_0$ : mu <= 48, where mu is the mean battery life\n",
    "$h_a$ : mu > 48"
   ]
  },
  {
   "cell_type": "markdown",
   "metadata": {},
   "source": [
    "**Question 2**\n",
    "\n",
    "For each of the scenarios in **Question 1**, decide if you would use a one-sample t-test or a z-test to test your null hypothesis."
   ]
  },
  {
   "cell_type": "markdown",
   "metadata": {},
   "source": [
    "1. one sample t-test, because we have to take a sample standard deviation, since we are not given population standard deviation.\n",
    "\n",
    "2. use a z-test since the sample size is so high that it's a good approximation to a t-test.\n",
    "\n",
    "3. one sample t-test, because we have to take a sample standard deviation, since we are not given population standard deviation."
   ]
  },
  {
   "cell_type": "markdown",
   "metadata": {},
   "source": [
    "**Question 3**\n",
    "\n",
    "Given a set of real data, you can conduct a **t-test** and **z-test** in Python:\n",
    "\n",
    "- **t-test** (documentation [here](http://docs.scipy.org/doc/scipy-0.14.0/reference/generated/scipy.stats.ttest_1samp.html))\n",
    "  ```python\n",
    "  from scipy.stats import ttest_1samp\n",
    "  t_statistic, two_tailed_p_value = ttest_1samp(sample, null_mean)\n",
    "  ```\n",
    "\n",
    "- **z-test** (documentation [here](http://statsmodels.sourceforge.net/devel/generated/statsmodels.stats.proportion.proportions_ztest.html#statsmodels.stats.proportion.proportions_ztest))\n",
    "  ```python\n",
    "  from statsmodels.stats.proportion import proportions_ztest\n",
    "  z_statistic, two_tailed_p_value = proportions_ztest(count_of_success_in_sample, num_of trials, \n",
    "                                                       null_proportion)\n",
    "  ```\n",
    "\n",
    "\n",
    "Compute the p-values and draw conclusions about hypothesis tests for the scenarios listed in **Question 1**. You are provided the data for each of the scenarios below.\n",
    "\n",
    "1. https://s3-us-west-2.amazonaws.com/dsci/6002/data/fat_content.csv\n",
    "2. https://s3-us-west-2.amazonaws.com/dsci/6002/data/election.csv\n",
    "3. https://s3-us-west-2.amazonaws.com/dsci/6002/data/battery_life.csv"
   ]
  },
  {
   "cell_type": "code",
   "execution_count": 30,
   "metadata": {
    "collapsed": false,
    "scrolled": true
   },
   "outputs": [
    {
     "name": "stdout",
     "output_type": "stream",
     "text": [
      "Populating the interactive namespace from numpy and matplotlib\n",
      "[ 0.20892925]\n"
     ]
    }
   ],
   "source": [
    "%pylab inline\n",
    "import pandas as pd\n",
    "from scipy.stats import ttest_1samp\n",
    "from scipy import stats\n",
    "\n",
    "# 1.\n",
    "fat_content = pd.read_csv(\"https://s3-us-west-2.amazonaws.com/dsci/6002/data/fat_content.csv\")\n",
    "t_statistic, two_tailed_p_value = ttest_1samp(fat_content, 20)\n",
    "# \\text{p-value} = P(t > t_statistic)\n",
    "# print(two_tailed_p_value/2)\n",
    "p1 = stats.t(len(fat_content)-1).sf(t_statistic)\n",
    "print(p1)"
   ]
  },
  {
   "cell_type": "markdown",
   "metadata": {},
   "source": [
    "since p-value is greater than .05, we fail to reject the null hypothesis that the fat content is >.2"
   ]
  },
  {
   "cell_type": "code",
   "execution_count": 31,
   "metadata": {
    "collapsed": false,
    "scrolled": true
   },
   "outputs": [
    {
     "name": "stdout",
     "output_type": "stream",
     "text": [
      "0   -6.749679\n",
      "dtype: float64\n",
      "[  7.40864629e-12]\n",
      "z_statistic= -6.74967868609\n",
      "p-value= 7.40864628805e-12\n"
     ]
    }
   ],
   "source": [
    "# 2.\n",
    "df = pd.read_csv(\"https://s3-us-west-2.amazonaws.com/dsci/6002/data/election.csv\")\n",
    "# t_statistic, two_tailed_p_value = ttest_1samp(sum(election)/len(election), .55)\n",
    "# # print(election)\n",
    "# # print(type(sum(election)/len(election)))\n",
    "# p2 = stats.t(len(election)-1).sf(t_statistic)\n",
    "# print(p2)\n",
    "\n",
    "from statsmodels.stats.proportion import proportions_ztest\n",
    "\n",
    "count_of_success=df[df['0'] == 1].count()\n",
    "num_of_trials=df.count()\n",
    "\n",
    "z_statistic, two_tailed_p_value = proportions_ztest(count_of_success, num_of_trials,.55)\n",
    "\n",
    "print(z_statistic)\n",
    "     \n",
    "# p-value is for one tail:\n",
    "print(two_tailed_p_value/2)\n",
    "\n",
    "# alternative way of calculating p-value for election problem:\n",
    "p_estimate = count_of_success/num_of_trials\n",
    "sample_std = np.sqrt(p_estimate*(1-p_estimate)/num_of_trials)\n",
    "z=(p_estimate-0.55)/sample_std\n",
    "print('z_statistic=',z[0])\n",
    "p_value=stats.norm(0,1).cdf(z) # probability of z > z_statistic\n",
    "print('p-value=',p_value[0])"
   ]
  },
  {
   "cell_type": "markdown",
   "metadata": {},
   "source": [
    "Since p-value is less than 0.025 we have sufficient evidence to reject null hypothesis. At 95% confidence level we have sufficient evidence that the Democratic candidate has more than 55% support.\n"
   ]
  },
  {
   "cell_type": "code",
   "execution_count": 32,
   "metadata": {
    "collapsed": false
   },
   "outputs": [
    {
     "name": "stdout",
     "output_type": "stream",
     "text": [
      "[  2.99833209e-11]\n",
      "0    50.172359\n",
      "dtype: float64\n"
     ]
    }
   ],
   "source": [
    "# 3.\n",
    "battery_life = pd.read_csv(\"https://s3-us-west-2.amazonaws.com/dsci/6002/data/battery_life.csv\")\n",
    "t_statistic, two_tailed_p_value = ttest_1samp(battery_life, 48)\n",
    "# \\text{p-value} = P(t > t_statistic)\n",
    "# print(two_tailed_p_value/2)\n",
    "p3 = stats.t(len(battery_life)-1).sf(t_statistic)\n",
    "print(p3)  # since p-value < .05, reject the null hypothesis that mean battery life <= 48\n",
    "print(battery_life.mean())"
   ]
  },
  {
   "cell_type": "markdown",
   "metadata": {},
   "source": [
    "since p-value is less than .05, we reject the null hypothesis that the mean battery life is less than or equal to 48 hours."
   ]
  },
  {
   "cell_type": "markdown",
   "metadata": {},
   "source": [
    "**Question 4**\n",
    "\n",
    "A diet doctor claims that the average American is more than 10 pounds overweight. To test his claim, a random sample of 50 Americans was weighed, and the difference between their actual weight and their ideal weight was calculated. He found that $\\bar{x} = 11.5$ and $s = 2.2$ pounds. \n",
    "\n",
    "1) Can we conclude that the doctor’s claim is true?  \n",
    "\n",
    "2) What are the Type I and Type II errors?  \n",
    "\n",
    "3) Suppose that the average American is about 13 pounds overweight, what is the power of the above test?"
   ]
  },
  {
   "cell_type": "code",
   "execution_count": 33,
   "metadata": {
    "collapsed": false
   },
   "outputs": [
    {
     "data": {
      "text/plain": [
       "4.8211825989991874"
      ]
     },
     "execution_count": 33,
     "metadata": {},
     "output_type": "execute_result"
    }
   ],
   "source": [
    "# null hypothesis : average = 10\n",
    "# alternative hypothesis : average  > 10:\n",
    "\n",
    "t_statistic=(11.5-10)/(2.2/np.sqrt(50))\n",
    "t_statistic"
   ]
  },
  {
   "cell_type": "code",
   "execution_count": 34,
   "metadata": {
    "collapsed": false
   },
   "outputs": [
    {
     "data": {
      "text/plain": [
       "7.1217429012948585e-06"
      ]
     },
     "execution_count": 34,
     "metadata": {},
     "output_type": "execute_result"
    }
   ],
   "source": [
    "# one tail p-value:\n",
    "p_value=1-stats.t(49).cdf(t_statistic)\n",
    "p_value"
   ]
  },
  {
   "cell_type": "markdown",
   "metadata": {},
   "source": [
    "1) So we reject the null hypothesis because p-value is much less than the significance level of 0.025 (95% confidence ). This means we can't reject doctor's claim but we can't conclude that his claim is true.\n",
    "\n",
    "2) Type I error is : We reject the doctor's claim if we had concluded that the $H_o$ is true.\n",
    "Type II error is : We reject doctor's claim even when we had concluded that the there is sufficient evidence for it. In other words: if we do not reject null hypothesis even if there was sufficient evidence that alternative hypothesis is true. \n",
    "\n"
   ]
  },
  {
   "cell_type": "code",
   "execution_count": 35,
   "metadata": {
    "collapsed": false
   },
   "outputs": [
    {
     "data": {
      "text/plain": [
       "10.015556349186104"
      ]
     },
     "execution_count": 35,
     "metadata": {},
     "output_type": "execute_result"
    }
   ],
   "source": [
    "x_bar=10+0.05*2.2/(np.sqrt(50))\n",
    "x_bar"
   ]
  },
  {
   "cell_type": "code",
   "execution_count": 36,
   "metadata": {
    "collapsed": false
   },
   "outputs": [
    {
     "data": {
      "text/plain": [
       "3.933629331022372e-13"
      ]
     },
     "execution_count": 36,
     "metadata": {},
     "output_type": "execute_result"
    }
   ],
   "source": [
    "# power\n",
    "stats.t(49).cdf((x_bar-13)/(2.2/np.sqrt(50)))"
   ]
  },
  {
   "cell_type": "markdown",
   "metadata": {},
   "source": [
    "**Question 5**\n",
    "\n",
    "A company that claims the average time a customer waits on hold is less than 5 minutes. A sample of 35 customers has an average wait time of 4.78 minutes with a standard deviation for wait time is 1.8 minutes. Test the company's claim."
   ]
  },
  {
   "cell_type": "markdown",
   "metadata": {},
   "source": [
    "$$H_o: \\mu_{wait} = 5$$\n",
    "\n",
    "$$H_a: \\mu_{wait} < 5$$ "
   ]
  },
  {
   "cell_type": "code",
   "execution_count": 37,
   "metadata": {
    "collapsed": false
   },
   "outputs": [
    {
     "name": "stdout",
     "output_type": "stream",
     "text": [
      "t_statistic= -0.723076417934\n",
      "p-value= 0.237289064206\n"
     ]
    }
   ],
   "source": [
    "t_statistic = (4.78 - 5)/(1.8/np.sqrt(35))\n",
    "print('t_statistic=',t_statistic)\n",
    "print('p-value=',stats.t(34).cdf(t_statistic))"
   ]
  },
  {
   "cell_type": "markdown",
   "metadata": {},
   "source": [
    "p-value is much larger than 0.05 (95% confidence level) so we reject the null hypothesis. In other words the sample does not support the company's claim."
   ]
  },
  {
   "cell_type": "markdown",
   "metadata": {},
   "source": [
    "**Question 6**\n",
    "\n",
    "The manufacturer of the Bic Extended Lighter claims that it lights on the first time 75% of the time. Test this claim.  \n",
    "Suppose we make 300 attempts and the lighter lights on the first try 214 times."
   ]
  },
  {
   "cell_type": "markdown",
   "metadata": {},
   "source": [
    "$H_o$: average first time = 0.75\n",
    "\n",
    "$H_a$: average first time  > 0.75"
   ]
  },
  {
   "cell_type": "code",
   "execution_count": 38,
   "metadata": {
    "collapsed": false
   },
   "outputs": [
    {
     "data": {
      "text/plain": [
       "0.7133333333333334"
      ]
     },
     "execution_count": 38,
     "metadata": {},
     "output_type": "execute_result"
    }
   ],
   "source": [
    "p=214/300.0\n",
    "p"
   ]
  },
  {
   "cell_type": "code",
   "execution_count": 39,
   "metadata": {
    "collapsed": false
   },
   "outputs": [
    {
     "data": {
      "text/plain": [
       "0.02610803764417444"
      ]
     },
     "execution_count": 39,
     "metadata": {},
     "output_type": "execute_result"
    }
   ],
   "source": [
    "std=np.sqrt(p*(1-p)/300)\n",
    "std"
   ]
  },
  {
   "cell_type": "code",
   "execution_count": 40,
   "metadata": {
    "collapsed": false
   },
   "outputs": [
    {
     "data": {
      "text/plain": [
       "-1.4044206296312034"
      ]
     },
     "execution_count": 40,
     "metadata": {},
     "output_type": "execute_result"
    }
   ],
   "source": [
    "z=(p-0.75)/std\n",
    "z"
   ]
  },
  {
   "cell_type": "code",
   "execution_count": 41,
   "metadata": {
    "collapsed": false
   },
   "outputs": [
    {
     "data": {
      "text/plain": [
       "0.080096815667943189"
      ]
     },
     "execution_count": 41,
     "metadata": {},
     "output_type": "execute_result"
    }
   ],
   "source": [
    "stats.norm(0,1).cdf(z)"
   ]
  },
  {
   "cell_type": "markdown",
   "metadata": {},
   "source": [
    "p-value is 0.08 larger than 0.05 significance level if we choose 95% confidence interval. As a result the sample does not support the company's claim and fail to reject the null hypothesis. "
   ]
  },
  {
   "cell_type": "markdown",
   "metadata": {},
   "source": [
    "**Question 7**  \n",
    "\n",
    "A government bureau claims that more than 50% of U.S. tax returns were filed electronically last year.  \n",
    "A random sample of 150 tax returns for last year contained 86 that were filed electronically. \n",
    "\n",
    "Test the government's claim and state the Type I and Type II errors of the test."
   ]
  },
  {
   "cell_type": "markdown",
   "metadata": {},
   "source": [
    "$H_0 : \\mu$ <= .5\n",
    "\n",
    "$H_A : \\mu$ > .5\n",
    "\n",
    "X_bar = 86/150\n",
    "\n",
    "$$ \\alpha = 0.05$$"
   ]
  },
  {
   "cell_type": "code",
   "execution_count": 42,
   "metadata": {
    "collapsed": false
   },
   "outputs": [
    {
     "data": {
      "text/plain": [
       "0.040824829046386304"
      ]
     },
     "execution_count": 42,
     "metadata": {},
     "output_type": "execute_result"
    }
   ],
   "source": [
    "std=np.sqrt(0.5*(1-0.5)/150)\n",
    "std"
   ]
  },
  {
   "cell_type": "code",
   "execution_count": 43,
   "metadata": {
    "collapsed": false
   },
   "outputs": [
    {
     "data": {
      "text/plain": [
       "1.7962924780409979"
      ]
     },
     "execution_count": 43,
     "metadata": {},
     "output_type": "execute_result"
    }
   ],
   "source": [
    "z_statistic=((86/150)-0.5)/std\n",
    "z_statistic"
   ]
  },
  {
   "cell_type": "code",
   "execution_count": 44,
   "metadata": {
    "collapsed": false
   },
   "outputs": [
    {
     "data": {
      "text/plain": [
       "0.036224006764893457"
      ]
     },
     "execution_count": 44,
     "metadata": {},
     "output_type": "execute_result"
    }
   ],
   "source": [
    "#p-value\n",
    "1-stats.norm(0,1).cdf(z_statistic)"
   ]
  },
  {
   "cell_type": "markdown",
   "metadata": {},
   "source": [
    "since p-value is larger than 0.025 (for 95% confidence level) we can't reject the null hypothesis. In other words there is not sufficient support for the government claim. Type I error would be to favor for the government claim even when we rejected the null hypotheis. The type II error would be to not reject the null hypothesis even when there is sufficient evidence that the alternative hypothesis is true. For here type II error would be to not reject the null hypothesis even if there is sufficient evidence for government claim to be true."
   ]
  }
 ],
 "metadata": {
  "anaconda-cloud": {},
  "kernelspec": {
   "display_name": "Python [conda root]",
   "language": "python",
   "name": "conda-root-py"
  },
  "language_info": {
   "codemirror_mode": {
    "name": "ipython",
    "version": 3
   },
   "file_extension": ".py",
   "mimetype": "text/x-python",
   "name": "python",
   "nbconvert_exporter": "python",
   "pygments_lexer": "ipython3",
   "version": "3.5.2"
  }
 },
 "nbformat": 4,
 "nbformat_minor": 0
}
