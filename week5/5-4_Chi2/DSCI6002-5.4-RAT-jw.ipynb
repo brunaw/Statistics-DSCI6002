{
 "cells": [
  {
   "cell_type": "markdown",
   "metadata": {},
   "source": [
    "# RAT 5.4\n",
    "\n",
    "According to a report on sleep deprivation by the Centers for Disease Control and Prevention, the proportion of California residents who reported insufficient rest or sleep during each of the preceding 30 days is 8.0%, while this proportion is 8.8% for Oregon residents. These data are based on simple random samples of 11,545 California and 4,691 Oregon residents.  \n",
    "\n",
    "1) Conduct a hypothesis test to determine if these data provide evidence that the rate of sleep deprivation is different for the two states.  \n",
    "\n",
    "2) It is possible the conclusion of the test in part (a) is incorrect. If this is the case, what type of error was made?"
   ]
  },
  {
   "cell_type": "markdown",
   "metadata": {},
   "source": [
    "$H_0 : \\mu_1 = \\mu_2$\n",
    "\n",
    "$H_0 : \\mu_1$ != $\\mu_2$\n",
    "\n",
    "The test statistic for testing two proportions is given by\n",
    "\n",
    "$$ t_{stat} = \\frac{(\\hat{p}_1 - \\hat{p}_2)}{\\sqrt{\\hat{p}(1 - \\hat{p}) \\left(\\frac{1}{n_1} + \\frac{1}{n_2} \\right)}} $$\n",
    "\n",
    "where \n",
    "\n",
    "$$ \\hat{p} = \\frac{n_1 \\hat{p}_1 + n_2 \\hat{p}_2}{n_1 + n_2} $$"
   ]
  },
  {
   "cell_type": "markdown",
   "metadata": {},
   "source": [
    "The test statistic is \n",
    "\n",
    "$$ t_{stat} = \\frac{(0.08 - 0.088)}{\\sqrt{.08 (1 - .08) \\left( \\frac{1}{11545} + \\frac{1}{4691} \\right)}} = -1.70 $$\n",
    "\n",
    "where\n",
    "\n",
    "$$ \\hat{p} = \\frac{11545 (0.08) + 4691 (0.088)}{11545 + 4691} = 4691.1 $$"
   ]
  },
  {
   "cell_type": "code",
   "execution_count": 8,
   "metadata": {
    "collapsed": false
   },
   "outputs": [
    {
     "data": {
      "text/plain": [
       "0.08231140675043114"
      ]
     },
     "execution_count": 8,
     "metadata": {},
     "output_type": "execute_result"
    }
   ],
   "source": [
    "p_hat = (11545*.08 + 4691*.088) / (11545 + 4691)\n",
    "p_hat"
   ]
  },
  {
   "cell_type": "code",
   "execution_count": 9,
   "metadata": {
    "collapsed": false
   },
   "outputs": [
    {
     "data": {
      "text/plain": [
       "-1.7031042927333895"
      ]
     },
     "execution_count": 9,
     "metadata": {},
     "output_type": "execute_result"
    }
   ],
   "source": [
    "import numpy as np\n",
    "t_stat = (.08 - .088) / np.sqrt(.08*(1-.08)*(1/11545+1/4691))\n",
    "t_stat"
   ]
  },
  {
   "cell_type": "code",
   "execution_count": null,
   "metadata": {
    "collapsed": true
   },
   "outputs": [],
   "source": []
  }
 ],
 "metadata": {
  "anaconda-cloud": {},
  "kernelspec": {
   "display_name": "Python [conda root]",
   "language": "python",
   "name": "conda-root-py"
  },
  "language_info": {
   "codemirror_mode": {
    "name": "ipython",
    "version": 3
   },
   "file_extension": ".py",
   "mimetype": "text/x-python",
   "name": "python",
   "nbconvert_exporter": "python",
   "pygments_lexer": "ipython3",
   "version": "3.5.2"
  }
 },
 "nbformat": 4,
 "nbformat_minor": 0
}
