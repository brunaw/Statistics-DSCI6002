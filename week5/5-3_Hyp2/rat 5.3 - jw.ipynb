{
 "cells": [
  {
   "cell_type": "markdown",
   "metadata": {},
   "source": [
    "$H_0 : \\mu = 230$\n",
    "\n",
    "$H_A : \\mu > 230$\n",
    "\n",
    "n = 100\n",
    "\n",
    "X_bar = 231.56\n",
    "\n",
    "s = 10.62\n",
    "\n",
    "$$t_{stat} = \\frac{\\bar{x} - \\mu_0}{s/ \\sqrt{n}} = \\frac{231.56 - 230}{10.62/ \\sqrt{100}} = 1.47$$"
   ]
  },
  {
   "cell_type": "code",
   "execution_count": 16,
   "metadata": {
    "collapsed": false
   },
   "outputs": [
    {
     "data": {
      "text/plain": [
       "0.072366368997751895"
      ]
     },
     "execution_count": 16,
     "metadata": {},
     "output_type": "execute_result"
    }
   ],
   "source": [
    "from scipy import stats\n",
    "\n",
    "# 1 - stats.t(99).cdf(1.47)\n",
    "# stats.t(99).sf(1.47)\n",
    "\n",
    "stats.t(99).cdf(-1.47)"
   ]
  },
  {
   "cell_type": "markdown",
   "metadata": {},
   "source": [
    "Since p-value $> 0.05$, we fail to reject the null hypothesis. At the 5% level of significance, we did not find sufficient evidence to conclude that mu > 230."
   ]
  }
 ],
 "metadata": {
  "anaconda-cloud": {},
  "kernelspec": {
   "display_name": "Python [conda root]",
   "language": "python",
   "name": "conda-root-py"
  },
  "language_info": {
   "codemirror_mode": {
    "name": "ipython",
    "version": 3
   },
   "file_extension": ".py",
   "mimetype": "text/x-python",
   "name": "python",
   "nbconvert_exporter": "python",
   "pygments_lexer": "ipython3",
   "version": "3.5.2"
  }
 },
 "nbformat": 4,
 "nbformat_minor": 0
}
