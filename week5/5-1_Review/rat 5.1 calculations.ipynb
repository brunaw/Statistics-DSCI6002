{
 "cells": [
  {
   "cell_type": "code",
   "execution_count": 44,
   "metadata": {
    "collapsed": false
   },
   "outputs": [
    {
     "name": "stdout",
     "output_type": "stream",
     "text": [
      "0.641427974748\n",
      "[[ 29.26785714  12.73928571]\n",
      " [ 12.73928571  17.605     ]]\n"
     ]
    }
   ],
   "source": [
    "import numpy as np\n",
    "\n",
    "x = np.array([10, 12, -2, 13, 10, 9, 2, 3])\n",
    "y = np.array([5, 4, .2, 10, 12, 12, 5, 8])\n",
    "\n",
    "s = 0\n",
    "# for i in range(len(x)):\n",
    "#      s += x[i]*y[i]\n",
    "\n",
    "\n",
    "# cov = (s/8 - 7.125+7.025) - so wrong\n",
    "# cov = 12.74\n",
    "\n",
    "sx = np.std(x)\n",
    "sy = np.std(y)\n",
    "\n",
    "roe = cov/(sx*sy)\n",
    "print(roe)\n",
    "\n",
    "print(np.cov(x,y))"
   ]
  },
  {
   "cell_type": "code",
   "execution_count": null,
   "metadata": {
    "collapsed": true
   },
   "outputs": [],
   "source": []
  }
 ],
 "metadata": {
  "anaconda-cloud": {},
  "kernelspec": {
   "display_name": "Python [Root]",
   "language": "python",
   "name": "Python [Root]"
  },
  "language_info": {
   "codemirror_mode": {
    "name": "ipython",
    "version": 3
   },
   "file_extension": ".py",
   "mimetype": "text/x-python",
   "name": "python",
   "nbconvert_exporter": "python",
   "pygments_lexer": "ipython3",
   "version": "3.5.2"
  }
 },
 "nbformat": 4,
 "nbformat_minor": 0
}
