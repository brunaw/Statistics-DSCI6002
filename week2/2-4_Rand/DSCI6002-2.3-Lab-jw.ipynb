{
 "cells": [
  {
   "cell_type": "markdown",
   "metadata": {},
   "source": [
    "# Lab Exercises"
   ]
  },
  {
   "cell_type": "code",
   "execution_count": 22,
   "metadata": {
    "collapsed": false
   },
   "outputs": [
    {
     "name": "stdout",
     "output_type": "stream",
     "text": [
      "Populating the interactive namespace from numpy and matplotlib\n"
     ]
    }
   ],
   "source": [
    "%pylab inline"
   ]
  },
  {
   "cell_type": "markdown",
   "metadata": {},
   "source": [
    "1) Let random variable $X$ be the number we get when we roll a die,    \n",
    "    1. Write out the probability mass function of X.     \n",
    "    2. Calculate the mean of X.  \n",
    "    3. Calculate the variance of X.  "
   ]
  },
  {
   "cell_type": "markdown",
   "metadata": {},
   "source": [
    "$1. P(X=N) = 1/6, for N in [1,6]$\n",
    "\n",
    "$2. E[X] = sum(1/6*N)/6 = 3.5$\n",
    "\n",
    "$3. var(X) = sum from N=1 to 6: (N-3.5)**2 * 1/6 = 2.9$"
   ]
  },
  {
   "cell_type": "code",
   "execution_count": 164,
   "metadata": {
    "collapsed": false
   },
   "outputs": [
    {
     "name": "stdout",
     "output_type": "stream",
     "text": [
      "3.5\n",
      "var 2.916666666666667\n"
     ]
    }
   ],
   "source": [
    "sum1 = 0\n",
    "for N in range(1,7):\n",
    "    sum1 += 1/6*N\n",
    "sum1\n",
    "print(sum1)\n",
    "\n",
    "# calculate var(X)\n",
    "var_x = 0\n",
    "for N in range(1,7):\n",
    "    var_x += (N-3.5)**2 * 1/6\n",
    "\n",
    "print(\"var\", var_x)"
   ]
  },
  {
   "cell_type": "markdown",
   "metadata": {},
   "source": [
    "2) Use either `randint` or `random_sample` to generate a series of 20 rolls. Use `.mean()` and `.var()` to calculate the sample mean and variance. How do these compare to the population mean and variance you calculated above? What if you increase the number of rolls to 2000. Are your estimates closer to the true statistics or further away?"
   ]
  },
  {
   "cell_type": "code",
   "execution_count": 165,
   "metadata": {
    "collapsed": false
   },
   "outputs": [
    {
     "name": "stdout",
     "output_type": "stream",
     "text": [
      "mean20= 3.6\n",
      "var20= 3.24\n",
      "mean2k= 3.471\n",
      "var2k= 2.912159\n"
     ]
    }
   ],
   "source": [
    "r = randint(1, 7, 20)  # generate series of 20 rolls\n",
    "\n",
    "mean = r.mean()\n",
    "var = r.var()\n",
    "print(\"mean20=\", mean)\n",
    "print(\"var20=\", var)\n",
    "\n",
    "# the mean is somewhat close to the theoretical mean and variance, but off because we're using a small sample.\n",
    "# increasing n to 2k gives estimates closer to the theoretical values.\n",
    "\n",
    "r = randint(1, 7, 2000)\n",
    "mean = r.mean()\n",
    "var = r.var()\n",
    "print(\"mean2k=\", mean)\n",
    "print(\"var2k=\", var)\n",
    "\n",
    "# type(r)"
   ]
  },
  {
   "cell_type": "markdown",
   "metadata": {},
   "source": [
    "3) Now we have two dice, and X and Y are the numbers appear on each die respectively. Let Z be the sum of the numbers from the two dice,  \n",
    "    1. Write out the probability mass function of Z.  \n",
    "    2. Calculate the mean of Z.  \n",
    "    3. Calculate the variance of Z."
   ]
  },
  {
   "cell_type": "markdown",
   "metadata": {},
   "source": [
    "1.\n",
    "\n",
    "$f_X$(x) = \n",
    "$\\begin{cases} \n",
    "     \\frac{1}{36}, & x = 2\\\\\n",
    "     \\frac{2}{36}, & x = 3\\\\\n",
    "     \\frac{3}{36}, & x = 4\\\\\n",
    "     \\frac{4}{36}, & x = 5\\\\\n",
    "     \\frac{5}{36}, & x = 6\\\\\n",
    "     \\frac{6}{36}, & x = 7\\\\\n",
    "     \\frac{5}{36}, & x = 8\\\\\n",
    "     \\frac{4}{36}, & x = 9\\\\\n",
    "     \\frac{3}{36}, & x = 10\\\\\n",
    "     \\frac{2}{36}, & x = 11\\\\\n",
    "     \\frac{1}{36}, & x = 12\\\\\n",
    "\\end{cases}\n",
    "$"
   ]
  },
  {
   "cell_type": "code",
   "execution_count": null,
   "metadata": {
    "collapsed": true
   },
   "outputs": [],
   "source": [
    "Mean_Z = 2*(1/36.)+3*(2/36.)+4*(3/36.)+5*(4/36.)+6*(5/36.)+7*(6/36.)+8*(5/36.)+9*(4/36.)+10*(3/36.)+11*(2/36.)+12*(1/36.)\n",
    "Mean_Z"
   ]
  },
  {
   "cell_type": "code",
   "execution_count": null,
   "metadata": {
    "collapsed": true
   },
   "outputs": [],
   "source": [
    "Variance_Z = ((2-Mean_Z)**2)*(1/36.)+((3-Mean_Z)**2)*(2/36.)+((4-Mean_Z)**2)*(3/36.)+((5-Mean_Z)**2)*(4/36.)+((6-Mean_Z)**2)*(5/36.)+((7-Mean_Z)**2)*(6/36.)+((12-Mean_Z)**2)*(1/36.)+((11-Mean_Z)**2)*(2/36.)+((10-Mean_Z)**2)*(3/36.)+((9-Mean_Z)**2)*(4/36.)+((8-Mean_Z)**2)*(5/36.)\n",
    "Variance_Z"
   ]
  },
  {
   "cell_type": "code",
   "execution_count": 166,
   "metadata": {
    "collapsed": false
   },
   "outputs": [
    {
     "data": {
      "text/plain": [
       "6.999999999999998"
      ]
     },
     "execution_count": 166,
     "metadata": {},
     "output_type": "execute_result"
    }
   ],
   "source": [
    "#another way to get the mean\n",
    "import itertools as it\n",
    "die1 = [1,2,3,4,5,6]\n",
    "die2 = [1,2,3,4,5,6]\n",
    "dice = list(it.product(die1,die2))\n",
    "roll_sums = pd.DataFrame([i+j for i,j in dice],columns={'die_sum'})\n",
    "roll_sums = roll_sums.die_sum.value_counts().reset_index().rename(columns={'index':'dice_total','die_sum':'count'})\n",
    "roll_sums.sort_values(by='dice_total')\n",
    "roll_sums['probability'] = roll_sums['count']/36\n",
    "roll_sums['dice_by_probability'] = roll_sums['dice_total']*roll_sums['probability']\n",
    "roll_sums.dice_by_probability.sum()"
   ]
  },
  {
   "cell_type": "markdown",
   "metadata": {},
   "source": [
    "4) Do the same as in (2) but with two dice as in (3). Again, check to see how $N$, the number of samples, affects your result."
   ]
  },
  {
   "cell_type": "code",
   "execution_count": 143,
   "metadata": {
    "collapsed": false
   },
   "outputs": [
    {
     "name": "stdout",
     "output_type": "stream",
     "text": [
      "mean20= 5.75\n",
      "var20= 4.0875\n",
      "mean2k= 6.9875\n",
      "var2k= 5.68434375\n"
     ]
    }
   ],
   "source": [
    "# roll 2 dice 20 times\n",
    "r = [sum(randint(1,7,2)) for _ in range(20)]\n",
    "\n",
    "# print(type(r[0]))\n",
    "r = numpy.asarray(r)\n",
    "# print(type(r))\n",
    "\n",
    "mean = r.mean()\n",
    "var = r.var()\n",
    "print(\"mean20=\", mean)\n",
    "print(\"var20=\", var)\n",
    "\n",
    "# the mean is somewhat close to the theoretical mean and variance, but off because we're using a small sample.\n",
    "# increasing n to 2k gives estimates closer to the theoretical values.\n",
    "\n",
    "r = [sum(randint(1,7,2)) for _ in range(2000)]\n",
    "r = numpy.asarray(r)\n",
    "\n",
    "mean = r.mean()\n",
    "var = r.var()\n",
    "print(\"mean2k=\", mean)\n",
    "print(\"var2k=\", var)"
   ]
  },
  {
   "cell_type": "markdown",
   "metadata": {},
   "source": [
    "5) Find the variance of each of the following bets from the class notes. Which bet is riskiest and which best is safest (where \"risk\" is assessed according to variance, not expected value)?\n",
    "\n",
    "1. You get \\$5 with probability 1.0.  \n",
    "2. You get \\$10 with probability 0.5, or \\$0 with probability 0.5.  \n",
    "3. You get \\$5 with probability 0.5, \\$10 with probability 0.25 and \\$0 with probability 0.25.  \n",
    "4. You get \\$5 with probability 0.5, \\$105 with probability 0.25 or lose \\$95 with probability 0.25.  "
   ]
  },
  {
   "cell_type": "markdown",
   "metadata": {},
   "source": [
    "expected value for each of these is 5.\n",
    "\n",
    "#1. var_1 = $(0-5)**2*0 + ((5-5)**2*1) = 0$\n",
    "\n",
    "#2. var_2 = $(10-5)**2 * .5 + (0-5)**2 * .5 = 25$\n",
    "\n",
    "#3. var_3 = $(5-5)**2 * .5 + (10-5)**2 * .25 + (0-5)**2 * .25 =  12.5$\n",
    "\n",
    "#4. var_4 = $(5-5)**2 * .5 + (105-5)**2 * .25 + (-95-5)**2 * .25 = 5000$"
   ]
  },
  {
   "cell_type": "code",
   "execution_count": 146,
   "metadata": {
    "collapsed": false
   },
   "outputs": [
    {
     "name": "stdout",
     "output_type": "stream",
     "text": [
      "0 25.0 12.5 5000.0\n"
     ]
    }
   ],
   "source": [
    "var_1 = (0-5)**2*0 + ((5-5)**2*1) \n",
    "\n",
    "var_2 = (10-5)**2 * .5 + (0-5)**2 * .5 \n",
    "\n",
    "var_3 = (5-5)**2 * .5 + (10-5)**2 * .25 + (0-5)**2 * .25 \n",
    "\n",
    "var_4 = (5-5)**2 * .5 + (105-5)**2 * .25 + (-95-5)**2 * .25 \n",
    "\n",
    "print(var_1, var_2, var_3, var_4)"
   ]
  },
  {
   "cell_type": "markdown",
   "metadata": {},
   "source": [
    "6) Brandon Lang is a creative entrepreneur who has developed a novelty soap item called Jackpot to target consumers with a gambling habit. Inside each bar of Jackpot shower soap is a single rolled-up bill of U.S. currency. The currency (rolled up and sealed in shrink-wrap) is appropriately inserted into the soap mixture prior to the cutting and stamping procedure. The distribution of paper currency (per 1000 bars of soap) is given in the following table.  \n",
    "\n",
    "|   Bill Denomination   |   Number of Bills |\n",
    "|:---------------------:|:-----------------:|\n",
    "|\\$1                     | 520 |\n",
    "|\\$5                     | 260 |\n",
    "|\\$10                    | 120 |\n",
    "|\\$20                    | 70  |\n",
    "|\\$50                    | 29  |  \n",
    "|\\$100                   | 1   |\n",
    "| Total                  | 1000|\n",
    "\n",
    "1. What is the expected amount of money in a single bar of Jackpot soap?\n",
    "2. What is the standard deviation of the money in a single bar of Jackpot soap?\n",
    "3. How many bars of soap would a customer have to buy so that, on average, he or she has purchased three bars   containing a \\$50 or \\$100 bill?\n",
    "4. If a customer buys 8 bars of soap, what is the probability that at least one of these bars contains a bill of \\$20 or larger? "
   ]
  },
  {
   "cell_type": "markdown",
   "metadata": {},
   "source": [
    "#Expected amount of money:\n",
    "#1. E[X] = 1*(520/1000.)+5*(260/1000.)+10*(120/1000.)+20*(70/1000.)+50*(29/1000)+100*(1/1000) = 5.97\n",
    "\n",
    "\n",
    "#2. Variance = ((1-5.97)**2)*(520/1000.)+((5-5.97)**2)*((260/1000.)**2)+((10-5.97)**2)*(120/1000.)+((20-5.97)**2)*(70/1000.)+((50-5.97)**2)*(29/1000)+((100-5.97)**2)*(1/1000)\n",
    "st_dev = Variance**0.5\n",
    "st_dev = 9.68\n",
    "\n",
    "\n",
    "#3. probability of getting 1 bar with a 50 or 100  = 30/1000 = .03, so # of bars to buy to expect 3 50s/100s = 100\n",
    "\n",
    "\n",
    "#4. win means >=20.  P(at least 1 win) = 1-P(8 fails) = 1-.9**8 = .57"
   ]
  },
  {
   "cell_type": "code",
   "execution_count": 73,
   "metadata": {
    "collapsed": false
   },
   "outputs": [
    {
     "data": {
      "text/plain": [
       "9.679776383780775"
      ]
     },
     "execution_count": 73,
     "metadata": {},
     "output_type": "execute_result"
    }
   ],
   "source": [
    "Variance = ((1-5.97)**2)*(520/1000.)+((5-5.97)**2)*((260/1000.)**2)+((10-5.97)**2)*(120/1000.)+((20-5.97)**2)*(70/1000.)+((50-5.97)**2)*(29/1000)+((100-5.97)**2)*(1/1000)\n",
    "st_dev = Variance**0.5\n",
    "st_dev"
   ]
  },
  {
   "cell_type": "code",
   "execution_count": 71,
   "metadata": {
    "collapsed": false
   },
   "outputs": [
    {
     "data": {
      "text/plain": [
       "0.5695327899999999"
      ]
     },
     "execution_count": 71,
     "metadata": {},
     "output_type": "execute_result"
    }
   ],
   "source": [
    "30/1000\n",
    "3/.03\n",
    "1-.9**8"
   ]
  },
  {
   "cell_type": "markdown",
   "metadata": {},
   "source": [
    "7) Write a function that randomly draws from the above distribution. \n",
    "\n",
    "1. Use it to simulate the answer to part 3 of the last question at least 20 times. How often do you get the expected result? \n",
    "2. Use it to simulate part 4 of the last question 100 times. How close does your simulation come to the true expected value?"
   ]
  },
  {
   "cell_type": "code",
   "execution_count": 93,
   "metadata": {
    "collapsed": true
   },
   "outputs": [],
   "source": [
    "import random\n",
    "import pandas as pd\n",
    "def draw_soap(draws):\n",
    "    money_stack = []\n",
    "    for i in range(draws):\n",
    "        random_value = random.uniform(0,1)\n",
    "        if 0 <= random_value and random_value < (520/1000.): \n",
    "            money_stack.append(1)\n",
    "        if (520/1000.) <= random_value and random_value < (520/1000.)+(260/1000.): \n",
    "            money_stack.append(5)\n",
    "        if (520/1000.)+(260/1000.) <= random_value and random_value < (520/1000.)+(260/1000.)+(120/1000.): \n",
    "            money_stack.append(10)\n",
    "        if (520/1000.)+(260/1000.)+(120/1000.) <= random_value and random_value < (520/1000.)+(260/1000.)+(120/1000.)+(70/1000.):\n",
    "            money_stack.append(20)\n",
    "        if (520/1000.)+(260/1000.)+(120/1000.)+(70/1000.) <= random_value and random_value < (520/1000.)+(260/1000.)+(120/1000.)+(70/1000.)+(29/1000.):\n",
    "            money_stack.append(50)\n",
    "        if (520/1000.)+(260/1000.)+(120/1000.)+(70/1000.)+(29/1000.) <= random_value and random_value < 1:\n",
    "            money_stack.append(100)\n",
    "    return money_stack\n",
    "\n",
    "\n",
    "def record_soap_draws(draw_sets,num_draws):\n",
    "    bill_count_record = []\n",
    "    for i in range(draw_sets):\n",
    "        money_count = pd.DataFrame(draw_soap(num_draws),columns={'value'})\n",
    "        # create data frame to count number of times value is 50 or 100\n",
    "        bill_count_record.append(len(money_count.loc[(money_count.value==50)|(money_count.value==100)]))\n",
    "    return bill_count_record"
   ]
  },
  {
   "cell_type": "code",
   "execution_count": 94,
   "metadata": {
    "collapsed": true
   },
   "outputs": [],
   "source": [
    "import seaborn as sns"
   ]
  },
  {
   "cell_type": "code",
   "execution_count": 100,
   "metadata": {
    "collapsed": false,
    "scrolled": true
   },
   "outputs": [
    {
     "data": {
      "text/plain": [
       "<matplotlib.axes._subplots.AxesSubplot at 0x114d97b00>"
      ]
     },
     "execution_count": 100,
     "metadata": {},
     "output_type": "execute_result"
    },
    {
     "data": {
      "image/png": "[encoded data removed]",
      "text/plain": [
       "<matplotlib.figure.Figure at 0x114da2048>"
      ]
     },
     "metadata": {},
     "output_type": "display_data"
    }
   ],
   "source": [
    "num50sOr100s_counts = pd.DataFrame(record_soap_draws(20,100),columns={'num50sOr100s'})\n",
    "num50sOr100s_counts\n",
    "sns.countplot(x='num50sOr100s',data=num50sOr100s_counts)\n",
    "\n",
    "# in this simulation, we obtain the expected result of 3 bars in 7 (which is the count of the 3rd bar) out of 20 trials"
   ]
  },
  {
   "cell_type": "markdown",
   "metadata": {},
   "source": [
    "# in this simulation, we obtain the expected result of 3 bars in 7 (which is the count of the 3rd bar) out of 20 trials"
   ]
  },
  {
   "cell_type": "code",
   "execution_count": 102,
   "metadata": {
    "collapsed": false
   },
   "outputs": [
    {
     "data": {
      "text/plain": [
       "0.56"
      ]
     },
     "execution_count": 102,
     "metadata": {},
     "output_type": "execute_result"
    }
   ],
   "source": [
    "def record_soap_draws_20orLarger(draw_sets,num_draws):\n",
    "    bill_count_record = []\n",
    "    for i in range(draw_sets):\n",
    "        money_count = pd.DataFrame(draw_soap(num_draws),columns={'value'})\n",
    "        bill_count_record.append(len(money_count.loc[(money_count.value==20)|(money_count.value==50)|(money_count.value==100)]))\n",
    "    return bill_count_record\n",
    "\n",
    "\n",
    "num20s50sOr100s_counts = pd.DataFrame(record_soap_draws_20orLarger(100,8),columns={'occurances'})\n",
    "len(num20s50sOr100s_counts.loc[num20s50sOr100s_counts.occurances>0])/len(num20s50sOr100s_counts)\n",
    "#num20s50sOr100s_counts\n",
    "\n",
    "# in 100 trials, the simulation returned .56, which is very close to the theoretical value of .57."
   ]
  },
  {
   "cell_type": "markdown",
   "metadata": {},
   "source": [
    "# in 100 trials, the simulation returned .56, which is very close to the theoretical value of .57."
   ]
  },
  {
   "cell_type": "markdown",
   "metadata": {},
   "source": [
    "8) (Extra Credit) Think back to the coin tossing example we discussed at the beginning of the lecture, if we let $X$ be the number of heads we get from 10 coin tosses, what is the probability mass function of $X$? What are the mean and variance of $X$? (**Note**: You are not required to complete this problem, so don't spend too much time on this. This is just to get you to start thinking about the probabilities of events when we have multiple trials of an experiment - we will talk about this on Monday.)"
   ]
  },
  {
   "cell_type": "markdown",
   "metadata": {},
   "source": [
    "Let X be the number of heads from 10 coin tosses.  Then X~binom(10, .5)\n",
    "Then pmf is:\n",
    "$C(n,k)*p^k*(1-p)**(n-k)$ = \n",
    "\n",
    "$C(10,k)*.5^k*(.5)**(10-k)$\n",
    "\n",
    "k in [0,10]\n",
    "\n",
    "mean = np = 10*.5 = 5\n",
    "\n",
    "variance = np(1-p) = 5*.5 = 2.5"
   ]
  },
  {
   "cell_type": "code",
   "execution_count": 157,
   "metadata": {
    "collapsed": false
   },
   "outputs": [
    {
     "data": {
      "text/plain": [
       "2"
      ]
     },
     "execution_count": 157,
     "metadata": {},
     "output_type": "execute_result"
    }
   ],
   "source": [
    "binomial(10, .5)"
   ]
  }
 ],
 "metadata": {
  "anaconda-cloud": {},
  "kernelspec": {
   "display_name": "Python [conda root]",
   "language": "python",
   "name": "conda-root-py"
  },
  "language_info": {
   "codemirror_mode": {
    "name": "ipython",
    "version": 3
   },
   "file_extension": ".py",
   "mimetype": "text/x-python",
   "name": "python",
   "nbconvert_exporter": "python",
   "pygments_lexer": "ipython3",
   "version": "3.5.2"
  }
 },
 "nbformat": 4,
 "nbformat_minor": 0
}
