{
 "cells": [
  {
   "cell_type": "markdown",
   "metadata": {},
   "source": [
    "# Lab 2.2: Conditional Probability, Bayes Law and the Chain Rule"
   ]
  },
  {
   "cell_type": "markdown",
   "metadata": {},
   "source": [
    "## Exercises\n",
    "\n",
    "**1).** A Store Manager wants to understand how his customers use different payment methods, and suspects that the size of the purchase is a major deciding factor. He organizes the table below.\n",
    "\n",
    "|                   | Cash | Debit | Credit |\n",
    "|-------------------|:----:|------:|--------|\n",
    "| Under &#36;20     |  400 |   150 | 150    |\n",
    "| &#36;20 - &#36;50 |  200 |  1200 | 800    |\n",
    "| Over &#36;50      |  100 |   600 |1400    |\n",
    "\n",
    "a) Given that a customer spent over $50, what's the probability that the customer used a credit card?  \n",
    "\n",
    "b) Given that a customer paid in cash, what's the probability that the customer spent less than $20?  \n",
    "\n",
    "c) What's the probability that a customer spent under $20 using cash?  "
   ]
  },
  {
   "cell_type": "markdown",
   "metadata": {},
   "source": [
    "a)\n",
    "P(credit|over50) = P(credit&over50)/P(over50) = 1400/(1400+600+100) = 2/3\n",
    "\n",
    "b)\n",
    "P(<20|cash) = P(<20&cash)/P(cash) = 400/700 = 4/7\n",
    "\n",
    "c)\n",
    "The wording of the question is ambiguous:\n",
    "If the question is interpreted as P(cash&<20), then P(cash&<20) = 400/5000 = 2/25 = .08\n",
    "\n",
    "Otherwise, P(cash|<20) = P(cash&<20)/P(<20) = 400/700 = 4/7"
   ]
  },
  {
   "cell_type": "markdown",
   "metadata": {},
   "source": [
    "**2).** Suppose 80% of people like peanut butter, 89% like jelly, and 78% like both. Given that a randomly sampled person likes peanut butter, what's the probability that he also likes jelly?"
   ]
  },
  {
   "cell_type": "markdown",
   "metadata": {},
   "source": [
    "P(likes peanut butter) = 0.8\n",
    "\n",
    "P(likes Jelly) = 0.89\n",
    "\n",
    "P(like peanut butter and Jelly) = 0.78\n",
    "\n",
    "P( likes Jelly | likes peanut butter) = P(like peanut butter and Jelly) / P(likes peanut butter) = 0.78 / 0.80\n",
    "                                                                                                 = 0.975\n",
    "\n",
    "P(jelly|PB) = P(jelly&PB)/P(PB) = .78/.80 = .975"
   ]
  },
  {
   "cell_type": "markdown",
   "metadata": {},
   "source": [
    "**3).** The Behavioral Risk Factor Surveillance System (BRFSS) is an annual telephone survey designed to identify risk factors in the adult population and report emerging health trends. The following table displays the distribution of health status of respondents to this survey (excellent, very good, good, fair, poor) conditional on whether or not they have health insurance.\n",
    "\n",
    "<img src=\"images/q3.png\" width=\"700\">  \n",
    "\n",
    "(a) Are being in excellent health and having health coverage mutually exclusive?  \n",
    "\n",
    "(b) What is the probability that a randomly chosen individual has excellent health?  \n",
    "\n",
    "(c) What is the probability that a randomly chosen individual has excellent health given that he\n",
    "has health coverage?  \n",
    "\n",
    "(d) What is the probability that a randomly chosen individual has excellent health given that he\n",
    "doesn't have health coverage?  \n",
    "\n",
    "(e) Do having excellent health and having health coverage appear to be independent?  \n"
   ]
  },
  {
   "cell_type": "markdown",
   "metadata": {},
   "source": [
    "(a) Are being in excellent health and having health coverage mutually exclusive?  \n",
    "No, it is not mutually exclusive because their intersection is not empty.\n",
    "\n",
    "(b) What is the probability that a randomly chosen individual has excellent health?\n",
    "\n",
    "P(excellent health) = 0.2329\n",
    "\n",
    "(c) What is the probability that a randomly chosen individual has excellent health given that he\n",
    "has health coverage?  \n",
    "\n",
    "P(excellent health | health coverage) = 0.2099 / 0.8738 = 0.240\n",
    "\n",
    "(d) What is the probability that a randomly chosen individual has excellent health given that he\n",
    "doesn't have health coverage?  \n",
    "\n",
    "P(excellent health | no health coverage) = 0.0230/0.1262 = 0.1822\n",
    "\n",
    "(e) Do having excellent health and having health coverage appear to be independent?\n",
    "\n",
    "Let A be the event that a person has excellent health. Let B be the event that a person has health coverage. A & B are independent iff P(A&B) = P(A)P(B); P(A&B) = .2099, however, P(A)P(B) = .2329*.8738 = .2035. Since rhs != lhs, the events are not independent.\n"
   ]
  },
  {
   "cell_type": "markdown",
   "metadata": {},
   "source": [
    "**4).** A gSchool grad is looking for her first job!  Given that she is freaked out, her chances of not getting an offer are 70%.  Given that she isn't freaked out, her chances of not getting an offer are 30%.  Suppose that the probability that she's freaked out is 80%. What's the probability that she gets an offer?"
   ]
  },
  {
   "cell_type": "markdown",
   "metadata": {},
   "source": [
    "P(not getting offer | freaked out) = 0.7\n",
    "\n",
    "P(not getting offer | not freaked out) = 0.3\n",
    "\n",
    "P(freaked out) = 0.8\n",
    "\n",
    "P(not freaked out) = 1- 0.8 = 0.2\n",
    "\n",
    "From the information given we can know, P(getting offer | not freaked out) = 1- P(not getting offer | not freaked out)\n",
    "                                                                           = 1 - 0.3 = 0.7\n",
    "                                                                           \n",
    "P(getting offer | freaked out) = 1 - p(not getting offer | freaked out) = 1 - 0.7 = 0.3                                                                          \n",
    "\n",
    "P(getting offer) = P(freaked out) * P(getting offer | freaked out) + P(not freaked out) * P(getting offer | not freaked out) \n",
    "            $= 0.8 * 0.3 + 0.2 * 0.7$\n",
    "            = 0.38\n",
    "            \n",
    "So P(getting offer) = 0.38"
   ]
  },
  {
   "cell_type": "markdown",
   "metadata": {},
   "source": [
    "**5).** Google decides to do random drug tests for heroin on their employees. They know that 3% of their population uses heroin. The drug test has the following accuracy: The test correctly identifies 95% of the heroin users (sensitivity) and 90% of the non-users (specificity).\n",
    "\n",
    "|                | Uses heroin | Doesn't use heroin |\n",
    "|----------------|------------:|-------------------:|\n",
    "| Tests positive |        0.95 |               0.10 |\n",
    "| Tests negative |        0.05 |               0.90 |\n",
    "\n",
    "   Alice gets tested and the test comes back positive. What is the probability\n",
    "   that she uses heroin?"
   ]
  },
  {
   "cell_type": "markdown",
   "metadata": {},
   "source": [
    "P(heroin) = 0.03\n",
    "\n",
    "P(positive | heroin) = 0.95\n",
    "\n",
    "P(positive) = P(heroin)*P(positive | heroin) + p(non heroin users) * P(positive | non heroin users)\n",
    "            = $0.03 * 0.95 + 0.97 * 0.10 = 0.1255$\n",
    "\n",
    "P(heroin | positive) = P(positive | heroin) * P(heroin) / P(positive)\n",
    "                     = $(0.95 * 0.03 ) / 0.1255 = 0.227$"
   ]
  },
  {
   "cell_type": "markdown",
   "metadata": {},
   "source": [
    "**6).** A genetic test is used to determine if people have a predisposition for thrombosis, which is the formation of a blood clot inside a blood vessel that obstructs the flow of blood through the circulatory system. It is believed that 3% of people actually have this predisposition. The genetic test is 99% accurate if a person actually has the predisposition, meaning that the probability of a positive test result when a person actually has the predisposition is 0.99. The test is 98% accurate if a person does not have the predisposition.  \n",
    "\n",
    "What is the probability that a randomly selected person who tests positive for the predisposition by the test actually has the predisposition?"
   ]
  },
  {
   "cell_type": "markdown",
   "metadata": {},
   "source": [
    "$P(thrombosis) = .03\n",
    "P(pos|thrombosis) = .99\n",
    "P(~pos|~thrombosis) = .98$\n",
    "\n",
    "$P(thrombosis|pos) = P(thrombosis&pos)/P(pos) = .99*.03/(.03*.99+.97*.02) = .605$"
   ]
  },
  {
   "cell_type": "code",
   "execution_count": 3,
   "metadata": {
    "collapsed": false
   },
   "outputs": [
    {
     "data": {
      "text/plain": [
       "0.6048879837067209"
      ]
     },
     "execution_count": 3,
     "metadata": {},
     "output_type": "execute_result"
    }
   ],
   "source": [
    ".99*.03/(.03*.99+.97*.02)"
   ]
  },
  {
   "cell_type": "markdown",
   "metadata": {},
   "source": [
    "**7).** About 30% of human twins are identical, and the rest are fraternal. Identical twins are necessarily the same sex - half are males and the other half are females. One-quarter of fraternal twins are both male, one-quarter both female, and one-half are mixes: one male, one female. You have just become a parent of twins and are told they are both girls. Given this information, what is the probability that they are identical?"
   ]
  },
  {
   "cell_type": "markdown",
   "metadata": {},
   "source": [
    "P(identical) = 0.3\n",
    "\n",
    "P(fraternal) = 1 - 0.3 = 0.7\n",
    "\n",
    "P(girls | identical) = 0.5\n",
    "\n",
    "P(girls | fraternal) = 0.25\n",
    "\n",
    "$P(girls) = P(identical) * P(girls | identical) + P(fraternal) * P(girls | fraternal) $\n",
    "         = $0.3 * 0.5 + 0.7 * 0.25$\n",
    "         = 0.325\n",
    "\n",
    "$P(identical | girls) = P(girls | identical) * P(identical) / P(girls)$\n",
    "                     = $0.5 * 0.3 / 0.325 = 0.4615$\n",
    "\n"
   ]
  },
  {
   "cell_type": "markdown",
   "metadata": {},
   "source": [
    "**8).** The Birthday Problem.  Suppose there are 23 students in a data science class, lined up in a single file line.  \n",
    "    Let $A_i$ be the probability that the $i^{th}$ person doesn't have the same birthday as the $j^{th}$ person for any $j < i$.  \n",
    "    Use the chain rule from probability to calculate the probability that at least 2 people share the same birthday in the class. "
   ]
  },
  {
   "cell_type": "markdown",
   "metadata": {},
   "source": [
    "Out of 23 people,\n",
    "P(at least 2 people share the same birthday) = 1 - P(no one shares the same birthday)\n",
    "\n",
    "P(no one shares the same birthday) = (365/365) * (364/365) * (363/365)....*(343/365) \n",
    "                                   = 365P23 / 365^23 = 0.4927\n",
    "                                  \n",
    "P(at least 2 people share same birthday) = 1 - 0.4927 = 0.5073                                  "
   ]
  },
  {
   "cell_type": "markdown",
   "metadata": {},
   "source": [
    "http://mathforum.org/mathimages/index.php/The_Birthday_Problem\n",
    "P(at least 2 people share birthday) = 1 - P(no one shares birthday) = 1 - outcomes where no one shares birthday/all possible outcomes = 1 - P(365,23) / 365**23 \n"
   ]
  },
  {
   "cell_type": "code",
   "execution_count": 13,
   "metadata": {
    "collapsed": false
   },
   "outputs": [
    {
     "name": "stdout",
     "output_type": "stream",
     "text": [
      "Populating the interactive namespace from numpy and matplotlib\n"
     ]
    }
   ],
   "source": [
    "%pylab inline"
   ]
  },
  {
   "cell_type": "code",
   "execution_count": 14,
   "metadata": {
    "collapsed": false
   },
   "outputs": [
    {
     "name": "stdout",
     "output_type": "stream",
     "text": [
      "Populating the interactive namespace from numpy and matplotlib\n"
     ]
    }
   ],
   "source": [
    "%pylab inline\n",
    "import math"
   ]
  },
  {
   "cell_type": "code",
   "execution_count": 19,
   "metadata": {
    "collapsed": false,
    "scrolled": false
   },
   "outputs": [
    {
     "name": "stdout",
     "output_type": "stream",
     "text": [
      "1.0\n"
     ]
    }
   ],
   "source": [
    "print(1 - (math.factorial(365)/math.factorial(355)) / 365**23)"
   ]
  },
  {
   "cell_type": "code",
   "execution_count": 18,
   "metadata": {
    "collapsed": false
   },
   "outputs": [
    {
     "data": {
      "text/plain": [
       "3.7060803910504576e+25"
      ]
     },
     "execution_count": 18,
     "metadata": {},
     "output_type": "execute_result"
    }
   ],
   "source": [
    "math.factorial(365)/math.factorial(355)"
   ]
  },
  {
   "cell_type": "markdown",
   "metadata": {},
   "source": [
    "**9).** Alice and Bob want to choose between the opera and the movies by tossing a coin. Unfortunately, the only coin they have is biased, though the bias is not known exactly. How can they use the biased coin to make a decision so that either option (opera or movies) is equally likely to be chosen?"
   ]
  },
  {
   "cell_type": "markdown",
   "metadata": {},
   "source": [
    "Let p be the probability of obtaining heads and let q = (1-p) be the probability of obtaining tails for a single toss.\n",
    "If coin is tossed twice, then P(HT) = P(TH) = pq\n",
    "\n",
    "Flip the coin twice.  Consider the event HT as heads, and consider the event TH as tails.  They each occur with .5 probability.\n",
    "If we get HH or TT, flip the coin twice again, until we get a HT or TH.\n",
    "\n",
    "The above method results in either heads or tails with equal probability.\n",
    "\n",
    "Proof:\n",
    "Let\n",
    "$E = event that the output is HT or TH, i.e, the result of two coin tosses are different\n",
    "\n",
    "h = event that the algorithm outputs HEADS\n",
    "\n",
    "t = event that the algorithm outputs TAILS\n",
    "\n",
    "Then P(E) = P(HT) + P(TH) = pq + pq = 2pq\n",
    "\n",
    "P(h and E) = P(h) = pq\n",
    "\n",
    "P(t and E) = P(t) = pq\n",
    "\n",
    "P(h | E) = P(h and E) / P(E) = P(h) / P(E) = pq / (pq + pq) = pq / 2pq = 1/2\n",
    "\n",
    "P(t | E) = P(t and E) / P(E) = P(t) / P(E) = pq / (pq + pq) = pq / 2pq = 1/2\n",
    "\n",
    "Hence P(h | E) = P(t | E) = 1/2$\n",
    "\n",
    "This proves that biased coin can be use to make a decision so that either option is equally likely to be chosen."
   ]
  },
  {
   "cell_type": "code",
   "execution_count": null,
   "metadata": {
    "collapsed": true
   },
   "outputs": [],
   "source": []
  }
 ],
 "metadata": {
  "anaconda-cloud": {},
  "kernelspec": {
   "display_name": "Python [Root]",
   "language": "python",
   "name": "Python [Root]"
  },
  "language_info": {
   "codemirror_mode": {
    "name": "ipython",
    "version": 3
   },
   "file_extension": ".py",
   "mimetype": "text/x-python",
   "name": "python",
   "nbconvert_exporter": "python",
   "pygments_lexer": "ipython3",
   "version": "3.5.2"
  }
 },
 "nbformat": 4,
 "nbformat_minor": 0
}
