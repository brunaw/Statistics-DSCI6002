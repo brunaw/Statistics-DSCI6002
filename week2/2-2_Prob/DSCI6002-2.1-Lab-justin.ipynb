{
 "cells": [
  {
   "cell_type": "markdown",
   "metadata": {},
   "source": [
    "# Lab 2.1: Probability and Counting"
   ]
  },
  {
   "cell_type": "markdown",
   "metadata": {},
   "source": [
    "Exercises:\n",
    "----------"
   ]
  },
  {
   "cell_type": "markdown",
   "metadata": {},
   "source": [
    "1) A student's test score $T$ is an integer between 0 and 100 corresponding to the experimental outcomes $s_0,...,s_{100}$. A score of 90 to 100 is an $A$, 80 to 89 is a $B$, 70 to 79 is a $C$, 60 to 69 is a $D$, and below 60 is a failing grade of $F$. Given that all scores between 51 and 100 are qually likely and a score of 50 or less cannot occur, please find the following probabilities:  \n",
    "\n",
    "a) $P(s_{79})$  \n",
    "\n",
    "b) $P(s_{100})$  \n",
    "\n",
    "c) $P(A)$  \n",
    "\n",
    "d) $P(F)$  \n",
    "\n",
    "e) $P(T\\geq80)$  \n",
    "\n",
    "f) $P(T<90)$  \n",
    "\n",
    "g) $P$(a $C$ grade or better)  \n",
    "\n",
    "h) $P$(student passes)  \n",
    "    "
   ]
  },
  {
   "cell_type": "markdown",
   "metadata": {},
   "source": [
    "a) P(s_79) = 1/50\n",
    "\n",
    "b) P(s_100) = 1/50\n",
    "\n",
    "c) P(A) = 10/50 = 1/5\n",
    "\n",
    "d) P(F) = 9/50\n",
    "\n",
    "e) P(T>=80) = 20/50  = 2/5\n",
    "\n",
    "f) P(T<90) = 89-51/50 = 38/50\n",
    "\n",
    "g) P(C or better) = 30/50 = 3/5\n",
    "\n",
    "h) P(pass) = 40/50 = 4/5"
   ]
  },
  {
   "cell_type": "markdown",
   "metadata": {},
   "source": []
  },
  {
   "cell_type": "markdown",
   "metadata": {},
   "source": [
    "2) Use either `randint` or `random_sample` to generate a series of random grades for forty (40) students according to the above distribution. Put these in a DataFrame along with `student_id`s (hint: use `range` to generate your `id`s) and then `groupby` to count how many of each grade there are. The result should look something like:\n",
    "<table border=\"1\" class=\"dataframe\">\n",
    "  <thead>\n",
    "    <tr style=\"text-align: right;\">\n",
    "      <th></th>\n",
    "      <th>student_id</th>\n",
    "    </tr>\n",
    "    <tr>\n",
    "      <th>grade</th>\n",
    "      <th></th>\n",
    "    </tr>\n",
    "  </thead>\n",
    "  <tbody>\n",
    "    <tr>\n",
    "      <th>A</th>\n",
    "      <td>3</td>\n",
    "    </tr>\n",
    "    <tr>\n",
    "      <th>B</th>\n",
    "      <td>6</td>\n",
    "    </tr>\n",
    "    <tr>\n",
    "      <th>C</th>\n",
    "      <td>3</td>\n",
    "    </tr>\n",
    "    <tr>\n",
    "      <th>D</th>\n",
    "      <td>2</td>\n",
    "    </tr>\n",
    "    <tr>\n",
    "      <th>F</th>\n",
    "      <td>26</td>\n",
    "    </tr>\n",
    "  </tbody>\n",
    "</table>\n",
    "(though the numbers will be different)"
   ]
  },
  {
   "cell_type": "code",
   "execution_count": 49,
   "metadata": {
    "collapsed": false
   },
   "outputs": [
    {
     "name": "stdout",
     "output_type": "stream",
     "text": [
      "Populating the interactive namespace from numpy and matplotlib\n"
     ]
    },
    {
     "data": {
      "text/html": [
       "<div>\n",
       "<table border=\"1\" class=\"dataframe\">\n",
       "  <thead>\n",
       "    <tr style=\"text-align: right;\">\n",
       "      <th></th>\n",
       "      <th>score</th>\n",
       "    </tr>\n",
       "    <tr>\n",
       "      <th>score</th>\n",
       "      <th></th>\n",
       "    </tr>\n",
       "  </thead>\n",
       "  <tbody>\n",
       "    <tr>\n",
       "      <th>(51, 60]</th>\n",
       "      <td>7</td>\n",
       "    </tr>\n",
       "    <tr>\n",
       "      <th>(60, 70]</th>\n",
       "      <td>7</td>\n",
       "    </tr>\n",
       "    <tr>\n",
       "      <th>(70, 80]</th>\n",
       "      <td>7</td>\n",
       "    </tr>\n",
       "    <tr>\n",
       "      <th>(80, 90]</th>\n",
       "      <td>13</td>\n",
       "    </tr>\n",
       "    <tr>\n",
       "      <th>(90, 100]</th>\n",
       "      <td>5</td>\n",
       "    </tr>\n",
       "  </tbody>\n",
       "</table>\n",
       "</div>"
      ],
      "text/plain": [
       "           score\n",
       "score           \n",
       "(51, 60]       7\n",
       "(60, 70]       7\n",
       "(70, 80]       7\n",
       "(80, 90]      13\n",
       "(90, 100]      5"
      ]
     },
     "execution_count": 49,
     "metadata": {},
     "output_type": "execute_result"
    }
   ],
   "source": [
    "%pylab inline\n",
    "import pandas as pd\n",
    "# import random\n",
    "\n",
    "scores= pd.DataFrame({'score':[random.randint(51,101) for _ in range(0,40)]})\n",
    "# random_sample?\n",
    "# random.randint?\n",
    "\n",
    "# print(scores)\n",
    "\n",
    "# scores.groupby()\n",
    "                      \n",
    "ranges = [51,60,70,80,90,100]\n",
    "\n",
    "scores.groupby(pd.cut(scores.score, ranges)).count()"
   ]
  },
  {
   "cell_type": "markdown",
   "metadata": {},
   "source": [
    "3) Using two six-sided dice, what is the probability of:\n",
    "    1. Rolling a 7?\n",
    "    2. Rolling an 11?\n",
    "    3. Rolling two 7s in a row?\n",
    "    4. Rolling a 7 or 11?\n",
    "    5. Rolling a 7 or 11 twice in a row? (i.e. 7, 7; 7, 11; 11, 7; 11, 11)\n",
    "    "
   ]
  },
  {
   "cell_type": "markdown",
   "metadata": {},
   "source": [
    "1.\n",
    "There are 36 total possible outcomes.  There are 6 possible permutations to sum up to 7:\n",
    "1,6\n",
    "2,5\n",
    "3,4\n",
    "and their reverse orders.\n",
    ", hence, P(rolling 7) = 6/36 = 1/6.\n",
    "\n",
    "2.\n",
    "There are 2 possible permutations to sum up to 11, so P(rolling 11) = 2/36 = 1/18.\n",
    "\n",
    "3.\n",
    "1/6*1/6 = 1/36.\n",
    "\n",
    "4.\n",
    "P(rolling 7 or 11) = 1/6+1/18 = 2/9\n",
    "\n",
    "5. P(7 or 11 twice in a row) = (2/9)**2 = 4/81"
   ]
  },
  {
   "cell_type": "markdown",
   "metadata": {},
   "source": []
  },
  {
   "cell_type": "markdown",
   "metadata": {},
   "source": [
    "4) Create a function that plays craps. The rules of craps are these:  \n",
    "    If you roll a seven (7) or an eleven (11) on your **first** roll, you win.  \n",
    "    Otherwise, keep track of what you rolled the first time and keep rolling until:  \n",
    "- you roll what you rolled the first time, which means you win; or  \n",
    "- you roll a 7 or an 11, which means you lose.  \n",
    "\n",
    "For example, if I roll 7, I win. But if I roll 5 and then a 7, I lose. If I roll 5, 3, 9, 10, 5, I win.\n",
    "\n",
    "Your function should print out the status with each roll. Sample output might look something like...\n",
    "\n",
    "    1) Target = 6\n",
    "    2) Rolled 10\n",
    "    Didn't roll 7, 11, or 6. Rerolling...\n",
    "    3) Rolled 7\n",
    "    Lost on roll 3"
   ]
  },
  {
   "cell_type": "code",
   "execution_count": 51,
   "metadata": {
    "collapsed": false,
    "scrolled": true
   },
   "outputs": [
    {
     "name": "stdout",
     "output_type": "stream",
     "text": [
      "rolled  7 on first roll.  You win!\n"
     ]
    }
   ],
   "source": [
    "def craps():\n",
    "    first_roll = sum(randint(1, 6 + 1, 2))\n",
    "#     If you roll a seven (7) or an eleven (11) on your first roll, you win.\n",
    "    if first_roll == 7 or first_roll == 11:\n",
    "        print(\"rolled \", first_roll, \"on first roll.  You win!\")\n",
    "    else:\n",
    "        print(\"Target = \", first_roll)\n",
    "        reroll = sum(randint(1, 6 + 1, 2))  # reroll\n",
    "        print(\"Rolled \", reroll)\n",
    "        \n",
    "        # this part is like a \"do while\"\n",
    "        if reroll == first_roll:\n",
    "            print(\"You rolled the target.  You win!\")\n",
    "        if reroll == 7 or reroll == 11:\n",
    "            print(\"you rolled a\",reroll , \"which means you lose.\")\n",
    "            \n",
    "        while reroll != 7 and reroll != 11 and reroll != first_roll:\n",
    "            print(\"Didn't roll 7, 11, or \", first_roll, \".  Rerolling...\")\n",
    "            reroll = sum(randint(1, 6 + 1, 2))  # reroll\n",
    "            print(\"Rolled \", reroll)\n",
    "            if reroll == first_roll:\n",
    "                print(\"You rolled the first roll.  You win!\")\n",
    "                break\n",
    "            if reroll == 7 or reroll == 11:\n",
    "                print(\"you rolled a\",reroll , \"which means you lose.\")\n",
    "                break\n",
    "#             print(reroll)\n",
    "\n",
    "                \n",
    "craps()"
   ]
  },
  {
   "cell_type": "markdown",
   "metadata": {},
   "source": [
    "5) 300 Australians were asked about their car preferences in 1998. Of the respondents, 33% had children. The respondents were asked what sort of car they would like if they could choose any car at all. 13% of respondents had children and chose a large car. 12% of respondents did not have children and chose a large car. Find the probability that a randomly chosen respondent:\n",
    "     1. would choose a large car.\n",
    "     2. either has children or would choose a large car (or both)."
   ]
  },
  {
   "cell_type": "markdown",
   "metadata": {},
   "source": [
    "Given n=300, P(children) = .33, P(children & large) = .13 ,P(children' & large) = .12\n",
    "\n",
    "1. P(large) = P(children&large) + P(children'&large) = .13+.12 = .25\n",
    "2. P(children|large) = P(children) + P(large) - P(children & large) = .33 + .25 -.13 = .45"
   ]
  },
  {
   "cell_type": "markdown",
   "metadata": {},
   "source": []
  },
  {
   "cell_type": "markdown",
   "metadata": {},
   "source": [
    "6) Write a function that will generate random data according to the statistics describe above. If you call your DataFrame `aus` and name your columns `children` and `large_car` respectively, you should be able to get something like:\n",
    "\n",
    "<table border=\"1\" class=\"dataframe\">\n",
    "  <thead>\n",
    "    <tr style=\"text-align: right;\">\n",
    "      <th>large_car</th>\n",
    "      <th>False</th>\n",
    "      <th>True</th>\n",
    "      <th>All</th>\n",
    "    </tr>\n",
    "    <tr>\n",
    "      <th>children</th>\n",
    "      <th></th>\n",
    "      <th></th>\n",
    "      <th></th>\n",
    "    </tr>\n",
    "  </thead>\n",
    "  <tbody>\n",
    "    <tr>\n",
    "      <th>False</th>\n",
    "      <td>?</td>\n",
    "      <td>?</td>\n",
    "      <td>?</td>\n",
    "    </tr>\n",
    "    <tr>\n",
    "      <th>True</th>\n",
    "      <td>?</td>\n",
    "      <td>?</td>\n",
    "      <td>?</td>\n",
    "    </tr>\n",
    "    <tr>\n",
    "      <th>All</th>\n",
    "      <td>?</td>\n",
    "      <td>?</td>\n",
    "      <td>300</td>\n",
    "    </tr>\n",
    "  </tbody>\n",
    "</table>\n",
    "\n",
    "using the command\n",
    "```python\n",
    "pd.crosstab(aus.children, aus.large_car, margins=True)\n",
    "```\n",
    "(with the counts filled in, of course)"
   ]
  },
  {
   "cell_type": "code",
   "execution_count": 73,
   "metadata": {
    "collapsed": false
   },
   "outputs": [],
   "source": [
    "from scipy.stats import binom\n",
    "\n",
    "# def aus_data(n=300):\n",
    "    # generate random data\n",
    "#     children = binom.pmf(300, .33)\n",
    "#     print(children)\n",
    "    # pd.crosstab?\n",
    "#     pd.crosstab(aus.children, aus.large_car, margins=True)\n",
    "    \n",
    "    \n",
    "# aus_data()"
   ]
  },
  {
   "cell_type": "markdown",
   "metadata": {},
   "source": [
    "7) 90 students are to be split at random into 3 classes of equal size. Joe and Jane are two of the students. What is the probability that they end up in the same class?"
   ]
  },
  {
   "cell_type": "markdown",
   "metadata": {},
   "source": []
  },
  {
   "cell_type": "markdown",
   "metadata": {},
   "source": [
    "8) Write a function that will randomly deal a 52 card deck into four equal parts. That is, it should return a 4-tuple of lists of 13 strings each representing cards with no repeats (_i.e._ the Ace of Spades should appear exactly once and so on)."
   ]
  },
  {
   "cell_type": "code",
   "execution_count": null,
   "metadata": {
    "collapsed": false
   },
   "outputs": [],
   "source": []
  },
  {
   "cell_type": "markdown",
   "metadata": {},
   "source": [
    "8) A well-shuffled 52-card deck is dealt to 4 players. Find the probability that each of the players gets an ace."
   ]
  },
  {
   "cell_type": "markdown",
   "metadata": {},
   "source": []
  }
 ],
 "metadata": {
  "anaconda-cloud": {},
  "kernelspec": {
   "display_name": "Python [conda root]",
   "language": "python",
   "name": "conda-root-py"
  },
  "language_info": {
   "codemirror_mode": {
    "name": "ipython",
    "version": 3
   },
   "file_extension": ".py",
   "mimetype": "text/x-python",
   "name": "python",
   "nbconvert_exporter": "python",
   "pygments_lexer": "ipython3",
   "version": "3.5.2"
  }
 },
 "nbformat": 4,
 "nbformat_minor": 0
}
